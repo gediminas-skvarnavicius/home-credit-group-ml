{
 "cells": [
  {
   "cell_type": "markdown",
   "metadata": {},
   "source": [
    "# Model 3: Consumer Loan Fees"
   ]
  },
  {
   "cell_type": "markdown",
   "metadata": {},
   "source": [
    "**Imports:**"
   ]
  },
  {
   "cell_type": "code",
   "execution_count": 1,
   "metadata": {},
   "outputs": [
    {
     "name": "stderr",
     "output_type": "stream",
     "text": [
      "Using `tqdm.autonotebook.tqdm` in notebook mode. Use `tqdm.tqdm` instead to force console mode (e.g. in jupyter console)\n"
     ]
    }
   ],
   "source": [
    "%reload_ext autoreload\n",
    "%autoreload 1\n",
    "from pprint import pprint\n",
    "import polars as pl\n",
    "import shap\n",
    "from sklearn.pipeline import Pipeline\n",
    "import auxiliary.transformers as tr\n",
    "import auxiliary.eda_functions as eda\n",
    "from auxiliary.transformers import PolarsColumnTransformer as PCT\n",
    "from sklearn.preprocessing import StandardScaler\n",
    "from sklearn.tree import DecisionTreeRegressor\n",
    "from sklearn.linear_model import Ridge, Lasso\n",
    "from sklearn.tree import export_graphviz\n",
    "from sklearn.model_selection import train_test_split\n",
    "from sklearn.metrics import mean_squared_error\n",
    "import copy\n",
    "import seaborn as sns\n",
    "import auxiliary.tuning as tunes\n",
    "from ray import tune\n",
    "import joblib\n",
    "import numpy as np\n",
    "import matplotlib.pyplot as plt\n",
    "BASE_FIG_SIZE=(8.5,4.5)\n",
    "%aimport auxiliary.eda_functions\n",
    "%aimport auxiliary.transformers\n",
    "%aimport auxiliary.tuning"
   ]
  },
  {
   "cell_type": "markdown",
   "metadata": {},
   "source": [
    "**Data Imports and Splitting:**"
   ]
  },
  {
   "cell_type": "code",
   "execution_count": 2,
   "metadata": {},
   "outputs": [],
   "source": [
    "data = pl.read_parquet(\"temp/consumer_loans.parquet\")\n",
    "X_train, X_test, y_train, y_test = train_test_split(\n",
    "    data.drop(columns=\"FEES_PERCENT\"),\n",
    "    data[\"FEES_PERCENT\"],\n",
    "    test_size=0.3,\n",
    "    random_state=1,\n",
    ")"
   ]
  },
  {
   "cell_type": "markdown",
   "metadata": {},
   "source": [
    "## Pipeline Construction"
   ]
  },
  {
   "cell_type": "markdown",
   "metadata": {},
   "source": [
    "**Specifying feature types:**"
   ]
  },
  {
   "cell_type": "code",
   "execution_count": 3,
   "metadata": {},
   "outputs": [],
   "source": [
    "cat_features = [feature for feature in X_train.select(pl.col(pl.Utf8)).columns]\n",
    "\n",
    "numeric_features_with_nulls = (\n",
    "    pl.Series(\n",
    "        X_train.select(pl.col(pl.FLOAT_DTYPES), pl.col(pl.INTEGER_DTYPES)).columns\n",
    "    )\n",
    "    .filter(\n",
    "        X_train.select(pl.col(pl.FLOAT_DTYPES), pl.col(pl.INTEGER_DTYPES))\n",
    "        .select(pl.all().is_null().any())\n",
    "        .transpose()\n",
    "        .to_series()\n",
    "    )\n",
    "    .to_list()\n",
    ")"
   ]
  },
  {
   "cell_type": "markdown",
   "metadata": {},
   "source": [
    "**Which Numeric Features Have Missing Values?**"
   ]
  },
  {
   "cell_type": "code",
   "execution_count": 4,
   "metadata": {},
   "outputs": [
    {
     "data": {
      "text/plain": [
       "['AMT_DOWN_PAYMENT', 'RATE_DOWN_PAYMENT', 'NFLAG_INSURED_ON_APPROVAL']"
      ]
     },
     "execution_count": 4,
     "metadata": {},
     "output_type": "execute_result"
    }
   ],
   "source": [
    "numeric_features_with_nulls"
   ]
  },
  {
   "cell_type": "markdown",
   "metadata": {},
   "source": [
    "From a common sense perspective, a missing value in down payment or the flag \"whether the loan was insured\" is considered equal to 0. Therefore, these values will be imputed as 0. Missing values in categorical features will be treated as separate categories and encoded using either label or one-hot encoding. "
   ]
  },
  {
   "cell_type": "markdown",
   "metadata": {},
   "source": [
    "### Preprocessing Pipeline"
   ]
  },
  {
   "cell_type": "markdown",
   "metadata": {},
   "source": [
    "**Lienar Models:**"
   ]
  },
  {
   "cell_type": "code",
   "execution_count": 5,
   "metadata": {},
   "outputs": [],
   "source": [
    "preprocessing = Pipeline([])\n",
    "\n",
    "cat_imputers = tr.PolarsColumnTransformer(\n",
    "    [\n",
    "        PCT.Step(\n",
    "            \"goods_filter\",\n",
    "            tr.NotInImputerPolars(min_values=300, fill_value=\"Other\"),\n",
    "            \"NAME_GOODS_CATEGORY\",\n",
    "        )\n",
    "    ]\n",
    ")\n",
    "\n",
    "preprocessing.steps.append((\"cat_imputers\", cat_imputers))\n",
    "\n",
    "encoders = tr.PolarsColumnTransformer([])\n",
    "\n",
    "for feature in cat_features:\n",
    "    encoders.steps[feature] = PCT.Step(feature, tr.PolarsOneHotEncoder(), feature)\n",
    "\n",
    "preprocessing.steps.append((\"encoders\", encoders))\n",
    "\n",
    "preprocessing.steps.append((\"null_imputer\", tr.PolarsNullImputer(0)))\n",
    "\n",
    "scaler = tr.PolarsColumnTransformer(\n",
    "    [\n",
    "        PCT.Step(\n",
    "            \"scaler\",\n",
    "            StandardScaler(),\n",
    "            preprocessing.fit_transform(X_train, y_train).columns,\n",
    "        )\n",
    "    ]\n",
    ")\n",
    "\n",
    "preprocessing.steps.append((\"scaler\", scaler))"
   ]
  },
  {
   "cell_type": "markdown",
   "metadata": {},
   "source": [
    "For linear models, the preprocessing involved pooling minority classes with fewer than 300 items into \"Other\" for categoricals. Categorical features were then one-hot encoded. Imputation of the three numeric features was done using 0, and standard scaling was applied to these numeric features."
   ]
  },
  {
   "cell_type": "markdown",
   "metadata": {},
   "source": [
    "**Decision Tree:**"
   ]
  },
  {
   "cell_type": "code",
   "execution_count": 6,
   "metadata": {},
   "outputs": [],
   "source": [
    "preprocessing_tree = Pipeline([])\n",
    "\n",
    "cat_imputers_tree = tr.PolarsColumnTransformer(\n",
    "    [\n",
    "        PCT.Step(\n",
    "            \"goods_filter\",\n",
    "            tr.NotInImputerPolars(min_values=300, fill_value=\"Other\"),\n",
    "            \"NAME_GOODS_CATEGORY\",\n",
    "        )\n",
    "    ]\n",
    ")\n",
    "\n",
    "preprocessing_tree.steps.append((\"cat_imputers\", cat_imputers_tree))\n",
    "\n",
    "encoders_tree = tr.PolarsColumnTransformer([])\n",
    "\n",
    "for feature in cat_features:\n",
    "    encoders_tree.steps[feature] = PCT.Step(\n",
    "        feature, tr.TargetMeanOrderedLabeler(how=\"label\"), feature\n",
    "    )\n",
    "\n",
    "preprocessing_tree.steps.append((\"encoders\", encoders_tree))\n",
    "\n",
    "preprocessing_tree.steps.append((\"null_imputer\", tr.PolarsNullImputer(0)))"
   ]
  },
  {
   "cell_type": "markdown",
   "metadata": {},
   "source": [
    "The decision tree pipeline differed in that, instead of one-hot encoding, it employed label encoding with labels ordered by the target mean. Additionally, the scaler was removed from the preprocessing steps. "
   ]
  },
  {
   "cell_type": "markdown",
   "metadata": {},
   "source": [
    "**Models:**"
   ]
  },
  {
   "cell_type": "markdown",
   "metadata": {},
   "source": [
    "As this is a prototype of a loan pricing model, emphasis is placed on simplicity and interpretability. Therefore, only the most straightforward models, such as Linear Regression with either Lasso or Ridge regularization and a simple Decision Tree, will be tested. This choice prioritizes transparency and ease of understanding in the pricing model."
   ]
  },
  {
   "cell_type": "code",
   "execution_count": 7,
   "metadata": {},
   "outputs": [],
   "source": [
    "model_ridge = Ridge(random_state=1)\n",
    "full_pipeline_ridge = Pipeline([(\"preprocess\", preprocessing), (\"model\", model_ridge)])\n",
    "\n",
    "model_lasso = Lasso(random_state=1)\n",
    "full_pipeline_lasso = Pipeline(\n",
    "    [(\"preprocess\", copy.deepcopy(preprocessing)), (\"model\", model_lasso)]\n",
    ")\n",
    "\n",
    "model_tree = DecisionTreeRegressor(random_state=1)\n",
    "full_pipeline_tree = Pipeline(\n",
    "    [(\"preprocess\", preprocessing_tree), (\"model\", model_tree)]\n",
    ")"
   ]
  },
  {
   "cell_type": "markdown",
   "metadata": {},
   "source": [
    "## Feature Selection"
   ]
  },
  {
   "cell_type": "markdown",
   "metadata": {},
   "source": [
    "## Hyperparameter Tuning"
   ]
  },
  {
   "cell_type": "code",
   "execution_count": 8,
   "metadata": {},
   "outputs": [],
   "source": [
    "models = tunes.Models()"
   ]
  },
  {
   "cell_type": "markdown",
   "metadata": {},
   "source": [
    "**Hyperparameter search space linear models:**"
   ]
  },
  {
   "cell_type": "code",
   "execution_count": 9,
   "metadata": {},
   "outputs": [],
   "source": [
    "search_space_lr = {\n",
    "    \"model__alpha\": tune.loguniform(0.0001, 100),\n",
    "}\n",
    "\n",
    "models.add_model(\"Ridge\", full_pipeline_ridge, search_space_lr, metric_threshold=-13)\n",
    "\n",
    "models.add_model(\"Lasso\", full_pipeline_lasso, search_space_lr, metric_threshold=-13)"
   ]
  },
  {
   "cell_type": "markdown",
   "metadata": {},
   "source": [
    "**Hyperparameter search space decision tree model:**"
   ]
  },
  {
   "cell_type": "code",
   "execution_count": 10,
   "metadata": {},
   "outputs": [],
   "source": [
    "search_space_tree = {\n",
    "    \"model__max_depth\": tune.randint(1, 15),\n",
    "    \"model__min_samples_split\": tune.randint(2, 200),\n",
    "}\n",
    "\n",
    "models.add_model(\n",
    "    \"Decision_Tree\",\n",
    "    full_pipeline_tree,\n",
    "    search_space_tree,\n",
    "    metric_threshold=-13,\n",
    "    override_n=100,\n",
    ")"
   ]
  },
  {
   "cell_type": "markdown",
   "metadata": {},
   "source": [
    "In the hyperparameter tuning phase for linear models, only the regularization parameter was varied. For the decision tree, tree depth and minimum samples for a leaf split were the parameters subjected to variation."
   ]
  },
  {
   "cell_type": "markdown",
   "metadata": {},
   "source": [
    "**Hyperparameter tuning:**"
   ]
  },
  {
   "cell_type": "raw",
   "metadata": {},
   "source": [
    "models.tune_all(X_train,y_train,metric=\"rmse\",n=30,stratify=False)\n",
    "joblib.dump(models,\"temp/model_3_tuned_model.joblib\")"
   ]
  },
  {
   "cell_type": "code",
   "execution_count": 11,
   "metadata": {},
   "outputs": [],
   "source": [
    "models = joblib.load(\"temp/model_3_tuned_model.joblib\")"
   ]
  },
  {
   "cell_type": "markdown",
   "metadata": {},
   "source": [
    "The hyperparameter tuning process utilized the Ray-Tune library and the Optuna algorithm. Sets of parameters were evaluated through a 5-fold cross-validation, with the metric of choice being root mean squared error (RMSE). This rigorous evaluation method ensures that the selected parameters enhance the model's predictive performance on the given dataset."
   ]
  },
  {
   "cell_type": "markdown",
   "metadata": {},
   "source": [
    "**Best Parameters:**"
   ]
  },
  {
   "cell_type": "code",
   "execution_count": 12,
   "metadata": {},
   "outputs": [
    {
     "name": "stdout",
     "output_type": "stream",
     "text": [
      "Ridge\n",
      "'model__alpha:'\n",
      "93.45287555779794\n",
      "\n",
      "\n",
      "Lasso\n",
      "'model__alpha:'\n",
      "0.0017873631376742007\n",
      "\n",
      "\n",
      "Decision_Tree\n",
      "'model__max_depth:'\n",
      "14\n",
      "'model__min_samples_split:'\n",
      "37\n",
      "\n",
      "\n"
     ]
    }
   ],
   "source": [
    "for model in models.models.values():\n",
    "    print(model.name)\n",
    "    for key, param in model.best_params.items():\n",
    "        pprint(key + \":\")\n",
    "        pprint(param)\n",
    "    print(\"\\n\")"
   ]
  },
  {
   "cell_type": "markdown",
   "metadata": {},
   "source": [
    "## Model Selection"
   ]
  },
  {
   "cell_type": "markdown",
   "metadata": {},
   "source": [
    "#### Cross-Validation"
   ]
  },
  {
   "cell_type": "markdown",
   "metadata": {},
   "source": [
    "**Cross-validate all models:**"
   ]
  },
  {
   "cell_type": "code",
   "execution_count": 14,
   "metadata": {},
   "outputs": [
    {
     "data": {
      "text/plain": [
       "['summary_data/rmse_model3.joblib']"
      ]
     },
     "execution_count": 14,
     "metadata": {},
     "output_type": "execute_result"
    }
   ],
   "source": [
    "rmse_all = {}\n",
    "for key, model in models.models.items():\n",
    "    rmse_all[key] = model.cross_val_mse(X_train, y_train, squared=False)\n",
    "rmse_all = pl.DataFrame(rmse_all)\n",
    "joblib.dump(rmse_all, \"summary_data/rmse_model3.joblib\")"
   ]
  },
  {
   "cell_type": "markdown",
   "metadata": {},
   "source": [
    "**Plot the RMSE of all tested models:**"
   ]
  },
  {
   "cell_type": "code",
   "execution_count": 14,
   "metadata": {},
   "outputs": [
    {
     "name": "stderr",
     "output_type": "stream",
     "text": [
      "FixedFormatter should only be used together with FixedLocator\n"
     ]
    },
    {
     "data": {
      "image/png": "[encoded data removed]",
      "text/plain": [
       "<Figure size 640x480 with 1 Axes>"
      ]
     },
     "metadata": {},
     "output_type": "display_data"
    }
   ],
   "source": [
    "fig_scores, ax_scores = plt.subplots()\n",
    "sns.boxplot(rmse_all)\n",
    "ax_scores.set_xticklabels(rmse_all.columns)\n",
    "plt.show()"
   ]
  },
  {
   "cell_type": "markdown",
   "metadata": {},
   "source": [
    "The decision tree significantly outperformed linear regression models."
   ]
  },
  {
   "cell_type": "markdown",
   "metadata": {},
   "source": [
    "#### Feature Importance"
   ]
  },
  {
   "cell_type": "markdown",
   "metadata": {},
   "source": [
    "It's intriguing to explore whether the decision tree and the linear models relied on different features. To investigate this, a comparison will be made between the beta coefficients of the linear ridge regression model and the feature importances of the decision tree."
   ]
  },
  {
   "cell_type": "code",
   "execution_count": 15,
   "metadata": {},
   "outputs": [],
   "source": [
    "feature_imp_tree = pl.DataFrame(\n",
    "    {\n",
    "        \"imp\": model.pipeline[\"model\"].feature_importances_,\n",
    "        \"feature\": model.pipeline[\"preprocess\"].transform(X_train).columns,\n",
    "    }\n",
    ").sort(\"imp\", descending=True)\n",
    "\n",
    "beta_coeff_ridge = (\n",
    "    pl.DataFrame(\n",
    "        {\n",
    "            \"imp\": models.models[\"Ridge\"].pipeline[\"model\"].coef_,\n",
    "            \"feature\": models.models[\"Ridge\"]\n",
    "            .pipeline[\"preprocess\"]\n",
    "            .transform(X_train)\n",
    "            .columns,\n",
    "        }\n",
    "    )\n",
    "    .sort(\"imp\", descending=True)\n",
    "    .with_columns(pl.col(\"imp\").abs().alias(\"imp\"))\n",
    ")"
   ]
  },
  {
   "cell_type": "code",
   "execution_count": 16,
   "metadata": {},
   "outputs": [
    {
     "data": {
      "text/markdown": [
       "|        imp | feature                   |\n",
       "|-----------:|:--------------------------|\n",
       "| 0.40634    | CNT_PAYMENT               |\n",
       "| 0.258986   | PRODUCT_COMBINATION       |\n",
       "| 0.11601    | NAME_GOODS_CATEGORY       |\n",
       "| 0.0590665  | AMT_APPLICATION           |\n",
       "| 0.0530444  | AMT_ANNUITY               |\n",
       "| 0.047562   | RATE_DOWN_PAYMENT         |\n",
       "| 0.0237765  | NAME_SELLER_INDUSTRY      |\n",
       "| 0.0166423  | NAME_TYPE_SUITE           |\n",
       "| 0.00704226 | AMT_DOWN_PAYMENT          |\n",
       "| 0.00457401 | NFLAG_INSURED_ON_APPROVAL |"
      ],
      "text/plain": [
       "<IPython.core.display.Markdown object>"
      ]
     },
     "execution_count": 16,
     "metadata": {},
     "output_type": "execute_result"
    }
   ],
   "source": [
    "eda.table_display(feature_imp_tree[:10])"
   ]
  },
  {
   "cell_type": "code",
   "execution_count": 17,
   "metadata": {},
   "outputs": [
    {
     "data": {
      "text/markdown": [
       "|      imp | feature                                         |\n",
       "|---------:|:------------------------------------------------|\n",
       "| 8.87794  | CNT_PAYMENT                                     |\n",
       "| 2.83576  | AMT_ANNUITY                                     |\n",
       "| 2.07872  | PRODUCT_COMBINATION_POS mobile with interest    |\n",
       "| 1.79406  | NAME_GOODS_CATEGORY_Mobile                      |\n",
       "| 1.76448  | NAME_SELLER_INDUSTRY_Connectivity               |\n",
       "| 1.66514  | AMT_DOWN_PAYMENT                                |\n",
       "| 1.56839  | PRODUCT_COMBINATION_POS household with interest |\n",
       "| 1.09629  | PRODUCT_COMBINATION_POS industry with interest  |\n",
       "| 0.515785 | PRODUCT_COMBINATION_POS other with interest     |\n",
       "| 0.409396 | hour_sin                                        |"
      ],
      "text/plain": [
       "<IPython.core.display.Markdown object>"
      ]
     },
     "execution_count": 17,
     "metadata": {},
     "output_type": "execute_result"
    }
   ],
   "source": [
    "eda.table_display(beta_coeff_ridge[:10])"
   ]
  },
  {
   "cell_type": "markdown",
   "metadata": {},
   "source": [
    "The models utilize similar features, with the length of the loan, the annuity, and the type of goods being the most influential contributors. However, the linear model introduces some less intuitive features, such as the sine of the hour when the application was given. The poorer performance of linear regression could potentially be explained by the non-parametric distribution of some of these features and the model's limited ability to capture conditional information. If a linear model is to be used, a more careful examination of possible feature transformations is warranted to enhance its performance."
   ]
  },
  {
   "cell_type": "markdown",
   "metadata": {},
   "source": [
    "## Model Testing"
   ]
  },
  {
   "cell_type": "markdown",
   "metadata": {},
   "source": [
    "### Performance Evaluation"
   ]
  },
  {
   "cell_type": "markdown",
   "metadata": {},
   "source": [
    "**Root mean squared error on the test set:**"
   ]
  },
  {
   "cell_type": "code",
   "execution_count": 17,
   "metadata": {},
   "outputs": [
    {
     "name": "stdout",
     "output_type": "stream",
     "text": [
      "5.7\n"
     ]
    }
   ],
   "source": [
    "best_pipeline = models.models[\"Decision_Tree\"].pipeline\n",
    "best_pipeline.fit(X_train, y_train)\n",
    "predictions = best_pipeline.predict(X_test)\n",
    "print(round(mean_squared_error(y_test, predictions, squared=False), 2))"
   ]
  },
  {
   "cell_type": "markdown",
   "metadata": {},
   "source": [
    "**True versus predicted plot:**"
   ]
  },
  {
   "cell_type": "code",
   "execution_count": 19,
   "metadata": {},
   "outputs": [
    {
     "data": {
      "image/png": "[encoded data removed]",
      "text/plain": [
       "<Figure size 850x450 with 2 Axes>"
      ]
     },
     "metadata": {},
     "output_type": "display_data"
    }
   ],
   "source": [
    "fig_true_pred, ax_true_pred = plt.subplots(1, 2, figsize=BASE_FIG_SIZE)\n",
    "residuals = y_test - predictions\n",
    "sns.scatterplot(x=y_test[:300], y=predictions[:300], ax=ax_true_pred[0], alpha=0.75)\n",
    "sns.lineplot(x=[0, 140], y=[0, 140], linestyle=\"--\", color=\"black\", ax=ax_true_pred[0])\n",
    "ax_true_pred[0].set_xlabel(\"True Fees Percentage\")\n",
    "ax_true_pred[0].set_ylabel(\"Predicted Fees Percentage\")\n",
    "sns.scatterplot(x=predictions[:500], y=residuals[:500], alpha=0.75)\n",
    "sns.lineplot(x=[0, 125], y=[0, 0], linestyle=\"--\", color=\"black\", ax=ax_true_pred[1])\n",
    "ax_true_pred[1].set_ylabel(\"Residual\")\n",
    "ax_true_pred[1].set_xlabel(\"Predicted Fees Percentage\")\n",
    "plt.show()"
   ]
  },
  {
   "cell_type": "markdown",
   "metadata": {},
   "source": [
    "**Mean Residual:**"
   ]
  },
  {
   "cell_type": "code",
   "execution_count": 20,
   "metadata": {},
   "outputs": [
    {
     "data": {
      "text/plain": [
       "0.003"
      ]
     },
     "execution_count": 20,
     "metadata": {},
     "output_type": "execute_result"
    }
   ],
   "source": [
    "round(residuals.mean(), 3)"
   ]
  },
  {
   "cell_type": "markdown",
   "metadata": {},
   "source": [
    "**Calculating mean residuals by loan size group:**"
   ]
  },
  {
   "cell_type": "code",
   "execution_count": 21,
   "metadata": {},
   "outputs": [],
   "source": [
    "residual_amt_df = pl.DataFrame(\n",
    "    [residuals.abs().alias(\"residuals\"), X_test[\"AMT_APPLICATION\"]]\n",
    ")\n",
    "residual_amt_df = residual_amt_df.with_columns(\n",
    "    pl.col(\"AMT_APPLICATION\")\n",
    "    .cut(\n",
    "        np.arange(10000, 110000, 10000),\n",
    "        labels=[str(i) for i in np.arange(0, 110000, 10000)],\n",
    "    )\n",
    "    .alias(\"bin\")\n",
    ")\n",
    "residuals_binned_amt = (\n",
    "    residual_amt_df.group_by(\"bin\")\n",
    "    .agg(pl.col(\"residuals\").mean())\n",
    "    .sort(pl.col(\"bin\").cast(str).cast(int))\n",
    ")"
   ]
  },
  {
   "cell_type": "markdown",
   "metadata": {},
   "source": [
    "**Residuals vs loan amount:**"
   ]
  },
  {
   "cell_type": "code",
   "execution_count": 22,
   "metadata": {},
   "outputs": [
    {
     "name": "stderr",
     "output_type": "stream",
     "text": [
      "\n",
      "Series.map_elements is significantly slower than the native series API.\n",
      "Only use if you absolutely CANNOT implement your logic otherwise.\n",
      "In this case, you can replace your `map_elements` with the following:\n",
      "  - s.map_elements(lambda x: ...)\n",
      "  + s + '+'\n",
      "\n"
     ]
    },
    {
     "data": {
      "image/png": "[encoded data removed]",
      "text/plain": [
       "<Figure size 850x450 with 1 Axes>"
      ]
     },
     "metadata": {},
     "output_type": "display_data"
    }
   ],
   "source": [
    "fig_amt_resid, ax_amt_resid = plt.subplots(figsize=BASE_FIG_SIZE)\n",
    "\n",
    "sns.barplot(\n",
    "    x=residuals_binned_amt[\"bin\"],\n",
    "    y=residuals_binned_amt[\"residuals\"],\n",
    ")\n",
    "ax_amt_resid.set_xticks(np.arange(0, 12, 2) - 0.4)\n",
    "ax_amt_resid.set_xticklabels(\n",
    "    residuals_binned_amt[\"bin\"].map_elements(lambda x: x + \"+\")[::2]\n",
    ")\n",
    "ax_amt_resid.set_ylabel(\"Mean Absolute Residual\")\n",
    "ax_amt_resid.set_xlabel(\"Loan Amount\")\n",
    "plt.show()"
   ]
  },
  {
   "cell_type": "markdown",
   "metadata": {},
   "source": [
    "It is apparent that our model performs slightly worse for very small loans compared to others. Additionally, the performance decreases with loan size for larger loans."
   ]
  },
  {
   "cell_type": "markdown",
   "metadata": {},
   "source": [
    "### Feature Importance"
   ]
  },
  {
   "cell_type": "code",
   "execution_count": 23,
   "metadata": {},
   "outputs": [
    {
     "data": {
      "text/plain": [
       "{'Clothing and Accessories': 0,\n",
       " 'Furniture': 1,\n",
       " 'Medicine': 2,\n",
       " 'Construction Materials': 3,\n",
       " 'Medical Supplies': 4,\n",
       " 'Consumer Electronics': 5,\n",
       " 'Tourism': 6,\n",
       " 'Auto Accessories': 7,\n",
       " 'Homewares': 8,\n",
       " 'Jewelry': 9,\n",
       " 'Audio/Video': 10,\n",
       " 'Gardening': 11,\n",
       " 'Office Appliances': 12,\n",
       " 'Computers': 13,\n",
       " 'Sport and Leisure': 14,\n",
       " 'Other': 15,\n",
       " 'Vehicles': 16,\n",
       " 'Photo / Cinema Equipment': 17,\n",
       " 'Mobile': 18}"
      ]
     },
     "execution_count": 23,
     "metadata": {},
     "output_type": "execute_result"
    }
   ],
   "source": [
    "model.pipeline[\"preprocess\"].steps[1][1].steps[\"NAME_GOODS_CATEGORY\"].transformer.map"
   ]
  },
  {
   "cell_type": "markdown",
   "metadata": {},
   "source": [
    "### Feature Importance"
   ]
  },
  {
   "cell_type": "markdown",
   "metadata": {},
   "source": [
    "**SHAP value calculation and bee swarm plot:**"
   ]
  },
  {
   "cell_type": "code",
   "execution_count": 24,
   "metadata": {},
   "outputs": [
    {
     "name": "stderr",
     "output_type": "stream",
     "text": [
      "100%|===================| 187204/187940 [01:00<00:00]        No data for colormapping provided via 'c'. Parameters 'vmin', 'vmax' will be ignored\n"
     ]
    },
    {
     "data": {
      "image/png": "[encoded data removed]",
      "text/plain": [
       "<Figure size 800x550 with 2 Axes>"
      ]
     },
     "metadata": {},
     "output_type": "display_data"
    }
   ],
   "source": [
    "sample_data = best_pipeline[\"preprocess\"].transform(X_test)\n",
    "\n",
    "explainer_tree = shap.TreeExplainer(best_pipeline[\"model\"], data=sample_data.to_numpy())\n",
    "\n",
    "shap_values = explainer_tree(sample_data.to_numpy())\n",
    "\n",
    "shap.summary_plot(\n",
    "    shap_values,\n",
    "    sample_data.to_numpy(),\n",
    "    feature_names=sample_data.columns,\n",
    "    max_display=10,\n",
    ")"
   ]
  },
  {
   "cell_type": "markdown",
   "metadata": {},
   "source": [
    "Shap value analysis unveiled the most valuable features for the model, highlighting the length of the loan, application amount, the type of consumer good for which the loan was intended, down payment amount, and the seller industry. These insights provide valuable information about the key factors influencing the model's predictions for loan pricing."
   ]
  },
  {
   "cell_type": "markdown",
   "metadata": {},
   "source": [
    "**Visualization of the first three levels:**"
   ]
  },
  {
   "cell_type": "code",
   "execution_count": 25,
   "metadata": {},
   "outputs": [
    {
     "data": {
      "image/svg+xml": [
       "<?xml version=\"1.0\" encoding=\"UTF-8\" standalone=\"no\"?>\n",
       "<!DOCTYPE svg PUBLIC \"-//W3C//DTD SVG 1.1//EN\"\n",
       " \"http://www.w3.org/Graphics/SVG/1.1/DTD/svg11.dtd\">\n",
       "<!-- Generated by graphviz version 2.50.0 (0)\n",
       " -->\n",
       "<!-- Title: Tree Pages: 1 -->\n",
       "<svg width=\"1693pt\" height=\"460pt\"\n",
       " viewBox=\"0.00 0.00 1692.50 460.00\" xmlns=\"http://www.w3.org/2000/svg\" xmlns:xlink=\"http://www.w3.org/1999/xlink\">\n",
       "<g id=\"graph0\" class=\"graph\" transform=\"scale(1 1) rotate(0) translate(4 456)\">\n",
       "<title>Tree</title>\n",
       "<polygon fill=\"white\" stroke=\"transparent\" points=\"-4,4 -4,-456 1688.5,-456 1688.5,4 -4,4\"/>\n",
       "<!-- 0 -->\n",
       "<g id=\"node1\" class=\"node\">\n",
       "<title>0</title>\n",
       "<path fill=\"#fcefe6\" stroke=\"black\" d=\"M960.5,-452C960.5,-452 736.5,-452 736.5,-452 730.5,-452 724.5,-446 724.5,-440 724.5,-440 724.5,-396 724.5,-396 724.5,-390 730.5,-384 736.5,-384 736.5,-384 960.5,-384 960.5,-384 966.5,-384 972.5,-390 972.5,-396 972.5,-396 972.5,-440 972.5,-440 972.5,-446 966.5,-452 960.5,-452\"/>\n",
       "<text text-anchor=\"middle\" x=\"848.5\" y=\"-436.8\" font-family=\"Helvetica,sans-Serif\" font-size=\"14.00\">PRODUCT_COMBINATION &lt;= 4.5</text>\n",
       "<text text-anchor=\"middle\" x=\"848.5\" y=\"-421.8\" font-family=\"Helvetica,sans-Serif\" font-size=\"14.00\">squared_error = 170.261</text>\n",
       "<text text-anchor=\"middle\" x=\"848.5\" y=\"-406.8\" font-family=\"Helvetica,sans-Serif\" font-size=\"14.00\">samples = 438526</text>\n",
       "<text text-anchor=\"middle\" x=\"848.5\" y=\"-391.8\" font-family=\"Helvetica,sans-Serif\" font-size=\"14.00\">value = 22.07</text>\n",
       "</g>\n",
       "<!-- 1 -->\n",
       "<g id=\"node2\" class=\"node\">\n",
       "<title>1</title>\n",
       "<path fill=\"#fdf6f0\" stroke=\"black\" d=\"M754.5,-348C754.5,-348 530.5,-348 530.5,-348 524.5,-348 518.5,-342 518.5,-336 518.5,-336 518.5,-292 518.5,-292 518.5,-286 524.5,-280 530.5,-280 530.5,-280 754.5,-280 754.5,-280 760.5,-280 766.5,-286 766.5,-292 766.5,-292 766.5,-336 766.5,-336 766.5,-342 760.5,-348 754.5,-348\"/>\n",
       "<text text-anchor=\"middle\" x=\"642.5\" y=\"-332.8\" font-family=\"Helvetica,sans-Serif\" font-size=\"14.00\">PRODUCT_COMBINATION &lt;= 3.5</text>\n",
       "<text text-anchor=\"middle\" x=\"642.5\" y=\"-317.8\" font-family=\"Helvetica,sans-Serif\" font-size=\"14.00\">squared_error = 82.254</text>\n",
       "<text text-anchor=\"middle\" x=\"642.5\" y=\"-302.8\" font-family=\"Helvetica,sans-Serif\" font-size=\"14.00\">samples = 138577</text>\n",
       "<text text-anchor=\"middle\" x=\"642.5\" y=\"-287.8\" font-family=\"Helvetica,sans-Serif\" font-size=\"14.00\">value = 13.872</text>\n",
       "</g>\n",
       "<!-- 0&#45;&gt;1 -->\n",
       "<g id=\"edge1\" class=\"edge\">\n",
       "<title>0&#45;&gt;1</title>\n",
       "<path fill=\"none\" stroke=\"black\" d=\"M781.62,-383.88C761.46,-373.9 739.18,-362.87 718.48,-352.62\"/>\n",
       "<polygon fill=\"black\" stroke=\"black\" points=\"719.91,-349.43 709.4,-348.12 716.81,-355.7 719.91,-349.43\"/>\n",
       "<text text-anchor=\"middle\" x=\"717.4\" y=\"-368.11\" font-family=\"Helvetica,sans-Serif\" font-size=\"14.00\">True</text>\n",
       "</g>\n",
       "<!-- 3130 -->\n",
       "<g id=\"node17\" class=\"node\">\n",
       "<title>3130</title>\n",
       "<path fill=\"#fbece1\" stroke=\"black\" d=\"M1118.5,-348C1118.5,-348 950.5,-348 950.5,-348 944.5,-348 938.5,-342 938.5,-336 938.5,-336 938.5,-292 938.5,-292 938.5,-286 944.5,-280 950.5,-280 950.5,-280 1118.5,-280 1118.5,-280 1124.5,-280 1130.5,-286 1130.5,-292 1130.5,-292 1130.5,-336 1130.5,-336 1130.5,-342 1124.5,-348 1118.5,-348\"/>\n",
       "<text text-anchor=\"middle\" x=\"1034.5\" y=\"-332.8\" font-family=\"Helvetica,sans-Serif\" font-size=\"14.00\">CNT_PAYMENT &lt;= 10.5</text>\n",
       "<text text-anchor=\"middle\" x=\"1034.5\" y=\"-317.8\" font-family=\"Helvetica,sans-Serif\" font-size=\"14.00\">squared_error = 165.518</text>\n",
       "<text text-anchor=\"middle\" x=\"1034.5\" y=\"-302.8\" font-family=\"Helvetica,sans-Serif\" font-size=\"14.00\">samples = 299949</text>\n",
       "<text text-anchor=\"middle\" x=\"1034.5\" y=\"-287.8\" font-family=\"Helvetica,sans-Serif\" font-size=\"14.00\">value = 25.858</text>\n",
       "</g>\n",
       "<!-- 0&#45;&gt;3130 -->\n",
       "<g id=\"edge16\" class=\"edge\">\n",
       "<title>0&#45;&gt;3130</title>\n",
       "<path fill=\"none\" stroke=\"black\" d=\"M908.89,-383.88C926.85,-374.04 946.66,-363.17 965.14,-353.03\"/>\n",
       "<polygon fill=\"black\" stroke=\"black\" points=\"967.01,-356 974.1,-348.12 963.65,-349.86 967.01,-356\"/>\n",
       "<text text-anchor=\"middle\" x=\"967.1\" y=\"-368.42\" font-family=\"Helvetica,sans-Serif\" font-size=\"14.00\">False</text>\n",
       "</g>\n",
       "<!-- 2 -->\n",
       "<g id=\"node3\" class=\"node\">\n",
       "<title>2</title>\n",
       "<path fill=\"#fef9f5\" stroke=\"black\" d=\"M405,-244C405,-244 246,-244 246,-244 240,-244 234,-238 234,-232 234,-232 234,-188 234,-188 234,-182 240,-176 246,-176 246,-176 405,-176 405,-176 411,-176 417,-182 417,-188 417,-188 417,-232 417,-232 417,-238 411,-244 405,-244\"/>\n",
       "<text text-anchor=\"middle\" x=\"325.5\" y=\"-228.8\" font-family=\"Helvetica,sans-Serif\" font-size=\"14.00\">CNT_PAYMENT &lt;= 27.0</text>\n",
       "<text text-anchor=\"middle\" x=\"325.5\" y=\"-213.8\" font-family=\"Helvetica,sans-Serif\" font-size=\"14.00\">squared_error = 15.145</text>\n",
       "<text text-anchor=\"middle\" x=\"325.5\" y=\"-198.8\" font-family=\"Helvetica,sans-Serif\" font-size=\"14.00\">samples = 75983</text>\n",
       "<text text-anchor=\"middle\" x=\"325.5\" y=\"-183.8\" font-family=\"Helvetica,sans-Serif\" font-size=\"14.00\">value = 10.0</text>\n",
       "</g>\n",
       "<!-- 1&#45;&gt;2 -->\n",
       "<g id=\"edge2\" class=\"edge\">\n",
       "<title>1&#45;&gt;2</title>\n",
       "<path fill=\"none\" stroke=\"black\" d=\"M539.58,-279.88C503.4,-268.24 462.8,-255.18 426.76,-243.58\"/>\n",
       "<polygon fill=\"black\" stroke=\"black\" points=\"427.8,-240.24 417.21,-240.51 425.66,-246.9 427.8,-240.24\"/>\n",
       "</g>\n",
       "<!-- 1103 -->\n",
       "<g id=\"node10\" class=\"node\">\n",
       "<title>1103</title>\n",
       "<path fill=\"#fcf2ea\" stroke=\"black\" d=\"M726.5,-244C726.5,-244 558.5,-244 558.5,-244 552.5,-244 546.5,-238 546.5,-232 546.5,-232 546.5,-188 546.5,-188 546.5,-182 552.5,-176 558.5,-176 558.5,-176 726.5,-176 726.5,-176 732.5,-176 738.5,-182 738.5,-188 738.5,-188 738.5,-232 738.5,-232 738.5,-238 732.5,-244 726.5,-244\"/>\n",
       "<text text-anchor=\"middle\" x=\"642.5\" y=\"-228.8\" font-family=\"Helvetica,sans-Serif\" font-size=\"14.00\">CNT_PAYMENT &lt;= 10.5</text>\n",
       "<text text-anchor=\"middle\" x=\"642.5\" y=\"-213.8\" font-family=\"Helvetica,sans-Serif\" font-size=\"14.00\">squared_error = 123.435</text>\n",
       "<text text-anchor=\"middle\" x=\"642.5\" y=\"-198.8\" font-family=\"Helvetica,sans-Serif\" font-size=\"14.00\">samples = 62594</text>\n",
       "<text text-anchor=\"middle\" x=\"642.5\" y=\"-183.8\" font-family=\"Helvetica,sans-Serif\" font-size=\"14.00\">value = 18.571</text>\n",
       "</g>\n",
       "<!-- 1&#45;&gt;1103 -->\n",
       "<g id=\"edge9\" class=\"edge\">\n",
       "<title>1&#45;&gt;1103</title>\n",
       "<path fill=\"none\" stroke=\"black\" d=\"M642.5,-279.88C642.5,-271.78 642.5,-262.98 642.5,-254.47\"/>\n",
       "<polygon fill=\"black\" stroke=\"black\" points=\"646,-254.3 642.5,-244.3 639,-254.3 646,-254.3\"/>\n",
       "</g>\n",
       "<!-- 3 -->\n",
       "<g id=\"node4\" class=\"node\">\n",
       "<title>3</title>\n",
       "<path fill=\"#fef9f5\" stroke=\"black\" d=\"M171,-140C171,-140 12,-140 12,-140 6,-140 0,-134 0,-128 0,-128 0,-84 0,-84 0,-78 6,-72 12,-72 12,-72 171,-72 171,-72 177,-72 183,-78 183,-84 183,-84 183,-128 183,-128 183,-134 177,-140 171,-140\"/>\n",
       "<text text-anchor=\"middle\" x=\"91.5\" y=\"-124.8\" font-family=\"Helvetica,sans-Serif\" font-size=\"14.00\">CNT_PAYMENT &lt;= 6.5</text>\n",
       "<text text-anchor=\"middle\" x=\"91.5\" y=\"-109.8\" font-family=\"Helvetica,sans-Serif\" font-size=\"14.00\">squared_error = 10.413</text>\n",
       "<text text-anchor=\"middle\" x=\"91.5\" y=\"-94.8\" font-family=\"Helvetica,sans-Serif\" font-size=\"14.00\">samples = 75865</text>\n",
       "<text text-anchor=\"middle\" x=\"91.5\" y=\"-79.8\" font-family=\"Helvetica,sans-Serif\" font-size=\"14.00\">value = 9.914</text>\n",
       "</g>\n",
       "<!-- 2&#45;&gt;3 -->\n",
       "<g id=\"edge3\" class=\"edge\">\n",
       "<title>2&#45;&gt;3</title>\n",
       "<path fill=\"none\" stroke=\"black\" d=\"M249.53,-175.88C226.32,-165.77 200.64,-154.58 176.86,-144.21\"/>\n",
       "<polygon fill=\"black\" stroke=\"black\" points=\"178.06,-140.91 167.49,-140.12 175.26,-147.33 178.06,-140.91\"/>\n",
       "</g>\n",
       "<!-- 1082 -->\n",
       "<g id=\"node7\" class=\"node\">\n",
       "<title>1082</title>\n",
       "<path fill=\"#f5cdb0\" stroke=\"black\" d=\"M438,-140C438,-140 213,-140 213,-140 207,-140 201,-134 201,-128 201,-128 201,-84 201,-84 201,-78 207,-72 213,-72 213,-72 438,-72 438,-72 444,-72 450,-78 450,-84 450,-84 450,-128 450,-128 450,-134 444,-140 438,-140\"/>\n",
       "<text text-anchor=\"middle\" x=\"325.5\" y=\"-124.8\" font-family=\"Helvetica,sans-Serif\" font-size=\"14.00\">NAME_SELLER_INDUSTRY &lt;= 4.0</text>\n",
       "<text text-anchor=\"middle\" x=\"325.5\" y=\"-109.8\" font-family=\"Helvetica,sans-Serif\" font-size=\"14.00\">squared_error = 22.812</text>\n",
       "<text text-anchor=\"middle\" x=\"325.5\" y=\"-94.8\" font-family=\"Helvetica,sans-Serif\" font-size=\"14.00\">samples = 118</text>\n",
       "<text text-anchor=\"middle\" x=\"325.5\" y=\"-79.8\" font-family=\"Helvetica,sans-Serif\" font-size=\"14.00\">value = 65.044</text>\n",
       "</g>\n",
       "<!-- 2&#45;&gt;1082 -->\n",
       "<g id=\"edge6\" class=\"edge\">\n",
       "<title>2&#45;&gt;1082</title>\n",
       "<path fill=\"none\" stroke=\"black\" d=\"M325.5,-175.88C325.5,-167.78 325.5,-158.98 325.5,-150.47\"/>\n",
       "<polygon fill=\"black\" stroke=\"black\" points=\"329,-150.3 325.5,-140.3 322,-150.3 329,-150.3\"/>\n",
       "</g>\n",
       "<!-- 4 -->\n",
       "<g id=\"node5\" class=\"node\">\n",
       "<title>4</title>\n",
       "<path fill=\"#c0c0c0\" stroke=\"black\" d=\"M70.5,-36C70.5,-36 40.5,-36 40.5,-36 34.5,-36 28.5,-30 28.5,-24 28.5,-24 28.5,-12 28.5,-12 28.5,-6 34.5,0 40.5,0 40.5,0 70.5,0 70.5,0 76.5,0 82.5,-6 82.5,-12 82.5,-12 82.5,-24 82.5,-24 82.5,-30 76.5,-36 70.5,-36\"/>\n",
       "<text text-anchor=\"middle\" x=\"55.5\" y=\"-14.3\" font-family=\"Helvetica,sans-Serif\" font-size=\"14.00\">(...)</text>\n",
       "</g>\n",
       "<!-- 3&#45;&gt;4 -->\n",
       "<g id=\"edge4\" class=\"edge\">\n",
       "<title>3&#45;&gt;4</title>\n",
       "<path fill=\"none\" stroke=\"black\" d=\"M77.68,-72C74.04,-63.28 70.14,-53.98 66.66,-45.65\"/>\n",
       "<polygon fill=\"black\" stroke=\"black\" points=\"69.88,-44.28 62.79,-36.4 63.42,-46.98 69.88,-44.28\"/>\n",
       "</g>\n",
       "<!-- 409 -->\n",
       "<g id=\"node6\" class=\"node\">\n",
       "<title>409</title>\n",
       "<path fill=\"#c0c0c0\" stroke=\"black\" d=\"M142.5,-36C142.5,-36 112.5,-36 112.5,-36 106.5,-36 100.5,-30 100.5,-24 100.5,-24 100.5,-12 100.5,-12 100.5,-6 106.5,0 112.5,0 112.5,0 142.5,0 142.5,0 148.5,0 154.5,-6 154.5,-12 154.5,-12 154.5,-24 154.5,-24 154.5,-30 148.5,-36 142.5,-36\"/>\n",
       "<text text-anchor=\"middle\" x=\"127.5\" y=\"-14.3\" font-family=\"Helvetica,sans-Serif\" font-size=\"14.00\">(...)</text>\n",
       "</g>\n",
       "<!-- 3&#45;&gt;409 -->\n",
       "<g id=\"edge5\" class=\"edge\">\n",
       "<title>3&#45;&gt;409</title>\n",
       "<path fill=\"none\" stroke=\"black\" d=\"M105.32,-72C108.96,-63.28 112.86,-53.98 116.34,-45.65\"/>\n",
       "<polygon fill=\"black\" stroke=\"black\" points=\"119.58,-46.98 120.21,-36.4 113.12,-44.28 119.58,-46.98\"/>\n",
       "</g>\n",
       "<!-- 1083 -->\n",
       "<g id=\"node8\" class=\"node\">\n",
       "<title>1083</title>\n",
       "<path fill=\"#c0c0c0\" stroke=\"black\" d=\"M304.5,-36C304.5,-36 274.5,-36 274.5,-36 268.5,-36 262.5,-30 262.5,-24 262.5,-24 262.5,-12 262.5,-12 262.5,-6 268.5,0 274.5,0 274.5,0 304.5,0 304.5,0 310.5,0 316.5,-6 316.5,-12 316.5,-12 316.5,-24 316.5,-24 316.5,-30 310.5,-36 304.5,-36\"/>\n",
       "<text text-anchor=\"middle\" x=\"289.5\" y=\"-14.3\" font-family=\"Helvetica,sans-Serif\" font-size=\"14.00\">(...)</text>\n",
       "</g>\n",
       "<!-- 1082&#45;&gt;1083 -->\n",
       "<g id=\"edge7\" class=\"edge\">\n",
       "<title>1082&#45;&gt;1083</title>\n",
       "<path fill=\"none\" stroke=\"black\" d=\"M311.68,-72C308.04,-63.28 304.14,-53.98 300.66,-45.65\"/>\n",
       "<polygon fill=\"black\" stroke=\"black\" points=\"303.88,-44.28 296.79,-36.4 297.42,-46.98 303.88,-44.28\"/>\n",
       "</g>\n",
       "<!-- 1084 -->\n",
       "<g id=\"node9\" class=\"node\">\n",
       "<title>1084</title>\n",
       "<path fill=\"#c0c0c0\" stroke=\"black\" d=\"M376.5,-36C376.5,-36 346.5,-36 346.5,-36 340.5,-36 334.5,-30 334.5,-24 334.5,-24 334.5,-12 334.5,-12 334.5,-6 340.5,0 346.5,0 346.5,0 376.5,0 376.5,0 382.5,0 388.5,-6 388.5,-12 388.5,-12 388.5,-24 388.5,-24 388.5,-30 382.5,-36 376.5,-36\"/>\n",
       "<text text-anchor=\"middle\" x=\"361.5\" y=\"-14.3\" font-family=\"Helvetica,sans-Serif\" font-size=\"14.00\">(...)</text>\n",
       "</g>\n",
       "<!-- 1082&#45;&gt;1084 -->\n",
       "<g id=\"edge8\" class=\"edge\">\n",
       "<title>1082&#45;&gt;1084</title>\n",
       "<path fill=\"none\" stroke=\"black\" d=\"M339.32,-72C342.96,-63.28 346.86,-53.98 350.34,-45.65\"/>\n",
       "<polygon fill=\"black\" stroke=\"black\" points=\"353.58,-46.98 354.21,-36.4 347.12,-44.28 353.58,-46.98\"/>\n",
       "</g>\n",
       "<!-- 1104 -->\n",
       "<g id=\"node11\" class=\"node\">\n",
       "<title>1104</title>\n",
       "<path fill=\"#fdf7f2\" stroke=\"black\" d=\"M639,-140C639,-140 480,-140 480,-140 474,-140 468,-134 468,-128 468,-128 468,-84 468,-84 468,-78 474,-72 480,-72 480,-72 639,-72 639,-72 645,-72 651,-78 651,-84 651,-84 651,-128 651,-128 651,-134 645,-140 639,-140\"/>\n",
       "<text text-anchor=\"middle\" x=\"559.5\" y=\"-124.8\" font-family=\"Helvetica,sans-Serif\" font-size=\"14.00\">CNT_PAYMENT &lt;= 7.5</text>\n",
       "<text text-anchor=\"middle\" x=\"559.5\" y=\"-109.8\" font-family=\"Helvetica,sans-Serif\" font-size=\"14.00\">squared_error = 39.729</text>\n",
       "<text text-anchor=\"middle\" x=\"559.5\" y=\"-94.8\" font-family=\"Helvetica,sans-Serif\" font-size=\"14.00\">samples = 31322</text>\n",
       "<text text-anchor=\"middle\" x=\"559.5\" y=\"-79.8\" font-family=\"Helvetica,sans-Serif\" font-size=\"14.00\">value = 12.677</text>\n",
       "</g>\n",
       "<!-- 1103&#45;&gt;1104 -->\n",
       "<g id=\"edge10\" class=\"edge\">\n",
       "<title>1103&#45;&gt;1104</title>\n",
       "<path fill=\"none\" stroke=\"black\" d=\"M615.55,-175.88C608.38,-167.07 600.54,-157.43 593.05,-148.24\"/>\n",
       "<polygon fill=\"black\" stroke=\"black\" points=\"595.62,-145.85 586.6,-140.3 590.19,-150.26 595.62,-145.85\"/>\n",
       "</g>\n",
       "<!-- 2215 -->\n",
       "<g id=\"node14\" class=\"node\">\n",
       "<title>2215</title>\n",
       "<path fill=\"#fbede3\" stroke=\"black\" d=\"M849.5,-140C849.5,-140 681.5,-140 681.5,-140 675.5,-140 669.5,-134 669.5,-128 669.5,-128 669.5,-84 669.5,-84 669.5,-78 675.5,-72 681.5,-72 681.5,-72 849.5,-72 849.5,-72 855.5,-72 861.5,-78 861.5,-84 861.5,-84 861.5,-128 861.5,-128 861.5,-134 855.5,-140 849.5,-140\"/>\n",
       "<text text-anchor=\"middle\" x=\"765.5\" y=\"-124.8\" font-family=\"Helvetica,sans-Serif\" font-size=\"14.00\">CNT_PAYMENT &lt;= 19.0</text>\n",
       "<text text-anchor=\"middle\" x=\"765.5\" y=\"-109.8\" font-family=\"Helvetica,sans-Serif\" font-size=\"14.00\">squared_error = 137.625</text>\n",
       "<text text-anchor=\"middle\" x=\"765.5\" y=\"-94.8\" font-family=\"Helvetica,sans-Serif\" font-size=\"14.00\">samples = 31272</text>\n",
       "<text text-anchor=\"middle\" x=\"765.5\" y=\"-79.8\" font-family=\"Helvetica,sans-Serif\" font-size=\"14.00\">value = 24.475</text>\n",
       "</g>\n",
       "<!-- 1103&#45;&gt;2215 -->\n",
       "<g id=\"edge13\" class=\"edge\">\n",
       "<title>1103&#45;&gt;2215</title>\n",
       "<path fill=\"none\" stroke=\"black\" d=\"M682.43,-175.88C693.61,-166.62 705.86,-156.45 717.45,-146.85\"/>\n",
       "<polygon fill=\"black\" stroke=\"black\" points=\"719.88,-149.38 725.34,-140.3 715.41,-143.99 719.88,-149.38\"/>\n",
       "</g>\n",
       "<!-- 1105 -->\n",
       "<g id=\"node12\" class=\"node\">\n",
       "<title>1105</title>\n",
       "<path fill=\"#c0c0c0\" stroke=\"black\" d=\"M533.5,-36C533.5,-36 503.5,-36 503.5,-36 497.5,-36 491.5,-30 491.5,-24 491.5,-24 491.5,-12 491.5,-12 491.5,-6 497.5,0 503.5,0 503.5,0 533.5,0 533.5,0 539.5,0 545.5,-6 545.5,-12 545.5,-12 545.5,-24 545.5,-24 545.5,-30 539.5,-36 533.5,-36\"/>\n",
       "<text text-anchor=\"middle\" x=\"518.5\" y=\"-14.3\" font-family=\"Helvetica,sans-Serif\" font-size=\"14.00\">(...)</text>\n",
       "</g>\n",
       "<!-- 1104&#45;&gt;1105 -->\n",
       "<g id=\"edge11\" class=\"edge\">\n",
       "<title>1104&#45;&gt;1105</title>\n",
       "<path fill=\"none\" stroke=\"black\" d=\"M543.77,-72C539.61,-63.28 535.18,-53.98 531.21,-45.65\"/>\n",
       "<polygon fill=\"black\" stroke=\"black\" points=\"534.26,-43.92 526.8,-36.4 527.94,-46.94 534.26,-43.92\"/>\n",
       "</g>\n",
       "<!-- 1626 -->\n",
       "<g id=\"node13\" class=\"node\">\n",
       "<title>1626</title>\n",
       "<path fill=\"#c0c0c0\" stroke=\"black\" d=\"M605.5,-36C605.5,-36 575.5,-36 575.5,-36 569.5,-36 563.5,-30 563.5,-24 563.5,-24 563.5,-12 563.5,-12 563.5,-6 569.5,0 575.5,0 575.5,0 605.5,0 605.5,0 611.5,0 617.5,-6 617.5,-12 617.5,-12 617.5,-24 617.5,-24 617.5,-30 611.5,-36 605.5,-36\"/>\n",
       "<text text-anchor=\"middle\" x=\"590.5\" y=\"-14.3\" font-family=\"Helvetica,sans-Serif\" font-size=\"14.00\">(...)</text>\n",
       "</g>\n",
       "<!-- 1104&#45;&gt;1626 -->\n",
       "<g id=\"edge12\" class=\"edge\">\n",
       "<title>1104&#45;&gt;1626</title>\n",
       "<path fill=\"none\" stroke=\"black\" d=\"M571.4,-72C574.5,-63.38 577.82,-54.19 580.8,-45.92\"/>\n",
       "<polygon fill=\"black\" stroke=\"black\" points=\"584.13,-47 584.23,-36.4 577.54,-44.62 584.13,-47\"/>\n",
       "</g>\n",
       "<!-- 2216 -->\n",
       "<g id=\"node15\" class=\"node\">\n",
       "<title>2216</title>\n",
       "<path fill=\"#c0c0c0\" stroke=\"black\" d=\"M739.5,-36C739.5,-36 709.5,-36 709.5,-36 703.5,-36 697.5,-30 697.5,-24 697.5,-24 697.5,-12 697.5,-12 697.5,-6 703.5,0 709.5,0 709.5,0 739.5,0 739.5,0 745.5,0 751.5,-6 751.5,-12 751.5,-12 751.5,-24 751.5,-24 751.5,-30 745.5,-36 739.5,-36\"/>\n",
       "<text text-anchor=\"middle\" x=\"724.5\" y=\"-14.3\" font-family=\"Helvetica,sans-Serif\" font-size=\"14.00\">(...)</text>\n",
       "</g>\n",
       "<!-- 2215&#45;&gt;2216 -->\n",
       "<g id=\"edge14\" class=\"edge\">\n",
       "<title>2215&#45;&gt;2216</title>\n",
       "<path fill=\"none\" stroke=\"black\" d=\"M749.77,-72C745.61,-63.28 741.18,-53.98 737.21,-45.65\"/>\n",
       "<polygon fill=\"black\" stroke=\"black\" points=\"740.26,-43.92 732.8,-36.4 733.94,-46.94 740.26,-43.92\"/>\n",
       "</g>\n",
       "<!-- 2895 -->\n",
       "<g id=\"node16\" class=\"node\">\n",
       "<title>2895</title>\n",
       "<path fill=\"#c0c0c0\" stroke=\"black\" d=\"M811.5,-36C811.5,-36 781.5,-36 781.5,-36 775.5,-36 769.5,-30 769.5,-24 769.5,-24 769.5,-12 769.5,-12 769.5,-6 775.5,0 781.5,0 781.5,0 811.5,0 811.5,0 817.5,0 823.5,-6 823.5,-12 823.5,-12 823.5,-24 823.5,-24 823.5,-30 817.5,-36 811.5,-36\"/>\n",
       "<text text-anchor=\"middle\" x=\"796.5\" y=\"-14.3\" font-family=\"Helvetica,sans-Serif\" font-size=\"14.00\">(...)</text>\n",
       "</g>\n",
       "<!-- 2215&#45;&gt;2895 -->\n",
       "<g id=\"edge15\" class=\"edge\">\n",
       "<title>2215&#45;&gt;2895</title>\n",
       "<path fill=\"none\" stroke=\"black\" d=\"M777.4,-72C780.5,-63.38 783.82,-54.19 786.8,-45.92\"/>\n",
       "<polygon fill=\"black\" stroke=\"black\" points=\"790.13,-47 790.23,-36.4 783.54,-44.62 790.13,-47\"/>\n",
       "</g>\n",
       "<!-- 3131 -->\n",
       "<g id=\"node18\" class=\"node\">\n",
       "<title>3131</title>\n",
       "<path fill=\"#fcf1e8\" stroke=\"black\" d=\"M1154,-244C1154,-244 915,-244 915,-244 909,-244 903,-238 903,-232 903,-232 903,-188 903,-188 903,-182 909,-176 915,-176 915,-176 1154,-176 1154,-176 1160,-176 1166,-182 1166,-188 1166,-188 1166,-232 1166,-232 1166,-238 1160,-244 1154,-244\"/>\n",
       "<text text-anchor=\"middle\" x=\"1034.5\" y=\"-228.8\" font-family=\"Helvetica,sans-Serif\" font-size=\"14.00\">NAME_GOODS_CATEGORY &lt;= 16.5</text>\n",
       "<text text-anchor=\"middle\" x=\"1034.5\" y=\"-213.8\" font-family=\"Helvetica,sans-Serif\" font-size=\"14.00\">squared_error = 75.523</text>\n",
       "<text text-anchor=\"middle\" x=\"1034.5\" y=\"-198.8\" font-family=\"Helvetica,sans-Serif\" font-size=\"14.00\">samples = 167921</text>\n",
       "<text text-anchor=\"middle\" x=\"1034.5\" y=\"-183.8\" font-family=\"Helvetica,sans-Serif\" font-size=\"14.00\">value = 20.206</text>\n",
       "</g>\n",
       "<!-- 3130&#45;&gt;3131 -->\n",
       "<g id=\"edge17\" class=\"edge\">\n",
       "<title>3130&#45;&gt;3131</title>\n",
       "<path fill=\"none\" stroke=\"black\" d=\"M1034.5,-279.88C1034.5,-271.78 1034.5,-262.98 1034.5,-254.47\"/>\n",
       "<polygon fill=\"black\" stroke=\"black\" points=\"1038,-254.3 1034.5,-244.3 1031,-254.3 1038,-254.3\"/>\n",
       "</g>\n",
       "<!-- 5948 -->\n",
       "<g id=\"node25\" class=\"node\">\n",
       "<title>5948</title>\n",
       "<path fill=\"#fae6d8\" stroke=\"black\" d=\"M1498,-244C1498,-244 1259,-244 1259,-244 1253,-244 1247,-238 1247,-232 1247,-232 1247,-188 1247,-188 1247,-182 1253,-176 1259,-176 1259,-176 1498,-176 1498,-176 1504,-176 1510,-182 1510,-188 1510,-188 1510,-232 1510,-232 1510,-238 1504,-244 1498,-244\"/>\n",
       "<text text-anchor=\"middle\" x=\"1378.5\" y=\"-228.8\" font-family=\"Helvetica,sans-Serif\" font-size=\"14.00\">NAME_GOODS_CATEGORY &lt;= 16.5</text>\n",
       "<text text-anchor=\"middle\" x=\"1378.5\" y=\"-213.8\" font-family=\"Helvetica,sans-Serif\" font-size=\"14.00\">squared_error = 187.662</text>\n",
       "<text text-anchor=\"middle\" x=\"1378.5\" y=\"-198.8\" font-family=\"Helvetica,sans-Serif\" font-size=\"14.00\">samples = 132028</text>\n",
       "<text text-anchor=\"middle\" x=\"1378.5\" y=\"-183.8\" font-family=\"Helvetica,sans-Serif\" font-size=\"14.00\">value = 33.047</text>\n",
       "</g>\n",
       "<!-- 3130&#45;&gt;5948 -->\n",
       "<g id=\"edge24\" class=\"edge\">\n",
       "<title>3130&#45;&gt;5948</title>\n",
       "<path fill=\"none\" stroke=\"black\" d=\"M1130.78,-284.45C1170.06,-272.81 1215.92,-259.21 1257.43,-246.9\"/>\n",
       "<polygon fill=\"black\" stroke=\"black\" points=\"1258.45,-250.25 1267.04,-244.05 1256.46,-243.54 1258.45,-250.25\"/>\n",
       "</g>\n",
       "<!-- 3132 -->\n",
       "<g id=\"node19\" class=\"node\">\n",
       "<title>3132</title>\n",
       "<path fill=\"#fdf4ee\" stroke=\"black\" d=\"M1051,-140C1051,-140 892,-140 892,-140 886,-140 880,-134 880,-128 880,-128 880,-84 880,-84 880,-78 886,-72 892,-72 892,-72 1051,-72 1051,-72 1057,-72 1063,-78 1063,-84 1063,-84 1063,-128 1063,-128 1063,-134 1057,-140 1051,-140\"/>\n",
       "<text text-anchor=\"middle\" x=\"971.5\" y=\"-124.8\" font-family=\"Helvetica,sans-Serif\" font-size=\"14.00\">CNT_PAYMENT &lt;= 7.5</text>\n",
       "<text text-anchor=\"middle\" x=\"971.5\" y=\"-109.8\" font-family=\"Helvetica,sans-Serif\" font-size=\"14.00\">squared_error = 50.668</text>\n",
       "<text text-anchor=\"middle\" x=\"971.5\" y=\"-94.8\" font-family=\"Helvetica,sans-Serif\" font-size=\"14.00\">samples = 90642</text>\n",
       "<text text-anchor=\"middle\" x=\"971.5\" y=\"-79.8\" font-family=\"Helvetica,sans-Serif\" font-size=\"14.00\">value = 15.943</text>\n",
       "</g>\n",
       "<!-- 3131&#45;&gt;3132 -->\n",
       "<g id=\"edge18\" class=\"edge\">\n",
       "<title>3131&#45;&gt;3132</title>\n",
       "<path fill=\"none\" stroke=\"black\" d=\"M1014.05,-175.88C1008.76,-167.33 1003.01,-158.01 997.49,-149.07\"/>\n",
       "<polygon fill=\"black\" stroke=\"black\" points=\"1000.3,-146.97 992.07,-140.3 994.34,-150.65 1000.3,-146.97\"/>\n",
       "</g>\n",
       "<!-- 4665 -->\n",
       "<g id=\"node22\" class=\"node\">\n",
       "<title>4665</title>\n",
       "<path fill=\"#fbede2\" stroke=\"black\" d=\"M1252,-140C1252,-140 1093,-140 1093,-140 1087,-140 1081,-134 1081,-128 1081,-128 1081,-84 1081,-84 1081,-78 1087,-72 1093,-72 1093,-72 1252,-72 1252,-72 1258,-72 1264,-78 1264,-84 1264,-84 1264,-128 1264,-128 1264,-134 1258,-140 1252,-140\"/>\n",
       "<text text-anchor=\"middle\" x=\"1172.5\" y=\"-124.8\" font-family=\"Helvetica,sans-Serif\" font-size=\"14.00\">CNT_PAYMENT &lt;= 7.5</text>\n",
       "<text text-anchor=\"middle\" x=\"1172.5\" y=\"-109.8\" font-family=\"Helvetica,sans-Serif\" font-size=\"14.00\">squared_error = 58.366</text>\n",
       "<text text-anchor=\"middle\" x=\"1172.5\" y=\"-94.8\" font-family=\"Helvetica,sans-Serif\" font-size=\"14.00\">samples = 77279</text>\n",
       "<text text-anchor=\"middle\" x=\"1172.5\" y=\"-79.8\" font-family=\"Helvetica,sans-Serif\" font-size=\"14.00\">value = 25.205</text>\n",
       "</g>\n",
       "<!-- 3131&#45;&gt;4665 -->\n",
       "<g id=\"edge21\" class=\"edge\">\n",
       "<title>3131&#45;&gt;4665</title>\n",
       "<path fill=\"none\" stroke=\"black\" d=\"M1079.3,-175.88C1092.08,-166.44 1106.12,-156.06 1119.34,-146.29\"/>\n",
       "<polygon fill=\"black\" stroke=\"black\" points=\"1121.49,-149.06 1127.45,-140.3 1117.33,-143.43 1121.49,-149.06\"/>\n",
       "</g>\n",
       "<!-- 3133 -->\n",
       "<g id=\"node20\" class=\"node\">\n",
       "<title>3133</title>\n",
       "<path fill=\"#c0c0c0\" stroke=\"black\" d=\"M942.5,-36C942.5,-36 912.5,-36 912.5,-36 906.5,-36 900.5,-30 900.5,-24 900.5,-24 900.5,-12 900.5,-12 900.5,-6 906.5,0 912.5,0 912.5,0 942.5,0 942.5,0 948.5,0 954.5,-6 954.5,-12 954.5,-12 954.5,-24 954.5,-24 954.5,-30 948.5,-36 942.5,-36\"/>\n",
       "<text text-anchor=\"middle\" x=\"927.5\" y=\"-14.3\" font-family=\"Helvetica,sans-Serif\" font-size=\"14.00\">(...)</text>\n",
       "</g>\n",
       "<!-- 3132&#45;&gt;3133 -->\n",
       "<g id=\"edge19\" class=\"edge\">\n",
       "<title>3132&#45;&gt;3133</title>\n",
       "<path fill=\"none\" stroke=\"black\" d=\"M954.61,-72C950.11,-63.19 945.3,-53.78 941,-45.38\"/>\n",
       "<polygon fill=\"black\" stroke=\"black\" points=\"944.07,-43.71 936.4,-36.4 937.84,-46.9 944.07,-43.71\"/>\n",
       "</g>\n",
       "<!-- 3878 -->\n",
       "<g id=\"node21\" class=\"node\">\n",
       "<title>3878</title>\n",
       "<path fill=\"#c0c0c0\" stroke=\"black\" d=\"M1014.5,-36C1014.5,-36 984.5,-36 984.5,-36 978.5,-36 972.5,-30 972.5,-24 972.5,-24 972.5,-12 972.5,-12 972.5,-6 978.5,0 984.5,0 984.5,0 1014.5,0 1014.5,0 1020.5,0 1026.5,-6 1026.5,-12 1026.5,-12 1026.5,-24 1026.5,-24 1026.5,-30 1020.5,-36 1014.5,-36\"/>\n",
       "<text text-anchor=\"middle\" x=\"999.5\" y=\"-14.3\" font-family=\"Helvetica,sans-Serif\" font-size=\"14.00\">(...)</text>\n",
       "</g>\n",
       "<!-- 3132&#45;&gt;3878 -->\n",
       "<g id=\"edge20\" class=\"edge\">\n",
       "<title>3132&#45;&gt;3878</title>\n",
       "<path fill=\"none\" stroke=\"black\" d=\"M982.25,-72C985.05,-63.38 988.04,-54.19 990.73,-45.92\"/>\n",
       "<polygon fill=\"black\" stroke=\"black\" points=\"994.07,-47 993.83,-36.4 987.41,-44.83 994.07,-47\"/>\n",
       "</g>\n",
       "<!-- 4666 -->\n",
       "<g id=\"node23\" class=\"node\">\n",
       "<title>4666</title>\n",
       "<path fill=\"#c0c0c0\" stroke=\"black\" d=\"M1146.5,-36C1146.5,-36 1116.5,-36 1116.5,-36 1110.5,-36 1104.5,-30 1104.5,-24 1104.5,-24 1104.5,-12 1104.5,-12 1104.5,-6 1110.5,0 1116.5,0 1116.5,0 1146.5,0 1146.5,0 1152.5,0 1158.5,-6 1158.5,-12 1158.5,-12 1158.5,-24 1158.5,-24 1158.5,-30 1152.5,-36 1146.5,-36\"/>\n",
       "<text text-anchor=\"middle\" x=\"1131.5\" y=\"-14.3\" font-family=\"Helvetica,sans-Serif\" font-size=\"14.00\">(...)</text>\n",
       "</g>\n",
       "<!-- 4665&#45;&gt;4666 -->\n",
       "<g id=\"edge22\" class=\"edge\">\n",
       "<title>4665&#45;&gt;4666</title>\n",
       "<path fill=\"none\" stroke=\"black\" d=\"M1156.77,-72C1152.61,-63.28 1148.18,-53.98 1144.21,-45.65\"/>\n",
       "<polygon fill=\"black\" stroke=\"black\" points=\"1147.26,-43.92 1139.8,-36.4 1140.94,-46.94 1147.26,-43.92\"/>\n",
       "</g>\n",
       "<!-- 5267 -->\n",
       "<g id=\"node24\" class=\"node\">\n",
       "<title>5267</title>\n",
       "<path fill=\"#c0c0c0\" stroke=\"black\" d=\"M1218.5,-36C1218.5,-36 1188.5,-36 1188.5,-36 1182.5,-36 1176.5,-30 1176.5,-24 1176.5,-24 1176.5,-12 1176.5,-12 1176.5,-6 1182.5,0 1188.5,0 1188.5,0 1218.5,0 1218.5,0 1224.5,0 1230.5,-6 1230.5,-12 1230.5,-12 1230.5,-24 1230.5,-24 1230.5,-30 1224.5,-36 1218.5,-36\"/>\n",
       "<text text-anchor=\"middle\" x=\"1203.5\" y=\"-14.3\" font-family=\"Helvetica,sans-Serif\" font-size=\"14.00\">(...)</text>\n",
       "</g>\n",
       "<!-- 4665&#45;&gt;5267 -->\n",
       "<g id=\"edge23\" class=\"edge\">\n",
       "<title>4665&#45;&gt;5267</title>\n",
       "<path fill=\"none\" stroke=\"black\" d=\"M1184.4,-72C1187.5,-63.38 1190.82,-54.19 1193.8,-45.92\"/>\n",
       "<polygon fill=\"black\" stroke=\"black\" points=\"1197.13,-47 1197.23,-36.4 1190.54,-44.62 1197.13,-47\"/>\n",
       "</g>\n",
       "<!-- 5949 -->\n",
       "<g id=\"node26\" class=\"node\">\n",
       "<title>5949</title>\n",
       "<path fill=\"#fbe9dd\" stroke=\"black\" d=\"M1462.5,-140C1462.5,-140 1294.5,-140 1294.5,-140 1288.5,-140 1282.5,-134 1282.5,-128 1282.5,-128 1282.5,-84 1282.5,-84 1282.5,-78 1288.5,-72 1294.5,-72 1294.5,-72 1462.5,-72 1462.5,-72 1468.5,-72 1474.5,-78 1474.5,-84 1474.5,-84 1474.5,-128 1474.5,-128 1474.5,-134 1468.5,-140 1462.5,-140\"/>\n",
       "<text text-anchor=\"middle\" x=\"1378.5\" y=\"-124.8\" font-family=\"Helvetica,sans-Serif\" font-size=\"14.00\">CNT_PAYMENT &lt;= 12.5</text>\n",
       "<text text-anchor=\"middle\" x=\"1378.5\" y=\"-109.8\" font-family=\"Helvetica,sans-Serif\" font-size=\"14.00\">squared_error = 178.111</text>\n",
       "<text text-anchor=\"middle\" x=\"1378.5\" y=\"-94.8\" font-family=\"Helvetica,sans-Serif\" font-size=\"14.00\">samples = 81694</text>\n",
       "<text text-anchor=\"middle\" x=\"1378.5\" y=\"-79.8\" font-family=\"Helvetica,sans-Serif\" font-size=\"14.00\">value = 29.219</text>\n",
       "</g>\n",
       "<!-- 5948&#45;&gt;5949 -->\n",
       "<g id=\"edge25\" class=\"edge\">\n",
       "<title>5948&#45;&gt;5949</title>\n",
       "<path fill=\"none\" stroke=\"black\" d=\"M1378.5,-175.88C1378.5,-167.78 1378.5,-158.98 1378.5,-150.47\"/>\n",
       "<polygon fill=\"black\" stroke=\"black\" points=\"1382,-150.3 1378.5,-140.3 1375,-150.3 1382,-150.3\"/>\n",
       "</g>\n",
       "<!-- 7716 -->\n",
       "<g id=\"node29\" class=\"node\">\n",
       "<title>7716</title>\n",
       "<path fill=\"#f9e1d0\" stroke=\"black\" d=\"M1672.5,-140C1672.5,-140 1504.5,-140 1504.5,-140 1498.5,-140 1492.5,-134 1492.5,-128 1492.5,-128 1492.5,-84 1492.5,-84 1492.5,-78 1498.5,-72 1504.5,-72 1504.5,-72 1672.5,-72 1672.5,-72 1678.5,-72 1684.5,-78 1684.5,-84 1684.5,-84 1684.5,-128 1684.5,-128 1684.5,-134 1678.5,-140 1672.5,-140\"/>\n",
       "<text text-anchor=\"middle\" x=\"1588.5\" y=\"-124.8\" font-family=\"Helvetica,sans-Serif\" font-size=\"14.00\">CNT_PAYMENT &lt;= 15.5</text>\n",
       "<text text-anchor=\"middle\" x=\"1588.5\" y=\"-109.8\" font-family=\"Helvetica,sans-Serif\" font-size=\"14.00\">squared_error = 140.767</text>\n",
       "<text text-anchor=\"middle\" x=\"1588.5\" y=\"-94.8\" font-family=\"Helvetica,sans-Serif\" font-size=\"14.00\">samples = 50334</text>\n",
       "<text text-anchor=\"middle\" x=\"1588.5\" y=\"-79.8\" font-family=\"Helvetica,sans-Serif\" font-size=\"14.00\">value = 39.261</text>\n",
       "</g>\n",
       "<!-- 5948&#45;&gt;7716 -->\n",
       "<g id=\"edge28\" class=\"edge\">\n",
       "<title>5948&#45;&gt;7716</title>\n",
       "<path fill=\"none\" stroke=\"black\" d=\"M1446.68,-175.88C1467.23,-165.9 1489.94,-154.87 1511.05,-144.62\"/>\n",
       "<polygon fill=\"black\" stroke=\"black\" points=\"1512.84,-147.64 1520.3,-140.12 1509.78,-141.35 1512.84,-147.64\"/>\n",
       "</g>\n",
       "<!-- 5950 -->\n",
       "<g id=\"node27\" class=\"node\">\n",
       "<title>5950</title>\n",
       "<path fill=\"#c0c0c0\" stroke=\"black\" d=\"M1357.5,-36C1357.5,-36 1327.5,-36 1327.5,-36 1321.5,-36 1315.5,-30 1315.5,-24 1315.5,-24 1315.5,-12 1315.5,-12 1315.5,-6 1321.5,0 1327.5,0 1327.5,0 1357.5,0 1357.5,0 1363.5,0 1369.5,-6 1369.5,-12 1369.5,-12 1369.5,-24 1369.5,-24 1369.5,-30 1363.5,-36 1357.5,-36\"/>\n",
       "<text text-anchor=\"middle\" x=\"1342.5\" y=\"-14.3\" font-family=\"Helvetica,sans-Serif\" font-size=\"14.00\">(...)</text>\n",
       "</g>\n",
       "<!-- 5949&#45;&gt;5950 -->\n",
       "<g id=\"edge26\" class=\"edge\">\n",
       "<title>5949&#45;&gt;5950</title>\n",
       "<path fill=\"none\" stroke=\"black\" d=\"M1364.68,-72C1361.04,-63.28 1357.14,-53.98 1353.66,-45.65\"/>\n",
       "<polygon fill=\"black\" stroke=\"black\" points=\"1356.88,-44.28 1349.79,-36.4 1350.42,-46.98 1356.88,-44.28\"/>\n",
       "</g>\n",
       "<!-- 7063 -->\n",
       "<g id=\"node28\" class=\"node\">\n",
       "<title>7063</title>\n",
       "<path fill=\"#c0c0c0\" stroke=\"black\" d=\"M1429.5,-36C1429.5,-36 1399.5,-36 1399.5,-36 1393.5,-36 1387.5,-30 1387.5,-24 1387.5,-24 1387.5,-12 1387.5,-12 1387.5,-6 1393.5,0 1399.5,0 1399.5,0 1429.5,0 1429.5,0 1435.5,0 1441.5,-6 1441.5,-12 1441.5,-12 1441.5,-24 1441.5,-24 1441.5,-30 1435.5,-36 1429.5,-36\"/>\n",
       "<text text-anchor=\"middle\" x=\"1414.5\" y=\"-14.3\" font-family=\"Helvetica,sans-Serif\" font-size=\"14.00\">(...)</text>\n",
       "</g>\n",
       "<!-- 5949&#45;&gt;7063 -->\n",
       "<g id=\"edge27\" class=\"edge\">\n",
       "<title>5949&#45;&gt;7063</title>\n",
       "<path fill=\"none\" stroke=\"black\" d=\"M1392.32,-72C1395.96,-63.28 1399.86,-53.98 1403.34,-45.65\"/>\n",
       "<polygon fill=\"black\" stroke=\"black\" points=\"1406.58,-46.98 1407.21,-36.4 1400.12,-44.28 1406.58,-46.98\"/>\n",
       "</g>\n",
       "<!-- 7717 -->\n",
       "<g id=\"node30\" class=\"node\">\n",
       "<title>7717</title>\n",
       "<path fill=\"#c0c0c0\" stroke=\"black\" d=\"M1567.5,-36C1567.5,-36 1537.5,-36 1537.5,-36 1531.5,-36 1525.5,-30 1525.5,-24 1525.5,-24 1525.5,-12 1525.5,-12 1525.5,-6 1531.5,0 1537.5,0 1537.5,0 1567.5,0 1567.5,0 1573.5,0 1579.5,-6 1579.5,-12 1579.5,-12 1579.5,-24 1579.5,-24 1579.5,-30 1573.5,-36 1567.5,-36\"/>\n",
       "<text text-anchor=\"middle\" x=\"1552.5\" y=\"-14.3\" font-family=\"Helvetica,sans-Serif\" font-size=\"14.00\">(...)</text>\n",
       "</g>\n",
       "<!-- 7716&#45;&gt;7717 -->\n",
       "<g id=\"edge29\" class=\"edge\">\n",
       "<title>7716&#45;&gt;7717</title>\n",
       "<path fill=\"none\" stroke=\"black\" d=\"M1574.68,-72C1571.04,-63.28 1567.14,-53.98 1563.66,-45.65\"/>\n",
       "<polygon fill=\"black\" stroke=\"black\" points=\"1566.88,-44.28 1559.79,-36.4 1560.42,-46.98 1566.88,-44.28\"/>\n",
       "</g>\n",
       "<!-- 8382 -->\n",
       "<g id=\"node31\" class=\"node\">\n",
       "<title>8382</title>\n",
       "<path fill=\"#c0c0c0\" stroke=\"black\" d=\"M1639.5,-36C1639.5,-36 1609.5,-36 1609.5,-36 1603.5,-36 1597.5,-30 1597.5,-24 1597.5,-24 1597.5,-12 1597.5,-12 1597.5,-6 1603.5,0 1609.5,0 1609.5,0 1639.5,0 1639.5,0 1645.5,0 1651.5,-6 1651.5,-12 1651.5,-12 1651.5,-24 1651.5,-24 1651.5,-30 1645.5,-36 1639.5,-36\"/>\n",
       "<text text-anchor=\"middle\" x=\"1624.5\" y=\"-14.3\" font-family=\"Helvetica,sans-Serif\" font-size=\"14.00\">(...)</text>\n",
       "</g>\n",
       "<!-- 7716&#45;&gt;8382 -->\n",
       "<g id=\"edge30\" class=\"edge\">\n",
       "<title>7716&#45;&gt;8382</title>\n",
       "<path fill=\"none\" stroke=\"black\" d=\"M1602.32,-72C1605.96,-63.28 1609.86,-53.98 1613.34,-45.65\"/>\n",
       "<polygon fill=\"black\" stroke=\"black\" points=\"1616.58,-46.98 1617.21,-36.4 1610.12,-44.28 1616.58,-46.98\"/>\n",
       "</g>\n",
       "</g>\n",
       "</svg>\n"
      ],
      "text/plain": [
       "<graphviz.sources.Source at 0x7fb6d806fe20>"
      ]
     },
     "execution_count": 25,
     "metadata": {},
     "output_type": "execute_result"
    }
   ],
   "source": [
    "dot_data = export_graphviz(\n",
    "    best_pipeline[\"model\"],\n",
    "    feature_names=sample_data.columns,\n",
    "    max_depth=3,\n",
    "    rounded=True,\n",
    "    filled=True,\n",
    ")\n",
    "import graphviz\n",
    "\n",
    "graph = graphviz.Source(dot_data, format=\"png\")\n",
    "graph"
   ]
  },
  {
   "cell_type": "markdown",
   "metadata": {},
   "source": [
    "**Exporting the model:**"
   ]
  },
  {
   "cell_type": "code",
   "execution_count": 26,
   "metadata": {},
   "outputs": [
    {
     "data": {
      "text/plain": [
       "['deployment/app/model_files/fee_model-0.1.joblib']"
      ]
     },
     "execution_count": 26,
     "metadata": {},
     "output_type": "execute_result"
    }
   ],
   "source": [
    "best_pipeline.fit(X_train.vstack(X_test), pl.concat([y_train, y_test]))\n",
    "joblib.dump(best_pipeline, \"deployment/app/model_files/fee_model-0.1.joblib\")"
   ]
  },
  {
   "cell_type": "markdown",
   "metadata": {},
   "source": [
    "## Model Summary"
   ]
  },
  {
   "cell_type": "markdown",
   "metadata": {},
   "source": [
    "* The best-performing model was a decision tree.\n",
    "* The model demonstrated consistent performance across the entire target range.\n",
    "* Slight variations in performance were observed based on the size of the loan."
   ]
  }
 ],
 "metadata": {
  "kernelspec": {
   "display_name": "base",
   "language": "python",
   "name": "python3"
  },
  "language_info": {
   "codemirror_mode": {
    "name": "ipython",
    "version": 3
   },
   "file_extension": ".py",
   "mimetype": "text/x-python",
   "name": "python",
   "nbconvert_exporter": "python",
   "pygments_lexer": "ipython3",
   "version": "3.9.13"
  }
 },
 "nbformat": 4,
 "nbformat_minor": 2
}
