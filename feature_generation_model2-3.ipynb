{
 "cells": [
  {
   "cell_type": "markdown",
   "metadata": {},
   "source": [
    "# Feature Generation For Credit Card Over Balance and Consumer Loan Fee Models"
   ]
  },
  {
   "cell_type": "markdown",
   "metadata": {},
   "source": [
    "**Imports:**"
   ]
  },
  {
   "cell_type": "code",
   "execution_count": 1,
   "metadata": {},
   "outputs": [],
   "source": [
    "%reload_ext autoreload\n",
    "%autoreload 1\n",
    "import joblib\n",
    "import numpy as np\n",
    "import polars as pl\n",
    "import matplotlib.pyplot as plt\n",
    "import seaborn as sns\n",
    "from sklearn.metrics import classification_report\n",
    "import auxiliary.lists as aux_lists\n",
    "import auxiliary.transformers as tr\n",
    "import auxiliary.eda_functions as eda\n",
    "import auxiliary.statistics as st\n",
    "from sklearn.model_selection import train_test_split\n",
    "from sklearn.preprocessing import MinMaxScaler\n",
    "from IPython.display import Markdown,display\n",
    "import matplotlib.ticker as ticker\n",
    "from tabulate import tabulate\n",
    "%aimport auxiliary.lists\n",
    "%aimport auxiliary.transformers\n",
    "%aimport auxiliary.eda_functions\n",
    "%aimport auxiliary.statistics"
   ]
  },
  {
   "cell_type": "markdown",
   "metadata": {},
   "source": [
    "**Data imports:**"
   ]
  },
  {
   "cell_type": "code",
   "execution_count": 2,
   "metadata": {},
   "outputs": [],
   "source": [
    "application_train = pl.read_csv(\"data/application_train.csv\")\n",
    "applicattion_test = pl.read_csv(\"data/application_test.csv\")\n",
    "bureau_balance = pl.read_csv(\"data/bureau_balance.csv\")\n",
    "bureau = pl.read_csv(\"data/bureau.csv\")\n",
    "installments_payments = pl.read_csv(\"data/installments_payments.csv\")\n",
    "previous_application = pl.read_csv(\"data/previous_application.csv\")\n",
    "credit_card_balance = pl.read_csv(\"data/credit_card_balance.csv\")"
   ]
  },
  {
   "cell_type": "markdown",
   "metadata": {},
   "source": [
    "**Joining the current application tables:**"
   ]
  },
  {
   "cell_type": "code",
   "execution_count": 3,
   "metadata": {},
   "outputs": [],
   "source": [
    "applicattion_test = applicattion_test.with_columns(\n",
    "    pl.lit(None).cast(pl.Int64).alias(\"TARGET\")\n",
    ")\n",
    "applicattion_test = applicattion_test[\n",
    "    [applicattion_test.columns[0]]\n",
    "    + [applicattion_test.columns[-1]]\n",
    "    + applicattion_test.columns[1:-1]\n",
    "]\n",
    "application_full = pl.concat([application_train, applicattion_test])"
   ]
  },
  {
   "cell_type": "markdown",
   "metadata": {},
   "source": [
    "## Model 2: Credit Card Over Limit Model"
   ]
  },
  {
   "cell_type": "markdown",
   "metadata": {},
   "source": [
    "**Filtering the credit cards for only active credits for the current month:**"
   ]
  },
  {
   "cell_type": "code",
   "execution_count": 4,
   "metadata": {},
   "outputs": [],
   "source": [
    "active_credit_cards = credit_card_balance.filter(\n",
    "    (pl.col(\"MONTHS_BALANCE\") == -1) & (pl.col(\"NAME_CONTRACT_STATUS\") == \"Active\")\n",
    ")\n",
    "\n",
    "active_credit_cards = active_credit_cards.with_columns(\n",
    "    pl.when((pl.col(\"AMT_CREDIT_LIMIT_ACTUAL\") - pl.col(\"AMT_BALANCE\")) < 0)\n",
    "    .then(pl.lit(1, pl.Int16))\n",
    "    .otherwise(pl.lit(0, pl.Int16))\n",
    "    .alias(\"IS_OVER_LIMIT\")\n",
    ")\n",
    "\n",
    "active_credit_cards = active_credit_cards.drop(\n",
    "    columns=[\"AMT_BALANCE\", \"MONTHS_BALANCE\", \"NAME_CONTRACT_STATUS\"]\n",
    ")"
   ]
  },
  {
   "cell_type": "markdown",
   "metadata": {},
   "source": [
    "**Removing features that are not known before the month:**"
   ]
  },
  {
   "cell_type": "code",
   "execution_count": 5,
   "metadata": {},
   "outputs": [],
   "source": [
    "current_features = [\n",
    "    feature for feature in active_credit_cards.columns if \"CURRENT\" in feature\n",
    "]\n",
    "receivable = [\n",
    "    feature for feature in active_credit_cards.columns if \"RECEIVABLE\" in feature\n",
    "]\n",
    "active_credit_cards = active_credit_cards.drop(current_features)\n",
    "active_credit_cards = active_credit_cards.drop(receivable)\n",
    "active_credit_cards = active_credit_cards.drop(\"AMT_RECIVABLE\")"
   ]
  },
  {
   "cell_type": "markdown",
   "metadata": {},
   "source": [
    "### Historic Behavior"
   ]
  },
  {
   "cell_type": "code",
   "execution_count": 6,
   "metadata": {},
   "outputs": [],
   "source": [
    "historical_credit_card = credit_card_balance.filter(pl.col(\"MONTHS_BALANCE\") != -1)\n",
    "historical_credit_card = historical_credit_card.with_columns(\n",
    "    pl.when((pl.col(\"AMT_CREDIT_LIMIT_ACTUAL\") - pl.col(\"AMT_BALANCE\")) < 0)\n",
    "    .then(pl.lit(1, pl.Int16))\n",
    "    .otherwise(pl.lit(0, pl.Int16))\n",
    "    .alias(\"IS_OVER_LIMIT\")\n",
    ")\n",
    "\n",
    "historical_credit_card = historical_credit_card.with_columns(\n",
    "    (pl.col(\"AMT_BALANCE\") - pl.col(\"AMT_CREDIT_LIMIT_ACTUAL\")).alias(\"OVER_LIMIT\")\n",
    ")\n",
    "historical_credit_card = historical_credit_card.with_columns(\n",
    "    pl.when(pl.col(\"OVER_LIMIT\") > 0)\n",
    "    .then(pl.col(\"OVER_LIMIT\"))\n",
    "    .otherwise(pl.lit(0))\n",
    "    .alias(\"OVER_LIMIT\")\n",
    ")\n",
    "\n",
    "historical_credit_card_agg = pl.DataFrame(active_credit_cards[\"SK_ID_PREV\"])"
   ]
  },
  {
   "cell_type": "markdown",
   "metadata": {},
   "source": [
    "**Adding the length of the credit card history as a feature:**"
   ]
  },
  {
   "cell_type": "code",
   "execution_count": 7,
   "metadata": {},
   "outputs": [],
   "source": [
    "historical_credit_card_agg = historical_credit_card_agg.join(\n",
    "    historical_credit_card.group_by(\"SK_ID_PREV\").agg(pl.count().alias(\"NUM_ENTRIES\")),\n",
    "    on=\"SK_ID_PREV\",\n",
    ")"
   ]
  },
  {
   "cell_type": "markdown",
   "metadata": {},
   "source": [
    "**Adding different aggregations of the boolean is the credit card over limit:**"
   ]
  },
  {
   "cell_type": "code",
   "execution_count": 8,
   "metadata": {},
   "outputs": [],
   "source": [
    "historical_credit_card_agg = eda.make_aggregations(\n",
    "    historical_credit_card_agg,\n",
    "    historical_credit_card,\n",
    "    [\"IS_OVER_LIMIT\", \"OVER_LIMIT\"],\n",
    "    \"SK_ID_PREV\",\n",
    ")\n",
    "historical_credit_card_agg = historical_credit_card_agg.drop(\n",
    "    columns=[\"IS_OVER_LIMIT_min\", \"IS_OVER_LIMIT_max\"]\n",
    ")"
   ]
  },
  {
   "cell_type": "code",
   "execution_count": 9,
   "metadata": {},
   "outputs": [],
   "source": [
    "active_credit_cards = active_credit_cards.join(\n",
    "    historical_credit_card_agg.select(\n",
    "        [pl.col(\"SK_ID_PREV\"), pl.all().exclude(\"SK_ID_PREV\").prefix(\"HISTORIC_\")]\n",
    "    ),\n",
    "    on=\"SK_ID_PREV\",\n",
    "    how=\"left\",\n",
    ")"
   ]
  },
  {
   "cell_type": "markdown",
   "metadata": {},
   "source": [
    "### Application Attributes"
   ]
  },
  {
   "cell_type": "code",
   "execution_count": 10,
   "metadata": {},
   "outputs": [],
   "source": [
    "credit_card_applications = previous_application.filter(\n",
    "    pl.col(\"SK_ID_PREV\").is_in(active_credit_cards[\"SK_ID_PREV\"])\n",
    ")"
   ]
  },
  {
   "cell_type": "markdown",
   "metadata": {},
   "source": [
    "**Dropping features irrelevant to credit cards:**"
   ]
  },
  {
   "cell_type": "code",
   "execution_count": 11,
   "metadata": {},
   "outputs": [],
   "source": [
    "cols_to_drop = [\n",
    "    \"SK_ID_CURR\",\n",
    "    \"NAME_CONTRACT_TYPE\",\n",
    "    \"AMT_DOWN_PAYMENT\",\n",
    "    \"AMT_GOODS_PRICE\",\n",
    "    \"RATE_DOWN_PAYMENT\",\n",
    "    \"RATE_DOWN_PAYMENT\",\n",
    "    \"RATE_INTEREST_PRIMARY\",\n",
    "    \"RATE_INTEREST_PRIVILEGED\",\n",
    "    \"NAME_CASH_LOAN_PURPOSE\",\n",
    "    \"NAME_CONTRACT_STATUS\",\n",
    "    \"DAYS_DECISION\",\n",
    "    \"NAME_PAYMENT_TYPE\",\n",
    "    \"FLAG_LAST_APPL_PER_CONTRACT\",\n",
    "    \"CODE_REJECT_REASON\",\n",
    "    \"NAME_GOODS_CATEGORY\",\n",
    "    \"NAME_PORTFOLIO\",\n",
    "    \"CNT_PAYMENT\",\n",
    "    \"NAME_YIELD_GROUP\",\n",
    "    \"DAYS_FIRST_DRAWING\",\n",
    "    \"DAYS_FIRST_DUE\",\n",
    "    \"DAYS_LAST_DUE_1ST_VERSION\",\n",
    "    \"DAYS_LAST_DUE\",\n",
    "    \"DAYS_TERMINATION\",\n",
    "]\n",
    "credit_card_applications = credit_card_applications.drop(columns=cols_to_drop)"
   ]
  },
  {
   "cell_type": "markdown",
   "metadata": {},
   "source": [
    "**Merging the data with the credit card table:**"
   ]
  },
  {
   "cell_type": "code",
   "execution_count": 12,
   "metadata": {},
   "outputs": [],
   "source": [
    "active_credit_cards = active_credit_cards.join(\n",
    "    credit_card_applications.select(\n",
    "        [pl.col(\"SK_ID_PREV\"), pl.all().exclude(\"SK_ID_PREV\").prefix(\"APPLICATION_\")]\n",
    "    ),\n",
    "    on=\"SK_ID_PREV\",\n",
    "    how=\"left\",\n",
    ")"
   ]
  },
  {
   "cell_type": "markdown",
   "metadata": {},
   "source": [
    "### Payment Behavioral Data"
   ]
  },
  {
   "cell_type": "markdown",
   "metadata": {},
   "source": [
    "**Filtering out irrelevant installment data:**"
   ]
  },
  {
   "cell_type": "code",
   "execution_count": 13,
   "metadata": {},
   "outputs": [],
   "source": [
    "credit_card_installments = installments_payments.filter(\n",
    "    pl.col(\"SK_ID_PREV\").is_in(active_credit_cards[\"SK_ID_PREV\"])\n",
    ")\n",
    "# Filtering out new data to avoid leakage\n",
    "credit_card_installments = credit_card_installments.filter(\n",
    "    (pl.col(\"DAYS_INSTALMENT\") < -31) & (pl.col(\"DAYS_ENTRY_PAYMENT\") < -31)\n",
    ")\n",
    "installments_agg = pl.DataFrame(active_credit_cards[\"SK_ID_PREV\"])"
   ]
  },
  {
   "cell_type": "markdown",
   "metadata": {},
   "source": [
    "**Calculating days late and amount underpaid for each installment:**"
   ]
  },
  {
   "cell_type": "code",
   "execution_count": 14,
   "metadata": {},
   "outputs": [],
   "source": [
    "credit_card_installments = credit_card_installments.with_columns(\n",
    "    (pl.col(\"DAYS_INSTALMENT\") - pl.col(\"DAYS_ENTRY_PAYMENT\")).alias(\"DAYS_LATE\")\n",
    ")\n",
    "\n",
    "credit_card_installments = credit_card_installments.with_columns(\n",
    "    pl.when(pl.col(\"DAYS_LATE\") < 0)\n",
    "    .then(pl.lit(0))\n",
    "    .otherwise(pl.col(\"DAYS_LATE\"))\n",
    "    .alias(\"DAYS_LATE\")\n",
    ")\n",
    "\n",
    "\n",
    "credit_card_installments = credit_card_installments.with_columns(\n",
    "    (pl.col(\"AMT_INSTALMENT\") - pl.col(\"AMT_PAYMENT\")).alias(\"AMT_UNDERPAID\")\n",
    ")\n",
    "credit_card_installments = credit_card_installments.with_columns(\n",
    "    pl.when(pl.col(\"AMT_UNDERPAID\") < 0)\n",
    "    .then(pl.lit(0))\n",
    "    .otherwise(pl.col(\"AMT_UNDERPAID\"))\n",
    "    .alias(\"AMT_UNDERPAID\")\n",
    ")"
   ]
  },
  {
   "cell_type": "markdown",
   "metadata": {},
   "source": [
    "**Making aggregations of installment data by for each credit card:**"
   ]
  },
  {
   "cell_type": "code",
   "execution_count": 15,
   "metadata": {},
   "outputs": [],
   "source": [
    "installments_agg = eda.make_aggregations(\n",
    "    installments_agg,\n",
    "    credit_card_installments,\n",
    "    [\"DAYS_LATE\"],\n",
    "    id=\"SK_ID_PREV\",\n",
    "    aggregations=[\"mean\", \"sum\", \"max\"],\n",
    "    join_suffix=\"inst\",\n",
    ")\n",
    "\n",
    "installments_agg = eda.make_aggregations(\n",
    "    installments_agg,\n",
    "    credit_card_installments,\n",
    "    [\"AMT_UNDERPAID\"],\n",
    "    id=\"SK_ID_PREV\",\n",
    "    aggregations=[\"mean\", \"sum\", \"max\"],\n",
    "    join_suffix=\"inst\",\n",
    ")"
   ]
  },
  {
   "cell_type": "markdown",
   "metadata": {},
   "source": [
    "**Joining the installment data to the credit card information:**"
   ]
  },
  {
   "cell_type": "code",
   "execution_count": 16,
   "metadata": {},
   "outputs": [],
   "source": [
    "active_credit_cards = active_credit_cards.join(\n",
    "    installments_agg.select(\n",
    "        [pl.col(\"SK_ID_PREV\"), pl.all().exclude(\"SK_ID_PREV\").prefix(\"instalment_\")]\n",
    "    ),\n",
    "    on=\"SK_ID_PREV\",\n",
    "    how=\"left\",\n",
    ")"
   ]
  },
  {
   "cell_type": "markdown",
   "metadata": {},
   "source": [
    "### Current status"
   ]
  },
  {
   "cell_type": "markdown",
   "metadata": {},
   "source": [
    "**Adding relevant features from the current application table:**"
   ]
  },
  {
   "cell_type": "code",
   "execution_count": 17,
   "metadata": {},
   "outputs": [],
   "source": [
    "application_cols_to_merge = [\n",
    "    \"SK_ID_CURR\",\n",
    "    \"CODE_GENDER\",\n",
    "    \"FLAG_OWN_REALTY\",\n",
    "    \"CNT_CHILDREN\",\n",
    "    \"AMT_INCOME_TOTAL\",\n",
    "    \"NAME_TYPE_SUITE\",\n",
    "    \"NAME_INCOME_TYPE\",\n",
    "    \"NAME_EDUCATION_TYPE\",\n",
    "    \"NAME_FAMILY_STATUS\",\n",
    "    \"NAME_HOUSING_TYPE\",\n",
    "    \"REGION_POPULATION_RELATIVE\",\n",
    "    \"DAYS_BIRTH\",\n",
    "    \"DAYS_EMPLOYED\",\n",
    "    \"OWN_CAR_AGE\",\n",
    "    \"OCCUPATION_TYPE\",\n",
    "    \"CNT_FAM_MEMBERS\",\n",
    "    \"REGION_RATING_CLIENT\",\n",
    "    \"REGION_RATING_CLIENT_W_CITY\",\n",
    "    \"REG_REGION_NOT_LIVE_REGION\",\n",
    "    \"REG_REGION_NOT_WORK_REGION\",\n",
    "    \"LIVE_REGION_NOT_WORK_REGION\",\n",
    "    \"REG_CITY_NOT_LIVE_CITY\",\n",
    "    \"REG_CITY_NOT_WORK_CITY\",\n",
    "    \"LIVE_CITY_NOT_WORK_CITY\",\n",
    "    \"ORGANIZATION_TYPE\",\n",
    "]\n",
    "active_credit_cards = active_credit_cards.join(\n",
    "    application_full[application_cols_to_merge], on=\"SK_ID_CURR\", how=\"left\"\n",
    ")"
   ]
  },
  {
   "cell_type": "code",
   "execution_count": 18,
   "metadata": {},
   "outputs": [],
   "source": [
    "active_credit_cards = active_credit_cards.drop(\"SK_ID_PREV\", \"SK_ID_CURR\")"
   ]
  },
  {
   "cell_type": "markdown",
   "metadata": {},
   "source": [
    "## Feature Selection"
   ]
  },
  {
   "cell_type": "markdown",
   "metadata": {},
   "source": [
    "### Variance"
   ]
  },
  {
   "cell_type": "code",
   "execution_count": 19,
   "metadata": {},
   "outputs": [],
   "source": [
    "str_cols = active_credit_cards.select(pl.col(pl.Utf8)).columns"
   ]
  },
  {
   "cell_type": "markdown",
   "metadata": {},
   "source": [
    "**Preparing the data set for variance calculation:**"
   ]
  },
  {
   "cell_type": "code",
   "execution_count": 20,
   "metadata": {},
   "outputs": [],
   "source": [
    "home_target_encoders = {}\n",
    "active_credit_cards_encoded = active_credit_cards.clone()\n",
    "for col in str_cols:\n",
    "    home_target_encoders[col] = tr.TargetMeanOrderedLabeler(how=\"label\")\n",
    "    active_credit_cards_encoded = active_credit_cards_encoded.with_columns(\n",
    "        home_target_encoders[col]\n",
    "        .fit_transform(\n",
    "            active_credit_cards_encoded[col],\n",
    "            active_credit_cards_encoded[\"IS_OVER_LIMIT\"],\n",
    "        )\n",
    "        .alias(col)\n",
    "    )\n",
    "active_credit_cards_encoded_scaled = pl.DataFrame(\n",
    "    MinMaxScaler().fit_transform(active_credit_cards_encoded),\n",
    "    schema=active_credit_cards_encoded.columns,\n",
    ")"
   ]
  },
  {
   "cell_type": "markdown",
   "metadata": {},
   "source": [
    "**Calculating the variance of each feature:**"
   ]
  },
  {
   "cell_type": "code",
   "execution_count": 21,
   "metadata": {},
   "outputs": [],
   "source": [
    "feature_variance = pl.DataFrame(\n",
    "    {\n",
    "        \"feature\": active_credit_cards_encoded_scaled.columns,\n",
    "        \"variance\": np.var(active_credit_cards_encoded_scaled.to_numpy(), axis=0),\n",
    "    }\n",
    ")"
   ]
  },
  {
   "cell_type": "markdown",
   "metadata": {},
   "source": [
    "**Removing low variance features:**"
   ]
  },
  {
   "cell_type": "code",
   "execution_count": 22,
   "metadata": {},
   "outputs": [],
   "source": [
    "low_var_fatures = []\n",
    "for feature in feature_variance.filter(pl.col(\"variance\") < 0.001)[\"feature\"]:\n",
    "    if active_credit_cards_encoded_scaled[feature].n_unique() < 10:\n",
    "        low_var_fatures.append(feature)\n",
    "        minority_count = (\n",
    "            active_credit_cards_encoded_scaled[feature]\n",
    "            .value_counts()\n",
    "            .sort(\"counts\")[\"counts\"][0]\n",
    "        )\n",
    "        print(\n",
    "            f\"{feature}: minority class count = {minority_count} feature will be removed\"\n",
    "        )"
   ]
  },
  {
   "cell_type": "markdown",
   "metadata": {},
   "source": [
    "### Highly Correlated"
   ]
  },
  {
   "cell_type": "markdown",
   "metadata": {},
   "source": [
    "**Fetching features with extremely high correlation:**"
   ]
  },
  {
   "cell_type": "code",
   "execution_count": 23,
   "metadata": {},
   "outputs": [
    {
     "name": "stdout",
     "output_type": "stream",
     "text": [
      "\n"
     ]
    }
   ],
   "source": [
    "feature_correlation_test = st.get_correlation_pairs(\n",
    "    active_credit_cards_encoded.drop(columns=\"IS_OVER_LIMIT\"),\n",
    "    max_threshold=0.999,\n",
    "    min_threshold=-0.999,\n",
    ")\n",
    "print(tabulate(feature_correlation_test[\"clusters\"]))"
   ]
  },
  {
   "cell_type": "markdown",
   "metadata": {},
   "source": [
    "**Removing one of the highly correlated features:**"
   ]
  },
  {
   "cell_type": "code",
   "execution_count": 24,
   "metadata": {},
   "outputs": [],
   "source": [
    "active_credit_cards = active_credit_cards.drop(columns=\"AMT_TOTAL_RECEIVABLE\")"
   ]
  },
  {
   "cell_type": "markdown",
   "metadata": {},
   "source": [
    "**Encoding week day as it's sin and cos:**"
   ]
  },
  {
   "cell_type": "code",
   "execution_count": 25,
   "metadata": {},
   "outputs": [],
   "source": [
    "active_credit_cards = eda.weekday_cyclic_features(\n",
    "    active_credit_cards, \"APPLICATION_WEEKDAY_APPR_PROCESS_START\"\n",
    ")"
   ]
  },
  {
   "cell_type": "markdown",
   "metadata": {},
   "source": [
    "**Saving the data for modeling:**"
   ]
  },
  {
   "cell_type": "code",
   "execution_count": 26,
   "metadata": {},
   "outputs": [],
   "source": [
    "active_credit_cards.write_parquet(\"temp/active_credit_cards.parquet\")"
   ]
  },
  {
   "cell_type": "markdown",
   "metadata": {},
   "source": [
    "## Model 3"
   ]
  },
  {
   "cell_type": "markdown",
   "metadata": {},
   "source": [
    "**Preparing the consumer loans table:**"
   ]
  },
  {
   "cell_type": "code",
   "execution_count": 27,
   "metadata": {},
   "outputs": [],
   "source": [
    "consumer_loans = previous_application.filter(\n",
    "    (pl.col(\"NAME_CONTRACT_TYPE\") == \"Consumer loans\")\n",
    "    & (pl.col(\"NAME_CONTRACT_STATUS\") == \"Approved\")\n",
    ")\n",
    "\n",
    "# Irrelevant cols\n",
    "consumer_loans = consumer_loans.drop(\n",
    "    columns=[\n",
    "        \"NAME_YIELD_GROUP\",\n",
    "        \"NAME_CONTRACT_STATUS\",\n",
    "        \"NAME_CONTRACT_TYPE\",\n",
    "        \"NAME_CASH_LOAN_PURPOSE\",\n",
    "        \"NAME_CASH_LOAN_PURPOSE\",\n",
    "        \"NAME_PRODUCT_TYPE\",\n",
    "        \"DAYS_FIRST_DRAWING\",\n",
    "        \"DAYS_FIRST_DRAWING\",\n",
    "        \"DAYS_FIRST_DUE\",\n",
    "        \"DAYS_LAST_DUE_1ST_VERSION\",\n",
    "        \"DAYS_LAST_DUE\",\n",
    "        \"DAYS_TERMINATION\",\n",
    "        \"SK_ID_PREV\",\n",
    "        \"SK_ID_CURR\",\n",
    "        \"RATE_INTEREST_PRIMARY\",\n",
    "        \"RATE_INTEREST_PRIVILEGED\",\n",
    "        \"DAYS_DECISION\",\n",
    "    ]\n",
    ")\n",
    "\n",
    "consumer_loans = consumer_loans.with_columns(\n",
    "    (\n",
    "        (pl.col(\"AMT_ANNUITY\") * pl.col(\"CNT_PAYMENT\") - pl.col(\"AMT_CREDIT\"))\n",
    "        / pl.col(\"AMT_CREDIT\")\n",
    "        * 100\n",
    "    ).alias(\"FEES_PERCENT\")\n",
    ")\n",
    "consumer_loans = consumer_loans.drop_nulls(\"FEES_PERCENT\")"
   ]
  },
  {
   "cell_type": "markdown",
   "metadata": {},
   "source": [
    "### Filtering for Low Variance"
   ]
  },
  {
   "cell_type": "code",
   "execution_count": 28,
   "metadata": {},
   "outputs": [],
   "source": [
    "str_cols_consumer = consumer_loans.select(pl.col(pl.Utf8)).columns"
   ]
  },
  {
   "cell_type": "markdown",
   "metadata": {},
   "source": [
    "**Preparing the data for variance calculation:**"
   ]
  },
  {
   "cell_type": "code",
   "execution_count": 29,
   "metadata": {},
   "outputs": [],
   "source": [
    "consumer_encoders = {}\n",
    "consumer_loans_encoded = consumer_loans.clone()\n",
    "for col in str_cols_consumer:\n",
    "    consumer_encoders[col] = tr.TargetMeanOrderedLabeler(how=\"label\")\n",
    "    consumer_loans_encoded = consumer_loans_encoded.with_columns(\n",
    "        consumer_encoders[col]\n",
    "        .fit_transform(\n",
    "            consumer_loans_encoded[col], consumer_loans_encoded[\"FEES_PERCENT\"]\n",
    "        )\n",
    "        .alias(col)\n",
    "    )\n",
    "consumer_loans_encoded_scaled = pl.DataFrame(\n",
    "    MinMaxScaler().fit_transform(consumer_loans_encoded),\n",
    "    schema=consumer_loans_encoded.columns,\n",
    ")"
   ]
  },
  {
   "cell_type": "markdown",
   "metadata": {},
   "source": [
    "**Feature below variance threshold:**"
   ]
  },
  {
   "cell_type": "code",
   "execution_count": 30,
   "metadata": {},
   "outputs": [],
   "source": [
    "feature_variance_consumer = pl.DataFrame(\n",
    "    {\n",
    "        \"feature\": consumer_loans_encoded_scaled.columns,\n",
    "        \"variance\": np.var(consumer_loans_encoded_scaled.to_numpy(), axis=0),\n",
    "    }\n",
    ")"
   ]
  },
  {
   "cell_type": "markdown",
   "metadata": {},
   "source": [
    "**Features to be removed:**"
   ]
  },
  {
   "cell_type": "code",
   "execution_count": 31,
   "metadata": {},
   "outputs": [
    {
     "name": "stdout",
     "output_type": "stream",
     "text": [
      "FLAG_LAST_APPL_PER_CONTRACT: minority class count = 626466 feature will be removed\n",
      "NFLAG_LAST_APPL_IN_DAY: minority class count = 263 feature will be removed\n",
      "CODE_REJECT_REASON: minority class count = 8 feature will be removed\n",
      "NAME_PORTFOLIO: minority class count = 263 feature will be removed\n"
     ]
    }
   ],
   "source": [
    "low_var_fatures_consumer = []\n",
    "for feature in feature_variance_consumer.filter(pl.col(\"variance\") < 0.001)[\"feature\"]:\n",
    "    if consumer_loans_encoded_scaled[feature].n_unique() < 10:\n",
    "        low_var_fatures_consumer.append(feature)\n",
    "        minority_count = (\n",
    "            consumer_loans_encoded_scaled[feature]\n",
    "            .value_counts()\n",
    "            .sort(\"counts\")[\"counts\"][0]\n",
    "        )\n",
    "        print(\n",
    "            f\"{feature}: minority class count = {minority_count} feature will be removed\"\n",
    "        )"
   ]
  },
  {
   "cell_type": "markdown",
   "metadata": {},
   "source": [
    "**Removing the features with low variance:**"
   ]
  },
  {
   "cell_type": "code",
   "execution_count": 32,
   "metadata": {},
   "outputs": [],
   "source": [
    "consumer_loans = consumer_loans.drop(columns=low_var_fatures_consumer)\n",
    "\n",
    "consumer_loans_encoded = consumer_loans_encoded.drop(columns=low_var_fatures_consumer)"
   ]
  },
  {
   "cell_type": "markdown",
   "metadata": {},
   "source": [
    "### Highly Correlated Features"
   ]
  },
  {
   "cell_type": "markdown",
   "metadata": {},
   "source": [
    "**Checking for features with high correlation:**"
   ]
  },
  {
   "cell_type": "code",
   "execution_count": 33,
   "metadata": {},
   "outputs": [
    {
     "name": "stdout",
     "output_type": "stream",
     "text": [
      "---------------  ---------------  ----------\n",
      "AMT_APPLICATION  AMT_GOODS_PRICE  AMT_CREDIT\n",
      "---------------  ---------------  ----------\n"
     ]
    }
   ],
   "source": [
    "feature_correlation_test_consumer = st.get_correlation_pairs(\n",
    "    consumer_loans_encoded.drop(columns=\"FEES_PERCENT\"),\n",
    "    max_threshold=0.9,\n",
    "    min_threshold=-0.9,\n",
    ")\n",
    "print(tabulate(feature_correlation_test_consumer[\"clusters\"]))"
   ]
  },
  {
   "cell_type": "markdown",
   "metadata": {},
   "source": [
    "**Removing two of the highly correlated features, encoding cyclic time features and saving the data:**"
   ]
  },
  {
   "cell_type": "code",
   "execution_count": 34,
   "metadata": {},
   "outputs": [],
   "source": [
    "consumer_loans = consumer_loans.drop(columns=[\"AMT_GOODS_PRICE\", \"AMT_CREDIT\"])\n",
    "consumer_loans = eda.weekday_cyclic_features(\n",
    "    consumer_loans, \"WEEKDAY_APPR_PROCESS_START\"\n",
    ")\n",
    "consumer_loans = eda.hour_cyclic_features(consumer_loans, \"HOUR_APPR_PROCESS_START\")\n",
    "consumer_loans.write_parquet(\"temp/consumer_loans.parquet\")"
   ]
  }
 ],
 "metadata": {
  "kernelspec": {
   "display_name": "base",
   "language": "python",
   "name": "python3"
  },
  "language_info": {
   "codemirror_mode": {
    "name": "ipython",
    "version": 3
   },
   "file_extension": ".py",
   "mimetype": "text/x-python",
   "name": "python",
   "nbconvert_exporter": "python",
   "pygments_lexer": "ipython3",
   "version": "3.9.13"
  }
 },
 "nbformat": 4,
 "nbformat_minor": 2
}
