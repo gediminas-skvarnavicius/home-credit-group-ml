{
 "cells": [
  {
   "cell_type": "code",
   "execution_count": 1,
   "metadata": {},
   "outputs": [],
   "source": [
    "%reload_ext autoreload\n",
    "%autoreload 1\n",
    "import joblib\n",
    "import numpy as np\n",
    "import polars as pl\n",
    "import matplotlib.pyplot as plt\n",
    "import seaborn as sns\n",
    "from sklearn.metrics import classification_report\n",
    "import auxiliary.lists as aux_lists\n",
    "import auxiliary.transformers as tr\n",
    "import auxiliary.eda_functions as eda\n",
    "import auxiliary.statistics as st\n",
    "from sklearn.model_selection import train_test_split\n",
    "from sklearn.preprocessing import MinMaxScaler\n",
    "from IPython.display import Markdown,display\n",
    "import matplotlib.ticker as ticker\n",
    "from tabulate import tabulate\n",
    "%aimport auxiliary.lists\n",
    "%aimport auxiliary.transformers\n",
    "%aimport auxiliary.eda_functions\n",
    "%aimport auxiliary.statistics"
   ]
  },
  {
   "cell_type": "code",
   "execution_count": 2,
   "metadata": {},
   "outputs": [],
   "source": [
    "application_train = pl.read_csv(\"data/application_train.csv\")\n",
    "applicattion_test = pl.read_csv(\"data/application_test.csv\")\n",
    "bureau_balance = pl.read_csv(\"data/bureau_balance.csv\")\n",
    "bureau = pl.read_csv(\"data/bureau.csv\")\n",
    "installments_payments = pl.read_csv(\"data/installments_payments.csv\")\n",
    "previous_application = pl.read_csv(\"data/previous_application.csv\")\n",
    "credit_card_balance = pl.read_csv(\"data/credit_card_balance.csv\")"
   ]
  },
  {
   "cell_type": "code",
   "execution_count": 3,
   "metadata": {},
   "outputs": [],
   "source": [
    "applicattion_test = applicattion_test.with_columns(\n",
    "    pl.lit(None).cast(pl.Int64).alias(\"TARGET\")\n",
    ")\n",
    "applicattion_test = applicattion_test[\n",
    "    [applicattion_test.columns[0]]\n",
    "    + [applicattion_test.columns[-1]]\n",
    "    + applicattion_test.columns[1:-1]\n",
    "]\n",
    "application_full = pl.concat([application_train, applicattion_test])"
   ]
  },
  {
   "cell_type": "code",
   "execution_count": 4,
   "metadata": {},
   "outputs": [],
   "source": [
    "active_credit_cards = credit_card_balance.filter(\n",
    "    (pl.col(\"MONTHS_BALANCE\") == -1) & (pl.col(\"NAME_CONTRACT_STATUS\") == \"Active\")\n",
    ")\n",
    "\n",
    "active_credit_cards = active_credit_cards.with_columns(\n",
    "    pl.when((pl.col(\"AMT_CREDIT_LIMIT_ACTUAL\") - pl.col(\"AMT_BALANCE\")) < 0)\n",
    "    .then(pl.lit(1, pl.Int16))\n",
    "    .otherwise(pl.lit(0, pl.Int16))\n",
    "    .alias(\"IS_OVER_LIMIT\")\n",
    ")\n",
    "\n",
    "active_credit_cards = active_credit_cards.drop(\n",
    "    columns=[\"MONTHS_BALANCE\", \"NAME_CONTRACT_STATUS\"]\n",
    ")"
   ]
  },
  {
   "cell_type": "markdown",
   "metadata": {},
   "source": [
    "### Historic Behavior"
   ]
  },
  {
   "cell_type": "code",
   "execution_count": 5,
   "metadata": {},
   "outputs": [],
   "source": [
    "historical_credit_card = credit_card_balance.filter(pl.col(\"MONTHS_BALANCE\") != -1)\n",
    "historical_credit_card = historical_credit_card.with_columns(\n",
    "    pl.when((pl.col(\"AMT_CREDIT_LIMIT_ACTUAL\") - pl.col(\"AMT_BALANCE\")) < 0)\n",
    "    .then(pl.lit(1, pl.Int16))\n",
    "    .otherwise(pl.lit(0, pl.Int16))\n",
    "    .alias(\"IS_OVER_LIMIT\")\n",
    ")\n",
    "\n",
    "historical_credit_card = historical_credit_card.with_columns(\n",
    "    (pl.col(\"AMT_BALANCE\") - pl.col(\"AMT_CREDIT_LIMIT_ACTUAL\")).alias(\"OVER_LIMIT\")\n",
    ")\n",
    "historical_credit_card = historical_credit_card.with_columns(\n",
    "    pl.when(pl.col(\"OVER_LIMIT\") > 0)\n",
    "    .then(pl.col(\"OVER_LIMIT\"))\n",
    "    .otherwise(pl.lit(0))\n",
    "    .alias(\"OVER_LIMIT\")\n",
    ")\n",
    "\n",
    "historical_credit_card_agg = pl.DataFrame(active_credit_cards[\"SK_ID_PREV\"])"
   ]
  },
  {
   "cell_type": "markdown",
   "metadata": {},
   "source": [
    "History length:"
   ]
  },
  {
   "cell_type": "code",
   "execution_count": 6,
   "metadata": {},
   "outputs": [],
   "source": [
    "historical_credit_card_agg = historical_credit_card_agg.join(\n",
    "    historical_credit_card.group_by(\"SK_ID_PREV\").agg(pl.count().alias(\"NUM_ENTRIES\")),\n",
    "    on=\"SK_ID_PREV\",\n",
    ")"
   ]
  },
  {
   "cell_type": "markdown",
   "metadata": {},
   "source": [
    "over-limit aggs:"
   ]
  },
  {
   "cell_type": "code",
   "execution_count": 7,
   "metadata": {},
   "outputs": [],
   "source": [
    "historical_credit_card_agg = eda.make_aggregations(\n",
    "    historical_credit_card_agg,\n",
    "    historical_credit_card,\n",
    "    [\"IS_OVER_LIMIT\", \"OVER_LIMIT\"],\n",
    "    \"SK_ID_PREV\",\n",
    ")\n",
    "historical_credit_card_agg = historical_credit_card_agg.drop(\n",
    "    columns=[\"IS_OVER_LIMIT_min\", \"IS_OVER_LIMIT_max\"]\n",
    ")"
   ]
  },
  {
   "cell_type": "code",
   "execution_count": 8,
   "metadata": {},
   "outputs": [],
   "source": [
    "active_credit_cards = active_credit_cards.join(\n",
    "    historical_credit_card_agg.select(\n",
    "        [pl.col(\"SK_ID_PREV\"), pl.all().exclude(\"SK_ID_PREV\").prefix(\"HISTORIC_\")]\n",
    "    ),\n",
    "    on=\"SK_ID_PREV\",\n",
    "    how=\"left\",\n",
    ")"
   ]
  },
  {
   "cell_type": "markdown",
   "metadata": {},
   "source": [
    "### Application Attributes"
   ]
  },
  {
   "cell_type": "code",
   "execution_count": 9,
   "metadata": {},
   "outputs": [],
   "source": [
    "credit_card_applications = previous_application.filter(\n",
    "    pl.col(\"SK_ID_PREV\").is_in(active_credit_cards[\"SK_ID_PREV\"])\n",
    ")"
   ]
  },
  {
   "cell_type": "markdown",
   "metadata": {},
   "source": [
    "**Dropping features irrelevant to credit cards:**"
   ]
  },
  {
   "cell_type": "code",
   "execution_count": 10,
   "metadata": {},
   "outputs": [],
   "source": [
    "cols_to_drop = [\n",
    "    \"SK_ID_CURR\",\n",
    "    \"NAME_CONTRACT_TYPE\",\n",
    "    \"AMT_DOWN_PAYMENT\",\n",
    "    \"AMT_GOODS_PRICE\",\n",
    "    \"RATE_DOWN_PAYMENT\",\n",
    "    \"RATE_DOWN_PAYMENT\",\n",
    "    \"RATE_INTEREST_PRIMARY\",\n",
    "    \"RATE_INTEREST_PRIVILEGED\",\n",
    "    \"NAME_CASH_LOAN_PURPOSE\",\n",
    "    \"NAME_CONTRACT_STATUS\",\n",
    "    \"DAYS_DECISION\",\n",
    "    \"NAME_PAYMENT_TYPE\",\n",
    "    \"FLAG_LAST_APPL_PER_CONTRACT\",\n",
    "    \"CODE_REJECT_REASON\",\n",
    "    \"NAME_GOODS_CATEGORY\",\n",
    "    \"NAME_PORTFOLIO\",\n",
    "    \"CNT_PAYMENT\",\n",
    "    \"NAME_YIELD_GROUP\",\n",
    "    \"DAYS_FIRST_DRAWING\",\n",
    "    \"DAYS_FIRST_DUE\",\n",
    "    \"DAYS_LAST_DUE_1ST_VERSION\",\n",
    "    \"DAYS_LAST_DUE\",\n",
    "    \"DAYS_TERMINATION\",\n",
    "]\n",
    "credit_card_applications = credit_card_applications.drop(columns=cols_to_drop)"
   ]
  },
  {
   "cell_type": "code",
   "execution_count": 11,
   "metadata": {},
   "outputs": [],
   "source": [
    "active_credit_cards=active_credit_cards.join(credit_card_applications.select(\n",
    "        [pl.col(\"SK_ID_PREV\"), pl.all().exclude(\"SK_ID_PREV\").prefix(\"APPLICATION_\")]\n",
    "    ),on='SK_ID_PREV',how=\"left\")"
   ]
  },
  {
   "cell_type": "markdown",
   "metadata": {},
   "source": [
    "### Payment Behavioral Data"
   ]
  },
  {
   "cell_type": "code",
   "execution_count": 12,
   "metadata": {},
   "outputs": [],
   "source": [
    "credit_card_installments = installments_payments.filter(\n",
    "    pl.col(\"SK_ID_PREV\").is_in(active_credit_cards[\"SK_ID_PREV\"])\n",
    ")\n",
    "# Filtering out new data to avoid leakage\n",
    "credit_card_installments = credit_card_installments.filter(\n",
    "    (pl.col(\"DAYS_INSTALMENT\") < -31) & (pl.col(\"DAYS_ENTRY_PAYMENT\") < -31)\n",
    ")"
   ]
  },
  {
   "cell_type": "code",
   "execution_count": 13,
   "metadata": {},
   "outputs": [],
   "source": [
    "installments_agg = pl.DataFrame(active_credit_cards[\"SK_ID_PREV\"])"
   ]
  },
  {
   "cell_type": "code",
   "execution_count": 14,
   "metadata": {},
   "outputs": [],
   "source": [
    "credit_card_installments = credit_card_installments.with_columns(\n",
    "    (pl.col(\"DAYS_INSTALMENT\") - pl.col(\"DAYS_ENTRY_PAYMENT\")).alias(\"DAYS_LATE\")\n",
    ")\n",
    "\n",
    "credit_card_installments = credit_card_installments.with_columns(\n",
    "    pl.when(pl.col(\"DAYS_LATE\") < 0)\n",
    "    .then(pl.lit(0))\n",
    "    .otherwise(pl.col(\"DAYS_LATE\"))\n",
    "    .alias(\"DAYS_LATE\")\n",
    ")\n",
    "\n",
    "\n",
    "credit_card_installments = credit_card_installments.with_columns(\n",
    "    (pl.col(\"AMT_INSTALMENT\") - pl.col(\"AMT_PAYMENT\")).alias(\"AMT_UNDERPAID\")\n",
    ")\n",
    "credit_card_installments = credit_card_installments.with_columns(\n",
    "    pl.when(pl.col(\"AMT_UNDERPAID\") < 0)\n",
    "    .then(pl.lit(0))\n",
    "    .otherwise(pl.col(\"AMT_UNDERPAID\"))\n",
    "    .alias(\"AMT_UNDERPAID\")\n",
    ")"
   ]
  },
  {
   "cell_type": "code",
   "execution_count": 15,
   "metadata": {},
   "outputs": [],
   "source": [
    "installments_agg = eda.make_aggregations(\n",
    "    installments_agg,\n",
    "    credit_card_installments,\n",
    "    [\"DAYS_LATE\"],\n",
    "    id=\"SK_ID_PREV\",\n",
    "    aggregations=[\"mean\", \"sum\", \"max\"],\n",
    "    join_suffix=\"inst\"\n",
    ")\n",
    "\n",
    "installments_agg = eda.make_aggregations(\n",
    "    installments_agg,\n",
    "    credit_card_installments,\n",
    "    [\"AMT_UNDERPAID\"],\n",
    "    id=\"SK_ID_PREV\",\n",
    "    aggregations=[\"mean\", \"sum\", \"max\"],\n",
    "    join_suffix=\"inst\"\n",
    ")"
   ]
  },
  {
   "cell_type": "code",
   "execution_count": 16,
   "metadata": {},
   "outputs": [],
   "source": [
    "active_credit_cards = active_credit_cards.join(\n",
    "    installments_agg.select(\n",
    "        [pl.col(\"SK_ID_PREV\"), pl.all().exclude(\"SK_ID_PREV\").prefix(\"instalment_\")]\n",
    "    ),\n",
    "    on=\"SK_ID_PREV\",\n",
    "    how=\"left\",\n",
    ")\n"
   ]
  },
  {
   "cell_type": "markdown",
   "metadata": {},
   "source": [
    "### Current status"
   ]
  },
  {
   "cell_type": "code",
   "execution_count": 17,
   "metadata": {},
   "outputs": [],
   "source": [
    "application_cols_to_merge = [\n",
    "    \"SK_ID_CURR\",\n",
    "    \"CODE_GENDER\",\n",
    "    \"FLAG_OWN_REALTY\",\n",
    "    \"CNT_CHILDREN\",\n",
    "    \"AMT_INCOME_TOTAL\",\n",
    "    \"NAME_TYPE_SUITE\",\n",
    "    \"NAME_INCOME_TYPE\",\n",
    "    \"NAME_EDUCATION_TYPE\",\n",
    "    \"NAME_FAMILY_STATUS\",\n",
    "    \"NAME_HOUSING_TYPE\",\n",
    "    \"REGION_POPULATION_RELATIVE\",\n",
    "    \"DAYS_BIRTH\",\n",
    "    \"DAYS_EMPLOYED\",\n",
    "    \"OWN_CAR_AGE\",\n",
    "    \"OCCUPATION_TYPE\",\n",
    "    \"CNT_FAM_MEMBERS\",\n",
    "    \"REGION_RATING_CLIENT\",\n",
    "    \"REGION_RATING_CLIENT_W_CITY\",\n",
    "    \"REG_REGION_NOT_LIVE_REGION\",\n",
    "    \"REG_REGION_NOT_WORK_REGION\",\n",
    "    \"LIVE_REGION_NOT_WORK_REGION\",\n",
    "    \"REG_CITY_NOT_LIVE_CITY\",\n",
    "    \"REG_CITY_NOT_WORK_CITY\",\n",
    "    \"LIVE_CITY_NOT_WORK_CITY\",\n",
    "    \"ORGANIZATION_TYPE\",\n",
    "]\n",
    "active_credit_cards=active_credit_cards.join(application_full[application_cols_to_merge],on=\"SK_ID_CURR\",how='left')"
   ]
  },
  {
   "cell_type": "code",
   "execution_count": 18,
   "metadata": {},
   "outputs": [],
   "source": [
    "active_credit_cards=active_credit_cards.drop(\"SK_ID_PREV\",\"SK_ID_CURR\")"
   ]
  },
  {
   "cell_type": "markdown",
   "metadata": {},
   "source": [
    "## Feature Selection"
   ]
  },
  {
   "cell_type": "markdown",
   "metadata": {},
   "source": [
    "### Variance"
   ]
  },
  {
   "cell_type": "code",
   "execution_count": 19,
   "metadata": {},
   "outputs": [],
   "source": [
    "str_cols=active_credit_cards.select(pl.col(pl.Utf8)).columns"
   ]
  },
  {
   "cell_type": "code",
   "execution_count": 20,
   "metadata": {},
   "outputs": [],
   "source": [
    "home_target_encoders = {}\n",
    "active_credit_cards_encoded = active_credit_cards.clone()\n",
    "for col in str_cols:\n",
    "    home_target_encoders[col] = tr.TargetMeanOrderedLabeler(how=\"label\")\n",
    "    active_credit_cards_encoded = active_credit_cards_encoded.with_columns(\n",
    "        home_target_encoders[col]\n",
    "        .fit_transform(\n",
    "            active_credit_cards_encoded[col], active_credit_cards_encoded[\"IS_OVER_LIMIT\"]\n",
    "        )\n",
    "        .alias(col)\n",
    "    )\n",
    "active_credit_cards_encoded_scaled = pl.DataFrame(\n",
    "    MinMaxScaler().fit_transform(active_credit_cards_encoded),\n",
    "    schema=active_credit_cards_encoded.columns,\n",
    ")"
   ]
  },
  {
   "cell_type": "code",
   "execution_count": 21,
   "metadata": {},
   "outputs": [
    {
     "data": {
      "text/html": [
       "<div><style>\n",
       ".dataframe > thead > tr > th,\n",
       ".dataframe > tbody > tr > td {\n",
       "  text-align: right;\n",
       "  white-space: pre-wrap;\n",
       "}\n",
       "</style>\n",
       "<small>shape: (20, 2)</small><table border=\"1\" class=\"dataframe\"><thead><tr><th>feature</th><th>variance</th></tr><tr><td>str</td><td>f64</td></tr></thead><tbody><tr><td>&quot;SK_DPD_DEF&quot;</td><td>0.000045</td></tr><tr><td>&quot;AMT_INCOME_TOT…</td><td>0.000067</td></tr><tr><td>&quot;AMT_PAYMENT_TO…</td><td>0.000445</td></tr><tr><td>&quot;AMT_DRAWINGS_C…</td><td>0.000465</td></tr><tr><td>&quot;SK_DPD&quot;</td><td>0.000796</td></tr><tr><td>&quot;CNT_CHILDREN&quot;</td><td>0.001457</td></tr><tr><td>&quot;CNT_DRAWINGS_C…</td><td>0.001846</td></tr><tr><td>&quot;CNT_FAM_MEMBER…</td><td>0.00221</td></tr><tr><td>&quot;REG_REGION_NOT…</td><td>0.012806</td></tr><tr><td>&quot;AMT_INST_MIN_R…</td><td>0.01394</td></tr><tr><td>&quot;NAME_TYPE_SUIT…</td><td>0.017311</td></tr><tr><td>&quot;AMT_RECEIVABLE…</td><td>0.017805</td></tr><tr><td>&quot;AMT_RECIVABLE&quot;</td><td>0.018136</td></tr><tr><td>&quot;AMT_TOTAL_RECE…</td><td>0.018137</td></tr><tr><td>&quot;AMT_BALANCE&quot;</td><td>0.018324</td></tr><tr><td>&quot;NAME_EDUCATION…</td><td>0.020724</td></tr><tr><td>&quot;AMT_CREDIT_LIM…</td><td>0.022387</td></tr><tr><td>&quot;CNT_INSTALMENT…</td><td>0.037406</td></tr><tr><td>&quot;LIVE_REGION_NO…</td><td>0.03799</td></tr><tr><td>&quot;REGION_POPULAT…</td><td>0.039466</td></tr></tbody></table></div>"
      ],
      "text/plain": [
       "shape: (20, 2)\n",
       "┌─────────────────────────────┬──────────┐\n",
       "│ feature                     ┆ variance │\n",
       "│ ---                         ┆ ---      │\n",
       "│ str                         ┆ f64      │\n",
       "╞═════════════════════════════╪══════════╡\n",
       "│ SK_DPD_DEF                  ┆ 0.000045 │\n",
       "│ AMT_INCOME_TOTAL            ┆ 0.000067 │\n",
       "│ AMT_PAYMENT_TOTAL_CURRENT   ┆ 0.000445 │\n",
       "│ AMT_DRAWINGS_CURRENT        ┆ 0.000465 │\n",
       "│ …                           ┆ …        │\n",
       "│ AMT_CREDIT_LIMIT_ACTUAL     ┆ 0.022387 │\n",
       "│ CNT_INSTALMENT_MATURE_CUM   ┆ 0.037406 │\n",
       "│ LIVE_REGION_NOT_WORK_REGION ┆ 0.03799  │\n",
       "│ REGION_POPULATION_RELATIVE  ┆ 0.039466 │\n",
       "└─────────────────────────────┴──────────┘"
      ]
     },
     "execution_count": 21,
     "metadata": {},
     "output_type": "execute_result"
    }
   ],
   "source": [
    "feature_variance = pl.DataFrame(\n",
    "    {\n",
    "        \"feature\": active_credit_cards_encoded_scaled.columns,\n",
    "        \"variance\": np.var(\n",
    "            active_credit_cards_encoded_scaled.to_numpy(), axis=0\n",
    "        ),\n",
    "    }\n",
    ")\n",
    "feature_variance.sort(\"variance\")[:20]"
   ]
  },
  {
   "cell_type": "code",
   "execution_count": 22,
   "metadata": {},
   "outputs": [
    {
     "data": {
      "text/html": [
       "<div><style>\n",
       ".dataframe > thead > tr > th,\n",
       ".dataframe > tbody > tr > td {\n",
       "  text-align: right;\n",
       "  white-space: pre-wrap;\n",
       "}\n",
       "</style>\n",
       "<small>shape: (5,)</small><table border=\"1\" class=\"dataframe\"><thead><tr><th>feature</th></tr><tr><td>str</td></tr></thead><tbody><tr><td>&quot;AMT_DRAWINGS_C…</td></tr><tr><td>&quot;AMT_PAYMENT_TO…</td></tr><tr><td>&quot;SK_DPD&quot;</td></tr><tr><td>&quot;SK_DPD_DEF&quot;</td></tr><tr><td>&quot;AMT_INCOME_TOT…</td></tr></tbody></table></div>"
      ],
      "text/plain": [
       "shape: (5,)\n",
       "Series: 'feature' [str]\n",
       "[\n",
       "\t\"AMT_DRAWINGS_C…\n",
       "\t\"AMT_PAYMENT_TO…\n",
       "\t\"SK_DPD\"\n",
       "\t\"SK_DPD_DEF\"\n",
       "\t\"AMT_INCOME_TOT…\n",
       "]"
      ]
     },
     "execution_count": 22,
     "metadata": {},
     "output_type": "execute_result"
    }
   ],
   "source": [
    "feature_variance.filter(pl.col(\"variance\") < 0.001)[\"feature\"]"
   ]
  },
  {
   "cell_type": "code",
   "execution_count": 23,
   "metadata": {},
   "outputs": [],
   "source": [
    "low_var_fatures = []\n",
    "for feature in feature_variance.filter(pl.col(\"variance\") < 0.001)[\"feature\"]:\n",
    "    if active_credit_cards_encoded_scaled[feature].n_unique() < 10:\n",
    "        low_var_fatures.append(feature)\n",
    "        minority_count = (\n",
    "            active_credit_cards_encoded_scaled[feature]\n",
    "            .value_counts()\n",
    "            .sort(\"counts\")[\"counts\"][0]\n",
    "        )\n",
    "        print(\n",
    "            f\"{feature}: minority class count = {minority_count} feature will be removed\"\n",
    "        )"
   ]
  },
  {
   "cell_type": "markdown",
   "metadata": {},
   "source": [
    "### Highly Correlated"
   ]
  },
  {
   "cell_type": "code",
   "execution_count": 24,
   "metadata": {},
   "outputs": [
    {
     "name": "stdout",
     "output_type": "stream",
     "text": [
      "-------------  --------------------\n",
      "AMT_RECIVABLE  AMT_TOTAL_RECEIVABLE\n",
      "-------------  --------------------\n"
     ]
    }
   ],
   "source": [
    "feature_correlation_test = st.get_correlation_pairs(\n",
    "    active_credit_cards_encoded.drop(columns=\"IS_OVER_LIMIT\"),\n",
    "    max_threshold=0.999,\n",
    "    min_threshold=-0.999,\n",
    ")\n",
    "print(tabulate(feature_correlation_test['clusters']))"
   ]
  },
  {
   "cell_type": "code",
   "execution_count": 25,
   "metadata": {},
   "outputs": [
    {
     "data": {
      "text/html": [
       "<div><style>\n",
       ".dataframe > thead > tr > th,\n",
       ".dataframe > tbody > tr > td {\n",
       "  text-align: right;\n",
       "  white-space: pre-wrap;\n",
       "}\n",
       "</style>\n",
       "<small>shape: (1, 2)</small><table border=\"1\" class=\"dataframe\"><thead><tr><th>features</th><th>correlation</th></tr><tr><td>list[str]</td><td>f64</td></tr></thead><tbody><tr><td>[&quot;AMT_RECIVABLE&quot;, &quot;AMT_TOTAL_RECEIVABLE&quot;]</td><td>1.0</td></tr></tbody></table></div>"
      ],
      "text/plain": [
       "shape: (1, 2)\n",
       "┌───────────────────────────────────┬─────────────┐\n",
       "│ features                          ┆ correlation │\n",
       "│ ---                               ┆ ---         │\n",
       "│ list[str]                         ┆ f64         │\n",
       "╞═══════════════════════════════════╪═════════════╡\n",
       "│ [\"AMT_RECIVABLE\", \"AMT_TOTAL_REC… ┆ 1.0         │\n",
       "└───────────────────────────────────┴─────────────┘"
      ]
     },
     "execution_count": 25,
     "metadata": {},
     "output_type": "execute_result"
    }
   ],
   "source": [
    "feature_correlation_test['pairs']"
   ]
  },
  {
   "cell_type": "code",
   "execution_count": 26,
   "metadata": {},
   "outputs": [],
   "source": [
    "active_credit_cards=active_credit_cards.drop(columns=\"AMT_TOTAL_RECEIVABLE\")"
   ]
  },
  {
   "cell_type": "code",
   "execution_count": 27,
   "metadata": {},
   "outputs": [],
   "source": [
    "active_credit_cards.write_parquet('temp/active_credit_cards.parquet')"
   ]
  },
  {
   "cell_type": "markdown",
   "metadata": {},
   "source": [
    "## Model 3"
   ]
  },
  {
   "cell_type": "code",
   "execution_count": 28,
   "metadata": {},
   "outputs": [],
   "source": [
    "consumer_loans = previous_application.filter(\n",
    "    (pl.col(\"NAME_CONTRACT_TYPE\") == \"Consumer loans\")\n",
    "    & (pl.col(\"NAME_CONTRACT_STATUS\") == \"Approved\")\n",
    ")\n",
    "\n",
    "# Irrelevant cols\n",
    "consumer_loans = consumer_loans.drop(\n",
    "    columns=[\n",
    "        \"NAME_YIELD_GROUP\",\n",
    "        \"NAME_CONTRACT_STATUS\",\n",
    "        \"NAME_CONTRACT_TYPE\",\n",
    "        \"NAME_CASH_LOAN_PURPOSE\",\n",
    "        \"NAME_CASH_LOAN_PURPOSE\",\n",
    "        \"NAME_PRODUCT_TYPE\",\n",
    "        \"DAYS_FIRST_DRAWING\",\n",
    "        \"DAYS_FIRST_DRAWING\",\n",
    "        \"DAYS_FIRST_DUE\",\n",
    "        \"DAYS_LAST_DUE_1ST_VERSION\",\n",
    "        \"DAYS_LAST_DUE\",\n",
    "        \"DAYS_TERMINATION\",\n",
    "        \"SK_ID_PREV\",\n",
    "        \"SK_ID_CURR\"\n",
    "    ]\n",
    ")\n",
    "\n",
    "consumer_loans = consumer_loans.with_columns(\n",
    "    (\n",
    "        (pl.col(\"AMT_ANNUITY\") * pl.col(\"CNT_PAYMENT\") - pl.col(\"AMT_CREDIT\"))\n",
    "        / pl.col(\"AMT_CREDIT\")\n",
    "        * 100\n",
    "    ).alias(\"FEES_PERCENT\")\n",
    ")"
   ]
  },
  {
   "cell_type": "code",
   "execution_count": 29,
   "metadata": {},
   "outputs": [
    {
     "data": {
      "text/html": [
       "<div><style>\n",
       ".dataframe > thead > tr > th,\n",
       ".dataframe > tbody > tr > td {\n",
       "  text-align: right;\n",
       "  white-space: pre-wrap;\n",
       "}\n",
       "</style>\n",
       "<small>shape: (5, 26)</small><table border=\"1\" class=\"dataframe\"><thead><tr><th>AMT_ANNUITY</th><th>AMT_APPLICATION</th><th>AMT_CREDIT</th><th>AMT_DOWN_PAYMENT</th><th>AMT_GOODS_PRICE</th><th>WEEKDAY_APPR_PROCESS_START</th><th>HOUR_APPR_PROCESS_START</th><th>FLAG_LAST_APPL_PER_CONTRACT</th><th>NFLAG_LAST_APPL_IN_DAY</th><th>RATE_DOWN_PAYMENT</th><th>RATE_INTEREST_PRIMARY</th><th>RATE_INTEREST_PRIVILEGED</th><th>DAYS_DECISION</th><th>NAME_PAYMENT_TYPE</th><th>CODE_REJECT_REASON</th><th>NAME_TYPE_SUITE</th><th>NAME_CLIENT_TYPE</th><th>NAME_GOODS_CATEGORY</th><th>NAME_PORTFOLIO</th><th>CHANNEL_TYPE</th><th>SELLERPLACE_AREA</th><th>NAME_SELLER_INDUSTRY</th><th>CNT_PAYMENT</th><th>PRODUCT_COMBINATION</th><th>NFLAG_INSURED_ON_APPROVAL</th><th>FEES_PERCENT</th></tr><tr><td>f64</td><td>f64</td><td>f64</td><td>f64</td><td>f64</td><td>str</td><td>i64</td><td>str</td><td>i64</td><td>f64</td><td>f64</td><td>f64</td><td>i64</td><td>str</td><td>str</td><td>str</td><td>str</td><td>str</td><td>str</td><td>str</td><td>i64</td><td>str</td><td>f64</td><td>str</td><td>f64</td><td>f64</td></tr></thead><tbody><tr><td>1730.43</td><td>17145.0</td><td>17145.0</td><td>0.0</td><td>17145.0</td><td>&quot;SATURDAY&quot;</td><td>15</td><td>&quot;Y&quot;</td><td>1</td><td>0.0</td><td>0.182832</td><td>0.867336</td><td>-73</td><td>&quot;Cash through t…</td><td>&quot;XAP&quot;</td><td>null</td><td>&quot;Repeater&quot;</td><td>&quot;Mobile&quot;</td><td>&quot;POS&quot;</td><td>&quot;Country-wide&quot;</td><td>35</td><td>&quot;Connectivity&quot;</td><td>12.0</td><td>&quot;POS mobile wit…</td><td>0.0</td><td>21.114961</td></tr><tr><td>7654.86</td><td>53779.5</td><td>57564.0</td><td>0.0</td><td>53779.5</td><td>&quot;SUNDAY&quot;</td><td>15</td><td>&quot;Y&quot;</td><td>1</td><td>0.0</td><td>null</td><td>null</td><td>-408</td><td>&quot;Cash through t…</td><td>&quot;XAP&quot;</td><td>&quot;Unaccompanied&quot;</td><td>&quot;New&quot;</td><td>&quot;Consumer Elect…</td><td>&quot;POS&quot;</td><td>&quot;Country-wide&quot;</td><td>200</td><td>&quot;Consumer elect…</td><td>8.0</td><td>&quot;POS household …</td><td>1.0</td><td>6.38399</td></tr><tr><td>9644.22</td><td>26550.0</td><td>27252.0</td><td>0.0</td><td>26550.0</td><td>&quot;SATURDAY&quot;</td><td>10</td><td>&quot;Y&quot;</td><td>1</td><td>0.0</td><td>null</td><td>null</td><td>-726</td><td>&quot;Cash through t…</td><td>&quot;XAP&quot;</td><td>null</td><td>&quot;New&quot;</td><td>&quot;Construction M…</td><td>&quot;POS&quot;</td><td>&quot;Stone&quot;</td><td>83</td><td>&quot;Consumer elect…</td><td>3.0</td><td>&quot;POS household …</td><td>0.0</td><td>6.167107</td></tr><tr><td>21307.455</td><td>126490.5</td><td>119853.0</td><td>12649.5</td><td>126490.5</td><td>&quot;TUESDAY&quot;</td><td>7</td><td>&quot;Y&quot;</td><td>1</td><td>0.103971</td><td>null</td><td>null</td><td>-699</td><td>&quot;Cash through t…</td><td>&quot;XAP&quot;</td><td>&quot;Unaccompanied&quot;</td><td>&quot;New&quot;</td><td>&quot;Auto Accessori…</td><td>&quot;POS&quot;</td><td>&quot;Regional / Loc…</td><td>130</td><td>&quot;Industry&quot;</td><td>6.0</td><td>&quot;POS other with…</td><td>0.0</td><td>6.667943</td></tr><tr><td>4187.34</td><td>26955.0</td><td>27297.0</td><td>1350.0</td><td>26955.0</td><td>&quot;SATURDAY&quot;</td><td>12</td><td>&quot;Y&quot;</td><td>1</td><td>0.051324</td><td>null</td><td>null</td><td>-1473</td><td>&quot;Cash through t…</td><td>&quot;XAP&quot;</td><td>&quot;Unaccompanied&quot;</td><td>&quot;Repeater&quot;</td><td>&quot;Photo / Cinema…</td><td>&quot;POS&quot;</td><td>&quot;Stone&quot;</td><td>130</td><td>&quot;Consumer elect…</td><td>8.0</td><td>&quot;POS household …</td><td>0.0</td><td>22.71942</td></tr></tbody></table></div>"
      ],
      "text/plain": [
       "shape: (5, 26)\n",
       "┌───────────┬───────────┬───────────┬───────────┬───┬───────────┬───────────┬───────────┬──────────┐\n",
       "│ AMT_ANNUI ┆ AMT_APPLI ┆ AMT_CREDI ┆ AMT_DOWN_ ┆ … ┆ CNT_PAYME ┆ PRODUCT_C ┆ NFLAG_INS ┆ FEES_PER │\n",
       "│ TY        ┆ CATION    ┆ T         ┆ PAYMENT   ┆   ┆ NT        ┆ OMBINATIO ┆ URED_ON_A ┆ CENT     │\n",
       "│ ---       ┆ ---       ┆ ---       ┆ ---       ┆   ┆ ---       ┆ N         ┆ PPROVAL   ┆ ---      │\n",
       "│ f64       ┆ f64       ┆ f64       ┆ f64       ┆   ┆ f64       ┆ ---       ┆ ---       ┆ f64      │\n",
       "│           ┆           ┆           ┆           ┆   ┆           ┆ str       ┆ f64       ┆          │\n",
       "╞═══════════╪═══════════╪═══════════╪═══════════╪═══╪═══════════╪═══════════╪═══════════╪══════════╡\n",
       "│ 1730.43   ┆ 17145.0   ┆ 17145.0   ┆ 0.0       ┆ … ┆ 12.0      ┆ POS       ┆ 0.0       ┆ 21.11496 │\n",
       "│           ┆           ┆           ┆           ┆   ┆           ┆ mobile    ┆           ┆ 1        │\n",
       "│           ┆           ┆           ┆           ┆   ┆           ┆ with      ┆           ┆          │\n",
       "│           ┆           ┆           ┆           ┆   ┆           ┆ interest  ┆           ┆          │\n",
       "│ 7654.86   ┆ 53779.5   ┆ 57564.0   ┆ 0.0       ┆ … ┆ 8.0       ┆ POS       ┆ 1.0       ┆ 6.38399  │\n",
       "│           ┆           ┆           ┆           ┆   ┆           ┆ household ┆           ┆          │\n",
       "│           ┆           ┆           ┆           ┆   ┆           ┆ without   ┆           ┆          │\n",
       "│           ┆           ┆           ┆           ┆   ┆           ┆ interest  ┆           ┆          │\n",
       "│ 9644.22   ┆ 26550.0   ┆ 27252.0   ┆ 0.0       ┆ … ┆ 3.0       ┆ POS       ┆ 0.0       ┆ 6.167107 │\n",
       "│           ┆           ┆           ┆           ┆   ┆           ┆ household ┆           ┆          │\n",
       "│           ┆           ┆           ┆           ┆   ┆           ┆ with      ┆           ┆          │\n",
       "│           ┆           ┆           ┆           ┆   ┆           ┆ interest  ┆           ┆          │\n",
       "│ 21307.455 ┆ 126490.5  ┆ 119853.0  ┆ 12649.5   ┆ … ┆ 6.0       ┆ POS other ┆ 0.0       ┆ 6.667943 │\n",
       "│           ┆           ┆           ┆           ┆   ┆           ┆ with      ┆           ┆          │\n",
       "│           ┆           ┆           ┆           ┆   ┆           ┆ interest  ┆           ┆          │\n",
       "│ 4187.34   ┆ 26955.0   ┆ 27297.0   ┆ 1350.0    ┆ … ┆ 8.0       ┆ POS       ┆ 0.0       ┆ 22.71942 │\n",
       "│           ┆           ┆           ┆           ┆   ┆           ┆ household ┆           ┆          │\n",
       "│           ┆           ┆           ┆           ┆   ┆           ┆ with      ┆           ┆          │\n",
       "│           ┆           ┆           ┆           ┆   ┆           ┆ interest  ┆           ┆          │\n",
       "└───────────┴───────────┴───────────┴───────────┴───┴───────────┴───────────┴───────────┴──────────┘"
      ]
     },
     "execution_count": 29,
     "metadata": {},
     "output_type": "execute_result"
    }
   ],
   "source": [
    "consumer_loans.head()"
   ]
  },
  {
   "cell_type": "markdown",
   "metadata": {},
   "source": [
    "### Variance"
   ]
  },
  {
   "cell_type": "code",
   "execution_count": 30,
   "metadata": {},
   "outputs": [],
   "source": [
    "str_cols_consumer=consumer_loans.select(pl.col(pl.Utf8)).columns"
   ]
  },
  {
   "cell_type": "code",
   "execution_count": 31,
   "metadata": {},
   "outputs": [],
   "source": [
    "consumer_encoders = {}\n",
    "consumer_loans_encoded = consumer_loans.clone()\n",
    "for col in str_cols_consumer:\n",
    "    consumer_encoders[col] = tr.TargetMeanOrderedLabeler(how=\"label\")\n",
    "    consumer_loans_encoded = consumer_loans_encoded.with_columns(\n",
    "        consumer_encoders[col]\n",
    "        .fit_transform(\n",
    "            consumer_loans_encoded[col], consumer_loans_encoded[\"FEES_PERCENT\"]\n",
    "        )\n",
    "        .alias(col)\n",
    "    )\n",
    "consumer_loans_encoded_scaled = pl.DataFrame(\n",
    "    MinMaxScaler().fit_transform(consumer_loans_encoded),\n",
    "    schema=consumer_loans_encoded.columns,\n",
    ")"
   ]
  },
  {
   "cell_type": "code",
   "execution_count": 32,
   "metadata": {},
   "outputs": [
    {
     "data": {
      "text/html": [
       "<div><style>\n",
       ".dataframe > thead > tr > th,\n",
       ".dataframe > tbody > tr > td {\n",
       "  text-align: right;\n",
       "  white-space: pre-wrap;\n",
       "}\n",
       "</style>\n",
       "<small>shape: (20, 2)</small><table border=\"1\" class=\"dataframe\"><thead><tr><th>feature</th><th>variance</th></tr><tr><td>str</td><td>f64</td></tr></thead><tbody><tr><td>&quot;FLAG_LAST_APPL…</td><td>0.0</td></tr><tr><td>&quot;SELLERPLACE_AR…</td><td>0.000008</td></tr><tr><td>&quot;CODE_REJECT_RE…</td><td>0.000013</td></tr><tr><td>&quot;AMT_APPLICATIO…</td><td>0.000253</td></tr><tr><td>&quot;AMT_GOODS_PRIC…</td><td>0.000253</td></tr><tr><td>&quot;AMT_CREDIT&quot;</td><td>0.000381</td></tr><tr><td>&quot;NAME_PORTFOLIO…</td><td>0.00042</td></tr><tr><td>&quot;NFLAG_LAST_APP…</td><td>0.000426</td></tr><tr><td>&quot;CNT_PAYMENT&quot;</td><td>0.006346</td></tr><tr><td>&quot;HOUR_APPR_PROC…</td><td>0.021215</td></tr><tr><td>&quot;NAME_CLIENT_TY…</td><td>0.044916</td></tr><tr><td>&quot;NAME_PAYMENT_T…</td><td>0.050825</td></tr><tr><td>&quot;CHANNEL_TYPE&quot;</td><td>0.059136</td></tr><tr><td>&quot;NAME_TYPE_SUIT…</td><td>0.059673</td></tr><tr><td>&quot;NAME_SELLER_IN…</td><td>0.077708</td></tr><tr><td>&quot;DAYS_DECISION&quot;</td><td>0.080753</td></tr><tr><td>&quot;NAME_GOODS_CAT…</td><td>0.082466</td></tr><tr><td>&quot;PRODUCT_COMBIN…</td><td>0.083653</td></tr><tr><td>&quot;WEEKDAY_APPR_P…</td><td>0.112567</td></tr><tr><td>&quot;AMT_ANNUITY&quot;</td><td>NaN</td></tr></tbody></table></div>"
      ],
      "text/plain": [
       "shape: (20, 2)\n",
       "┌─────────────────────────────┬──────────┐\n",
       "│ feature                     ┆ variance │\n",
       "│ ---                         ┆ ---      │\n",
       "│ str                         ┆ f64      │\n",
       "╞═════════════════════════════╪══════════╡\n",
       "│ FLAG_LAST_APPL_PER_CONTRACT ┆ 0.0      │\n",
       "│ SELLERPLACE_AREA            ┆ 0.000008 │\n",
       "│ CODE_REJECT_REASON          ┆ 0.000013 │\n",
       "│ AMT_APPLICATION             ┆ 0.000253 │\n",
       "│ …                           ┆ …        │\n",
       "│ NAME_GOODS_CATEGORY         ┆ 0.082466 │\n",
       "│ PRODUCT_COMBINATION         ┆ 0.083653 │\n",
       "│ WEEKDAY_APPR_PROCESS_START  ┆ 0.112567 │\n",
       "│ AMT_ANNUITY                 ┆ NaN      │\n",
       "└─────────────────────────────┴──────────┘"
      ]
     },
     "execution_count": 32,
     "metadata": {},
     "output_type": "execute_result"
    }
   ],
   "source": [
    "feature_variance_consumer = pl.DataFrame(\n",
    "    {\n",
    "        \"feature\": consumer_loans_encoded_scaled.columns,\n",
    "        \"variance\": np.var(\n",
    "            consumer_loans_encoded_scaled.to_numpy(), axis=0\n",
    "        ),\n",
    "    }\n",
    ")\n",
    "feature_variance_consumer.sort(\"variance\")[:20]"
   ]
  },
  {
   "cell_type": "code",
   "execution_count": 33,
   "metadata": {},
   "outputs": [
    {
     "data": {
      "text/html": [
       "<div><style>\n",
       ".dataframe > thead > tr > th,\n",
       ".dataframe > tbody > tr > td {\n",
       "  text-align: right;\n",
       "  white-space: pre-wrap;\n",
       "}\n",
       "</style>\n",
       "<small>shape: (8,)</small><table border=\"1\" class=\"dataframe\"><thead><tr><th>feature</th></tr><tr><td>str</td></tr></thead><tbody><tr><td>&quot;AMT_APPLICATIO…</td></tr><tr><td>&quot;AMT_CREDIT&quot;</td></tr><tr><td>&quot;AMT_GOODS_PRIC…</td></tr><tr><td>&quot;FLAG_LAST_APPL…</td></tr><tr><td>&quot;NFLAG_LAST_APP…</td></tr><tr><td>&quot;CODE_REJECT_RE…</td></tr><tr><td>&quot;NAME_PORTFOLIO…</td></tr><tr><td>&quot;SELLERPLACE_AR…</td></tr></tbody></table></div>"
      ],
      "text/plain": [
       "shape: (8,)\n",
       "Series: 'feature' [str]\n",
       "[\n",
       "\t\"AMT_APPLICATIO…\n",
       "\t\"AMT_CREDIT\"\n",
       "\t\"AMT_GOODS_PRIC…\n",
       "\t\"FLAG_LAST_APPL…\n",
       "\t\"NFLAG_LAST_APP…\n",
       "\t\"CODE_REJECT_RE…\n",
       "\t\"NAME_PORTFOLIO…\n",
       "\t\"SELLERPLACE_AR…\n",
       "]"
      ]
     },
     "execution_count": 33,
     "metadata": {},
     "output_type": "execute_result"
    }
   ],
   "source": [
    "feature_variance_consumer.filter(pl.col(\"variance\") < 0.001)[\"feature\"]"
   ]
  },
  {
   "cell_type": "code",
   "execution_count": 34,
   "metadata": {},
   "outputs": [
    {
     "name": "stdout",
     "output_type": "stream",
     "text": [
      "FLAG_LAST_APPL_PER_CONTRACT: minority class count = 626470 feature will be removed\n",
      "NFLAG_LAST_APPL_IN_DAY: minority class count = 267 feature will be removed\n",
      "CODE_REJECT_REASON: minority class count = 8 feature will be removed\n",
      "NAME_PORTFOLIO: minority class count = 263 feature will be removed\n"
     ]
    }
   ],
   "source": [
    "low_var_fatures_consumer = []\n",
    "for feature in feature_variance_consumer.filter(pl.col(\"variance\") < 0.001)[\"feature\"]:\n",
    "    if consumer_loans_encoded_scaled[feature].n_unique() < 10:\n",
    "        low_var_fatures_consumer.append(feature)\n",
    "        minority_count = (\n",
    "            consumer_loans_encoded_scaled[feature]\n",
    "            .value_counts()\n",
    "            .sort(\"counts\")[\"counts\"][0]\n",
    "        )\n",
    "        print(\n",
    "            f\"{feature}: minority class count = {minority_count} feature will be removed\"\n",
    "        )"
   ]
  },
  {
   "cell_type": "code",
   "execution_count": 35,
   "metadata": {},
   "outputs": [],
   "source": [
    "consumer_loans = consumer_loans.drop(columns=low_var_fatures_consumer)\n",
    "\n",
    "consumer_loans_encoded = consumer_loans_encoded.drop(\n",
    "    columns=low_var_fatures_consumer\n",
    ")"
   ]
  },
  {
   "cell_type": "markdown",
   "metadata": {},
   "source": [
    "### Highly Correlated"
   ]
  },
  {
   "cell_type": "code",
   "execution_count": 36,
   "metadata": {},
   "outputs": [
    {
     "data": {
      "text/html": [
       "<div><style>\n",
       ".dataframe > thead > tr > th,\n",
       ".dataframe > tbody > tr > td {\n",
       "  text-align: right;\n",
       "  white-space: pre-wrap;\n",
       "}\n",
       "</style>\n",
       "<small>shape: (1, 2)</small><table border=\"1\" class=\"dataframe\"><thead><tr><th>features</th><th>correlation</th></tr><tr><td>list[str]</td><td>f64</td></tr></thead><tbody><tr><td>[&quot;AMT_APPLICATION&quot;, &quot;AMT_GOODS_PRICE&quot;]</td><td>1.0</td></tr></tbody></table></div>"
      ],
      "text/plain": [
       "shape: (1, 2)\n",
       "┌───────────────────────────────────┬─────────────┐\n",
       "│ features                          ┆ correlation │\n",
       "│ ---                               ┆ ---         │\n",
       "│ list[str]                         ┆ f64         │\n",
       "╞═══════════════════════════════════╪═════════════╡\n",
       "│ [\"AMT_APPLICATION\", \"AMT_GOODS_P… ┆ 1.0         │\n",
       "└───────────────────────────────────┴─────────────┘"
      ]
     },
     "execution_count": 36,
     "metadata": {},
     "output_type": "execute_result"
    }
   ],
   "source": [
    "feature_correlation_test_consumer = st.get_correlation_pairs(\n",
    "    consumer_loans_encoded.drop(columns=\"FEES_PERCENT\"),\n",
    "    max_threshold=0.999,\n",
    "    min_threshold=-0.999,\n",
    ")\n",
    "feature_correlation_test_consumer['pairs']"
   ]
  },
  {
   "cell_type": "code",
   "execution_count": 37,
   "metadata": {},
   "outputs": [],
   "source": [
    "consumer_loans=consumer_loans.drop(columns=\"AMT_GOODS_PRICE\")\n",
    "consumer_loans.write_parquet(\"temp/consumer_loans.parquet\")"
   ]
  },
  {
   "cell_type": "code",
   "execution_count": null,
   "metadata": {},
   "outputs": [],
   "source": []
  }
 ],
 "metadata": {
  "kernelspec": {
   "display_name": "base",
   "language": "python",
   "name": "python3"
  },
  "language_info": {
   "codemirror_mode": {
    "name": "ipython",
    "version": 3
   },
   "file_extension": ".py",
   "mimetype": "text/x-python",
   "name": "python",
   "nbconvert_exporter": "python",
   "pygments_lexer": "ipython3",
   "version": "3.9.13"
  }
 },
 "nbformat": 4,
 "nbformat_minor": 2
}
