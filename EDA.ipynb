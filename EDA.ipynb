{
 "cells": [
  {
   "cell_type": "markdown",
   "metadata": {},
   "source": [
    "EDA"
   ]
  },
  {
   "cell_type": "code",
   "execution_count": 94,
   "metadata": {},
   "outputs": [],
   "source": [
    "import polars as pl\n",
    "import matplotlib.pyplot as plt\n",
    "import seaborn as sns\n",
    "from sklearn.metrics import classification_report\n",
    "import auxilary.lists as aux_lists"
   ]
  },
  {
   "cell_type": "code",
   "execution_count": 27,
   "metadata": {},
   "outputs": [],
   "source": [
    "# applicattion_test=pl.read_csv('data/application_test.csv')\n",
    "application_train=pl.read_csv('data/application_train.csv')\n",
    "buereau_balance=pl.read_csv('data/bureau_balance.csv')\n",
    "buereau=pl.read_csv('data/bureau.csv')\n",
    "installments_payments=pl.read_csv('data/installments_payments.csv')\n",
    "POS_CASH_balance=pl.read_csv('data/POS_CASH_balance.csv')\n",
    "previous_application=pl.read_csv('data/previous_application.csv')"
   ]
  },
  {
   "cell_type": "code",
   "execution_count": 50,
   "metadata": {},
   "outputs": [],
   "source": [
    "from catboost import CatBoostClassifier"
   ]
  },
  {
   "cell_type": "code",
   "execution_count": 26,
   "metadata": {},
   "outputs": [
    {
     "data": {
      "text/html": [
       "<div><style>\n",
       ".dataframe > thead > tr > th,\n",
       ".dataframe > tbody > tr > td {\n",
       "  text-align: right;\n",
       "  white-space: pre-wrap;\n",
       "}\n",
       "</style>\n",
       "<small>shape: (2, 2)</small><table border=\"1\" class=\"dataframe\"><thead><tr><th>TARGET</th><th>counts</th></tr><tr><td>i64</td><td>u32</td></tr></thead><tbody><tr><td>0</td><td>282686</td></tr><tr><td>1</td><td>24825</td></tr></tbody></table></div>"
      ],
      "text/plain": [
       "shape: (2, 2)\n",
       "┌────────┬────────┐\n",
       "│ TARGET ┆ counts │\n",
       "│ ---    ┆ ---    │\n",
       "│ i64    ┆ u32    │\n",
       "╞════════╪════════╡\n",
       "│ 0      ┆ 282686 │\n",
       "│ 1      ┆ 24825  │\n",
       "└────────┴────────┘"
      ]
     },
     "execution_count": 26,
     "metadata": {},
     "output_type": "execute_result"
    }
   ],
   "source": [
    "application_train['TARGET'].value_counts()"
   ]
  },
  {
   "cell_type": "code",
   "execution_count": null,
   "metadata": {},
   "outputs": [],
   "source": [
    "ownership_cols=[]"
   ]
  },
  {
   "cell_type": "code",
   "execution_count": 56,
   "metadata": {},
   "outputs": [],
   "source": [
    "string_cols=application_train.select(pl.col(pl.Utf8)).columns"
   ]
  },
  {
   "cell_type": "markdown",
   "metadata": {},
   "source": [
    "### Feature importance"
   ]
  },
  {
   "cell_type": "code",
   "execution_count": 57,
   "metadata": {},
   "outputs": [],
   "source": [
    "cat=CatBoostClassifier(cat_features=string_cols)"
   ]
  },
  {
   "cell_type": "code",
   "execution_count": 89,
   "metadata": {},
   "outputs": [],
   "source": [
    "training_sample=application_train.sample(30000,shuffle=True,seed=1)\n",
    "for col in string_cols:\n",
    "    training_sample=training_sample.with_columns(pl.col(col).fill_null('None').alias(col))\n",
    "for col in [col for col in training_sample.columns if col not in string_cols]:\n",
    "    training_sample=training_sample.with_columns(pl.col(col).fill_null(-1).alias(col))\n",
    "X_sample=training_sample.drop(columns=['TARGET','SK_ID_CURR'])\n",
    "y_sample=training_sample['TARGET']"
   ]
  },
  {
   "cell_type": "code",
   "execution_count": 91,
   "metadata": {},
   "outputs": [],
   "source": [
    "cat.fit(X_sample.to_pandas(),y_sample.to_pandas(),verbose=0)\n",
    "preds=cat.predict(X_sample.to_pandas())"
   ]
  },
  {
   "cell_type": "code",
   "execution_count": 92,
   "metadata": {},
   "outputs": [
    {
     "name": "stdout",
     "output_type": "stream",
     "text": [
      "              precision    recall  f1-score   support\n",
      "\n",
      "           0       0.92      1.00      0.96     27474\n",
      "           1       0.95      0.12      0.21      2526\n",
      "\n",
      "    accuracy                           0.93     30000\n",
      "   macro avg       0.94      0.56      0.58     30000\n",
      "weighted avg       0.93      0.93      0.90     30000\n",
      "\n"
     ]
    }
   ],
   "source": [
    "print(classification_report(y_sample,preds))"
   ]
  },
  {
   "cell_type": "code",
   "execution_count": 93,
   "metadata": {},
   "outputs": [
    {
     "data": {
      "text/html": [
       "<div><style>\n",
       ".dataframe > thead > tr > th,\n",
       ".dataframe > tbody > tr > td {\n",
       "  text-align: right;\n",
       "  white-space: pre-wrap;\n",
       "}\n",
       "</style>\n",
       "<small>shape: (20, 2)</small><table border=\"1\" class=\"dataframe\"><thead><tr><th>feature</th><th>importance</th></tr><tr><td>str</td><td>f64</td></tr></thead><tbody><tr><td>&quot;EXT_SOURCE_3&quot;</td><td>9.774466</td></tr><tr><td>&quot;EXT_SOURCE_2&quot;</td><td>9.095577</td></tr><tr><td>&quot;EXT_SOURCE_1&quot;</td><td>4.902448</td></tr><tr><td>&quot;DAYS_BIRTH&quot;</td><td>4.430119</td></tr><tr><td>&quot;AMT_CREDIT&quot;</td><td>3.836847</td></tr><tr><td>&quot;AMT_GOODS_PRIC…</td><td>3.678498</td></tr><tr><td>&quot;AMT_ANNUITY&quot;</td><td>3.429203</td></tr><tr><td>&quot;DAYS_REGISTRAT…</td><td>3.406614</td></tr><tr><td>&quot;DAYS_EMPLOYED&quot;</td><td>3.353197</td></tr><tr><td>&quot;DAYS_ID_PUBLIS…</td><td>3.051106</td></tr><tr><td>&quot;DAYS_LAST_PHON…</td><td>2.621378</td></tr><tr><td>&quot;AMT_INCOME_TOT…</td><td>2.460564</td></tr><tr><td>&quot;NAME_INCOME_TY…</td><td>2.188686</td></tr><tr><td>&quot;REGION_POPULAT…</td><td>2.186596</td></tr><tr><td>&quot;OCCUPATION_TYP…</td><td>2.084937</td></tr><tr><td>&quot;OWN_CAR_AGE&quot;</td><td>2.038779</td></tr><tr><td>&quot;HOUR_APPR_PROC…</td><td>1.727063</td></tr><tr><td>&quot;ORGANIZATION_T…</td><td>1.627985</td></tr><tr><td>&quot;NAME_EDUCATION…</td><td>1.50791</td></tr><tr><td>&quot;CODE_GENDER&quot;</td><td>1.39152</td></tr></tbody></table></div>"
      ],
      "text/plain": [
       "shape: (20, 2)\n",
       "┌─────────────────────────┬────────────┐\n",
       "│ feature                 ┆ importance │\n",
       "│ ---                     ┆ ---        │\n",
       "│ str                     ┆ f64        │\n",
       "╞═════════════════════════╪════════════╡\n",
       "│ EXT_SOURCE_3            ┆ 9.774466   │\n",
       "│ EXT_SOURCE_2            ┆ 9.095577   │\n",
       "│ EXT_SOURCE_1            ┆ 4.902448   │\n",
       "│ DAYS_BIRTH              ┆ 4.430119   │\n",
       "│ …                       ┆ …          │\n",
       "│ HOUR_APPR_PROCESS_START ┆ 1.727063   │\n",
       "│ ORGANIZATION_TYPE       ┆ 1.627985   │\n",
       "│ NAME_EDUCATION_TYPE     ┆ 1.50791    │\n",
       "│ CODE_GENDER             ┆ 1.39152    │\n",
       "└─────────────────────────┴────────────┘"
      ]
     },
     "execution_count": 93,
     "metadata": {},
     "output_type": "execute_result"
    }
   ],
   "source": [
    "pl.DataFrame(\n",
    "    {\n",
    "        \"feature\": X_sample.columns,\n",
    "        \"importance\": cat.feature_importances_,\n",
    "    }\n",
    ").sort('importance',descending=True)[:20]"
   ]
  },
  {
   "cell_type": "markdown",
   "metadata": {},
   "source": [
    "### Col cats"
   ]
  },
  {
   "cell_type": "markdown",
   "metadata": {},
   "source": [
    "### Common Sense Removal"
   ]
  },
  {
   "cell_type": "code",
   "execution_count": 49,
   "metadata": {},
   "outputs": [
    {
     "data": {
      "text/plain": [
       "5"
      ]
     },
     "execution_count": 49,
     "metadata": {},
     "output_type": "execute_result"
    }
   ],
   "source": [
    "application_train.filter(pl.col('FLAG_OWN_CAR')==\"Y\")['OWN_CAR_AGE'].null_count()"
   ]
  },
  {
   "cell_type": "code",
   "execution_count": null,
   "metadata": {},
   "outputs": [],
   "source": [
    "cols_to_remove=[]\n",
    "cols_to_remove.append('FLAG_OWN_CAR')"
   ]
  },
  {
   "cell_type": "code",
   "execution_count": null,
   "metadata": {},
   "outputs": [],
   "source": []
  },
  {
   "cell_type": "code",
   "execution_count": 37,
   "metadata": {},
   "outputs": [
    {
     "data": {
      "text/html": [
       "<div><style>\n",
       ".dataframe > thead > tr > th,\n",
       ".dataframe > tbody > tr > td {\n",
       "  text-align: right;\n",
       "  white-space: pre-wrap;\n",
       "}\n",
       "</style>\n",
       "<small>shape: (5, 102)</small><table border=\"1\" class=\"dataframe\"><thead><tr><th>DAYS_ID_PUBLISH</th><th>OWN_CAR_AGE</th><th>FLAG_MOBIL</th><th>FLAG_EMP_PHONE</th><th>FLAG_WORK_PHONE</th><th>FLAG_CONT_MOBILE</th><th>FLAG_PHONE</th><th>FLAG_EMAIL</th><th>OCCUPATION_TYPE</th><th>CNT_FAM_MEMBERS</th><th>REGION_RATING_CLIENT</th><th>REGION_RATING_CLIENT_W_CITY</th><th>WEEKDAY_APPR_PROCESS_START</th><th>HOUR_APPR_PROCESS_START</th><th>REG_REGION_NOT_LIVE_REGION</th><th>REG_REGION_NOT_WORK_REGION</th><th>LIVE_REGION_NOT_WORK_REGION</th><th>REG_CITY_NOT_LIVE_CITY</th><th>REG_CITY_NOT_WORK_CITY</th><th>LIVE_CITY_NOT_WORK_CITY</th><th>ORGANIZATION_TYPE</th><th>EXT_SOURCE_1</th><th>EXT_SOURCE_2</th><th>EXT_SOURCE_3</th><th>APARTMENTS_AVG</th><th>BASEMENTAREA_AVG</th><th>YEARS_BEGINEXPLUATATION_AVG</th><th>YEARS_BUILD_AVG</th><th>COMMONAREA_AVG</th><th>ELEVATORS_AVG</th><th>ENTRANCES_AVG</th><th>FLOORSMAX_AVG</th><th>FLOORSMIN_AVG</th><th>LANDAREA_AVG</th><th>LIVINGAPARTMENTS_AVG</th><th>LIVINGAREA_AVG</th><th>NONLIVINGAPARTMENTS_AVG</th><th>&hellip;</th><th>NONLIVINGAREA_MEDI</th><th>FONDKAPREMONT_MODE</th><th>HOUSETYPE_MODE</th><th>TOTALAREA_MODE</th><th>WALLSMATERIAL_MODE</th><th>EMERGENCYSTATE_MODE</th><th>OBS_30_CNT_SOCIAL_CIRCLE</th><th>DEF_30_CNT_SOCIAL_CIRCLE</th><th>OBS_60_CNT_SOCIAL_CIRCLE</th><th>DEF_60_CNT_SOCIAL_CIRCLE</th><th>DAYS_LAST_PHONE_CHANGE</th><th>FLAG_DOCUMENT_2</th><th>FLAG_DOCUMENT_3</th><th>FLAG_DOCUMENT_4</th><th>FLAG_DOCUMENT_5</th><th>FLAG_DOCUMENT_6</th><th>FLAG_DOCUMENT_7</th><th>FLAG_DOCUMENT_8</th><th>FLAG_DOCUMENT_9</th><th>FLAG_DOCUMENT_10</th><th>FLAG_DOCUMENT_11</th><th>FLAG_DOCUMENT_12</th><th>FLAG_DOCUMENT_13</th><th>FLAG_DOCUMENT_14</th><th>FLAG_DOCUMENT_15</th><th>FLAG_DOCUMENT_16</th><th>FLAG_DOCUMENT_17</th><th>FLAG_DOCUMENT_18</th><th>FLAG_DOCUMENT_19</th><th>FLAG_DOCUMENT_20</th><th>FLAG_DOCUMENT_21</th><th>AMT_REQ_CREDIT_BUREAU_HOUR</th><th>AMT_REQ_CREDIT_BUREAU_DAY</th><th>AMT_REQ_CREDIT_BUREAU_WEEK</th><th>AMT_REQ_CREDIT_BUREAU_MON</th><th>AMT_REQ_CREDIT_BUREAU_QRT</th><th>AMT_REQ_CREDIT_BUREAU_YEAR</th></tr><tr><td>i64</td><td>f64</td><td>i64</td><td>i64</td><td>i64</td><td>i64</td><td>i64</td><td>i64</td><td>str</td><td>f64</td><td>i64</td><td>i64</td><td>str</td><td>i64</td><td>i64</td><td>i64</td><td>i64</td><td>i64</td><td>i64</td><td>i64</td><td>str</td><td>f64</td><td>f64</td><td>f64</td><td>f64</td><td>f64</td><td>f64</td><td>f64</td><td>f64</td><td>f64</td><td>f64</td><td>f64</td><td>f64</td><td>f64</td><td>f64</td><td>f64</td><td>f64</td><td>&hellip;</td><td>f64</td><td>str</td><td>str</td><td>f64</td><td>str</td><td>str</td><td>f64</td><td>f64</td><td>f64</td><td>f64</td><td>f64</td><td>i64</td><td>i64</td><td>i64</td><td>i64</td><td>i64</td><td>i64</td><td>i64</td><td>i64</td><td>i64</td><td>i64</td><td>i64</td><td>i64</td><td>i64</td><td>i64</td><td>i64</td><td>i64</td><td>i64</td><td>i64</td><td>i64</td><td>i64</td><td>f64</td><td>f64</td><td>f64</td><td>f64</td><td>f64</td><td>f64</td></tr></thead><tbody><tr><td>-2120</td><td>null</td><td>1</td><td>1</td><td>0</td><td>1</td><td>1</td><td>0</td><td>&quot;Laborers&quot;</td><td>1.0</td><td>2</td><td>2</td><td>&quot;WEDNESDAY&quot;</td><td>10</td><td>0</td><td>0</td><td>0</td><td>0</td><td>0</td><td>0</td><td>&quot;Business Entit…</td><td>0.083037</td><td>0.262949</td><td>0.139376</td><td>0.0247</td><td>0.0369</td><td>0.9722</td><td>0.6192</td><td>0.0143</td><td>0.0</td><td>0.069</td><td>0.0833</td><td>0.125</td><td>0.0369</td><td>0.0202</td><td>0.019</td><td>0.0</td><td>&hellip;</td><td>0.0</td><td>&quot;reg oper accou…</td><td>&quot;block of flats…</td><td>0.0149</td><td>&quot;Stone, brick&quot;</td><td>&quot;No&quot;</td><td>2.0</td><td>2.0</td><td>2.0</td><td>2.0</td><td>-1134.0</td><td>0</td><td>1</td><td>0</td><td>0</td><td>0</td><td>0</td><td>0</td><td>0</td><td>0</td><td>0</td><td>0</td><td>0</td><td>0</td><td>0</td><td>0</td><td>0</td><td>0</td><td>0</td><td>0</td><td>0</td><td>0.0</td><td>0.0</td><td>0.0</td><td>0.0</td><td>0.0</td><td>1.0</td></tr><tr><td>-291</td><td>null</td><td>1</td><td>1</td><td>0</td><td>1</td><td>1</td><td>0</td><td>&quot;Core staff&quot;</td><td>2.0</td><td>1</td><td>1</td><td>&quot;MONDAY&quot;</td><td>11</td><td>0</td><td>0</td><td>0</td><td>0</td><td>0</td><td>0</td><td>&quot;School&quot;</td><td>0.311267</td><td>0.622246</td><td>null</td><td>0.0959</td><td>0.0529</td><td>0.9851</td><td>0.796</td><td>0.0605</td><td>0.08</td><td>0.0345</td><td>0.2917</td><td>0.3333</td><td>0.013</td><td>0.0773</td><td>0.0549</td><td>0.0039</td><td>&hellip;</td><td>0.01</td><td>&quot;reg oper accou…</td><td>&quot;block of flats…</td><td>0.0714</td><td>&quot;Block&quot;</td><td>&quot;No&quot;</td><td>1.0</td><td>0.0</td><td>1.0</td><td>0.0</td><td>-828.0</td><td>0</td><td>1</td><td>0</td><td>0</td><td>0</td><td>0</td><td>0</td><td>0</td><td>0</td><td>0</td><td>0</td><td>0</td><td>0</td><td>0</td><td>0</td><td>0</td><td>0</td><td>0</td><td>0</td><td>0</td><td>0.0</td><td>0.0</td><td>0.0</td><td>0.0</td><td>0.0</td><td>0.0</td></tr><tr><td>-2531</td><td>26.0</td><td>1</td><td>1</td><td>1</td><td>1</td><td>1</td><td>0</td><td>&quot;Laborers&quot;</td><td>1.0</td><td>2</td><td>2</td><td>&quot;MONDAY&quot;</td><td>9</td><td>0</td><td>0</td><td>0</td><td>0</td><td>0</td><td>0</td><td>&quot;Government&quot;</td><td>null</td><td>0.555912</td><td>0.729567</td><td>null</td><td>null</td><td>null</td><td>null</td><td>null</td><td>null</td><td>null</td><td>null</td><td>null</td><td>null</td><td>null</td><td>null</td><td>null</td><td>&hellip;</td><td>null</td><td>null</td><td>null</td><td>null</td><td>null</td><td>null</td><td>0.0</td><td>0.0</td><td>0.0</td><td>0.0</td><td>-815.0</td><td>0</td><td>0</td><td>0</td><td>0</td><td>0</td><td>0</td><td>0</td><td>0</td><td>0</td><td>0</td><td>0</td><td>0</td><td>0</td><td>0</td><td>0</td><td>0</td><td>0</td><td>0</td><td>0</td><td>0</td><td>0.0</td><td>0.0</td><td>0.0</td><td>0.0</td><td>0.0</td><td>0.0</td></tr><tr><td>-2437</td><td>null</td><td>1</td><td>1</td><td>0</td><td>1</td><td>0</td><td>0</td><td>&quot;Laborers&quot;</td><td>2.0</td><td>2</td><td>2</td><td>&quot;WEDNESDAY&quot;</td><td>17</td><td>0</td><td>0</td><td>0</td><td>0</td><td>0</td><td>0</td><td>&quot;Business Entit…</td><td>null</td><td>0.650442</td><td>null</td><td>null</td><td>null</td><td>null</td><td>null</td><td>null</td><td>null</td><td>null</td><td>null</td><td>null</td><td>null</td><td>null</td><td>null</td><td>null</td><td>&hellip;</td><td>null</td><td>null</td><td>null</td><td>null</td><td>null</td><td>null</td><td>2.0</td><td>0.0</td><td>2.0</td><td>0.0</td><td>-617.0</td><td>0</td><td>1</td><td>0</td><td>0</td><td>0</td><td>0</td><td>0</td><td>0</td><td>0</td><td>0</td><td>0</td><td>0</td><td>0</td><td>0</td><td>0</td><td>0</td><td>0</td><td>0</td><td>0</td><td>0</td><td>null</td><td>null</td><td>null</td><td>null</td><td>null</td><td>null</td></tr><tr><td>-3458</td><td>null</td><td>1</td><td>1</td><td>0</td><td>1</td><td>0</td><td>0</td><td>&quot;Core staff&quot;</td><td>1.0</td><td>2</td><td>2</td><td>&quot;THURSDAY&quot;</td><td>11</td><td>0</td><td>0</td><td>0</td><td>0</td><td>1</td><td>1</td><td>&quot;Religion&quot;</td><td>null</td><td>0.322738</td><td>null</td><td>null</td><td>null</td><td>null</td><td>null</td><td>null</td><td>null</td><td>null</td><td>null</td><td>null</td><td>null</td><td>null</td><td>null</td><td>null</td><td>&hellip;</td><td>null</td><td>null</td><td>null</td><td>null</td><td>null</td><td>null</td><td>0.0</td><td>0.0</td><td>0.0</td><td>0.0</td><td>-1106.0</td><td>0</td><td>0</td><td>0</td><td>0</td><td>0</td><td>0</td><td>1</td><td>0</td><td>0</td><td>0</td><td>0</td><td>0</td><td>0</td><td>0</td><td>0</td><td>0</td><td>0</td><td>0</td><td>0</td><td>0</td><td>0.0</td><td>0.0</td><td>0.0</td><td>0.0</td><td>0.0</td><td>0.0</td></tr></tbody></table></div>"
      ],
      "text/plain": [
       "shape: (5, 102)\n",
       "┌───────────┬───────────┬───────────┬───────────┬───┬───────────┬───────────┬───────────┬──────────┐\n",
       "│ DAYS_ID_P ┆ OWN_CAR_A ┆ FLAG_MOBI ┆ FLAG_EMP_ ┆ … ┆ AMT_REQ_C ┆ AMT_REQ_C ┆ AMT_REQ_C ┆ AMT_REQ_ │\n",
       "│ UBLISH    ┆ GE        ┆ L         ┆ PHONE     ┆   ┆ REDIT_BUR ┆ REDIT_BUR ┆ REDIT_BUR ┆ CREDIT_B │\n",
       "│ ---       ┆ ---       ┆ ---       ┆ ---       ┆   ┆ EAU_WEEK  ┆ EAU_MON   ┆ EAU_QRT   ┆ UREAU_YE │\n",
       "│ i64       ┆ f64       ┆ i64       ┆ i64       ┆   ┆ ---       ┆ ---       ┆ ---       ┆ AR       │\n",
       "│           ┆           ┆           ┆           ┆   ┆ f64       ┆ f64       ┆ f64       ┆ ---      │\n",
       "│           ┆           ┆           ┆           ┆   ┆           ┆           ┆           ┆ f64      │\n",
       "╞═══════════╪═══════════╪═══════════╪═══════════╪═══╪═══════════╪═══════════╪═══════════╪══════════╡\n",
       "│ -2120     ┆ null      ┆ 1         ┆ 1         ┆ … ┆ 0.0       ┆ 0.0       ┆ 0.0       ┆ 1.0      │\n",
       "│ -291      ┆ null      ┆ 1         ┆ 1         ┆ … ┆ 0.0       ┆ 0.0       ┆ 0.0       ┆ 0.0      │\n",
       "│ -2531     ┆ 26.0      ┆ 1         ┆ 1         ┆ … ┆ 0.0       ┆ 0.0       ┆ 0.0       ┆ 0.0      │\n",
       "│ -2437     ┆ null      ┆ 1         ┆ 1         ┆ … ┆ null      ┆ null      ┆ null      ┆ null     │\n",
       "│ -3458     ┆ null      ┆ 1         ┆ 1         ┆ … ┆ 0.0       ┆ 0.0       ┆ 0.0       ┆ 0.0      │\n",
       "└───────────┴───────────┴───────────┴───────────┴───┴───────────┴───────────┴───────────┴──────────┘"
      ]
     },
     "execution_count": 37,
     "metadata": {},
     "output_type": "execute_result"
    }
   ],
   "source": [
    "application_train.head()[:,20:]"
   ]
  },
  {
   "cell_type": "code",
   "execution_count": 35,
   "metadata": {},
   "outputs": [
    {
     "data": {
      "text/html": [
       "<div><style>\n",
       ".dataframe > thead > tr > th,\n",
       ".dataframe > tbody > tr > td {\n",
       "  text-align: right;\n",
       "  white-space: pre-wrap;\n",
       "}\n",
       "</style>\n",
       "<small>shape: (1, 122)</small><table border=\"1\" class=\"dataframe\"><thead><tr><th>SK_ID_CURR</th><th>TARGET</th><th>NAME_CONTRACT_TYPE</th><th>CODE_GENDER</th><th>FLAG_OWN_CAR</th><th>FLAG_OWN_REALTY</th><th>CNT_CHILDREN</th><th>AMT_INCOME_TOTAL</th><th>AMT_CREDIT</th><th>AMT_ANNUITY</th><th>AMT_GOODS_PRICE</th><th>NAME_TYPE_SUITE</th><th>NAME_INCOME_TYPE</th><th>NAME_EDUCATION_TYPE</th><th>NAME_FAMILY_STATUS</th><th>NAME_HOUSING_TYPE</th><th>REGION_POPULATION_RELATIVE</th><th>DAYS_BIRTH</th><th>DAYS_EMPLOYED</th><th>DAYS_REGISTRATION</th><th>DAYS_ID_PUBLISH</th><th>OWN_CAR_AGE</th><th>FLAG_MOBIL</th><th>FLAG_EMP_PHONE</th><th>FLAG_WORK_PHONE</th><th>FLAG_CONT_MOBILE</th><th>FLAG_PHONE</th><th>FLAG_EMAIL</th><th>OCCUPATION_TYPE</th><th>CNT_FAM_MEMBERS</th><th>REGION_RATING_CLIENT</th><th>REGION_RATING_CLIENT_W_CITY</th><th>WEEKDAY_APPR_PROCESS_START</th><th>HOUR_APPR_PROCESS_START</th><th>REG_REGION_NOT_LIVE_REGION</th><th>REG_REGION_NOT_WORK_REGION</th><th>LIVE_REGION_NOT_WORK_REGION</th><th>&hellip;</th><th>NONLIVINGAREA_MEDI</th><th>FONDKAPREMONT_MODE</th><th>HOUSETYPE_MODE</th><th>TOTALAREA_MODE</th><th>WALLSMATERIAL_MODE</th><th>EMERGENCYSTATE_MODE</th><th>OBS_30_CNT_SOCIAL_CIRCLE</th><th>DEF_30_CNT_SOCIAL_CIRCLE</th><th>OBS_60_CNT_SOCIAL_CIRCLE</th><th>DEF_60_CNT_SOCIAL_CIRCLE</th><th>DAYS_LAST_PHONE_CHANGE</th><th>FLAG_DOCUMENT_2</th><th>FLAG_DOCUMENT_3</th><th>FLAG_DOCUMENT_4</th><th>FLAG_DOCUMENT_5</th><th>FLAG_DOCUMENT_6</th><th>FLAG_DOCUMENT_7</th><th>FLAG_DOCUMENT_8</th><th>FLAG_DOCUMENT_9</th><th>FLAG_DOCUMENT_10</th><th>FLAG_DOCUMENT_11</th><th>FLAG_DOCUMENT_12</th><th>FLAG_DOCUMENT_13</th><th>FLAG_DOCUMENT_14</th><th>FLAG_DOCUMENT_15</th><th>FLAG_DOCUMENT_16</th><th>FLAG_DOCUMENT_17</th><th>FLAG_DOCUMENT_18</th><th>FLAG_DOCUMENT_19</th><th>FLAG_DOCUMENT_20</th><th>FLAG_DOCUMENT_21</th><th>AMT_REQ_CREDIT_BUREAU_HOUR</th><th>AMT_REQ_CREDIT_BUREAU_DAY</th><th>AMT_REQ_CREDIT_BUREAU_WEEK</th><th>AMT_REQ_CREDIT_BUREAU_MON</th><th>AMT_REQ_CREDIT_BUREAU_QRT</th><th>AMT_REQ_CREDIT_BUREAU_YEAR</th></tr><tr><td>u32</td><td>u32</td><td>u32</td><td>u32</td><td>u32</td><td>u32</td><td>u32</td><td>u32</td><td>u32</td><td>u32</td><td>u32</td><td>u32</td><td>u32</td><td>u32</td><td>u32</td><td>u32</td><td>u32</td><td>u32</td><td>u32</td><td>u32</td><td>u32</td><td>u32</td><td>u32</td><td>u32</td><td>u32</td><td>u32</td><td>u32</td><td>u32</td><td>u32</td><td>u32</td><td>u32</td><td>u32</td><td>u32</td><td>u32</td><td>u32</td><td>u32</td><td>u32</td><td>&hellip;</td><td>u32</td><td>u32</td><td>u32</td><td>u32</td><td>u32</td><td>u32</td><td>u32</td><td>u32</td><td>u32</td><td>u32</td><td>u32</td><td>u32</td><td>u32</td><td>u32</td><td>u32</td><td>u32</td><td>u32</td><td>u32</td><td>u32</td><td>u32</td><td>u32</td><td>u32</td><td>u32</td><td>u32</td><td>u32</td><td>u32</td><td>u32</td><td>u32</td><td>u32</td><td>u32</td><td>u32</td><td>u32</td><td>u32</td><td>u32</td><td>u32</td><td>u32</td><td>u32</td></tr></thead><tbody><tr><td>0</td><td>0</td><td>0</td><td>0</td><td>0</td><td>0</td><td>0</td><td>0</td><td>0</td><td>12</td><td>278</td><td>1292</td><td>0</td><td>0</td><td>0</td><td>0</td><td>0</td><td>0</td><td>0</td><td>0</td><td>0</td><td>202929</td><td>0</td><td>0</td><td>0</td><td>0</td><td>0</td><td>0</td><td>96391</td><td>2</td><td>0</td><td>0</td><td>0</td><td>0</td><td>0</td><td>0</td><td>0</td><td>&hellip;</td><td>169682</td><td>210295</td><td>154297</td><td>148431</td><td>156341</td><td>145755</td><td>1021</td><td>1021</td><td>1021</td><td>1021</td><td>1</td><td>0</td><td>0</td><td>0</td><td>0</td><td>0</td><td>0</td><td>0</td><td>0</td><td>0</td><td>0</td><td>0</td><td>0</td><td>0</td><td>0</td><td>0</td><td>0</td><td>0</td><td>0</td><td>0</td><td>0</td><td>41519</td><td>41519</td><td>41519</td><td>41519</td><td>41519</td><td>41519</td></tr></tbody></table></div>"
      ],
      "text/plain": [
       "shape: (1, 122)\n",
       "┌────────────┬────────┬────────────┬───────────┬───┬───────────┬───────────┬───────────┬───────────┐\n",
       "│ SK_ID_CURR ┆ TARGET ┆ NAME_CONTR ┆ CODE_GEND ┆ … ┆ AMT_REQ_C ┆ AMT_REQ_C ┆ AMT_REQ_C ┆ AMT_REQ_C │\n",
       "│ ---        ┆ ---    ┆ ACT_TYPE   ┆ ER        ┆   ┆ REDIT_BUR ┆ REDIT_BUR ┆ REDIT_BUR ┆ REDIT_BUR │\n",
       "│ u32        ┆ u32    ┆ ---        ┆ ---       ┆   ┆ EAU_WEEK  ┆ EAU_MON   ┆ EAU_QRT   ┆ EAU_YEAR  │\n",
       "│            ┆        ┆ u32        ┆ u32       ┆   ┆ ---       ┆ ---       ┆ ---       ┆ ---       │\n",
       "│            ┆        ┆            ┆           ┆   ┆ u32       ┆ u32       ┆ u32       ┆ u32       │\n",
       "╞════════════╪════════╪════════════╪═══════════╪═══╪═══════════╪═══════════╪═══════════╪═══════════╡\n",
       "│ 0          ┆ 0      ┆ 0          ┆ 0         ┆ … ┆ 41519     ┆ 41519     ┆ 41519     ┆ 41519     │\n",
       "└────────────┴────────┴────────────┴───────────┴───┴───────────┴───────────┴───────────┴───────────┘"
      ]
     },
     "execution_count": 35,
     "metadata": {},
     "output_type": "execute_result"
    }
   ],
   "source": [
    "application_train.null_count()"
   ]
  },
  {
   "cell_type": "code",
   "execution_count": null,
   "metadata": {},
   "outputs": [],
   "source": []
  },
  {
   "cell_type": "code",
   "execution_count": 33,
   "metadata": {},
   "outputs": [
    {
     "data": {
      "text/plain": [
       "['SK_ID_PREV',\n",
       " 'AMT_APPLICATION',\n",
       " 'AMT_DOWN_PAYMENT',\n",
       " 'FLAG_LAST_APPL_PER_CONTRACT',\n",
       " 'NFLAG_LAST_APPL_IN_DAY',\n",
       " 'RATE_DOWN_PAYMENT',\n",
       " 'RATE_INTEREST_PRIMARY',\n",
       " 'RATE_INTEREST_PRIVILEGED',\n",
       " 'NAME_CASH_LOAN_PURPOSE',\n",
       " 'NAME_CONTRACT_STATUS',\n",
       " 'DAYS_DECISION',\n",
       " 'NAME_PAYMENT_TYPE',\n",
       " 'CODE_REJECT_REASON',\n",
       " 'NAME_CLIENT_TYPE',\n",
       " 'NAME_GOODS_CATEGORY',\n",
       " 'NAME_PORTFOLIO',\n",
       " 'NAME_PRODUCT_TYPE',\n",
       " 'CHANNEL_TYPE',\n",
       " 'SELLERPLACE_AREA',\n",
       " 'NAME_SELLER_INDUSTRY',\n",
       " 'CNT_PAYMENT',\n",
       " 'NAME_YIELD_GROUP',\n",
       " 'PRODUCT_COMBINATION',\n",
       " 'DAYS_FIRST_DRAWING',\n",
       " 'DAYS_FIRST_DUE',\n",
       " 'DAYS_LAST_DUE_1ST_VERSION',\n",
       " 'DAYS_LAST_DUE',\n",
       " 'DAYS_TERMINATION',\n",
       " 'NFLAG_INSURED_ON_APPROVAL']"
      ]
     },
     "execution_count": 33,
     "metadata": {},
     "output_type": "execute_result"
    }
   ],
   "source": [
    "[col for col in previous_application.columns if col not in application_train.columns]"
   ]
  },
  {
   "cell_type": "code",
   "execution_count": 21,
   "metadata": {},
   "outputs": [
    {
     "data": {
      "text/html": [
       "<div><style>\n",
       ".dataframe > thead > tr > th,\n",
       ".dataframe > tbody > tr > td {\n",
       "  text-align: right;\n",
       "  white-space: pre-wrap;\n",
       "}\n",
       "</style>\n",
       "<small>shape: (1_670_214, 37)</small><table border=\"1\" class=\"dataframe\"><thead><tr><th>SK_ID_PREV</th><th>SK_ID_CURR</th><th>NAME_CONTRACT_TYPE</th><th>AMT_ANNUITY</th><th>AMT_APPLICATION</th><th>AMT_CREDIT</th><th>AMT_DOWN_PAYMENT</th><th>AMT_GOODS_PRICE</th><th>WEEKDAY_APPR_PROCESS_START</th><th>HOUR_APPR_PROCESS_START</th><th>FLAG_LAST_APPL_PER_CONTRACT</th><th>NFLAG_LAST_APPL_IN_DAY</th><th>RATE_DOWN_PAYMENT</th><th>RATE_INTEREST_PRIMARY</th><th>RATE_INTEREST_PRIVILEGED</th><th>NAME_CASH_LOAN_PURPOSE</th><th>NAME_CONTRACT_STATUS</th><th>DAYS_DECISION</th><th>NAME_PAYMENT_TYPE</th><th>CODE_REJECT_REASON</th><th>NAME_TYPE_SUITE</th><th>NAME_CLIENT_TYPE</th><th>NAME_GOODS_CATEGORY</th><th>NAME_PORTFOLIO</th><th>NAME_PRODUCT_TYPE</th><th>CHANNEL_TYPE</th><th>SELLERPLACE_AREA</th><th>NAME_SELLER_INDUSTRY</th><th>CNT_PAYMENT</th><th>NAME_YIELD_GROUP</th><th>PRODUCT_COMBINATION</th><th>DAYS_FIRST_DRAWING</th><th>DAYS_FIRST_DUE</th><th>DAYS_LAST_DUE_1ST_VERSION</th><th>DAYS_LAST_DUE</th><th>DAYS_TERMINATION</th><th>NFLAG_INSURED_ON_APPROVAL</th></tr><tr><td>i64</td><td>i64</td><td>str</td><td>f64</td><td>f64</td><td>f64</td><td>f64</td><td>f64</td><td>str</td><td>i64</td><td>str</td><td>i64</td><td>f64</td><td>f64</td><td>f64</td><td>str</td><td>str</td><td>i64</td><td>str</td><td>str</td><td>str</td><td>str</td><td>str</td><td>str</td><td>str</td><td>str</td><td>i64</td><td>str</td><td>f64</td><td>str</td><td>str</td><td>f64</td><td>f64</td><td>f64</td><td>f64</td><td>f64</td><td>f64</td></tr></thead><tbody><tr><td>2030495</td><td>271877</td><td>&quot;Consumer loans…</td><td>1730.43</td><td>17145.0</td><td>17145.0</td><td>0.0</td><td>17145.0</td><td>&quot;SATURDAY&quot;</td><td>15</td><td>&quot;Y&quot;</td><td>1</td><td>0.0</td><td>0.182832</td><td>0.867336</td><td>&quot;XAP&quot;</td><td>&quot;Approved&quot;</td><td>-73</td><td>&quot;Cash through t…</td><td>&quot;XAP&quot;</td><td>null</td><td>&quot;Repeater&quot;</td><td>&quot;Mobile&quot;</td><td>&quot;POS&quot;</td><td>&quot;XNA&quot;</td><td>&quot;Country-wide&quot;</td><td>35</td><td>&quot;Connectivity&quot;</td><td>12.0</td><td>&quot;middle&quot;</td><td>&quot;POS mobile wit…</td><td>365243.0</td><td>-42.0</td><td>300.0</td><td>-42.0</td><td>-37.0</td><td>0.0</td></tr><tr><td>2802425</td><td>108129</td><td>&quot;Cash loans&quot;</td><td>25188.615</td><td>607500.0</td><td>679671.0</td><td>null</td><td>607500.0</td><td>&quot;THURSDAY&quot;</td><td>11</td><td>&quot;Y&quot;</td><td>1</td><td>null</td><td>null</td><td>null</td><td>&quot;XNA&quot;</td><td>&quot;Approved&quot;</td><td>-164</td><td>&quot;XNA&quot;</td><td>&quot;XAP&quot;</td><td>&quot;Unaccompanied&quot;</td><td>&quot;Repeater&quot;</td><td>&quot;XNA&quot;</td><td>&quot;Cash&quot;</td><td>&quot;x-sell&quot;</td><td>&quot;Contact center…</td><td>-1</td><td>&quot;XNA&quot;</td><td>36.0</td><td>&quot;low_action&quot;</td><td>&quot;Cash X-Sell: l…</td><td>365243.0</td><td>-134.0</td><td>916.0</td><td>365243.0</td><td>365243.0</td><td>1.0</td></tr><tr><td>2523466</td><td>122040</td><td>&quot;Cash loans&quot;</td><td>15060.735</td><td>112500.0</td><td>136444.5</td><td>null</td><td>112500.0</td><td>&quot;TUESDAY&quot;</td><td>11</td><td>&quot;Y&quot;</td><td>1</td><td>null</td><td>null</td><td>null</td><td>&quot;XNA&quot;</td><td>&quot;Approved&quot;</td><td>-301</td><td>&quot;Cash through t…</td><td>&quot;XAP&quot;</td><td>&quot;Spouse, partne…</td><td>&quot;Repeater&quot;</td><td>&quot;XNA&quot;</td><td>&quot;Cash&quot;</td><td>&quot;x-sell&quot;</td><td>&quot;Credit and cas…</td><td>-1</td><td>&quot;XNA&quot;</td><td>12.0</td><td>&quot;high&quot;</td><td>&quot;Cash X-Sell: h…</td><td>365243.0</td><td>-271.0</td><td>59.0</td><td>365243.0</td><td>365243.0</td><td>1.0</td></tr><tr><td>2819243</td><td>176158</td><td>&quot;Cash loans&quot;</td><td>47041.335</td><td>450000.0</td><td>470790.0</td><td>null</td><td>450000.0</td><td>&quot;MONDAY&quot;</td><td>7</td><td>&quot;Y&quot;</td><td>1</td><td>null</td><td>null</td><td>null</td><td>&quot;XNA&quot;</td><td>&quot;Approved&quot;</td><td>-512</td><td>&quot;Cash through t…</td><td>&quot;XAP&quot;</td><td>null</td><td>&quot;Repeater&quot;</td><td>&quot;XNA&quot;</td><td>&quot;Cash&quot;</td><td>&quot;x-sell&quot;</td><td>&quot;Credit and cas…</td><td>-1</td><td>&quot;XNA&quot;</td><td>12.0</td><td>&quot;middle&quot;</td><td>&quot;Cash X-Sell: m…</td><td>365243.0</td><td>-482.0</td><td>-152.0</td><td>-182.0</td><td>-177.0</td><td>1.0</td></tr><tr><td>1784265</td><td>202054</td><td>&quot;Cash loans&quot;</td><td>31924.395</td><td>337500.0</td><td>404055.0</td><td>null</td><td>337500.0</td><td>&quot;THURSDAY&quot;</td><td>9</td><td>&quot;Y&quot;</td><td>1</td><td>null</td><td>null</td><td>null</td><td>&quot;Repairs&quot;</td><td>&quot;Refused&quot;</td><td>-781</td><td>&quot;Cash through t…</td><td>&quot;HC&quot;</td><td>null</td><td>&quot;Repeater&quot;</td><td>&quot;XNA&quot;</td><td>&quot;Cash&quot;</td><td>&quot;walk-in&quot;</td><td>&quot;Credit and cas…</td><td>-1</td><td>&quot;XNA&quot;</td><td>24.0</td><td>&quot;high&quot;</td><td>&quot;Cash Street: h…</td><td>null</td><td>null</td><td>null</td><td>null</td><td>null</td><td>null</td></tr><tr><td>1383531</td><td>199383</td><td>&quot;Cash loans&quot;</td><td>23703.93</td><td>315000.0</td><td>340573.5</td><td>null</td><td>315000.0</td><td>&quot;SATURDAY&quot;</td><td>8</td><td>&quot;Y&quot;</td><td>1</td><td>null</td><td>null</td><td>null</td><td>&quot;Everyday expen…</td><td>&quot;Approved&quot;</td><td>-684</td><td>&quot;Cash through t…</td><td>&quot;XAP&quot;</td><td>&quot;Family&quot;</td><td>&quot;Repeater&quot;</td><td>&quot;XNA&quot;</td><td>&quot;Cash&quot;</td><td>&quot;x-sell&quot;</td><td>&quot;Credit and cas…</td><td>-1</td><td>&quot;XNA&quot;</td><td>18.0</td><td>&quot;low_normal&quot;</td><td>&quot;Cash X-Sell: l…</td><td>365243.0</td><td>-654.0</td><td>-144.0</td><td>-144.0</td><td>-137.0</td><td>1.0</td></tr><tr><td>2315218</td><td>175704</td><td>&quot;Cash loans&quot;</td><td>null</td><td>0.0</td><td>0.0</td><td>null</td><td>null</td><td>&quot;TUESDAY&quot;</td><td>11</td><td>&quot;Y&quot;</td><td>1</td><td>null</td><td>null</td><td>null</td><td>&quot;XNA&quot;</td><td>&quot;Canceled&quot;</td><td>-14</td><td>&quot;XNA&quot;</td><td>&quot;XAP&quot;</td><td>null</td><td>&quot;Repeater&quot;</td><td>&quot;XNA&quot;</td><td>&quot;XNA&quot;</td><td>&quot;XNA&quot;</td><td>&quot;Credit and cas…</td><td>-1</td><td>&quot;XNA&quot;</td><td>null</td><td>&quot;XNA&quot;</td><td>&quot;Cash&quot;</td><td>null</td><td>null</td><td>null</td><td>null</td><td>null</td><td>null</td></tr><tr><td>1656711</td><td>296299</td><td>&quot;Cash loans&quot;</td><td>null</td><td>0.0</td><td>0.0</td><td>null</td><td>null</td><td>&quot;MONDAY&quot;</td><td>7</td><td>&quot;Y&quot;</td><td>1</td><td>null</td><td>null</td><td>null</td><td>&quot;XNA&quot;</td><td>&quot;Canceled&quot;</td><td>-21</td><td>&quot;XNA&quot;</td><td>&quot;XAP&quot;</td><td>null</td><td>&quot;Repeater&quot;</td><td>&quot;XNA&quot;</td><td>&quot;XNA&quot;</td><td>&quot;XNA&quot;</td><td>&quot;Credit and cas…</td><td>-1</td><td>&quot;XNA&quot;</td><td>null</td><td>&quot;XNA&quot;</td><td>&quot;Cash&quot;</td><td>null</td><td>null</td><td>null</td><td>null</td><td>null</td><td>null</td></tr><tr><td>2367563</td><td>342292</td><td>&quot;Cash loans&quot;</td><td>null</td><td>0.0</td><td>0.0</td><td>null</td><td>null</td><td>&quot;MONDAY&quot;</td><td>15</td><td>&quot;Y&quot;</td><td>1</td><td>null</td><td>null</td><td>null</td><td>&quot;XNA&quot;</td><td>&quot;Canceled&quot;</td><td>-386</td><td>&quot;XNA&quot;</td><td>&quot;XAP&quot;</td><td>null</td><td>&quot;Repeater&quot;</td><td>&quot;XNA&quot;</td><td>&quot;XNA&quot;</td><td>&quot;XNA&quot;</td><td>&quot;Credit and cas…</td><td>-1</td><td>&quot;XNA&quot;</td><td>null</td><td>&quot;XNA&quot;</td><td>&quot;Cash&quot;</td><td>null</td><td>null</td><td>null</td><td>null</td><td>null</td><td>null</td></tr><tr><td>2579447</td><td>334349</td><td>&quot;Cash loans&quot;</td><td>null</td><td>0.0</td><td>0.0</td><td>null</td><td>null</td><td>&quot;SATURDAY&quot;</td><td>15</td><td>&quot;Y&quot;</td><td>1</td><td>null</td><td>null</td><td>null</td><td>&quot;XNA&quot;</td><td>&quot;Canceled&quot;</td><td>-57</td><td>&quot;XNA&quot;</td><td>&quot;XAP&quot;</td><td>null</td><td>&quot;Repeater&quot;</td><td>&quot;XNA&quot;</td><td>&quot;XNA&quot;</td><td>&quot;XNA&quot;</td><td>&quot;Credit and cas…</td><td>-1</td><td>&quot;XNA&quot;</td><td>null</td><td>&quot;XNA&quot;</td><td>&quot;Cash&quot;</td><td>null</td><td>null</td><td>null</td><td>null</td><td>null</td><td>null</td></tr><tr><td>1715995</td><td>447712</td><td>&quot;Cash loans&quot;</td><td>11368.62</td><td>270000.0</td><td>335754.0</td><td>null</td><td>270000.0</td><td>&quot;FRIDAY&quot;</td><td>7</td><td>&quot;Y&quot;</td><td>1</td><td>null</td><td>null</td><td>null</td><td>&quot;XNA&quot;</td><td>&quot;Approved&quot;</td><td>-735</td><td>&quot;Cash through t…</td><td>&quot;XAP&quot;</td><td>&quot;Unaccompanied&quot;</td><td>&quot;Repeater&quot;</td><td>&quot;XNA&quot;</td><td>&quot;Cash&quot;</td><td>&quot;x-sell&quot;</td><td>&quot;Credit and cas…</td><td>-1</td><td>&quot;XNA&quot;</td><td>54.0</td><td>&quot;low_normal&quot;</td><td>&quot;Cash X-Sell: l…</td><td>365243.0</td><td>-705.0</td><td>885.0</td><td>-345.0</td><td>-334.0</td><td>1.0</td></tr><tr><td>2257824</td><td>161140</td><td>&quot;Cash loans&quot;</td><td>13832.775</td><td>211500.0</td><td>246397.5</td><td>null</td><td>211500.0</td><td>&quot;FRIDAY&quot;</td><td>10</td><td>&quot;Y&quot;</td><td>1</td><td>null</td><td>null</td><td>null</td><td>&quot;XNA&quot;</td><td>&quot;Approved&quot;</td><td>-815</td><td>&quot;Cash through t…</td><td>&quot;XAP&quot;</td><td>&quot;Unaccompanied&quot;</td><td>&quot;Repeater&quot;</td><td>&quot;XNA&quot;</td><td>&quot;Cash&quot;</td><td>&quot;x-sell&quot;</td><td>&quot;Credit and cas…</td><td>-1</td><td>&quot;XNA&quot;</td><td>30.0</td><td>&quot;middle&quot;</td><td>&quot;Cash X-Sell: m…</td><td>365243.0</td><td>-785.0</td><td>85.0</td><td>-725.0</td><td>-721.0</td><td>1.0</td></tr><tr><td>&hellip;</td><td>&hellip;</td><td>&hellip;</td><td>&hellip;</td><td>&hellip;</td><td>&hellip;</td><td>&hellip;</td><td>&hellip;</td><td>&hellip;</td><td>&hellip;</td><td>&hellip;</td><td>&hellip;</td><td>&hellip;</td><td>&hellip;</td><td>&hellip;</td><td>&hellip;</td><td>&hellip;</td><td>&hellip;</td><td>&hellip;</td><td>&hellip;</td><td>&hellip;</td><td>&hellip;</td><td>&hellip;</td><td>&hellip;</td><td>&hellip;</td><td>&hellip;</td><td>&hellip;</td><td>&hellip;</td><td>&hellip;</td><td>&hellip;</td><td>&hellip;</td><td>&hellip;</td><td>&hellip;</td><td>&hellip;</td><td>&hellip;</td><td>&hellip;</td><td>&hellip;</td></tr><tr><td>2205099</td><td>157707</td><td>&quot;Consumer loans…</td><td>4334.355</td><td>22207.5</td><td>23854.5</td><td>0.0</td><td>22207.5</td><td>&quot;THURSDAY&quot;</td><td>10</td><td>&quot;Y&quot;</td><td>1</td><td>0.0</td><td>null</td><td>null</td><td>&quot;XAP&quot;</td><td>&quot;Approved&quot;</td><td>-979</td><td>&quot;Cash through t…</td><td>&quot;XAP&quot;</td><td>&quot;Family&quot;</td><td>&quot;Repeater&quot;</td><td>&quot;Furniture&quot;</td><td>&quot;POS&quot;</td><td>&quot;XNA&quot;</td><td>&quot;Stone&quot;</td><td>20</td><td>&quot;Clothing&quot;</td><td>6.0</td><td>&quot;middle&quot;</td><td>&quot;POS industry w…</td><td>365243.0</td><td>-948.0</td><td>-798.0</td><td>-858.0</td><td>-850.0</td><td>0.0</td></tr><tr><td>2844282</td><td>383898</td><td>&quot;Consumer loans…</td><td>null</td><td>14791.5</td><td>14791.5</td><td>0.0</td><td>14791.5</td><td>&quot;TUESDAY&quot;</td><td>13</td><td>&quot;Y&quot;</td><td>1</td><td>0.0</td><td>null</td><td>null</td><td>&quot;XAP&quot;</td><td>&quot;Refused&quot;</td><td>-1848</td><td>&quot;Cash through t…</td><td>&quot;XNA&quot;</td><td>&quot;Unaccompanied&quot;</td><td>&quot;New&quot;</td><td>&quot;Mobile&quot;</td><td>&quot;XNA&quot;</td><td>&quot;XNA&quot;</td><td>&quot;Stone&quot;</td><td>106</td><td>&quot;Connectivity&quot;</td><td>null</td><td>&quot;XNA&quot;</td><td>&quot;POS mobile wit…</td><td>null</td><td>null</td><td>null</td><td>null</td><td>null</td><td>null</td></tr><tr><td>1407146</td><td>198989</td><td>&quot;Cash loans&quot;</td><td>36598.095</td><td>450000.0</td><td>570073.5</td><td>null</td><td>450000.0</td><td>&quot;THURSDAY&quot;</td><td>12</td><td>&quot;Y&quot;</td><td>1</td><td>null</td><td>null</td><td>null</td><td>&quot;XNA&quot;</td><td>&quot;Refused&quot;</td><td>-848</td><td>&quot;Cash through t…</td><td>&quot;HC&quot;</td><td>&quot;Unaccompanied&quot;</td><td>&quot;Repeater&quot;</td><td>&quot;XNA&quot;</td><td>&quot;Cash&quot;</td><td>&quot;x-sell&quot;</td><td>&quot;Credit and cas…</td><td>100</td><td>&quot;XNA&quot;</td><td>24.0</td><td>&quot;middle&quot;</td><td>&quot;Cash X-Sell: m…</td><td>null</td><td>null</td><td>null</td><td>null</td><td>null</td><td>null</td></tr><tr><td>2815130</td><td>338803</td><td>&quot;Cash loans&quot;</td><td>14584.05</td><td>135000.0</td><td>182956.5</td><td>null</td><td>135000.0</td><td>&quot;SATURDAY&quot;</td><td>10</td><td>&quot;Y&quot;</td><td>1</td><td>null</td><td>null</td><td>null</td><td>&quot;XNA&quot;</td><td>&quot;Refused&quot;</td><td>-1407</td><td>&quot;Cash through t…</td><td>&quot;LIMIT&quot;</td><td>&quot;Unaccompanied&quot;</td><td>&quot;Repeater&quot;</td><td>&quot;XNA&quot;</td><td>&quot;Cash&quot;</td><td>&quot;walk-in&quot;</td><td>&quot;Credit and cas…</td><td>100</td><td>&quot;XNA&quot;</td><td>24.0</td><td>&quot;high&quot;</td><td>&quot;Cash Street: h…</td><td>null</td><td>null</td><td>null</td><td>null</td><td>null</td><td>null</td></tr><tr><td>2459206</td><td>238591</td><td>&quot;Cash loans&quot;</td><td>19401.435</td><td>180000.0</td><td>243936.0</td><td>0.0</td><td>180000.0</td><td>&quot;TUESDAY&quot;</td><td>13</td><td>&quot;Y&quot;</td><td>1</td><td>0.0</td><td>null</td><td>null</td><td>&quot;Purchase of el…</td><td>&quot;Approved&quot;</td><td>-1833</td><td>&quot;Cash through t…</td><td>&quot;XAP&quot;</td><td>&quot;Unaccompanied&quot;</td><td>&quot;New&quot;</td><td>&quot;XNA&quot;</td><td>&quot;Cash&quot;</td><td>&quot;walk-in&quot;</td><td>&quot;Credit and cas…</td><td>100</td><td>&quot;XNA&quot;</td><td>24.0</td><td>&quot;high&quot;</td><td>&quot;Cash Street: h…</td><td>365243.0</td><td>-1802.0</td><td>-1112.0</td><td>-1112.0</td><td>-1100.0</td><td>0.0</td></tr><tr><td>1662353</td><td>443544</td><td>&quot;Cash loans&quot;</td><td>12607.875</td><td>112500.0</td><td>112500.0</td><td>0.0</td><td>112500.0</td><td>&quot;MONDAY&quot;</td><td>10</td><td>&quot;Y&quot;</td><td>1</td><td>0.0</td><td>null</td><td>null</td><td>&quot;XNA&quot;</td><td>&quot;Refused&quot;</td><td>-2514</td><td>&quot;Cash through t…</td><td>&quot;SCO&quot;</td><td>&quot;Unaccompanied&quot;</td><td>&quot;Repeater&quot;</td><td>&quot;XNA&quot;</td><td>&quot;Cash&quot;</td><td>&quot;walk-in&quot;</td><td>&quot;Credit and cas…</td><td>100</td><td>&quot;XNA&quot;</td><td>12.0</td><td>&quot;high&quot;</td><td>&quot;Cash Street: h…</td><td>null</td><td>null</td><td>null</td><td>null</td><td>null</td><td>null</td></tr><tr><td>1556789</td><td>209732</td><td>&quot;Cash loans&quot;</td><td>22299.39</td><td>315000.0</td><td>436216.5</td><td>null</td><td>315000.0</td><td>&quot;THURSDAY&quot;</td><td>17</td><td>&quot;Y&quot;</td><td>1</td><td>null</td><td>null</td><td>null</td><td>&quot;XNA&quot;</td><td>&quot;Approved&quot;</td><td>-1279</td><td>&quot;Cash through t…</td><td>&quot;XAP&quot;</td><td>&quot;Unaccompanied&quot;</td><td>&quot;Refreshed&quot;</td><td>&quot;XNA&quot;</td><td>&quot;Cash&quot;</td><td>&quot;x-sell&quot;</td><td>&quot;Credit and cas…</td><td>100</td><td>&quot;XNA&quot;</td><td>36.0</td><td>&quot;middle&quot;</td><td>&quot;Cash X-Sell: m…</td><td>365243.0</td><td>-1249.0</td><td>-199.0</td><td>-919.0</td><td>-912.0</td><td>1.0</td></tr><tr><td>2300464</td><td>352015</td><td>&quot;Consumer loans…</td><td>14704.29</td><td>267295.5</td><td>311400.0</td><td>0.0</td><td>267295.5</td><td>&quot;WEDNESDAY&quot;</td><td>12</td><td>&quot;Y&quot;</td><td>1</td><td>0.0</td><td>null</td><td>null</td><td>&quot;XAP&quot;</td><td>&quot;Approved&quot;</td><td>-544</td><td>&quot;Cash through t…</td><td>&quot;XAP&quot;</td><td>null</td><td>&quot;Refreshed&quot;</td><td>&quot;Furniture&quot;</td><td>&quot;POS&quot;</td><td>&quot;XNA&quot;</td><td>&quot;Stone&quot;</td><td>43</td><td>&quot;Furniture&quot;</td><td>30.0</td><td>&quot;low_normal&quot;</td><td>&quot;POS industry w…</td><td>365243.0</td><td>-508.0</td><td>362.0</td><td>-358.0</td><td>-351.0</td><td>0.0</td></tr><tr><td>2357031</td><td>334635</td><td>&quot;Consumer loans…</td><td>6622.02</td><td>87750.0</td><td>64291.5</td><td>29250.0</td><td>87750.0</td><td>&quot;TUESDAY&quot;</td><td>15</td><td>&quot;Y&quot;</td><td>1</td><td>0.340554</td><td>null</td><td>null</td><td>&quot;XAP&quot;</td><td>&quot;Approved&quot;</td><td>-1694</td><td>&quot;Cash through t…</td><td>&quot;XAP&quot;</td><td>&quot;Unaccompanied&quot;</td><td>&quot;New&quot;</td><td>&quot;Furniture&quot;</td><td>&quot;POS&quot;</td><td>&quot;XNA&quot;</td><td>&quot;Stone&quot;</td><td>43</td><td>&quot;Furniture&quot;</td><td>12.0</td><td>&quot;middle&quot;</td><td>&quot;POS industry w…</td><td>365243.0</td><td>-1604.0</td><td>-1274.0</td><td>-1304.0</td><td>-1297.0</td><td>0.0</td></tr><tr><td>2659632</td><td>249544</td><td>&quot;Consumer loans…</td><td>11520.855</td><td>105237.0</td><td>102523.5</td><td>10525.5</td><td>105237.0</td><td>&quot;MONDAY&quot;</td><td>12</td><td>&quot;Y&quot;</td><td>1</td><td>0.101401</td><td>null</td><td>null</td><td>&quot;XAP&quot;</td><td>&quot;Approved&quot;</td><td>-1488</td><td>&quot;Cash through t…</td><td>&quot;XAP&quot;</td><td>&quot;Spouse, partne…</td><td>&quot;Repeater&quot;</td><td>&quot;Consumer Elect…</td><td>&quot;POS&quot;</td><td>&quot;XNA&quot;</td><td>&quot;Country-wide&quot;</td><td>1370</td><td>&quot;Consumer elect…</td><td>10.0</td><td>&quot;low_normal&quot;</td><td>&quot;POS household …</td><td>365243.0</td><td>-1457.0</td><td>-1187.0</td><td>-1187.0</td><td>-1181.0</td><td>0.0</td></tr><tr><td>2785582</td><td>400317</td><td>&quot;Cash loans&quot;</td><td>18821.52</td><td>180000.0</td><td>191880.0</td><td>null</td><td>180000.0</td><td>&quot;WEDNESDAY&quot;</td><td>9</td><td>&quot;Y&quot;</td><td>1</td><td>null</td><td>null</td><td>null</td><td>&quot;XNA&quot;</td><td>&quot;Approved&quot;</td><td>-1185</td><td>&quot;Cash through t…</td><td>&quot;XAP&quot;</td><td>&quot;Family&quot;</td><td>&quot;Repeater&quot;</td><td>&quot;XNA&quot;</td><td>&quot;Cash&quot;</td><td>&quot;x-sell&quot;</td><td>&quot;AP+ (Cash loan…</td><td>-1</td><td>&quot;XNA&quot;</td><td>12.0</td><td>&quot;low_normal&quot;</td><td>&quot;Cash X-Sell: l…</td><td>365243.0</td><td>-1155.0</td><td>-825.0</td><td>-825.0</td><td>-817.0</td><td>1.0</td></tr><tr><td>2418762</td><td>261212</td><td>&quot;Cash loans&quot;</td><td>16431.3</td><td>360000.0</td><td>360000.0</td><td>null</td><td>360000.0</td><td>&quot;SUNDAY&quot;</td><td>10</td><td>&quot;Y&quot;</td><td>1</td><td>null</td><td>null</td><td>null</td><td>&quot;XNA&quot;</td><td>&quot;Approved&quot;</td><td>-1193</td><td>&quot;Cash through t…</td><td>&quot;XAP&quot;</td><td>&quot;Family&quot;</td><td>&quot;Repeater&quot;</td><td>&quot;XNA&quot;</td><td>&quot;Cash&quot;</td><td>&quot;x-sell&quot;</td><td>&quot;AP+ (Cash loan…</td><td>-1</td><td>&quot;XNA&quot;</td><td>48.0</td><td>&quot;middle&quot;</td><td>&quot;Cash X-Sell: m…</td><td>365243.0</td><td>-1163.0</td><td>247.0</td><td>-443.0</td><td>-423.0</td><td>0.0</td></tr></tbody></table></div>"
      ],
      "text/plain": [
       "shape: (1_670_214, 37)\n",
       "┌───────────┬───────────┬───────────┬───────────┬───┬───────────┬───────────┬───────────┬──────────┐\n",
       "│ SK_ID_PRE ┆ SK_ID_CUR ┆ NAME_CONT ┆ AMT_ANNUI ┆ … ┆ DAYS_LAST ┆ DAYS_LAST ┆ DAYS_TERM ┆ NFLAG_IN │\n",
       "│ V         ┆ R         ┆ RACT_TYPE ┆ TY        ┆   ┆ _DUE_1ST_ ┆ _DUE      ┆ INATION   ┆ SURED_ON │\n",
       "│ ---       ┆ ---       ┆ ---       ┆ ---       ┆   ┆ VERSION   ┆ ---       ┆ ---       ┆ _APPROVA │\n",
       "│ i64       ┆ i64       ┆ str       ┆ f64       ┆   ┆ ---       ┆ f64       ┆ f64       ┆ L        │\n",
       "│           ┆           ┆           ┆           ┆   ┆ f64       ┆           ┆           ┆ ---      │\n",
       "│           ┆           ┆           ┆           ┆   ┆           ┆           ┆           ┆ f64      │\n",
       "╞═══════════╪═══════════╪═══════════╪═══════════╪═══╪═══════════╪═══════════╪═══════════╪══════════╡\n",
       "│ 2030495   ┆ 271877    ┆ Consumer  ┆ 1730.43   ┆ … ┆ 300.0     ┆ -42.0     ┆ -37.0     ┆ 0.0      │\n",
       "│           ┆           ┆ loans     ┆           ┆   ┆           ┆           ┆           ┆          │\n",
       "│ 2802425   ┆ 108129    ┆ Cash      ┆ 25188.615 ┆ … ┆ 916.0     ┆ 365243.0  ┆ 365243.0  ┆ 1.0      │\n",
       "│           ┆           ┆ loans     ┆           ┆   ┆           ┆           ┆           ┆          │\n",
       "│ 2523466   ┆ 122040    ┆ Cash      ┆ 15060.735 ┆ … ┆ 59.0      ┆ 365243.0  ┆ 365243.0  ┆ 1.0      │\n",
       "│           ┆           ┆ loans     ┆           ┆   ┆           ┆           ┆           ┆          │\n",
       "│ 2819243   ┆ 176158    ┆ Cash      ┆ 47041.335 ┆ … ┆ -152.0    ┆ -182.0    ┆ -177.0    ┆ 1.0      │\n",
       "│           ┆           ┆ loans     ┆           ┆   ┆           ┆           ┆           ┆          │\n",
       "│ …         ┆ …         ┆ …         ┆ …         ┆ … ┆ …         ┆ …         ┆ …         ┆ …        │\n",
       "│ 2357031   ┆ 334635    ┆ Consumer  ┆ 6622.02   ┆ … ┆ -1274.0   ┆ -1304.0   ┆ -1297.0   ┆ 0.0      │\n",
       "│           ┆           ┆ loans     ┆           ┆   ┆           ┆           ┆           ┆          │\n",
       "│ 2659632   ┆ 249544    ┆ Consumer  ┆ 11520.855 ┆ … ┆ -1187.0   ┆ -1187.0   ┆ -1181.0   ┆ 0.0      │\n",
       "│           ┆           ┆ loans     ┆           ┆   ┆           ┆           ┆           ┆          │\n",
       "│ 2785582   ┆ 400317    ┆ Cash      ┆ 18821.52  ┆ … ┆ -825.0    ┆ -825.0    ┆ -817.0    ┆ 1.0      │\n",
       "│           ┆           ┆ loans     ┆           ┆   ┆           ┆           ┆           ┆          │\n",
       "│ 2418762   ┆ 261212    ┆ Cash      ┆ 16431.3   ┆ … ┆ 247.0     ┆ -443.0    ┆ -423.0    ┆ 0.0      │\n",
       "│           ┆           ┆ loans     ┆           ┆   ┆           ┆           ┆           ┆          │\n",
       "└───────────┴───────────┴───────────┴───────────┴───┴───────────┴───────────┴───────────┴──────────┘"
      ]
     },
     "execution_count": 21,
     "metadata": {},
     "output_type": "execute_result"
    }
   ],
   "source": [
    "previous_application"
   ]
  },
  {
   "cell_type": "code",
   "execution_count": null,
   "metadata": {},
   "outputs": [],
   "source": []
  }
 ],
 "metadata": {
  "kernelspec": {
   "display_name": "base",
   "language": "python",
   "name": "python3"
  },
  "language_info": {
   "codemirror_mode": {
    "name": "ipython",
    "version": 3
   },
   "file_extension": ".py",
   "mimetype": "text/x-python",
   "name": "python",
   "nbconvert_exporter": "python",
   "pygments_lexer": "ipython3",
   "version": "3.9.13"
  }
 },
 "nbformat": 4,
 "nbformat_minor": 2
}
