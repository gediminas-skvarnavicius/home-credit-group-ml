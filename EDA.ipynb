{
 "cells": [
  {
   "cell_type": "markdown",
   "metadata": {},
   "source": [
    "EDA"
   ]
  },
  {
   "cell_type": "code",
   "execution_count": 1,
   "metadata": {},
   "outputs": [],
   "source": [
    "%reload_ext autoreload\n",
    "%autoreload 1\n",
    "import joblib\n",
    "import numpy as np\n",
    "import polars as pl\n",
    "import matplotlib.pyplot as plt\n",
    "import seaborn as sns\n",
    "from sklearn.metrics import classification_report\n",
    "import auxiliary.lists as aux_lists\n",
    "import auxiliary.transformers as tr\n",
    "import auxiliary.eda_functions as eda\n",
    "from sklearn.model_selection import train_test_split\n",
    "from sklearn.preprocessing import MinMaxScaler\n",
    "%aimport auxiliary.lists\n",
    "%aimport auxiliary.transformers\n",
    "%aimport auxiliary.eda_functions\n"
   ]
  },
  {
   "cell_type": "code",
   "execution_count": 71,
   "metadata": {},
   "outputs": [],
   "source": [
    "# applicattion_test=pl.read_csv('data/application_test.csv')\n",
    "application_train=pl.read_csv('data/application_train.csv')\n",
    "buereau_balance=pl.read_csv('data/bureau_balance.csv')\n",
    "buereau=pl.read_csv('data/bureau.csv')\n",
    "installments_payments=pl.read_csv('data/installments_payments.csv')\n",
    "POS_CASH_balance=pl.read_csv('data/POS_CASH_balance.csv')\n",
    "previous_application=pl.read_csv('data/previous_application.csv')\n",
    "id_and_target=[\"SK_ID_CURR\", \"TARGET\"]"
   ]
  },
  {
   "cell_type": "code",
   "execution_count": 51,
   "metadata": {},
   "outputs": [],
   "source": [
    "buereau_num_cols = (\n",
    "    buereau.select([pl.col(pl.FLOAT_DTYPES), pl.col(pl.INTEGER_DTYPES)])\n",
    "    .drop(columns=id_and_target)\n",
    "    .columns\n",
    ")\n",
    "buereau_num_cols"
   ]
  },
  {
   "cell_type": "code",
   "execution_count": 44,
   "metadata": {},
   "outputs": [],
   "source": [
    "buereau_agg = pl.DataFrame(application_train[\"SK_ID_CURR\"])\n",
    "\n",
    "for col in buereau_num_cols:\n",
    "    buereau_agg = buereau_agg.join(\n",
    "        buereau.group_by(pl.col(\"SK_ID_CURR\")).agg(pl.col(col).mean().suffix(\"_mean\")),\n",
    "        on=\"SK_ID_CURR\",how='left'\n",
    "    )\n",
    "\n",
    "for col in buereau_num_cols:\n",
    "    buereau_agg = buereau_agg.join(\n",
    "        buereau.group_by(pl.col(\"SK_ID_CURR\")).agg(pl.col(col).sum().suffix(\"_sum\")),\n",
    "        on=\"SK_ID_CURR\",how='left'\n",
    "    )\n",
    "\n",
    "for col in buereau_num_cols:\n",
    "    buereau_agg = buereau_agg.join(\n",
    "        buereau.group_by(pl.col(\"SK_ID_CURR\")).agg(pl.col(col).min().suffix(\"_min\")),\n",
    "        on=\"SK_ID_CURR\",how='left'\n",
    "    )\n",
    "\n",
    "for col in buereau_num_cols:\n",
    "    buereau_agg = buereau_agg.join(\n",
    "        buereau.group_by(pl.col(\"SK_ID_CURR\")).agg(pl.col(col).max().suffix(\"_max\")),\n",
    "        on=\"SK_ID_CURR\",how='left'\n",
    "    )\n",
    "\n",
    "for col in buereau_num_cols:\n",
    "    buereau_agg = buereau_agg.join(\n",
    "        buereau.group_by(pl.col(\"SK_ID_CURR\")).agg(pl.col(col).std().suffix(\"_std\")),\n",
    "        on=\"SK_ID_CURR\",how='left'\n",
    "    )"
   ]
  },
  {
   "cell_type": "code",
   "execution_count": 49,
   "metadata": {},
   "outputs": [],
   "source": [
    "buereau_agg=buereau_agg.join(application_train[id_and_target],on='SK_ID_CURR',how='left')"
   ]
  },
  {
   "cell_type": "code",
   "execution_count": 72,
   "metadata": {},
   "outputs": [],
   "source": [
    "test_bureu_aggs = eda.test_with_catboost_crossval(\n",
    "    buereau_agg.drop(columns=id_and_target), buereau_agg[\"TARGET\"]\n",
    ")"
   ]
  },
  {
   "cell_type": "code",
   "execution_count": 3,
   "metadata": {},
   "outputs": [],
   "source": [
    "application_train, application_val = train_test_split(\n",
    "    application_train,\n",
    "    train_size=0.33,\n",
    "    stratify=application_train[\"TARGET\"],\n",
    "    random_state=1,\n",
    ")"
   ]
  },
  {
   "cell_type": "code",
   "execution_count": 4,
   "metadata": {},
   "outputs": [
    {
     "data": {
      "text/html": [
       "<div><style>\n",
       ".dataframe > thead > tr > th,\n",
       ".dataframe > tbody > tr > td {\n",
       "  text-align: right;\n",
       "  white-space: pre-wrap;\n",
       "}\n",
       "</style>\n",
       "<small>shape: (2, 2)</small><table border=\"1\" class=\"dataframe\"><thead><tr><th>TARGET</th><th>counts</th></tr><tr><td>i64</td><td>u32</td></tr></thead><tbody><tr><td>1</td><td>8192</td></tr><tr><td>0</td><td>93286</td></tr></tbody></table></div>"
      ],
      "text/plain": [
       "shape: (2, 2)\n",
       "┌────────┬────────┐\n",
       "│ TARGET ┆ counts │\n",
       "│ ---    ┆ ---    │\n",
       "│ i64    ┆ u32    │\n",
       "╞════════╪════════╡\n",
       "│ 1      ┆ 8192   │\n",
       "│ 0      ┆ 93286  │\n",
       "└────────┴────────┘"
      ]
     },
     "execution_count": 4,
     "metadata": {},
     "output_type": "execute_result"
    }
   ],
   "source": [
    "application_train['TARGET'].value_counts()"
   ]
  },
  {
   "cell_type": "markdown",
   "metadata": {},
   "source": [
    "#### Duplicates"
   ]
  },
  {
   "cell_type": "code",
   "execution_count": 5,
   "metadata": {},
   "outputs": [
    {
     "data": {
      "text/plain": [
       "False"
      ]
     },
     "execution_count": 5,
     "metadata": {},
     "output_type": "execute_result"
    }
   ],
   "source": [
    "application_train['SK_ID_CURR'].is_duplicated().any()"
   ]
  },
  {
   "cell_type": "markdown",
   "metadata": {},
   "source": [
    "#### Missing Values\n"
   ]
  },
  {
   "cell_type": "code",
   "execution_count": 6,
   "metadata": {},
   "outputs": [
    {
     "data": {
      "text/html": [
       "<div><style>\n",
       ".dataframe > thead > tr > th,\n",
       ".dataframe > tbody > tr > td {\n",
       "  text-align: right;\n",
       "  white-space: pre-wrap;\n",
       "}\n",
       "</style>\n",
       "<small>shape: (10, 2)</small><table border=\"1\" class=\"dataframe\"><thead><tr><th>missing_fraction</th><th>feature</th></tr><tr><td>f64</td><td>str</td></tr></thead><tbody><tr><td>0.700221</td><td>&quot;COMMONAREA_AVG…</td></tr><tr><td>0.700221</td><td>&quot;COMMONAREA_MOD…</td></tr><tr><td>0.700221</td><td>&quot;COMMONAREA_MED…</td></tr><tr><td>0.695234</td><td>&quot;NONLIVINGAPART…</td></tr><tr><td>0.695234</td><td>&quot;NONLIVINGAPART…</td></tr><tr><td>0.695234</td><td>&quot;NONLIVINGAPART…</td></tr><tr><td>0.684749</td><td>&quot;FONDKAPREMONT_…</td></tr><tr><td>0.684542</td><td>&quot;LIVINGAPARTMEN…</td></tr><tr><td>0.684542</td><td>&quot;LIVINGAPARTMEN…</td></tr><tr><td>0.684542</td><td>&quot;LIVINGAPARTMEN…</td></tr></tbody></table></div>"
      ],
      "text/plain": [
       "shape: (10, 2)\n",
       "┌──────────────────┬─────────────────────────┐\n",
       "│ missing_fraction ┆ feature                 │\n",
       "│ ---              ┆ ---                     │\n",
       "│ f64              ┆ str                     │\n",
       "╞══════════════════╪═════════════════════════╡\n",
       "│ 0.700221         ┆ COMMONAREA_AVG          │\n",
       "│ 0.700221         ┆ COMMONAREA_MODE         │\n",
       "│ 0.700221         ┆ COMMONAREA_MEDI         │\n",
       "│ 0.695234         ┆ NONLIVINGAPARTMENTS_AVG │\n",
       "│ …                ┆ …                       │\n",
       "│ 0.684749         ┆ FONDKAPREMONT_MODE      │\n",
       "│ 0.684542         ┆ LIVINGAPARTMENTS_AVG    │\n",
       "│ 0.684542         ┆ LIVINGAPARTMENTS_MODE   │\n",
       "│ 0.684542         ┆ LIVINGAPARTMENTS_MEDI   │\n",
       "└──────────────────┴─────────────────────────┘"
      ]
     },
     "execution_count": 6,
     "metadata": {},
     "output_type": "execute_result"
    }
   ],
   "source": [
    "pl.DataFrame(\n",
    "    {\n",
    "        \"missing_fraction\": application_train.null_count().transpose().to_series()\n",
    "        / len(application_train),\n",
    "        \"feature\": application_train.columns,\n",
    "    }\n",
    ").sort(\"missing_fraction\",descending=True)[:10]"
   ]
  },
  {
   "cell_type": "code",
   "execution_count": 7,
   "metadata": {},
   "outputs": [],
   "source": [
    "string_cols=application_train.select(pl.col(pl.Utf8)).columns"
   ]
  },
  {
   "cell_type": "code",
   "execution_count": null,
   "metadata": {},
   "outputs": [],
   "source": [
    "\n"
   ]
  },
  {
   "cell_type": "markdown",
   "metadata": {},
   "source": [
    "### Feature importance"
   ]
  },
  {
   "cell_type": "code",
   "execution_count": 21,
   "metadata": {},
   "outputs": [
    {
     "name": "stdout",
     "output_type": "stream",
     "text": [
      "              precision    recall  f1-score   support\n",
      "\n",
      "           0       0.96      0.73      0.83    189400\n",
      "           1       0.17      0.64      0.27     16633\n",
      "\n",
      "    accuracy                           0.72    206033\n",
      "   macro avg       0.57      0.69      0.55    206033\n",
      "weighted avg       0.90      0.72      0.78    206033\n",
      "\n"
     ]
    },
    {
     "data": {
      "text/html": [
       "<div><style>\n",
       ".dataframe > thead > tr > th,\n",
       ".dataframe > tbody > tr > td {\n",
       "  text-align: right;\n",
       "  white-space: pre-wrap;\n",
       "}\n",
       "</style>\n",
       "<small>shape: (10, 2)</small><table border=\"1\" class=\"dataframe\"><thead><tr><th>feature</th><th>importance</th></tr><tr><td>str</td><td>f64</td></tr></thead><tbody><tr><td>&quot;EXT_SOURCE_3&quot;</td><td>12.654869</td></tr><tr><td>&quot;EXT_SOURCE_2&quot;</td><td>9.24611</td></tr><tr><td>&quot;EXT_SOURCE_1&quot;</td><td>5.942974</td></tr><tr><td>&quot;AMT_CREDIT&quot;</td><td>5.273107</td></tr><tr><td>&quot;AMT_GOODS_PRIC…</td><td>5.002266</td></tr><tr><td>&quot;AMT_ANNUITY&quot;</td><td>4.473649</td></tr><tr><td>&quot;DAYS_BIRTH&quot;</td><td>4.395158</td></tr><tr><td>&quot;DAYS_EMPLOYED&quot;</td><td>3.758365</td></tr><tr><td>&quot;DAYS_ID_PUBLIS…</td><td>2.751794</td></tr><tr><td>&quot;DAYS_LAST_PHON…</td><td>2.403092</td></tr></tbody></table></div>"
      ],
      "text/plain": [
       "shape: (10, 2)\n",
       "┌────────────────────────┬────────────┐\n",
       "│ feature                ┆ importance │\n",
       "│ ---                    ┆ ---        │\n",
       "│ str                    ┆ f64        │\n",
       "╞════════════════════════╪════════════╡\n",
       "│ EXT_SOURCE_3           ┆ 12.654869  │\n",
       "│ EXT_SOURCE_2           ┆ 9.24611    │\n",
       "│ EXT_SOURCE_1           ┆ 5.942974   │\n",
       "│ AMT_CREDIT             ┆ 5.273107   │\n",
       "│ …                      ┆ …          │\n",
       "│ DAYS_BIRTH             ┆ 4.395158   │\n",
       "│ DAYS_EMPLOYED          ┆ 3.758365   │\n",
       "│ DAYS_ID_PUBLISH        ┆ 2.751794   │\n",
       "│ DAYS_LAST_PHONE_CHANGE ┆ 2.403092   │\n",
       "└────────────────────────┴────────────┘"
      ]
     },
     "metadata": {},
     "output_type": "display_data"
    }
   ],
   "source": [
    "initial_test=eda.test_with_catboost(application_train,application_val,string_cols)\n",
    "print(initial_test['report'])\n",
    "print(initial_test['roc_auc'])\n",
    "display(initial_test['features'][:10])"
   ]
  },
  {
   "cell_type": "markdown",
   "metadata": {},
   "source": [
    "### Common Sense Removal"
   ]
  },
  {
   "cell_type": "code",
   "execution_count": 9,
   "metadata": {},
   "outputs": [],
   "source": [
    "application_edited_train = application_train.clone()\n",
    "application_edited_val = application_val.clone()\n",
    "cols_to_remove=[]"
   ]
  },
  {
   "cell_type": "markdown",
   "metadata": {},
   "source": [
    "#### Home Feature Elimination"
   ]
  },
  {
   "cell_type": "code",
   "execution_count": 10,
   "metadata": {},
   "outputs": [],
   "source": [
    "home_base_features = list(set([col.rsplit(\"_\", 1)[0] for col in aux_lists.home_cols]))\n",
    "best_home_features = []\n",
    "\n",
    "for feature in home_base_features:\n",
    "    best_home_features.append(\n",
    "        initial_test[\"features\"]\n",
    "        .filter(pl.col(\"feature\").str.starts_with(feature))\n",
    "        .sort(\"importance\")[\"feature\"][0]\n",
    "    )\n",
    "\n",
    "cols_to_remove.extend([col for col in aux_lists.home_cols if col not in best_home_features])"
   ]
  },
  {
   "cell_type": "markdown",
   "metadata": {},
   "source": [
    "### Col cats"
   ]
  },
  {
   "cell_type": "code",
   "execution_count": 11,
   "metadata": {},
   "outputs": [
    {
     "data": {
      "text/plain": [
       "3"
      ]
     },
     "execution_count": 11,
     "metadata": {},
     "output_type": "execute_result"
    }
   ],
   "source": [
    "application_train.filter(pl.col('FLAG_OWN_CAR')==\"Y\")['OWN_CAR_AGE'].null_count()"
   ]
  },
  {
   "cell_type": "code",
   "execution_count": 12,
   "metadata": {},
   "outputs": [],
   "source": [
    "cols_to_remove.append('FLAG_OWN_CAR')"
   ]
  },
  {
   "cell_type": "code",
   "execution_count": 13,
   "metadata": {},
   "outputs": [
    {
     "name": "stdout",
     "output_type": "stream",
     "text": [
      "              precision    recall  f1-score   support\n",
      "\n",
      "           0       0.96      0.73      0.83    189400\n",
      "           1       0.17      0.65      0.27     16633\n",
      "\n",
      "    accuracy                           0.72    206033\n",
      "   macro avg       0.57      0.69      0.55    206033\n",
      "weighted avg       0.90      0.72      0.79    206033\n",
      "\n"
     ]
    }
   ],
   "source": [
    "application_edited_train = application_edited_train.drop(cols_to_remove)\n",
    "\n",
    "application_edited_val = application_edited_val.drop(cols_to_remove)\n",
    "\n",
    "string_cols_reduced = application_edited_train.select(pl.col(pl.Utf8)).columns\n",
    "\n",
    "test_home_removal = eda.test_with_catboost(\n",
    "    application_edited_train, application_edited_val, string_cols_reduced\n",
    ")\n",
    "\n",
    "print(test_home_removal[\"report\"])"
   ]
  },
  {
   "cell_type": "markdown",
   "metadata": {},
   "source": [
    "### Variance"
   ]
  },
  {
   "cell_type": "code",
   "execution_count": 14,
   "metadata": {},
   "outputs": [],
   "source": [
    "home_target_encoders = {}\n",
    "application_edited_encoded=application_edited_train.clone()\n",
    "for col in string_cols_reduced:\n",
    "    home_target_encoders[col] = tr.TargetMeanOrderedLabeler(how=\"label\")\n",
    "    application_edited_encoded = application_edited_encoded.with_columns(\n",
    "        home_target_encoders[col]\n",
    "        .fit_transform(\n",
    "            application_edited_encoded[col], application_edited_encoded[\"TARGET\"]\n",
    "        )\n",
    "        .alias(col)\n",
    "    )"
   ]
  },
  {
   "cell_type": "code",
   "execution_count": 15,
   "metadata": {},
   "outputs": [
    {
     "data": {
      "text/html": [
       "<div><style>\n",
       ".dataframe > thead > tr > th,\n",
       ".dataframe > tbody > tr > td {\n",
       "  text-align: right;\n",
       "  white-space: pre-wrap;\n",
       "}\n",
       "</style>\n",
       "<small>shape: (20, 2)</small><table border=\"1\" class=\"dataframe\"><thead><tr><th>feature</th><th>variance</th></tr><tr><td>str</td><td>f64</td></tr></thead><tbody><tr><td>&quot;FLAG_MOBIL&quot;</td><td>0.00001</td></tr><tr><td>&quot;FLAG_DOCUMENT_…</td><td>0.00001</td></tr><tr><td>&quot;FLAG_DOCUMENT_…</td><td>0.00001</td></tr><tr><td>&quot;FLAG_DOCUMENT_…</td><td>0.000039</td></tr><tr><td>&quot;FLAG_DOCUMENT_…</td><td>0.000108</td></tr><tr><td>&quot;FLAG_DOCUMENT_…</td><td>0.000177</td></tr><tr><td>&quot;AMT_INCOME_TOT…</td><td>0.00022</td></tr><tr><td>&quot;FLAG_DOCUMENT_…</td><td>0.000276</td></tr><tr><td>&quot;FLAG_DOCUMENT_…</td><td>0.000384</td></tr><tr><td>&quot;FLAG_DOCUMENT_…</td><td>0.000512</td></tr><tr><td>&quot;FLAG_DOCUMENT_…</td><td>0.000611</td></tr><tr><td>&quot;FLAG_DOCUMENT_…</td><td>0.001289</td></tr><tr><td>&quot;CNT_CHILDREN&quot;</td><td>0.001439</td></tr><tr><td>&quot;FLAG_CONT_MOBI…</td><td>0.001957</td></tr><tr><td>&quot;CNT_FAM_MEMBER…</td><td>0.002293</td></tr><tr><td>&quot;FLAG_DOCUMENT_…</td><td>0.002997</td></tr><tr><td>&quot;FLAG_DOCUMENT_…</td><td>0.003427</td></tr><tr><td>&quot;FLAG_DOCUMENT_…</td><td>0.003701</td></tr><tr><td>&quot;FLAG_DOCUMENT_…</td><td>0.003819</td></tr><tr><td>&quot;FLAG_DOCUMENT_…</td><td>0.007967</td></tr></tbody></table></div>"
      ],
      "text/plain": [
       "shape: (20, 2)\n",
       "┌──────────────────┬──────────┐\n",
       "│ feature          ┆ variance │\n",
       "│ ---              ┆ ---      │\n",
       "│ str              ┆ f64      │\n",
       "╞══════════════════╪══════════╡\n",
       "│ FLAG_MOBIL       ┆ 0.00001  │\n",
       "│ FLAG_DOCUMENT_10 ┆ 0.00001  │\n",
       "│ FLAG_DOCUMENT_12 ┆ 0.00001  │\n",
       "│ FLAG_DOCUMENT_2  ┆ 0.000039 │\n",
       "│ …                ┆ …        │\n",
       "│ FLAG_DOCUMENT_13 ┆ 0.003427 │\n",
       "│ FLAG_DOCUMENT_9  ┆ 0.003701 │\n",
       "│ FLAG_DOCUMENT_11 ┆ 0.003819 │\n",
       "│ FLAG_DOCUMENT_18 ┆ 0.007967 │\n",
       "└──────────────────┴──────────┘"
      ]
     },
     "execution_count": 15,
     "metadata": {},
     "output_type": "execute_result"
    }
   ],
   "source": [
    "feature_variance = pl.DataFrame(\n",
    "    {\n",
    "        \"feature\": application_edited_encoded.columns,\n",
    "        \"variance\": np.var(MinMaxScaler().fit_transform(application_edited_encoded),axis=0),\n",
    "    }\n",
    ")\n",
    "feature_variance.sort('variance')[:20]"
   ]
  },
  {
   "cell_type": "code",
   "execution_count": 16,
   "metadata": {},
   "outputs": [
    {
     "name": "stdout",
     "output_type": "stream",
     "text": [
      "FLAG_MOBIL: minority class count = 1 feature will be removed\n",
      "FLAG_DOCUMENT_2: minority class count = 4 feature will be removed\n",
      "FLAG_DOCUMENT_4: minority class count = 11 feature will be removed\n",
      "FLAG_DOCUMENT_7: minority class count = 18 feature will be removed\n",
      "FLAG_DOCUMENT_10: minority class count = 1 feature will be removed\n",
      "FLAG_DOCUMENT_12: minority class count = 1 feature will be removed\n",
      "FLAG_DOCUMENT_17: minority class count = 28 feature will be removed\n",
      "FLAG_DOCUMENT_19: minority class count = 62 feature will be removed\n",
      "FLAG_DOCUMENT_20: minority class count = 52 feature will be removed\n",
      "FLAG_DOCUMENT_21: minority class count = 39 feature will be removed\n"
     ]
    }
   ],
   "source": [
    "low_var_fatures=[]\n",
    "for feature in feature_variance.filter(pl.col('variance')<0.001)['feature']:\n",
    "    if application_edited_train[feature].n_unique()<10:\n",
    "        low_var_fatures.append(feature)\n",
    "        minority_count=application_edited_train[feature].value_counts().sort('counts')['counts'][0]\n",
    "        print(f'{feature}: minority class count = {minority_count} feature will be removed')"
   ]
  },
  {
   "cell_type": "code",
   "execution_count": 17,
   "metadata": {},
   "outputs": [],
   "source": [
    "application_edited_train=application_edited_train.drop(columns=low_var_fatures)\n",
    "application_edited_val=application_edited_val.drop(columns=low_var_fatures)"
   ]
  },
  {
   "cell_type": "code",
   "execution_count": 23,
   "metadata": {},
   "outputs": [
    {
     "name": "stdout",
     "output_type": "stream",
     "text": [
      "              precision    recall  f1-score   support\n",
      "\n",
      "           0       0.96      0.73      0.83    189400\n",
      "           1       0.17      0.64      0.27     16633\n",
      "\n",
      "    accuracy                           0.72    206033\n",
      "   macro avg       0.57      0.69      0.55    206033\n",
      "weighted avg       0.90      0.72      0.78    206033\n",
      "\n"
     ]
    }
   ],
   "source": [
    "test_var_removal = eda.test_with_catboost(\n",
    "    application_edited_train, application_edited_val, string_cols_reduced\n",
    ")\n",
    "\n",
    "print(test_var_removal[\"report\"])\n",
    "print(test_var_removal[\"roc_auc\"])"
   ]
  },
  {
   "cell_type": "code",
   "execution_count": 24,
   "metadata": {},
   "outputs": [
    {
     "name": "stdout",
     "output_type": "stream",
     "text": [
      "0.755768296203315\n"
     ]
    }
   ],
   "source": []
  }
 ],
 "metadata": {
  "kernelspec": {
   "display_name": "base",
   "language": "python",
   "name": "python3"
  },
  "language_info": {
   "codemirror_mode": {
    "name": "ipython",
    "version": 3
   },
   "file_extension": ".py",
   "mimetype": "text/x-python",
   "name": "python",
   "nbconvert_exporter": "python",
   "pygments_lexer": "ipython3",
   "version": "3.9.13"
  }
 },
 "nbformat": 4,
 "nbformat_minor": 2
}
