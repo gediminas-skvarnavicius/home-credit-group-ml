{
 "cells": [
  {
   "cell_type": "code",
   "execution_count": 23,
   "metadata": {},
   "outputs": [],
   "source": [
    "%reload_ext autoreload\n",
    "%autoreload 1\n",
    "import polars as pl\n",
    "from imblearn.pipeline import Pipeline,make_pipeline\n",
    "from sklearn.ensemble import ExtraTreesClassifier\n",
    "from rgf.sklearn import RGFClassifier\n",
    "import auxiliary.transformers as tr\n",
    "from auxiliary.transformers import PolarsColumnTransformer as PCT\n",
    "from lightgbm import LGBMClassifier\n",
    "from sklearn.model_selection import StratifiedKFold,train_test_split\n",
    "from sklearn.metrics import roc_auc_score\n",
    "import copy\n",
    "import auxiliary.tuning as tunes\n",
    "from ray import tune\n",
    "import joblib\n",
    "import numpy as np\n",
    "from BorutaShap import BorutaShap\n",
    "%aimport auxiliary.transformers\n",
    "%aimport auxiliary.tuning"
   ]
  },
  {
   "cell_type": "code",
   "execution_count": 2,
   "metadata": {},
   "outputs": [],
   "source": [
    "data = pl.read_parquet(\"temp/active_credit_cards.parquet\")\n",
    "X_train, X_test, y_train, y_test = train_test_split(\n",
    "    data.drop(columns=\"IS_OVER_LIMIT\"),\n",
    "    data[\"IS_OVER_LIMIT\"],\n",
    "    test_size=0.3,\n",
    "    stratify=data[\"IS_OVER_LIMIT\"],\n",
    "    random_state=1,\n",
    ")"
   ]
  },
  {
   "cell_type": "code",
   "execution_count": 3,
   "metadata": {},
   "outputs": [],
   "source": [
    "bool_features = []\n",
    "for feature in X_train.select(pl.col(pl.Utf8)).columns:\n",
    "    if X_train[feature].n_unique() == 2:\n",
    "        bool_features.append(feature)\n",
    "\n",
    "cat_features = [\n",
    "    feature\n",
    "    for feature in X_train.select(pl.col(pl.Utf8)).columns\n",
    "    if feature not in bool_features\n",
    "]\n",
    "\n",
    "numeric_features_with_nulls = (\n",
    "    pl.Series(\n",
    "        X_train.select(pl.col(pl.FLOAT_DTYPES), pl.col(pl.INTEGER_DTYPES)).columns\n",
    "    )\n",
    "    .filter(\n",
    "        X_train.select(pl.col(pl.FLOAT_DTYPES), pl.col(pl.INTEGER_DTYPES))\n",
    "        .select(pl.all().is_null().any())\n",
    "        .transpose()\n",
    "        .to_series()\n",
    "    )\n",
    "    .to_list()\n",
    ")"
   ]
  },
  {
   "cell_type": "code",
   "execution_count": 4,
   "metadata": {},
   "outputs": [],
   "source": [
    "preprocessing = Pipeline([])\n",
    "cat_imputers = tr.PolarsColumnTransformer([])\n",
    "for feature in cat_features:\n",
    "    cat_imputers.steps[feature] = PCT.Step(\n",
    "        feature, tr.NotInImputerPolars(min_values=100, fill_value=\"other\"), feature\n",
    "    )\n",
    "preprocessing.steps.append((\"cat_imputers\", cat_imputers))\n",
    "\n",
    "encoders = tr.PolarsColumnTransformer([])\n",
    "for feature in bool_features:\n",
    "    encoders.steps[feature] = PCT.Step(\n",
    "        feature, tr.PolarsOneHotEncoder(drop=True), feature\n",
    "    )\n",
    "for feature in cat_features:\n",
    "    encoders.steps[feature] = PCT.Step(\n",
    "        feature, tr.TargetMeanOrderedLabeler(how=\"label\"), feature\n",
    "    )\n",
    "preprocessing.steps.append((\"encoders\", encoders))\n",
    "feature_remover = tr.FeatureRemover([])\n",
    "preprocessing.steps.append((\"feature_removal\", feature_remover))"
   ]
  },
  {
   "cell_type": "code",
   "execution_count": 5,
   "metadata": {},
   "outputs": [],
   "source": [
    "num_imputer = tr.PolarsColumnTransformer([])\n",
    "for feature in numeric_features_with_nulls:\n",
    "    num_imputer.steps[feature] = PCT.Step(\n",
    "        feature, tr.NumDiffFromRestImputer(), feature\n",
    "    )\n",
    "preprocessing.steps.insert(0,('num_imputer', num_imputer))"
   ]
  },
  {
   "cell_type": "code",
   "execution_count": 6,
   "metadata": {},
   "outputs": [],
   "source": [
    "model_lgb=LGBMClassifier(n_jobs=1,verbosity=-1,force_col_wise=True)\n",
    "full_pipeline=Pipeline([('preprocess', preprocessing),('model',model_lgb)])"
   ]
  },
  {
   "cell_type": "code",
   "execution_count": 7,
   "metadata": {},
   "outputs": [],
   "source": [
    "from imblearn.over_sampling import SMOTE"
   ]
  },
  {
   "cell_type": "code",
   "execution_count": 8,
   "metadata": {},
   "outputs": [],
   "source": [
    "sm=SMOTE()"
   ]
  },
  {
   "cell_type": "code",
   "execution_count": 9,
   "metadata": {},
   "outputs": [],
   "source": [
    "# preprocessing.steps.append((\"smote\",sm))"
   ]
  },
  {
   "cell_type": "code",
   "execution_count": 31,
   "metadata": {},
   "outputs": [
    {
     "data": {
      "text/html": [
       "<style>#sk-container-id-5 {color: black;}#sk-container-id-5 pre{padding: 0;}#sk-container-id-5 div.sk-toggleable {background-color: white;}#sk-container-id-5 label.sk-toggleable__label {cursor: pointer;display: block;width: 100%;margin-bottom: 0;padding: 0.3em;box-sizing: border-box;text-align: center;}#sk-container-id-5 label.sk-toggleable__label-arrow:before {content: \"▸\";float: left;margin-right: 0.25em;color: #696969;}#sk-container-id-5 label.sk-toggleable__label-arrow:hover:before {color: black;}#sk-container-id-5 div.sk-estimator:hover label.sk-toggleable__label-arrow:before {color: black;}#sk-container-id-5 div.sk-toggleable__content {max-height: 0;max-width: 0;overflow: hidden;text-align: left;background-color: #f0f8ff;}#sk-container-id-5 div.sk-toggleable__content pre {margin: 0.2em;color: black;border-radius: 0.25em;background-color: #f0f8ff;}#sk-container-id-5 input.sk-toggleable__control:checked~div.sk-toggleable__content {max-height: 200px;max-width: 100%;overflow: auto;}#sk-container-id-5 input.sk-toggleable__control:checked~label.sk-toggleable__label-arrow:before {content: \"▾\";}#sk-container-id-5 div.sk-estimator input.sk-toggleable__control:checked~label.sk-toggleable__label {background-color: #d4ebff;}#sk-container-id-5 div.sk-label input.sk-toggleable__control:checked~label.sk-toggleable__label {background-color: #d4ebff;}#sk-container-id-5 input.sk-hidden--visually {border: 0;clip: rect(1px 1px 1px 1px);clip: rect(1px, 1px, 1px, 1px);height: 1px;margin: -1px;overflow: hidden;padding: 0;position: absolute;width: 1px;}#sk-container-id-5 div.sk-estimator {font-family: monospace;background-color: #f0f8ff;border: 1px dotted black;border-radius: 0.25em;box-sizing: border-box;margin-bottom: 0.5em;}#sk-container-id-5 div.sk-estimator:hover {background-color: #d4ebff;}#sk-container-id-5 div.sk-parallel-item::after {content: \"\";width: 100%;border-bottom: 1px solid gray;flex-grow: 1;}#sk-container-id-5 div.sk-label:hover label.sk-toggleable__label {background-color: #d4ebff;}#sk-container-id-5 div.sk-serial::before {content: \"\";position: absolute;border-left: 1px solid gray;box-sizing: border-box;top: 0;bottom: 0;left: 50%;z-index: 0;}#sk-container-id-5 div.sk-serial {display: flex;flex-direction: column;align-items: center;background-color: white;padding-right: 0.2em;padding-left: 0.2em;position: relative;}#sk-container-id-5 div.sk-item {position: relative;z-index: 1;}#sk-container-id-5 div.sk-parallel {display: flex;align-items: stretch;justify-content: center;background-color: white;position: relative;}#sk-container-id-5 div.sk-item::before, #sk-container-id-5 div.sk-parallel-item::before {content: \"\";position: absolute;border-left: 1px solid gray;box-sizing: border-box;top: 0;bottom: 0;left: 50%;z-index: -1;}#sk-container-id-5 div.sk-parallel-item {display: flex;flex-direction: column;z-index: 1;position: relative;background-color: white;}#sk-container-id-5 div.sk-parallel-item:first-child::after {align-self: flex-end;width: 50%;}#sk-container-id-5 div.sk-parallel-item:last-child::after {align-self: flex-start;width: 50%;}#sk-container-id-5 div.sk-parallel-item:only-child::after {width: 0;}#sk-container-id-5 div.sk-dashed-wrapped {border: 1px dashed gray;margin: 0 0.4em 0.5em 0.4em;box-sizing: border-box;padding-bottom: 0.4em;background-color: white;}#sk-container-id-5 div.sk-label label {font-family: monospace;font-weight: bold;display: inline-block;line-height: 1.2em;}#sk-container-id-5 div.sk-label-container {text-align: center;}#sk-container-id-5 div.sk-container {/* jupyter's `normalize.less` sets `[hidden] { display: none; }` but bootstrap.min.css set `[hidden] { display: none !important; }` so we also need the `!important` here to be able to override the default hidden behavior on the sphinx rendered scikit-learn.org. See: https://github.com/scikit-learn/scikit-learn/issues/21755 */display: inline-block !important;position: relative;}#sk-container-id-5 div.sk-text-repr-fallback {display: none;}</style><div id=\"sk-container-id-5\" class=\"sk-top-container\"><div class=\"sk-text-repr-fallback\"><pre>Pipeline(steps=[(&#x27;num_imputer&#x27;,\n",
       "                 PolarsColumnTransformer(steps=OrderedDict([(&#x27;AMT_DRAWINGS_ATM_CURRENT&#x27;,\n",
       "                                                             &lt;auxiliary.transformers.PolarsColumnTransformer.Step object at 0x7fafd5f60820&gt;),\n",
       "                                                            (&#x27;AMT_DRAWINGS_OTHER_CURRENT&#x27;,\n",
       "                                                             &lt;auxiliary.transformers.PolarsColumnTransformer.Step object at 0x7fafe408e3a0&gt;),\n",
       "                                                            (&#x27;AMT_DRAWINGS_POS_CURRENT&#x27;,\n",
       "                                                             &lt;auxiliary.transformers.PolarsColumn...\n",
       "                                                             &lt;auxiliary.transformers.PolarsColumnTransformer.Step object at 0x7faf7a7ebb50&gt;),\n",
       "                                                            (&#x27;NAME_HOUSING_TYPE&#x27;,\n",
       "                                                             &lt;auxiliary.transformers.PolarsColumnTransformer.Step object at 0x7faf7a7eb790&gt;),\n",
       "                                                            (&#x27;OCCUPATION_TYPE&#x27;,\n",
       "                                                             &lt;auxiliary.transformers.PolarsColumnTransformer.Step object at 0x7faf7a7eb610&gt;),\n",
       "                                                            (&#x27;ORGANIZATION_TYPE&#x27;,\n",
       "                                                             &lt;auxiliary.transformers.PolarsColumnTransformer.Step object at 0x7faf7a7050a0&gt;)]))),\n",
       "                (&#x27;feature_removal&#x27;, FeatureRemover())])</pre><b>In a Jupyter environment, please rerun this cell to show the HTML representation or trust the notebook. <br />On GitHub, the HTML representation is unable to render, please try loading this page with nbviewer.org.</b></div><div class=\"sk-container\" hidden><div class=\"sk-item sk-dashed-wrapped\"><div class=\"sk-label-container\"><div class=\"sk-label sk-toggleable\"><input class=\"sk-toggleable__control sk-hidden--visually\" id=\"sk-estimator-id-11\" type=\"checkbox\" ><label for=\"sk-estimator-id-11\" class=\"sk-toggleable__label sk-toggleable__label-arrow\">Pipeline</label><div class=\"sk-toggleable__content\"><pre>Pipeline(steps=[(&#x27;num_imputer&#x27;,\n",
       "                 PolarsColumnTransformer(steps=OrderedDict([(&#x27;AMT_DRAWINGS_ATM_CURRENT&#x27;,\n",
       "                                                             &lt;auxiliary.transformers.PolarsColumnTransformer.Step object at 0x7fafd5f60820&gt;),\n",
       "                                                            (&#x27;AMT_DRAWINGS_OTHER_CURRENT&#x27;,\n",
       "                                                             &lt;auxiliary.transformers.PolarsColumnTransformer.Step object at 0x7fafe408e3a0&gt;),\n",
       "                                                            (&#x27;AMT_DRAWINGS_POS_CURRENT&#x27;,\n",
       "                                                             &lt;auxiliary.transformers.PolarsColumn...\n",
       "                                                             &lt;auxiliary.transformers.PolarsColumnTransformer.Step object at 0x7faf7a7ebb50&gt;),\n",
       "                                                            (&#x27;NAME_HOUSING_TYPE&#x27;,\n",
       "                                                             &lt;auxiliary.transformers.PolarsColumnTransformer.Step object at 0x7faf7a7eb790&gt;),\n",
       "                                                            (&#x27;OCCUPATION_TYPE&#x27;,\n",
       "                                                             &lt;auxiliary.transformers.PolarsColumnTransformer.Step object at 0x7faf7a7eb610&gt;),\n",
       "                                                            (&#x27;ORGANIZATION_TYPE&#x27;,\n",
       "                                                             &lt;auxiliary.transformers.PolarsColumnTransformer.Step object at 0x7faf7a7050a0&gt;)]))),\n",
       "                (&#x27;feature_removal&#x27;, FeatureRemover())])</pre></div></div></div><div class=\"sk-serial\"><div class=\"sk-item\"><div class=\"sk-estimator sk-toggleable\"><input class=\"sk-toggleable__control sk-hidden--visually\" id=\"sk-estimator-id-12\" type=\"checkbox\" ><label for=\"sk-estimator-id-12\" class=\"sk-toggleable__label sk-toggleable__label-arrow\">PolarsColumnTransformer</label><div class=\"sk-toggleable__content\"><pre>PolarsColumnTransformer(steps=OrderedDict([(&#x27;AMT_DRAWINGS_ATM_CURRENT&#x27;,\n",
       "                                            &lt;auxiliary.transformers.PolarsColumnTransformer.Step object at 0x7fafd5f60820&gt;),\n",
       "                                           (&#x27;AMT_DRAWINGS_OTHER_CURRENT&#x27;,\n",
       "                                            &lt;auxiliary.transformers.PolarsColumnTransformer.Step object at 0x7fafe408e3a0&gt;),\n",
       "                                           (&#x27;AMT_DRAWINGS_POS_CURRENT&#x27;,\n",
       "                                            &lt;auxiliary.transformers.PolarsColumnTransformer.Step object at 0x7faf7...\n",
       "                                            &lt;auxiliary.transformers.PolarsColumnTransformer.Step object at 0x7faf7a7056d0&gt;),\n",
       "                                           (&#x27;HISTORIC_IS_OVER_LIMIT_sum&#x27;,\n",
       "                                            &lt;auxiliary.transformers.PolarsColumnTransformer.Step object at 0x7faf7a705790&gt;),\n",
       "                                           (&#x27;HISTORIC_IS_OVER_LIMIT_mode&#x27;,\n",
       "                                            &lt;auxiliary.transformers.PolarsColumnTransformer.Step object at 0x7faf7a705850&gt;),\n",
       "                                           (&#x27;APPLICATION_HOUR_APPR_PROCESS_START&#x27;,\n",
       "                                            &lt;auxiliary.transformers.PolarsColumnTransformer.Step object at 0x7faf7a705910&gt;), ...]))</pre></div></div></div><div class=\"sk-item\"><div class=\"sk-estimator sk-toggleable\"><input class=\"sk-toggleable__control sk-hidden--visually\" id=\"sk-estimator-id-13\" type=\"checkbox\" ><label for=\"sk-estimator-id-13\" class=\"sk-toggleable__label sk-toggleable__label-arrow\">PolarsColumnTransformer</label><div class=\"sk-toggleable__content\"><pre>PolarsColumnTransformer(steps=OrderedDict([(&#x27;APPLICATION_WEEKDAY_APPR_PROCESS_START&#x27;,\n",
       "                                            &lt;auxiliary.transformers.PolarsColumnTransformer.Step object at 0x7fafd5f606d0&gt;),\n",
       "                                           (&#x27;APPLICATION_NAME_TYPE_SUITE&#x27;,\n",
       "                                            &lt;auxiliary.transformers.PolarsColumnTransformer.Step object at 0x7fafd5f608b0&gt;),\n",
       "                                           (&#x27;APPLICATION_NAME_CLIENT_TYPE&#x27;,\n",
       "                                            &lt;auxiliary.transformers.PolarsColumnTransformer....\n",
       "                                            &lt;auxiliary.transformers.PolarsColumnTransformer.Step object at 0x7faf7a7eb820&gt;),\n",
       "                                           (&#x27;NAME_HOUSING_TYPE&#x27;,\n",
       "                                            &lt;auxiliary.transformers.PolarsColumnTransformer.Step object at 0x7faf7a7eb160&gt;),\n",
       "                                           (&#x27;OCCUPATION_TYPE&#x27;,\n",
       "                                            &lt;auxiliary.transformers.PolarsColumnTransformer.Step object at 0x7faf7a7eb340&gt;),\n",
       "                                           (&#x27;ORGANIZATION_TYPE&#x27;,\n",
       "                                            &lt;auxiliary.transformers.PolarsColumnTransformer.Step object at 0x7faf7a7eb4c0&gt;)]))</pre></div></div></div><div class=\"sk-item\"><div class=\"sk-estimator sk-toggleable\"><input class=\"sk-toggleable__control sk-hidden--visually\" id=\"sk-estimator-id-14\" type=\"checkbox\" ><label for=\"sk-estimator-id-14\" class=\"sk-toggleable__label sk-toggleable__label-arrow\">PolarsColumnTransformer</label><div class=\"sk-toggleable__content\"><pre>PolarsColumnTransformer(steps=OrderedDict([(&#x27;CODE_GENDER&#x27;,\n",
       "                                            &lt;auxiliary.transformers.PolarsColumnTransformer.Step object at 0x7faf7a7eb1f0&gt;),\n",
       "                                           (&#x27;FLAG_OWN_REALTY&#x27;,\n",
       "                                            &lt;auxiliary.transformers.PolarsColumnTransformer.Step object at 0x7faf7a7eb2e0&gt;),\n",
       "                                           (&#x27;APPLICATION_WEEKDAY_APPR_PROCESS_START&#x27;,\n",
       "                                            &lt;auxiliary.transformers.PolarsColumnTransformer.Step object at 0x7faf7a7eb880&gt;),...\n",
       "                                            &lt;auxiliary.transformers.PolarsColumnTransformer.Step object at 0x7faf7a7ebb50&gt;),\n",
       "                                           (&#x27;NAME_HOUSING_TYPE&#x27;,\n",
       "                                            &lt;auxiliary.transformers.PolarsColumnTransformer.Step object at 0x7faf7a7eb790&gt;),\n",
       "                                           (&#x27;OCCUPATION_TYPE&#x27;,\n",
       "                                            &lt;auxiliary.transformers.PolarsColumnTransformer.Step object at 0x7faf7a7eb610&gt;),\n",
       "                                           (&#x27;ORGANIZATION_TYPE&#x27;,\n",
       "                                            &lt;auxiliary.transformers.PolarsColumnTransformer.Step object at 0x7faf7a7050a0&gt;)]))</pre></div></div></div><div class=\"sk-item\"><div class=\"sk-estimator sk-toggleable\"><input class=\"sk-toggleable__control sk-hidden--visually\" id=\"sk-estimator-id-15\" type=\"checkbox\" ><label for=\"sk-estimator-id-15\" class=\"sk-toggleable__label sk-toggleable__label-arrow\">FeatureRemover</label><div class=\"sk-toggleable__content\"><pre>FeatureRemover()</pre></div></div></div></div></div></div></div>"
      ],
      "text/plain": [
       "Pipeline(steps=[('num_imputer',\n",
       "                 PolarsColumnTransformer(steps=OrderedDict([('AMT_DRAWINGS_ATM_CURRENT',\n",
       "                                                             <auxiliary.transformers.PolarsColumnTransformer.Step object at 0x7fafd5f60820>),\n",
       "                                                            ('AMT_DRAWINGS_OTHER_CURRENT',\n",
       "                                                             <auxiliary.transformers.PolarsColumnTransformer.Step object at 0x7fafe408e3a0>),\n",
       "                                                            ('AMT_DRAWINGS_POS_CURRENT',\n",
       "                                                             <auxiliary.transformers.PolarsColumn...\n",
       "                                                             <auxiliary.transformers.PolarsColumnTransformer.Step object at 0x7faf7a7ebb50>),\n",
       "                                                            ('NAME_HOUSING_TYPE',\n",
       "                                                             <auxiliary.transformers.PolarsColumnTransformer.Step object at 0x7faf7a7eb790>),\n",
       "                                                            ('OCCUPATION_TYPE',\n",
       "                                                             <auxiliary.transformers.PolarsColumnTransformer.Step object at 0x7faf7a7eb610>),\n",
       "                                                            ('ORGANIZATION_TYPE',\n",
       "                                                             <auxiliary.transformers.PolarsColumnTransformer.Step object at 0x7faf7a7050a0>)]))),\n",
       "                ('feature_removal', FeatureRemover())])"
      ]
     },
     "execution_count": 31,
     "metadata": {},
     "output_type": "execute_result"
    }
   ],
   "source": [
    "preprocessing"
   ]
  },
  {
   "cell_type": "code",
   "execution_count": 39,
   "metadata": {},
   "outputs": [],
   "source": [
    "model_pipe=tr.SamplingModelWrapper(model_lgb,\"smote\")"
   ]
  },
  {
   "cell_type": "code",
   "execution_count": 40,
   "metadata": {},
   "outputs": [
    {
     "data": {
      "text/html": [
       "<style>#sk-container-id-7 {color: black;}#sk-container-id-7 pre{padding: 0;}#sk-container-id-7 div.sk-toggleable {background-color: white;}#sk-container-id-7 label.sk-toggleable__label {cursor: pointer;display: block;width: 100%;margin-bottom: 0;padding: 0.3em;box-sizing: border-box;text-align: center;}#sk-container-id-7 label.sk-toggleable__label-arrow:before {content: \"▸\";float: left;margin-right: 0.25em;color: #696969;}#sk-container-id-7 label.sk-toggleable__label-arrow:hover:before {color: black;}#sk-container-id-7 div.sk-estimator:hover label.sk-toggleable__label-arrow:before {color: black;}#sk-container-id-7 div.sk-toggleable__content {max-height: 0;max-width: 0;overflow: hidden;text-align: left;background-color: #f0f8ff;}#sk-container-id-7 div.sk-toggleable__content pre {margin: 0.2em;color: black;border-radius: 0.25em;background-color: #f0f8ff;}#sk-container-id-7 input.sk-toggleable__control:checked~div.sk-toggleable__content {max-height: 200px;max-width: 100%;overflow: auto;}#sk-container-id-7 input.sk-toggleable__control:checked~label.sk-toggleable__label-arrow:before {content: \"▾\";}#sk-container-id-7 div.sk-estimator input.sk-toggleable__control:checked~label.sk-toggleable__label {background-color: #d4ebff;}#sk-container-id-7 div.sk-label input.sk-toggleable__control:checked~label.sk-toggleable__label {background-color: #d4ebff;}#sk-container-id-7 input.sk-hidden--visually {border: 0;clip: rect(1px 1px 1px 1px);clip: rect(1px, 1px, 1px, 1px);height: 1px;margin: -1px;overflow: hidden;padding: 0;position: absolute;width: 1px;}#sk-container-id-7 div.sk-estimator {font-family: monospace;background-color: #f0f8ff;border: 1px dotted black;border-radius: 0.25em;box-sizing: border-box;margin-bottom: 0.5em;}#sk-container-id-7 div.sk-estimator:hover {background-color: #d4ebff;}#sk-container-id-7 div.sk-parallel-item::after {content: \"\";width: 100%;border-bottom: 1px solid gray;flex-grow: 1;}#sk-container-id-7 div.sk-label:hover label.sk-toggleable__label {background-color: #d4ebff;}#sk-container-id-7 div.sk-serial::before {content: \"\";position: absolute;border-left: 1px solid gray;box-sizing: border-box;top: 0;bottom: 0;left: 50%;z-index: 0;}#sk-container-id-7 div.sk-serial {display: flex;flex-direction: column;align-items: center;background-color: white;padding-right: 0.2em;padding-left: 0.2em;position: relative;}#sk-container-id-7 div.sk-item {position: relative;z-index: 1;}#sk-container-id-7 div.sk-parallel {display: flex;align-items: stretch;justify-content: center;background-color: white;position: relative;}#sk-container-id-7 div.sk-item::before, #sk-container-id-7 div.sk-parallel-item::before {content: \"\";position: absolute;border-left: 1px solid gray;box-sizing: border-box;top: 0;bottom: 0;left: 50%;z-index: -1;}#sk-container-id-7 div.sk-parallel-item {display: flex;flex-direction: column;z-index: 1;position: relative;background-color: white;}#sk-container-id-7 div.sk-parallel-item:first-child::after {align-self: flex-end;width: 50%;}#sk-container-id-7 div.sk-parallel-item:last-child::after {align-self: flex-start;width: 50%;}#sk-container-id-7 div.sk-parallel-item:only-child::after {width: 0;}#sk-container-id-7 div.sk-dashed-wrapped {border: 1px dashed gray;margin: 0 0.4em 0.5em 0.4em;box-sizing: border-box;padding-bottom: 0.4em;background-color: white;}#sk-container-id-7 div.sk-label label {font-family: monospace;font-weight: bold;display: inline-block;line-height: 1.2em;}#sk-container-id-7 div.sk-label-container {text-align: center;}#sk-container-id-7 div.sk-container {/* jupyter's `normalize.less` sets `[hidden] { display: none; }` but bootstrap.min.css set `[hidden] { display: none !important; }` so we also need the `!important` here to be able to override the default hidden behavior on the sphinx rendered scikit-learn.org. See: https://github.com/scikit-learn/scikit-learn/issues/21755 */display: inline-block !important;position: relative;}#sk-container-id-7 div.sk-text-repr-fallback {display: none;}</style><div id=\"sk-container-id-7\" class=\"sk-top-container\"><div class=\"sk-text-repr-fallback\"><pre>SamplingModelWrapper(model=LGBMClassifier(force_col_wise=True, n_jobs=1,\n",
       "                                          verbosity=-1),\n",
       "                     sampler=&#x27;smote&#x27;)</pre><b>In a Jupyter environment, please rerun this cell to show the HTML representation or trust the notebook. <br />On GitHub, the HTML representation is unable to render, please try loading this page with nbviewer.org.</b></div><div class=\"sk-container\" hidden><div class=\"sk-item sk-dashed-wrapped\"><div class=\"sk-label-container\"><div class=\"sk-label sk-toggleable\"><input class=\"sk-toggleable__control sk-hidden--visually\" id=\"sk-estimator-id-19\" type=\"checkbox\" ><label for=\"sk-estimator-id-19\" class=\"sk-toggleable__label sk-toggleable__label-arrow\">SamplingModelWrapper</label><div class=\"sk-toggleable__content\"><pre>SamplingModelWrapper(model=LGBMClassifier(force_col_wise=True, n_jobs=1,\n",
       "                                          verbosity=-1),\n",
       "                     sampler=&#x27;smote&#x27;)</pre></div></div></div><div class=\"sk-parallel\"><div class=\"sk-parallel-item\"><div class=\"sk-item\"><div class=\"sk-label-container\"><div class=\"sk-label sk-toggleable\"><input class=\"sk-toggleable__control sk-hidden--visually\" id=\"sk-estimator-id-20\" type=\"checkbox\" ><label for=\"sk-estimator-id-20\" class=\"sk-toggleable__label sk-toggleable__label-arrow\">model: LGBMClassifier</label><div class=\"sk-toggleable__content\"><pre>LGBMClassifier(force_col_wise=True, n_jobs=1, verbosity=-1)</pre></div></div></div><div class=\"sk-serial\"><div class=\"sk-item\"><div class=\"sk-estimator sk-toggleable\"><input class=\"sk-toggleable__control sk-hidden--visually\" id=\"sk-estimator-id-21\" type=\"checkbox\" ><label for=\"sk-estimator-id-21\" class=\"sk-toggleable__label sk-toggleable__label-arrow\">LGBMClassifier</label><div class=\"sk-toggleable__content\"><pre>LGBMClassifier(force_col_wise=True, n_jobs=1, verbosity=-1)</pre></div></div></div></div></div></div></div></div></div></div>"
      ],
      "text/plain": [
       "SamplingModelWrapper(model=LGBMClassifier(force_col_wise=True, n_jobs=1,\n",
       "                                          verbosity=-1),\n",
       "                     sampler='smote')"
      ]
     },
     "execution_count": 40,
     "metadata": {},
     "output_type": "execute_result"
    }
   ],
   "source": [
    "model_pipe.fit(preprocessing.fit_transform(X_train,y_train),y_train)"
   ]
  },
  {
   "cell_type": "code",
   "execution_count": 24,
   "metadata": {},
   "outputs": [],
   "source": [
    "pipe=make_pipeline(SMOTE(random_state=42), model_lgb)\n"
   ]
  },
  {
   "cell_type": "code",
   "execution_count": 41,
   "metadata": {},
   "outputs": [
    {
     "data": {
      "text/plain": [
       "5256"
      ]
     },
     "execution_count": 41,
     "metadata": {},
     "output_type": "execute_result"
    }
   ],
   "source": [
    "model_pipe.predict(preprocessing.fit_transform(X_train,y_train)).sum()"
   ]
  }
 ],
 "metadata": {
  "kernelspec": {
   "display_name": "base",
   "language": "python",
   "name": "python3"
  },
  "language_info": {
   "codemirror_mode": {
    "name": "ipython",
    "version": 3
   },
   "file_extension": ".py",
   "mimetype": "text/x-python",
   "name": "python",
   "nbconvert_exporter": "python",
   "pygments_lexer": "ipython3",
   "version": "3.9.13"
  }
 },
 "nbformat": 4,
 "nbformat_minor": 2
}
