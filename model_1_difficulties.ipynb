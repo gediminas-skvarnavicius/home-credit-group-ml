{
 "cells": [
  {
   "cell_type": "code",
   "execution_count": 23,
   "metadata": {},
   "outputs": [],
   "source": [
    "%reload_ext autoreload\n",
    "%autoreload 1\n",
    "import polars as pl\n",
    "from sklearn.pipeline import Pipeline\n",
    "from sklearn.ensemble import ExtraTreesClassifier\n",
    "from rgf.sklearn import RGFClassifier\n",
    "import auxiliary.transformers as tr\n",
    "from auxiliary.transformers import PolarsColumnTransformer as PCT\n",
    "from lightgbm import LGBMClassifier\n",
    "from sklearn.model_selection import StratifiedKFold\n",
    "from sklearn.metrics import roc_auc_score\n",
    "import copy\n",
    "import auxiliary.tuning as tunes\n",
    "import auxiliary.eda_functions as eda\n",
    "from ray import tune\n",
    "import joblib\n",
    "import numpy as np\n",
    "from BorutaShap import BorutaShap\n",
    "%aimport auxiliary.transformers\n",
    "%aimport auxiliary.tuning\n",
    "%aimport auxiliary.eda_functions"
   ]
  },
  {
   "cell_type": "code",
   "execution_count": 2,
   "metadata": {},
   "outputs": [],
   "source": [
    "train_data=pl.read_parquet('temp/application_train_filtered.parquet')\n",
    "id_and_target=['SK_ID_CURR','TARGET']\n",
    "X_train=train_data.drop(columns=id_and_target)\n",
    "y_train=train_data['TARGET']"
   ]
  },
  {
   "cell_type": "code",
   "execution_count": 3,
   "metadata": {},
   "outputs": [],
   "source": [
    "bool_features = []\n",
    "for feature in X_train.select(pl.col(pl.Utf8)).columns:\n",
    "    if X_train[feature].n_unique() == 2:\n",
    "        bool_features.append(feature)\n",
    "\n",
    "cat_features = [\n",
    "    feature\n",
    "    for feature in X_train.select(pl.col(pl.Utf8)).columns\n",
    "    if feature not in bool_features\n",
    "]\n",
    "\n",
    "numeric_features_with_nulls = (\n",
    "    pl.Series(\n",
    "        X_train.select(pl.col(pl.FLOAT_DTYPES), pl.col(pl.INTEGER_DTYPES)).columns\n",
    "    )\n",
    "    .filter(\n",
    "        X_train.select(pl.col(pl.FLOAT_DTYPES), pl.col(pl.INTEGER_DTYPES))\n",
    "        .select(pl.all().is_null().any())\n",
    "        .transpose()\n",
    "        .to_series()\n",
    "    )\n",
    "    .to_list()\n",
    ")"
   ]
  },
  {
   "cell_type": "code",
   "execution_count": 4,
   "metadata": {},
   "outputs": [],
   "source": [
    "preprocessing = Pipeline([])\n",
    "\n",
    "num_imputer = tr.PolarsColumnTransformer([])\n",
    "for feature in numeric_features_with_nulls:\n",
    "    num_imputer.steps[feature] = PCT.Step(\n",
    "        feature, tr.NumDiffFromRestImputer(), feature\n",
    "    )\n",
    "preprocessing.steps.insert(0,('num_imputer', num_imputer))\n",
    "\n",
    "cat_imputers = tr.PolarsColumnTransformer([])\n",
    "for feature in cat_features:\n",
    "    cat_imputers.steps[feature] = PCT.Step(\n",
    "        feature, tr.NotInImputerPolars(min_values=100, fill_value=\"other\"), feature\n",
    "    )\n",
    "preprocessing.steps.append((\"cat_imputers\", cat_imputers))\n",
    "\n",
    "encoders = tr.PolarsColumnTransformer([])\n",
    "for feature in bool_features:\n",
    "    encoders.steps[feature] = PCT.Step(\n",
    "        feature, tr.PolarsOneHotEncoder(drop=True), feature\n",
    "    )\n",
    "for feature in cat_features:\n",
    "    encoders.steps[feature] = PCT.Step(\n",
    "        feature, tr.TargetMeanOrderedLabeler(how=\"label\"), feature\n",
    "    )\n",
    "preprocessing.steps.append((\"encoders\", encoders))\n",
    "feature_remover = tr.FeatureRemover([])\n",
    "preprocessing.steps.append((\"feature_removal\", feature_remover))"
   ]
  },
  {
   "cell_type": "code",
   "execution_count": 5,
   "metadata": {},
   "outputs": [],
   "source": [
    "model_lgb=LGBMClassifier(n_jobs=1,verbosity=-1,force_col_wise=True)\n",
    "sampler_model=tr.SamplingModelWrapper(model_lgb)\n",
    "full_pipeline=Pipeline([('preprocess', preprocessing),('model',sampler_model)])"
   ]
  },
  {
   "cell_type": "markdown",
   "metadata": {},
   "source": [
    "**Fitting Boruta Shap algorithm on LGBM models with different alpha regularization values**"
   ]
  },
  {
   "cell_type": "code",
   "execution_count": 6,
   "metadata": {},
   "outputs": [
    {
     "data": {
      "application/vnd.jupyter.widget-view+json": {
       "model_id": "f912d088dcc5431a851ba96bbf39b0b2",
       "version_major": 2,
       "version_minor": 0
      },
      "text/plain": [
       "  0%|          | 0/20 [00:00<?, ?it/s]"
      ]
     },
     "metadata": {},
     "output_type": "display_data"
    },
    {
     "name": "stdout",
     "output_type": "stream",
     "text": [
      "54 attributes confirmed important: ['bureau_DAYS_CREDIT_ENDDATE_mode', 'NAME_CONTRACT_TYPE_Cash loans', 'bureau_AMT_CREDIT_MAX_OVERDUE_mean', 'bureau_AMT_CREDIT_SUM_sum', 'CODE_GENDER', 'bureau_DAYS_CREDIT_ENDDATE_max', 'DAYS_ID_PUBLISH', 'bureau_AMT_CREDIT_SUM_min_Active', 'bureau_DAYS_ENDDATE_FACT_max', 'APARTMENTS_MEDI', 'FLAG_DOCUMENT_3', 'prev_payment_left', 'prev_AMT_CREDIT_sum_Approved', 'REGION_RATING_CLIENT_W_CITY', 'AMT_CREDIT', 'prev_AMT_CREDIT_mean_Consumer_loans', 'bureau_AMT_CREDIT_SUM_DEBT_mean', 'ORGANIZATION_TYPE', 'DAYS_REGISTRATION', 'EXT_SOURCE_3', 'DEF_30_CNT_SOCIAL_CIRCLE', 'bureau_DAYS_CREDIT_mean', 'bureau_DAYS_CREDIT_ENDDATE_max_Active', 'DAYS_EMPLOYED', 'prev_AMT_CREDIT_mean_Refused', 'AMT_GOODS_PRICE', 'prev_AMT_BALANCE_CURR_sum', 'bureau_AMT_CREDIT_SUM_max', 'prev_AMT_CREDIT_sum_Consumer_loans', 'bureau_AMT_CREDIT_SUM_DEBT_min_Active', 'OCCUPATION_TYPE', 'DAYS_BIRTH', 'bureau_DAYS_ENDDATE_FACT_std', 'AMT_REQ_CREDIT_BUREAU_QRT', 'bureau_DAYS_CREDIT_ENDDATE_mean_Active', 'NAME_EDUCATION_TYPE', 'bureau_DAYS_CREDIT_mode', 'AMT_ANNUITY', 'OWN_CAR_AGE', 'bureau_count_Active', 'EXT_SOURCE_2', 'bureau_DAYS_CREDIT_ENDDATE_min_Active', 'prev_AMT_CREDIT_sum_Refused', 'NAME_INCOME_TYPE', 'prev_count_Approved', 'NAME_FAMILY_STATUS', 'DAYS_LAST_PHONE_CHANGE', 'prev_curr_bal_lim_diff_sum', 'prev_count_Refused', 'FLAG_WORK_PHONE', 'WEEKDAY_APPR_PROCESS_START', 'bureau_AMT_CREDIT_MAX_OVERDUE_sum_Active', 'EXT_SOURCE_1', 'bureau_DAYS_CREDIT_max_Active']\n",
      "144 attributes confirmed unimportant: ['bureau_count_Sold', 'TOTALAREA_MODE', 'bureau_CREDIT_DAY_OVERDUE_mode_Active', 'AMT_REQ_CREDIT_BUREAU_HOUR', 'bureau_AMT_CREDIT_MAX_OVERDUE_min_Active', 'CNT_FAM_MEMBERS', 'FLAG_DOCUMENT_13', 'bureau_CNT_CREDIT_PROLONG_mode_Active', 'bureau_DAYS_ENDDATE_FACT_max_Active', 'EMERGENCYSTATE_MODE', 'bureau_DAYS_CREDIT_UPDATE_sum_Active', 'bureau_DAYS_CREDIT_UPDATE_std', 'bureau_AMT_CREDIT_SUM_LIMIT_sum', 'FLAG_OWN_REALTY_N', 'bureau_STATUS_mode', 'bureau_DAYS_ENDDATE_FACT_mode', 'bureau_AMT_CREDIT_SUM_OVERDUE_mode', 'LIVE_CITY_NOT_WORK_CITY', 'bureau_AMT_CREDIT_SUM_DEBT_mode_Active', 'FLAG_DOCUMENT_9', 'AMT_REQ_CREDIT_BUREAU_WEEK', 'FLAG_DOCUMENT_15', 'bureau_DAYS_CREDIT_ENDDATE_mean', 'bureau_AMT_CREDIT_SUM_LIMIT_max_Active', 'FLAG_DOCUMENT_11', 'FLOORSMAX_MEDI', 'CNT_CHILDREN', 'LIVE_REGION_NOT_WORK_REGION', 'FLAG_DOCUMENT_8', 'bureau_DAYS_CREDIT_min_Active', 'bureau_AMT_CREDIT_SUM_sum_Active', 'bureau_CNT_CREDIT_PROLONG_sum_Active', 'YEARS_BUILD_MEDI', 'bureau_AMT_CREDIT_SUM_std', 'AMT_REQ_CREDIT_BUREAU_DAY', 'bureau_DAYS_ENDDATE_FACT_min', 'REGION_RATING_CLIENT', 'bureau_CREDIT_TYPE_mode_active', 'bureau_AMT_CREDIT_SUM_OVERDUE_std', 'bureau_DAYS_CREDIT_UPDATE_std_Active', 'NONLIVINGAREA_MEDI', 'FLAG_DOCUMENT_14', 'bureau_AMT_CREDIT_SUM_LIMIT_mode_Active', 'bureau_CREDIT_DAY_OVERDUE_mode', 'bureau_DAYS_CREDIT_UPDATE_min_Active', 'ENTRANCES_MODE', 'bureau_AMT_CREDIT_SUM_DEBT_mode', 'bureau_AMT_CREDIT_SUM_LIMIT_mode', 'prev_AMT_CREDIT_mean', 'bureau_CREDIT_DAY_OVERDUE_max', 'bureau_DAYS_ENDDATE_FACT_mode_Active', 'NONLIVINGAREA_AVG', 'REG_REGION_NOT_LIVE_REGION', 'ENTRANCES_AVG', 'FONDKAPREMONT_MODE', 'bureau_AMT_CREDIT_SUM_DEBT_min', 'bureau_AMT_CREDIT_SUM_OVERDUE_std_Active', 'prev_AMT_CREDIT_sum', 'FLOORSMAX_MODE', 'bureau_DAYS_ENDDATE_FACT_mean', 'bureau_AMT_CREDIT_SUM_OVERDUE_min', 'FLAG_DOCUMENT_6', 'OBS_30_CNT_SOCIAL_CIRCLE', 'bureau_CREDIT_TYPE_mode', 'FLAG_PHONE', 'bureau_DAYS_CREDIT_UPDATE_max_Active', 'bureau_DAYS_CREDIT_ENDDATE_std_Active', 'bureau_CNT_CREDIT_PROLONG_sum', 'bureau_AMT_CREDIT_SUM_OVERDUE_mode_Active', 'bureau_DAYS_ENDDATE_FACT_sum', 'bureau_DPD_approx', 'bureau_DPD_approx_active', 'FLAG_DOCUMENT_5', 'ELEVATORS_MODE', 'bureau_AMT_CREDIT_SUM_LIMIT_std_Active', 'LANDAREA_MEDI', 'NONLIVINGAPARTMENTS_AVG', 'bureau_DAYS_CREDIT_UPDATE_mean_Active', 'bureau_AMT_CREDIT_SUM_std_Active', 'REG_CITY_NOT_WORK_CITY', 'bureau_AMT_CREDIT_SUM_LIMIT_std', 'BASEMENTAREA_MODE', 'LIVINGAPARTMENTS_MODE', 'bureau_AMT_CREDIT_SUM_DEBT_std', 'bureau_AMT_CREDIT_SUM_mode_Active', 'LANDAREA_MODE', 'COMMONAREA_MEDI', 'bureau_CREDIT_DAY_OVERDUE_std', 'FLAG_EMP_PHONE', 'bureau_AMT_CREDIT_MAX_OVERDUE_mode', 'bureau_AMT_CREDIT_SUM_LIMIT_min', 'bureau_count', 'bureau_AMT_CREDIT_MAX_OVERDUE_std', 'bureau_AMT_CREDIT_MAX_OVERDUE_mode_Active', 'prev_AMT_CREDIT_sum_Cash_loans', 'bureau_DAYS_CREDIT_UPDATE_mode', 'bureau_CNT_CREDIT_PROLONG_mode', 'bureau_DAYS_CREDIT_std_Active', 'ELEVATORS_MEDI', 'bureau_DAYS_CREDIT_UPDATE_min', 'bureau_CNT_CREDIT_PROLONG_min_Active', 'bureau_AMT_CREDIT_SUM_OVERDUE_min_Active', 'bureau_DAYS_CREDIT_ENDDATE_min', 'AMT_REQ_CREDIT_BUREAU_MON', 'bureau_DAYS_CREDIT_ENDDATE_std', 'APARTMENTS_MODE', 'bureau_DAYS_CREDIT_UPDATE_mode_Active', 'bureau_AMT_CREDIT_SUM_max_Active', 'NONLIVINGAREA_MODE', 'bureau_AMT_CREDIT_MAX_OVERDUE_min', 'bureau_DAYS_CREDIT_UPDATE_mean', 'bureau_AMT_CREDIT_SUM_DEBT_sum', 'bureau_AMT_CREDIT_SUM_min', 'FLAG_DOCUMENT_16', 'bureau_CNT_CREDIT_PROLONG_min', 'NAME_TYPE_SUITE', 'bureau_CREDIT_DAY_OVERDUE_mean_Active', 'REG_REGION_NOT_WORK_REGION', 'bureau_AMT_CREDIT_SUM_DEBT_max_Active', 'bureau_DAYS_CREDIT_UPDATE_max', 'bureau_DAYS_CREDIT_sum_Active', 'BASEMENTAREA_MEDI', 'bureau_DAYS_CREDIT_UPDATE_sum', 'prev_AMT_CREDIT_mean_Cash_loans', 'OBS_60_CNT_SOCIAL_CIRCLE', 'YEARS_BEGINEXPLUATATION_AVG', 'LIVINGAREA_MODE', 'AMT_REQ_CREDIT_BUREAU_YEAR', 'FLAG_EMAIL', 'bureau_CNT_CREDIT_PROLONG_std_Active', 'FLAG_CONT_MOBILE', 'bureau_DAYS_CREDIT_min', 'NONLIVINGAPARTMENTS_MODE', 'bureau_AMT_CREDIT_MAX_OVERDUE_std_Active', 'HOUSETYPE_MODE', 'bureau_DAYS_CREDIT_ENDDATE_sum', 'bureau_AMT_CREDIT_SUM_LIMIT_min_Active', 'bureau_AMT_CREDIT_SUM_DEBT_std_Active', 'prev_AMT_CREDIT_mean_Canceled', 'FLOORSMIN_MODE', 'bureau_STATUS_mode_active', 'bureau_DAYS_ENDDATE_FACT_std_Active', 'bureau_CNT_CREDIT_PROLONG_std', 'bureau_DAYS_ENDDATE_FACT_sum_Active']\n",
      "34 tentative attributes remains: ['prev_AMT_CREDIT_sum_Revolving_loans', 'bureau_DAYS_CREDIT_ENDDATE_sum_Active', 'WALLSMATERIAL_MODE', 'bureau_AMT_CREDIT_MAX_OVERDUE_mean_Active', 'AMT_INCOME_TOTAL', 'REGION_POPULATION_RELATIVE', 'bureau_DAYS_CREDIT_mode_Active', 'bureau_DAYS_CREDIT_mean_Active', 'bureau_AMT_CREDIT_SUM_LIMIT_max', 'YEARS_BEGINEXPLUATATION_MODE', 'LIVINGAREA_MEDI', 'bureau_DAYS_CREDIT_sum', 'bureau_AMT_CREDIT_SUM_mode', 'bureau_AMT_CREDIT_SUM_LIMIT_mean', 'HOUR_APPR_PROCESS_START', 'REG_CITY_NOT_LIVE_CITY', 'bureau_AMT_CREDIT_SUM_LIMIT_sum_Active', 'bureau_AMT_CREDIT_SUM_DEBT_max', 'bureau_DAYS_CREDIT_std', 'DEF_60_CNT_SOCIAL_CIRCLE', 'bureau_AMT_CREDIT_SUM_mean', 'bureau_AMT_CREDIT_SUM_OVERDUE_max', 'bureau_AMT_CREDIT_SUM_DEBT_sum_Active', 'bureau_AMT_CREDIT_MAX_OVERDUE_sum', 'bureau_count_Closed', 'prev_AMT_CREDIT_mean_Approved', 'bureau_AMT_CREDIT_SUM_mean_Active', 'prev_AMT_CREDIT_mean_Revolving_loans', 'NAME_HOUSING_TYPE', 'FLAG_DOCUMENT_18', 'bureau_DAYS_CREDIT_ENDDATE_mode_Active', 'bureau_AMT_CREDIT_SUM_DEBT_mean_Active', 'bureau_DAYS_CREDIT_max', 'bureau_AMT_CREDIT_MAX_OVERDUE_max']\n"
     ]
    },
    {
     "data": {
      "text/plain": [
       "['temp/model_1_selector_alpha1.joblib']"
      ]
     },
     "execution_count": 6,
     "metadata": {},
     "output_type": "execute_result"
    }
   ],
   "source": [
    "model_for_selection_reg=LGBMClassifier(verbose=-1,random_state=1,reg_alpha=1)\n",
    "selector_with_alpha=BorutaShap(importance_measure='shap',model=model_for_selection_reg)\n",
    "selector_with_alpha.fit(\n",
    "    full_pipeline[\"preprocess\"]\n",
    "    .fit_transform(X_train, y_train)\n",
    "    .to_pandas(),\n",
    "    y_train.to_pandas(),\n",
    ")\n",
    "joblib.dump(selector_with_alpha,'temp/model_1_selector_alpha1.joblib')\n"
   ]
  },
  {
   "cell_type": "code",
   "execution_count": 7,
   "metadata": {},
   "outputs": [
    {
     "data": {
      "application/vnd.jupyter.widget-view+json": {
       "model_id": "20dbd52bf6ee45a08bd68f9ec099149b",
       "version_major": 2,
       "version_minor": 0
      },
      "text/plain": [
       "  0%|          | 0/20 [00:00<?, ?it/s]"
      ]
     },
     "metadata": {},
     "output_type": "display_data"
    },
    {
     "name": "stdout",
     "output_type": "stream",
     "text": [
      "55 attributes confirmed important: ['bureau_DAYS_CREDIT_ENDDATE_mode', 'NAME_CONTRACT_TYPE_Cash loans', 'bureau_AMT_CREDIT_MAX_OVERDUE_mean', 'bureau_AMT_CREDIT_SUM_sum', 'CODE_GENDER', 'bureau_DAYS_CREDIT_ENDDATE_max', 'DAYS_ID_PUBLISH', 'bureau_AMT_CREDIT_SUM_min_Active', 'bureau_DAYS_ENDDATE_FACT_max', 'APARTMENTS_MEDI', 'FLAG_DOCUMENT_3', 'prev_payment_left', 'prev_AMT_CREDIT_sum_Approved', 'REGION_RATING_CLIENT_W_CITY', 'AMT_CREDIT', 'prev_AMT_CREDIT_mean_Consumer_loans', 'bureau_AMT_CREDIT_SUM_DEBT_mean', 'ORGANIZATION_TYPE', 'DAYS_REGISTRATION', 'EXT_SOURCE_3', 'DEF_30_CNT_SOCIAL_CIRCLE', 'bureau_DAYS_CREDIT_mean', 'bureau_DAYS_CREDIT_ENDDATE_max_Active', 'DAYS_EMPLOYED', 'prev_AMT_CREDIT_mean_Refused', 'AMT_GOODS_PRICE', 'prev_AMT_BALANCE_CURR_sum', 'bureau_AMT_CREDIT_SUM_max', 'prev_AMT_CREDIT_sum_Consumer_loans', 'bureau_AMT_CREDIT_SUM_DEBT_min_Active', 'OCCUPATION_TYPE', 'DAYS_BIRTH', 'bureau_AMT_CREDIT_MAX_OVERDUE_sum', 'bureau_DAYS_ENDDATE_FACT_std', 'AMT_REQ_CREDIT_BUREAU_QRT', 'bureau_DAYS_CREDIT_ENDDATE_mean_Active', 'NAME_EDUCATION_TYPE', 'bureau_DAYS_CREDIT_mode', 'AMT_ANNUITY', 'OWN_CAR_AGE', 'bureau_count_Active', 'EXT_SOURCE_2', 'bureau_DAYS_CREDIT_ENDDATE_min_Active', 'prev_AMT_CREDIT_sum_Refused', 'NAME_INCOME_TYPE', 'prev_count_Approved', 'NAME_FAMILY_STATUS', 'DAYS_LAST_PHONE_CHANGE', 'prev_curr_bal_lim_diff_sum', 'prev_count_Refused', 'FLAG_WORK_PHONE', 'WEEKDAY_APPR_PROCESS_START', 'bureau_AMT_CREDIT_MAX_OVERDUE_sum_Active', 'EXT_SOURCE_1', 'bureau_DAYS_CREDIT_max_Active']\n",
      "146 attributes confirmed unimportant: ['bureau_count_Sold', 'TOTALAREA_MODE', 'bureau_CREDIT_DAY_OVERDUE_mode_Active', 'AMT_REQ_CREDIT_BUREAU_HOUR', 'bureau_AMT_CREDIT_MAX_OVERDUE_min_Active', 'CNT_FAM_MEMBERS', 'FLAG_DOCUMENT_13', 'bureau_CNT_CREDIT_PROLONG_mode_Active', 'bureau_DAYS_ENDDATE_FACT_max_Active', 'EMERGENCYSTATE_MODE', 'bureau_DAYS_CREDIT_UPDATE_sum_Active', 'bureau_DAYS_CREDIT_UPDATE_std', 'bureau_AMT_CREDIT_SUM_LIMIT_sum', 'FLAG_OWN_REALTY_N', 'bureau_STATUS_mode', 'bureau_DAYS_ENDDATE_FACT_mode', 'bureau_AMT_CREDIT_SUM_OVERDUE_mode', 'LIVE_CITY_NOT_WORK_CITY', 'bureau_AMT_CREDIT_SUM_DEBT_mode_Active', 'FLAG_DOCUMENT_9', 'AMT_REQ_CREDIT_BUREAU_WEEK', 'FLAG_DOCUMENT_15', 'bureau_DAYS_CREDIT_ENDDATE_mean', 'bureau_AMT_CREDIT_SUM_LIMIT_max_Active', 'FLAG_DOCUMENT_11', 'FLOORSMAX_MEDI', 'CNT_CHILDREN', 'LIVE_REGION_NOT_WORK_REGION', 'FLAG_DOCUMENT_8', 'bureau_DAYS_CREDIT_min_Active', 'bureau_AMT_CREDIT_SUM_sum_Active', 'bureau_CNT_CREDIT_PROLONG_sum_Active', 'YEARS_BUILD_MEDI', 'bureau_DAYS_CREDIT_mean_Active', 'bureau_AMT_CREDIT_SUM_std', 'AMT_REQ_CREDIT_BUREAU_DAY', 'bureau_DAYS_ENDDATE_FACT_min', 'REGION_RATING_CLIENT', 'bureau_CREDIT_TYPE_mode_active', 'bureau_AMT_CREDIT_SUM_OVERDUE_std', 'bureau_DAYS_CREDIT_UPDATE_std_Active', 'NONLIVINGAREA_MEDI', 'FLAG_DOCUMENT_14', 'bureau_AMT_CREDIT_SUM_LIMIT_mode_Active', 'bureau_CREDIT_DAY_OVERDUE_mode', 'bureau_DAYS_CREDIT_UPDATE_min_Active', 'ENTRANCES_MODE', 'bureau_AMT_CREDIT_SUM_DEBT_mode', 'bureau_AMT_CREDIT_SUM_LIMIT_mode', 'prev_AMT_CREDIT_mean', 'bureau_CREDIT_DAY_OVERDUE_max', 'bureau_DAYS_ENDDATE_FACT_mode_Active', 'NONLIVINGAREA_AVG', 'REG_REGION_NOT_LIVE_REGION', 'ENTRANCES_AVG', 'FONDKAPREMONT_MODE', 'bureau_AMT_CREDIT_SUM_DEBT_min', 'bureau_AMT_CREDIT_SUM_OVERDUE_std_Active', 'prev_AMT_CREDIT_sum', 'FLOORSMAX_MODE', 'bureau_DAYS_ENDDATE_FACT_mean', 'bureau_AMT_CREDIT_SUM_OVERDUE_min', 'FLAG_DOCUMENT_6', 'OBS_30_CNT_SOCIAL_CIRCLE', 'bureau_CREDIT_TYPE_mode', 'FLAG_PHONE', 'bureau_DAYS_CREDIT_UPDATE_max_Active', 'bureau_DAYS_CREDIT_ENDDATE_std_Active', 'bureau_CNT_CREDIT_PROLONG_sum', 'bureau_AMT_CREDIT_SUM_OVERDUE_mode_Active', 'bureau_DAYS_ENDDATE_FACT_sum', 'bureau_DPD_approx', 'bureau_DPD_approx_active', 'FLAG_DOCUMENT_5', 'ELEVATORS_MODE', 'bureau_AMT_CREDIT_SUM_LIMIT_std_Active', 'LANDAREA_MEDI', 'NONLIVINGAPARTMENTS_AVG', 'bureau_DAYS_CREDIT_UPDATE_mean_Active', 'bureau_AMT_CREDIT_SUM_std_Active', 'REG_CITY_NOT_WORK_CITY', 'bureau_AMT_CREDIT_SUM_LIMIT_std', 'BASEMENTAREA_MODE', 'LIVINGAPARTMENTS_MODE', 'bureau_AMT_CREDIT_SUM_LIMIT_sum_Active', 'bureau_AMT_CREDIT_SUM_DEBT_std', 'bureau_AMT_CREDIT_SUM_mode_Active', 'LANDAREA_MODE', 'COMMONAREA_MEDI', 'bureau_CREDIT_DAY_OVERDUE_std', 'FLAG_EMP_PHONE', 'bureau_AMT_CREDIT_MAX_OVERDUE_mode', 'bureau_AMT_CREDIT_SUM_LIMIT_min', 'bureau_count', 'bureau_AMT_CREDIT_MAX_OVERDUE_mode_Active', 'prev_AMT_CREDIT_sum_Cash_loans', 'bureau_DAYS_CREDIT_UPDATE_mode', 'bureau_CNT_CREDIT_PROLONG_mode', 'bureau_DAYS_CREDIT_std_Active', 'ELEVATORS_MEDI', 'bureau_DAYS_CREDIT_UPDATE_min', 'bureau_CNT_CREDIT_PROLONG_min_Active', 'bureau_AMT_CREDIT_SUM_OVERDUE_min_Active', 'bureau_DAYS_CREDIT_ENDDATE_min', 'AMT_REQ_CREDIT_BUREAU_MON', 'bureau_DAYS_CREDIT_ENDDATE_std', 'APARTMENTS_MODE', 'bureau_DAYS_CREDIT_UPDATE_mode_Active', 'bureau_AMT_CREDIT_SUM_max_Active', 'NONLIVINGAREA_MODE', 'bureau_AMT_CREDIT_MAX_OVERDUE_min', 'bureau_DAYS_CREDIT_UPDATE_mean', 'bureau_AMT_CREDIT_SUM_DEBT_sum', 'bureau_AMT_CREDIT_SUM_min', 'FLAG_DOCUMENT_16', 'bureau_CNT_CREDIT_PROLONG_min', 'NAME_TYPE_SUITE', 'bureau_CREDIT_DAY_OVERDUE_mean_Active', 'REG_REGION_NOT_WORK_REGION', 'bureau_AMT_CREDIT_SUM_DEBT_max_Active', 'bureau_DAYS_CREDIT_UPDATE_max', 'bureau_DAYS_CREDIT_sum_Active', 'BASEMENTAREA_MEDI', 'bureau_DAYS_CREDIT_UPDATE_sum', 'prev_AMT_CREDIT_mean_Cash_loans', 'OBS_60_CNT_SOCIAL_CIRCLE', 'YEARS_BEGINEXPLUATATION_AVG', 'LIVINGAREA_MODE', 'AMT_REQ_CREDIT_BUREAU_YEAR', 'FLAG_EMAIL', 'bureau_CNT_CREDIT_PROLONG_std_Active', 'FLAG_CONT_MOBILE', 'bureau_DAYS_CREDIT_min', 'NONLIVINGAPARTMENTS_MODE', 'bureau_count_Closed', 'bureau_AMT_CREDIT_MAX_OVERDUE_std_Active', 'HOUSETYPE_MODE', 'bureau_DAYS_CREDIT_ENDDATE_sum', 'bureau_AMT_CREDIT_SUM_LIMIT_min_Active', 'bureau_AMT_CREDIT_SUM_DEBT_std_Active', 'prev_AMT_CREDIT_mean_Canceled', 'FLOORSMIN_MODE', 'bureau_STATUS_mode_active', 'bureau_DAYS_ENDDATE_FACT_std_Active', 'bureau_CNT_CREDIT_PROLONG_std', 'bureau_DAYS_ENDDATE_FACT_sum_Active']\n",
      "31 tentative attributes remains: ['prev_AMT_CREDIT_sum_Revolving_loans', 'bureau_DAYS_CREDIT_ENDDATE_sum_Active', 'WALLSMATERIAL_MODE', 'bureau_AMT_CREDIT_MAX_OVERDUE_mean_Active', 'AMT_INCOME_TOTAL', 'REGION_POPULATION_RELATIVE', 'bureau_DAYS_CREDIT_mode_Active', 'bureau_AMT_CREDIT_SUM_LIMIT_max', 'YEARS_BEGINEXPLUATATION_MODE', 'LIVINGAREA_MEDI', 'bureau_DAYS_CREDIT_sum', 'bureau_AMT_CREDIT_SUM_mode', 'bureau_AMT_CREDIT_SUM_LIMIT_mean', 'HOUR_APPR_PROCESS_START', 'REG_CITY_NOT_LIVE_CITY', 'bureau_AMT_CREDIT_SUM_DEBT_max', 'bureau_DAYS_CREDIT_std', 'DEF_60_CNT_SOCIAL_CIRCLE', 'bureau_AMT_CREDIT_SUM_mean', 'bureau_AMT_CREDIT_SUM_OVERDUE_max', 'bureau_AMT_CREDIT_SUM_DEBT_sum_Active', 'prev_AMT_CREDIT_mean_Approved', 'bureau_AMT_CREDIT_MAX_OVERDUE_std', 'bureau_AMT_CREDIT_SUM_mean_Active', 'prev_AMT_CREDIT_mean_Revolving_loans', 'NAME_HOUSING_TYPE', 'FLAG_DOCUMENT_18', 'bureau_DAYS_CREDIT_ENDDATE_mode_Active', 'bureau_AMT_CREDIT_SUM_DEBT_mean_Active', 'bureau_DAYS_CREDIT_max', 'bureau_AMT_CREDIT_MAX_OVERDUE_max']\n"
     ]
    },
    {
     "data": {
      "text/plain": [
       "['temp/model_1_selector_alpha10.joblib']"
      ]
     },
     "execution_count": 7,
     "metadata": {},
     "output_type": "execute_result"
    }
   ],
   "source": [
    "model_for_selection_high_reg=LGBMClassifier(verbose=-1,random_state=1,reg_alpha=10)\n",
    "selector_high_alpha=BorutaShap(importance_measure='shap',model=model_for_selection_high_reg)\n",
    "selector_high_alpha.fit(\n",
    "    full_pipeline[\"preprocess\"]\n",
    "    .fit_transform(X_train, y_train)\n",
    "    .to_pandas(),\n",
    "    y_train.to_pandas(),\n",
    ")\n",
    "joblib.dump(selector_high_alpha,'temp/model_1_selector_alpha10.joblib')"
   ]
  },
  {
   "cell_type": "code",
   "execution_count": 8,
   "metadata": {},
   "outputs": [
    {
     "data": {
      "application/vnd.jupyter.widget-view+json": {
       "model_id": "228ca2143890403fa940770725ec7f50",
       "version_major": 2,
       "version_minor": 0
      },
      "text/plain": [
       "  0%|          | 0/20 [00:00<?, ?it/s]"
      ]
     },
     "metadata": {},
     "output_type": "display_data"
    },
    {
     "name": "stdout",
     "output_type": "stream",
     "text": [
      "54 attributes confirmed important: ['bureau_DAYS_CREDIT_ENDDATE_mode', 'NAME_CONTRACT_TYPE_Cash loans', 'bureau_AMT_CREDIT_MAX_OVERDUE_mean', 'bureau_AMT_CREDIT_SUM_sum', 'CODE_GENDER', 'bureau_DAYS_CREDIT_ENDDATE_max', 'DAYS_ID_PUBLISH', 'bureau_AMT_CREDIT_SUM_min_Active', 'bureau_DAYS_ENDDATE_FACT_max', 'APARTMENTS_MEDI', 'FLAG_DOCUMENT_3', 'prev_payment_left', 'prev_AMT_CREDIT_sum_Approved', 'REGION_RATING_CLIENT_W_CITY', 'AMT_CREDIT', 'prev_AMT_CREDIT_mean_Consumer_loans', 'bureau_AMT_CREDIT_SUM_DEBT_mean', 'ORGANIZATION_TYPE', 'DAYS_REGISTRATION', 'EXT_SOURCE_3', 'DEF_30_CNT_SOCIAL_CIRCLE', 'bureau_DAYS_CREDIT_mean', 'bureau_DAYS_CREDIT_ENDDATE_max_Active', 'DAYS_EMPLOYED', 'prev_AMT_CREDIT_mean_Refused', 'AMT_GOODS_PRICE', 'prev_AMT_BALANCE_CURR_sum', 'bureau_AMT_CREDIT_SUM_max', 'prev_AMT_CREDIT_sum_Consumer_loans', 'bureau_AMT_CREDIT_SUM_DEBT_min_Active', 'OCCUPATION_TYPE', 'DAYS_BIRTH', 'bureau_DAYS_ENDDATE_FACT_std', 'AMT_REQ_CREDIT_BUREAU_QRT', 'bureau_DAYS_CREDIT_ENDDATE_mean_Active', 'NAME_EDUCATION_TYPE', 'bureau_DAYS_CREDIT_mode', 'AMT_ANNUITY', 'OWN_CAR_AGE', 'bureau_count_Active', 'EXT_SOURCE_2', 'bureau_DAYS_CREDIT_ENDDATE_min_Active', 'prev_AMT_CREDIT_sum_Refused', 'NAME_INCOME_TYPE', 'prev_count_Approved', 'NAME_FAMILY_STATUS', 'DAYS_LAST_PHONE_CHANGE', 'prev_curr_bal_lim_diff_sum', 'prev_count_Refused', 'FLAG_WORK_PHONE', 'WEEKDAY_APPR_PROCESS_START', 'bureau_AMT_CREDIT_MAX_OVERDUE_sum_Active', 'EXT_SOURCE_1', 'bureau_DAYS_CREDIT_max_Active']\n",
      "144 attributes confirmed unimportant: ['bureau_count_Sold', 'TOTALAREA_MODE', 'bureau_CREDIT_DAY_OVERDUE_mode_Active', 'AMT_REQ_CREDIT_BUREAU_HOUR', 'bureau_AMT_CREDIT_MAX_OVERDUE_min_Active', 'CNT_FAM_MEMBERS', 'FLAG_DOCUMENT_13', 'bureau_CNT_CREDIT_PROLONG_mode_Active', 'bureau_DAYS_ENDDATE_FACT_max_Active', 'EMERGENCYSTATE_MODE', 'bureau_DAYS_CREDIT_UPDATE_sum_Active', 'bureau_DAYS_CREDIT_UPDATE_std', 'bureau_AMT_CREDIT_SUM_LIMIT_sum', 'FLAG_OWN_REALTY_N', 'bureau_STATUS_mode', 'bureau_DAYS_ENDDATE_FACT_mode', 'bureau_AMT_CREDIT_SUM_OVERDUE_mode', 'LIVE_CITY_NOT_WORK_CITY', 'bureau_AMT_CREDIT_SUM_DEBT_mode_Active', 'FLAG_DOCUMENT_9', 'AMT_REQ_CREDIT_BUREAU_WEEK', 'FLAG_DOCUMENT_15', 'bureau_DAYS_CREDIT_ENDDATE_mean', 'bureau_AMT_CREDIT_SUM_LIMIT_max_Active', 'FLAG_DOCUMENT_11', 'FLOORSMAX_MEDI', 'CNT_CHILDREN', 'LIVE_REGION_NOT_WORK_REGION', 'FLAG_DOCUMENT_8', 'bureau_DAYS_CREDIT_min_Active', 'bureau_AMT_CREDIT_SUM_sum_Active', 'bureau_CNT_CREDIT_PROLONG_sum_Active', 'YEARS_BUILD_MEDI', 'bureau_AMT_CREDIT_SUM_std', 'AMT_REQ_CREDIT_BUREAU_DAY', 'bureau_DAYS_ENDDATE_FACT_min', 'REGION_RATING_CLIENT', 'bureau_CREDIT_TYPE_mode_active', 'bureau_AMT_CREDIT_SUM_OVERDUE_std', 'bureau_DAYS_CREDIT_UPDATE_std_Active', 'NONLIVINGAREA_MEDI', 'FLAG_DOCUMENT_14', 'bureau_AMT_CREDIT_SUM_LIMIT_mode_Active', 'bureau_CREDIT_DAY_OVERDUE_mode', 'bureau_DAYS_CREDIT_UPDATE_min_Active', 'ENTRANCES_MODE', 'bureau_AMT_CREDIT_SUM_DEBT_mode', 'bureau_AMT_CREDIT_SUM_LIMIT_mode', 'prev_AMT_CREDIT_mean', 'bureau_CREDIT_DAY_OVERDUE_max', 'bureau_DAYS_ENDDATE_FACT_mode_Active', 'NONLIVINGAREA_AVG', 'REG_REGION_NOT_LIVE_REGION', 'ENTRANCES_AVG', 'FONDKAPREMONT_MODE', 'bureau_AMT_CREDIT_SUM_DEBT_min', 'bureau_AMT_CREDIT_SUM_OVERDUE_std_Active', 'prev_AMT_CREDIT_sum', 'FLOORSMAX_MODE', 'bureau_DAYS_ENDDATE_FACT_mean', 'bureau_AMT_CREDIT_SUM_OVERDUE_min', 'FLAG_DOCUMENT_6', 'OBS_30_CNT_SOCIAL_CIRCLE', 'bureau_CREDIT_TYPE_mode', 'FLAG_PHONE', 'bureau_DAYS_CREDIT_UPDATE_max_Active', 'bureau_DAYS_CREDIT_ENDDATE_std_Active', 'bureau_CNT_CREDIT_PROLONG_sum', 'bureau_AMT_CREDIT_SUM_OVERDUE_mode_Active', 'bureau_DAYS_ENDDATE_FACT_sum', 'bureau_DPD_approx', 'bureau_DPD_approx_active', 'FLAG_DOCUMENT_5', 'ELEVATORS_MODE', 'bureau_AMT_CREDIT_SUM_LIMIT_std_Active', 'LANDAREA_MEDI', 'NONLIVINGAPARTMENTS_AVG', 'bureau_DAYS_CREDIT_UPDATE_mean_Active', 'bureau_AMT_CREDIT_SUM_std_Active', 'REG_CITY_NOT_WORK_CITY', 'bureau_AMT_CREDIT_SUM_LIMIT_std', 'BASEMENTAREA_MODE', 'LIVINGAPARTMENTS_MODE', 'bureau_AMT_CREDIT_SUM_DEBT_std', 'bureau_AMT_CREDIT_SUM_mode_Active', 'LANDAREA_MODE', 'COMMONAREA_MEDI', 'bureau_CREDIT_DAY_OVERDUE_std', 'FLAG_EMP_PHONE', 'bureau_AMT_CREDIT_MAX_OVERDUE_mode', 'bureau_AMT_CREDIT_SUM_LIMIT_min', 'bureau_count', 'bureau_AMT_CREDIT_MAX_OVERDUE_std', 'bureau_AMT_CREDIT_MAX_OVERDUE_mode_Active', 'prev_AMT_CREDIT_sum_Cash_loans', 'bureau_DAYS_CREDIT_UPDATE_mode', 'bureau_CNT_CREDIT_PROLONG_mode', 'bureau_DAYS_CREDIT_std_Active', 'ELEVATORS_MEDI', 'bureau_DAYS_CREDIT_UPDATE_min', 'bureau_CNT_CREDIT_PROLONG_min_Active', 'bureau_AMT_CREDIT_SUM_OVERDUE_min_Active', 'bureau_DAYS_CREDIT_ENDDATE_min', 'AMT_REQ_CREDIT_BUREAU_MON', 'bureau_DAYS_CREDIT_ENDDATE_std', 'APARTMENTS_MODE', 'bureau_DAYS_CREDIT_UPDATE_mode_Active', 'bureau_AMT_CREDIT_SUM_max_Active', 'NONLIVINGAREA_MODE', 'bureau_AMT_CREDIT_MAX_OVERDUE_min', 'bureau_DAYS_CREDIT_UPDATE_mean', 'bureau_AMT_CREDIT_SUM_DEBT_sum', 'bureau_AMT_CREDIT_SUM_min', 'FLAG_DOCUMENT_16', 'bureau_CNT_CREDIT_PROLONG_min', 'NAME_TYPE_SUITE', 'bureau_CREDIT_DAY_OVERDUE_mean_Active', 'REG_REGION_NOT_WORK_REGION', 'bureau_AMT_CREDIT_SUM_DEBT_max_Active', 'bureau_DAYS_CREDIT_UPDATE_max', 'bureau_DAYS_CREDIT_sum_Active', 'BASEMENTAREA_MEDI', 'bureau_DAYS_CREDIT_UPDATE_sum', 'prev_AMT_CREDIT_mean_Cash_loans', 'OBS_60_CNT_SOCIAL_CIRCLE', 'YEARS_BEGINEXPLUATATION_AVG', 'LIVINGAREA_MODE', 'AMT_REQ_CREDIT_BUREAU_YEAR', 'FLAG_EMAIL', 'bureau_CNT_CREDIT_PROLONG_std_Active', 'FLAG_CONT_MOBILE', 'bureau_DAYS_CREDIT_min', 'NONLIVINGAPARTMENTS_MODE', 'bureau_AMT_CREDIT_MAX_OVERDUE_std_Active', 'HOUSETYPE_MODE', 'bureau_DAYS_CREDIT_ENDDATE_sum', 'bureau_AMT_CREDIT_SUM_LIMIT_min_Active', 'bureau_AMT_CREDIT_SUM_DEBT_std_Active', 'prev_AMT_CREDIT_mean_Canceled', 'FLOORSMIN_MODE', 'bureau_STATUS_mode_active', 'bureau_DAYS_ENDDATE_FACT_std_Active', 'bureau_CNT_CREDIT_PROLONG_std', 'bureau_DAYS_ENDDATE_FACT_sum_Active']\n",
      "34 tentative attributes remains: ['prev_AMT_CREDIT_sum_Revolving_loans', 'bureau_DAYS_CREDIT_ENDDATE_sum_Active', 'WALLSMATERIAL_MODE', 'bureau_AMT_CREDIT_MAX_OVERDUE_mean_Active', 'AMT_INCOME_TOTAL', 'REGION_POPULATION_RELATIVE', 'bureau_DAYS_CREDIT_mode_Active', 'bureau_DAYS_CREDIT_mean_Active', 'bureau_AMT_CREDIT_SUM_LIMIT_max', 'YEARS_BEGINEXPLUATATION_MODE', 'LIVINGAREA_MEDI', 'bureau_DAYS_CREDIT_sum', 'bureau_AMT_CREDIT_SUM_mode', 'bureau_AMT_CREDIT_SUM_LIMIT_mean', 'HOUR_APPR_PROCESS_START', 'REG_CITY_NOT_LIVE_CITY', 'bureau_AMT_CREDIT_SUM_LIMIT_sum_Active', 'bureau_AMT_CREDIT_SUM_DEBT_max', 'bureau_DAYS_CREDIT_std', 'DEF_60_CNT_SOCIAL_CIRCLE', 'bureau_AMT_CREDIT_SUM_mean', 'bureau_AMT_CREDIT_SUM_OVERDUE_max', 'bureau_AMT_CREDIT_SUM_DEBT_sum_Active', 'bureau_AMT_CREDIT_MAX_OVERDUE_sum', 'bureau_count_Closed', 'prev_AMT_CREDIT_mean_Approved', 'bureau_AMT_CREDIT_SUM_mean_Active', 'prev_AMT_CREDIT_mean_Revolving_loans', 'NAME_HOUSING_TYPE', 'FLAG_DOCUMENT_18', 'bureau_DAYS_CREDIT_ENDDATE_mode_Active', 'bureau_AMT_CREDIT_SUM_DEBT_mean_Active', 'bureau_DAYS_CREDIT_max', 'bureau_AMT_CREDIT_MAX_OVERDUE_max']\n"
     ]
    },
    {
     "data": {
      "text/plain": [
       "['temp/model_1_selector_alpha0.joblib']"
      ]
     },
     "execution_count": 8,
     "metadata": {},
     "output_type": "execute_result"
    }
   ],
   "source": [
    "model_for_selection_noreg=LGBMClassifier(verbose=-1,random_state=1,reg_alpha=0)\n",
    "selector_no_alpha=BorutaShap(importance_measure='shap',model=model_for_selection_noreg)\n",
    "selector_no_alpha.fit(\n",
    "    full_pipeline[\"preprocess\"]\n",
    "    .fit_transform(X_train, y_train)\n",
    "    .to_pandas(),\n",
    "    y_train.to_pandas(),\n",
    ")\n",
    "joblib.dump(selector_no_alpha,'temp/model_1_selector_alpha0.joblib')"
   ]
  },
  {
   "cell_type": "code",
   "execution_count": 10,
   "metadata": {},
   "outputs": [],
   "source": [
    "selector_with_alpha=joblib.load('temp/model_1_selector_alpha1.joblib')\n",
    "selector_high_alpha=joblib.load('temp/model_1_selector_alpha10.joblib')\n",
    "selector_no_alpha=joblib.load('temp/model_1_selector_alpha0.joblib')\n",
    "bad_features_with_alpha=selector_with_alpha.features_to_remove.tolist()\n",
    "bad_and_tentative_features_alpha=bad_features_with_alpha.copy()\n",
    "bad_and_tentative_features_alpha.extend(selector_with_alpha.tentative.copy())\n",
    "\n",
    "\n",
    "bad_features_high_alpha=selector_high_alpha.features_to_remove.tolist()\n",
    "bad_and_tentative_features_high_alpha=bad_features_high_alpha.copy()\n",
    "bad_and_tentative_features_high_alpha.extend(selector_high_alpha.tentative.copy())\n",
    "\n",
    "\n",
    "bad_feature_no_alpha=selector_no_alpha.features_to_remove.tolist()\n",
    "bad_and_tentative_features_no_alpha=bad_feature_no_alpha.copy()\n",
    "bad_and_tentative_features_no_alpha.extend(selector_no_alpha.tentative.copy())\n",
    "# feature_removal_list=[bad_features,bad_and_tentative_features_no_alpha,[]]"
   ]
  },
  {
   "cell_type": "code",
   "execution_count": 14,
   "metadata": {},
   "outputs": [
    {
     "data": {
      "text/plain": [
       "['bureau_AMT_CREDIT_MAX_OVERDUE_sum']"
      ]
     },
     "execution_count": 14,
     "metadata": {},
     "output_type": "execute_result"
    }
   ],
   "source": [
    "[feature for feature in bad_and_tentative_features_no_alpha if feature not in bad_and_tentative_features_high_alpha]"
   ]
  },
  {
   "cell_type": "code",
   "execution_count": 17,
   "metadata": {},
   "outputs": [],
   "source": [
    "feature_quality = {\"feature\": preprocessing.fit_transform(X_train, y_train).columns}\n",
    "feature_quality[\"high_alpha\"] = []\n",
    "feature_quality[\"alpha\"] = []\n",
    "feature_quality[\"no_alpha\"] = []\n",
    "\n",
    "for feature in feature_quality[\"feature\"]:\n",
    "    if feature in bad_features_high_alpha:\n",
    "        feature_quality[\"high_alpha\"].append(\"bad\")\n",
    "    elif feature in selector_high_alpha.tentative:\n",
    "        feature_quality[\"high_alpha\"].append(\"tentative\")\n",
    "    else:\n",
    "        feature_quality[\"high_alpha\"].append(\"good\")\n",
    "\n",
    "for feature in feature_quality[\"feature\"]:\n",
    "    if feature in bad_features_with_alpha:\n",
    "        feature_quality[\"alpha\"].append(\"bad\")\n",
    "    elif feature in selector_with_alpha.tentative:\n",
    "        feature_quality[\"alpha\"].append(\"tentative\")\n",
    "    else:\n",
    "        feature_quality[\"alpha\"].append(\"good\")\n",
    "\n",
    "for feature in feature_quality[\"feature\"]:\n",
    "    if feature in bad_features_high_alpha:\n",
    "        feature_quality[\"no_alpha\"].append(\"bad\")\n",
    "    elif feature in selector_no_alpha.tentative:\n",
    "        feature_quality[\"no_alpha\"].append(\"tentative\")\n",
    "    else:\n",
    "        feature_quality[\"no_alpha\"].append(\"good\")"
   ]
  },
  {
   "cell_type": "markdown",
   "metadata": {},
   "source": [
    "**Features with no consensus**"
   ]
  },
  {
   "cell_type": "code",
   "execution_count": 24,
   "metadata": {},
   "outputs": [
    {
     "data": {
      "text/markdown": [
       "| feature                                | high_alpha   | alpha     | no_alpha   |\n",
       "|:---------------------------------------|:-------------|:----------|:-----------|\n",
       "| bureau_AMT_CREDIT_MAX_OVERDUE_sum      | good         | tentative | tentative  |\n",
       "| bureau_AMT_CREDIT_MAX_OVERDUE_std      | tentative    | bad       | good       |\n",
       "| bureau_AMT_CREDIT_SUM_LIMIT_sum_Active | bad          | tentative | bad        |\n",
       "| bureau_DAYS_CREDIT_mean_Active         | bad          | tentative | bad        |\n",
       "| bureau_count_Closed                    | bad          | tentative | bad        |"
      ],
      "text/plain": [
       "<IPython.core.display.Markdown object>"
      ]
     },
     "execution_count": 24,
     "metadata": {},
     "output_type": "execute_result"
    }
   ],
   "source": [
    "eda.table_display(pl.DataFrame(feature_quality).filter(\n",
    "    (pl.col(\"high_alpha\") != pl.col(\"alpha\"))\n",
    "    | (pl.col(\"high_alpha\") != pl.col(\"no_alpha\"))\n",
    "    | (pl.col(\"alpha\") != pl.col(\"no_alpha\"))\n",
    "))\n"
   ]
  },
  {
   "cell_type": "code",
   "execution_count": null,
   "metadata": {},
   "outputs": [],
   "source": []
  },
  {
   "cell_type": "code",
   "execution_count": 8,
   "metadata": {},
   "outputs": [],
   "source": [
    "models = tunes.Models()\n",
    "model__model_params = {\n",
    "    \"max_depth\": tune.randint(5, 50),\n",
    "    \"num_leaves\": tune.randint(10, 3051),\n",
    "    \"n_estimators\": tune.randint(10, 251),\n",
    "    \"learning_rate\": tune.loguniform(0.001, 0.1),\n",
    "    \"bagging_freq\": tune.randint(0, 11),\n",
    "    \"colsample_bytree\": tune.uniform(0.2, 1.0),\n",
    "    \"subsample\": tune.uniform(0.2, 1.0),\n",
    "    \"reg_alpha\": tune.loguniform(0.001, 100),\n",
    "    \"reg_lambda\": tune.loguniform(0.001, 100),\n",
    "    \"boosting_type\": tune.choice([\"gbdt\", \"dart\", \"rf\"]),\n",
    "    \"class_weight\": tune.choice([\"balanced\", None]),\n",
    "    \"max_bin\": tune.randint(5, 201),\n",
    "}\n",
    "\n",
    "search_space_lgbm = {\n",
    "    \"preprocess__feature_removal__feats_to_drop\": tune.choice(feature_removal_list),\n",
    "    \"model__model_params\": model__model_params,\n",
    "    \"model__sampler\": tune.choice(['smote','adasyn','random',None])\n",
    "}\n",
    "\n",
    "models.add_model(\n",
    "    \"lgbm\", full_pipeline, search_space_lgbm, metric_threshold=0.77\n",
    ")\n"
   ]
  },
  {
   "cell_type": "code",
   "execution_count": 9,
   "metadata": {},
   "outputs": [],
   "source": [
    "preprocessing_etrees=copy.deepcopy(preprocessing)\n",
    "# Create an Extra Trees classifier instance with hyperparameters\n",
    "model_extra_trees = ExtraTreesClassifier(random_state=1)     # Random seed for reproducibility\n",
    "full_pipeline_etrees=Pipeline([('preprocess',preprocessing_etrees),('model',model_extra_trees)])\n"
   ]
  },
  {
   "cell_type": "code",
   "execution_count": 10,
   "metadata": {},
   "outputs": [],
   "source": [
    "preprocessing_rgf = copy.deepcopy(preprocessing)\n",
    "model_rgf = RGFClassifier()\n",
    "full_pipeline_rgf = Pipeline([(\"preprocess\", preprocessing_rgf), (\"model\", model_rgf)])"
   ]
  },
  {
   "cell_type": "code",
   "execution_count": 11,
   "metadata": {},
   "outputs": [
    {
     "data": {
      "text/html": [
       "<div class=\"tuneStatus\">\n",
       "  <div style=\"display: flex;flex-direction: row\">\n",
       "    <div style=\"display: flex;flex-direction: column;\">\n",
       "      <h3>Tune Status</h3>\n",
       "      <table>\n",
       "<tbody>\n",
       "<tr><td>Current time:</td><td>2023-11-08 13:25:52</td></tr>\n",
       "<tr><td>Running for: </td><td>00:02:18.10        </td></tr>\n",
       "<tr><td>Memory:      </td><td>25.2/31.2 GiB      </td></tr>\n",
       "</tbody>\n",
       "</table>\n",
       "    </div>\n",
       "    <div class=\"vDivider\"></div>\n",
       "    <div class=\"systemInfo\">\n",
       "      <h3>System Info</h3>\n",
       "      Using FIFO scheduling algorithm.<br>Logical resource usage: 12.0/12 CPUs, 0/1 GPUs (0.0/1.0 accelerator_type:G)\n",
       "    </div>\n",
       "    \n",
       "  </div>\n",
       "  <div class=\"hDivider\"></div>\n",
       "  <div class=\"trialStatus\">\n",
       "    <h3>Trial Status</h3>\n",
       "    <table>\n",
       "<thead>\n",
       "<tr><th>Trial name          </th><th>status    </th><th>loc                </th><th style=\"text-align: right;\">  model__model_params/\n",
       "bagging_freq</th><th>model__model_params/\n",
       "boosting_type     </th><th>model__model_params/\n",
       "class_weight         </th><th style=\"text-align: right;\">         model__model_params/\n",
       "colsample_bytree</th><th style=\"text-align: right;\">           model__model_params/\n",
       "learning_rate</th><th style=\"text-align: right;\">    model__model_params/\n",
       "max_bin</th><th style=\"text-align: right;\">   model__model_params/\n",
       "max_depth</th><th style=\"text-align: right;\">    model__model_params/\n",
       "n_estimators</th><th style=\"text-align: right;\">     model__model_params/\n",
       "num_leaves</th><th style=\"text-align: right;\">            model__model_params/\n",
       "reg_alpha</th><th style=\"text-align: right;\">            model__model_params/\n",
       "reg_lambda</th><th style=\"text-align: right;\">         model__model_params/\n",
       "subsample</th><th>model__sampler  </th><th>...ocess__feature_re\n",
       "moval__feats_to_drop                     </th><th style=\"text-align: right;\">  iter</th><th style=\"text-align: right;\">  total time (s)</th><th style=\"text-align: right;\">   score</th></tr>\n",
       "</thead>\n",
       "<tbody>\n",
       "<tr><td>TrainableCV_8620eb49</td><td>RUNNING   </td><td>192.168.0.103:21611</td><td style=\"text-align: right;\">4</td><td>dart</td><td>balanced</td><td style=\"text-align: right;\">0.956688</td><td style=\"text-align: right;\">0.00292668</td><td style=\"text-align: right;\">103</td><td style=\"text-align: right;\">34</td><td style=\"text-align: right;\">136</td><td style=\"text-align: right;\">1422</td><td style=\"text-align: right;\"> 3.74521   </td><td style=\"text-align: right;\"> 0.828468  </td><td style=\"text-align: right;\">0.553318</td><td>random          </td><td>[]                  </td><td style=\"text-align: right;\">     2</td><td style=\"text-align: right;\">         93.2451</td><td style=\"text-align: right;\">0.773658</td></tr>\n",
       "<tr><td>TrainableCV_dcbd6895</td><td>RUNNING   </td><td>192.168.0.103:22238</td><td style=\"text-align: right;\">5</td><td>dart</td><td>        </td><td style=\"text-align: right;\">0.759625</td><td style=\"text-align: right;\">0.00188067</td><td style=\"text-align: right;\"> 31</td><td style=\"text-align: right;\">36</td><td style=\"text-align: right;\"> 60</td><td style=\"text-align: right;\">2862</td><td style=\"text-align: right;\">39.264     </td><td style=\"text-align: right;\"> 0.922452  </td><td style=\"text-align: right;\">0.461732</td><td>                </td><td>[]                  </td><td style=\"text-align: right;\">     3</td><td style=\"text-align: right;\">         82.537 </td><td style=\"text-align: right;\">0.771011</td></tr>\n",
       "<tr><td>TrainableCV_803e15b8</td><td>RUNNING   </td><td>192.168.0.103:22338</td><td style=\"text-align: right;\">9</td><td>gbdt</td><td>        </td><td style=\"text-align: right;\">0.461003</td><td style=\"text-align: right;\">0.00160387</td><td style=\"text-align: right;\">  5</td><td style=\"text-align: right;\">44</td><td style=\"text-align: right;\">183</td><td style=\"text-align: right;\"> 512</td><td style=\"text-align: right;\">69.2313    </td><td style=\"text-align: right;\"> 0.0303841 </td><td style=\"text-align: right;\">0.66189 </td><td>                </td><td>[&#x27;CNT_CHILDREN&#x27;_9300</td><td style=\"text-align: right;\">     4</td><td style=\"text-align: right;\">         54.8934</td><td style=\"text-align: right;\">0.771111</td></tr>\n",
       "<tr><td>TrainableCV_1a62ad97</td><td>RUNNING   </td><td>192.168.0.103:22426</td><td style=\"text-align: right;\">8</td><td>gbdt</td><td>balanced</td><td style=\"text-align: right;\">0.863882</td><td style=\"text-align: right;\">0.0514676 </td><td style=\"text-align: right;\"> 16</td><td style=\"text-align: right;\">13</td><td style=\"text-align: right;\">115</td><td style=\"text-align: right;\">2555</td><td style=\"text-align: right;\">15.1544    </td><td style=\"text-align: right;\"> 3.55327   </td><td style=\"text-align: right;\">0.983853</td><td>random          </td><td>[]                  </td><td style=\"text-align: right;\">     1</td><td style=\"text-align: right;\">         48.1363</td><td style=\"text-align: right;\">0.772443</td></tr>\n",
       "<tr><td>TrainableCV_ff7f0de3</td><td>RUNNING   </td><td>192.168.0.103:22517</td><td style=\"text-align: right;\">4</td><td>dart</td><td>        </td><td style=\"text-align: right;\">0.895504</td><td style=\"text-align: right;\">0.0011411 </td><td style=\"text-align: right;\">158</td><td style=\"text-align: right;\"> 9</td><td style=\"text-align: right;\">194</td><td style=\"text-align: right;\">  59</td><td style=\"text-align: right;\"> 0.00370398</td><td style=\"text-align: right;\"> 1.88456   </td><td style=\"text-align: right;\">0.616041</td><td>                </td><td>[&#x27;CNT_CHILDREN&#x27;_a500</td><td style=\"text-align: right;\">     1</td><td style=\"text-align: right;\">         14.9833</td><td style=\"text-align: right;\">0.772883</td></tr>\n",
       "<tr><td>TrainableCV_0c2b470d</td><td>RUNNING   </td><td>192.168.0.103:22592</td><td style=\"text-align: right;\">4</td><td>dart</td><td>balanced</td><td style=\"text-align: right;\">0.903328</td><td style=\"text-align: right;\">0.0109824 </td><td style=\"text-align: right;\">197</td><td style=\"text-align: right;\">46</td><td style=\"text-align: right;\">218</td><td style=\"text-align: right;\">1605</td><td style=\"text-align: right;\"> 0.0303968 </td><td style=\"text-align: right;\"> 0.0136955 </td><td style=\"text-align: right;\">0.352853</td><td>smote           </td><td>[&#x27;CNT_CHILDREN&#x27;_23c0</td><td style=\"text-align: right;\">      </td><td style=\"text-align: right;\">                </td><td style=\"text-align: right;\">        </td></tr>\n",
       "<tr><td>TrainableCV_d81b9865</td><td>PENDING   </td><td>                   </td><td style=\"text-align: right;\">5</td><td>rf  </td><td>balanced</td><td style=\"text-align: right;\">0.446643</td><td style=\"text-align: right;\">0.0695402 </td><td style=\"text-align: right;\"> 62</td><td style=\"text-align: right;\">44</td><td style=\"text-align: right;\">248</td><td style=\"text-align: right;\">2970</td><td style=\"text-align: right;\"> 0.0347169 </td><td style=\"text-align: right;\"> 0.18361   </td><td style=\"text-align: right;\">0.329285</td><td>                </td><td>[]                  </td><td style=\"text-align: right;\">      </td><td style=\"text-align: right;\">                </td><td style=\"text-align: right;\">        </td></tr>\n",
       "<tr><td>TrainableCV_72e46b97</td><td>TERMINATED</td><td>192.168.0.103:21540</td><td style=\"text-align: right;\">5</td><td>dart</td><td>        </td><td style=\"text-align: right;\">0.739618</td><td style=\"text-align: right;\">0.0560553 </td><td style=\"text-align: right;\">116</td><td style=\"text-align: right;\">10</td><td style=\"text-align: right;\">178</td><td style=\"text-align: right;\">2131</td><td style=\"text-align: right;\"> 7.44568   </td><td style=\"text-align: right;\"> 0.00154289</td><td style=\"text-align: right;\">0.789695</td><td>adasyn          </td><td>[&#x27;CNT_CHILDREN&#x27;_d680</td><td style=\"text-align: right;\">     1</td><td style=\"text-align: right;\">         32.0372</td><td style=\"text-align: right;\">0.765282</td></tr>\n",
       "<tr><td>TrainableCV_aa6a2b20</td><td>TERMINATED</td><td>192.168.0.103:21725</td><td style=\"text-align: right;\">2</td><td>dart</td><td>balanced</td><td style=\"text-align: right;\">0.860437</td><td style=\"text-align: right;\">0.00833566</td><td style=\"text-align: right;\">198</td><td style=\"text-align: right;\">18</td><td style=\"text-align: right;\">150</td><td style=\"text-align: right;\">2760</td><td style=\"text-align: right;\"> 7.12336   </td><td style=\"text-align: right;\"> 0.0124325 </td><td style=\"text-align: right;\">0.307178</td><td>smote           </td><td>[&#x27;CNT_CHILDREN&#x27;_e9c0</td><td style=\"text-align: right;\">     1</td><td style=\"text-align: right;\">         22.9379</td><td style=\"text-align: right;\">0.764082</td></tr>\n",
       "<tr><td>TrainableCV_a18456f7</td><td>TERMINATED</td><td>192.168.0.103:21780</td><td style=\"text-align: right;\">8</td><td>rf  </td><td>        </td><td style=\"text-align: right;\">0.619685</td><td style=\"text-align: right;\">0.0243159 </td><td style=\"text-align: right;\"> 86</td><td style=\"text-align: right;\">17</td><td style=\"text-align: right;\">112</td><td style=\"text-align: right;\">2812</td><td style=\"text-align: right;\">89.91      </td><td style=\"text-align: right;\"> 0.809482  </td><td style=\"text-align: right;\">0.283771</td><td>smote           </td><td>[]                  </td><td style=\"text-align: right;\">     1</td><td style=\"text-align: right;\">         55.5601</td><td style=\"text-align: right;\">0.766259</td></tr>\n",
       "<tr><td>TrainableCV_25b8f779</td><td>TERMINATED</td><td>192.168.0.103:21845</td><td style=\"text-align: right;\">6</td><td>dart</td><td>balanced</td><td style=\"text-align: right;\">0.721748</td><td style=\"text-align: right;\">0.0362847 </td><td style=\"text-align: right;\">120</td><td style=\"text-align: right;\">12</td><td style=\"text-align: right;\">237</td><td style=\"text-align: right;\">  55</td><td style=\"text-align: right;\"> 0.00556452</td><td style=\"text-align: right;\"> 0.00134456</td><td style=\"text-align: right;\">0.611121</td><td>smote           </td><td>[&#x27;CNT_CHILDREN&#x27;_5140</td><td style=\"text-align: right;\">     1</td><td style=\"text-align: right;\">         30.465 </td><td style=\"text-align: right;\">0.764549</td></tr>\n",
       "<tr><td>TrainableCV_67b358cf</td><td>TERMINATED</td><td>192.168.0.103:21901</td><td style=\"text-align: right;\">0</td><td>rf  </td><td>        </td><td style=\"text-align: right;\">0.258735</td><td style=\"text-align: right;\">0.0484194 </td><td style=\"text-align: right;\"> 24</td><td style=\"text-align: right;\">49</td><td style=\"text-align: right;\"> 17</td><td style=\"text-align: right;\">1001</td><td style=\"text-align: right;\"> 1.2515    </td><td style=\"text-align: right;\">71.34      </td><td style=\"text-align: right;\">0.316601</td><td>                </td><td>[&#x27;CNT_CHILDREN&#x27;_6b00</td><td style=\"text-align: right;\">     5</td><td style=\"text-align: right;\">         69.698 </td><td style=\"text-align: right;\">0.77174 </td></tr>\n",
       "<tr><td>TrainableCV_e6ac75ec</td><td>TERMINATED</td><td>192.168.0.103:22149</td><td style=\"text-align: right;\">6</td><td>dart</td><td>        </td><td style=\"text-align: right;\">0.419099</td><td style=\"text-align: right;\">0.0164028 </td><td style=\"text-align: right;\">142</td><td style=\"text-align: right;\">30</td><td style=\"text-align: right;\"> 32</td><td style=\"text-align: right;\">2205</td><td style=\"text-align: right;\"> 0.195196  </td><td style=\"text-align: right;\"> 0.72134   </td><td style=\"text-align: right;\">0.319425</td><td>smote           </td><td>[]                  </td><td style=\"text-align: right;\">     1</td><td style=\"text-align: right;\">         57.9411</td><td style=\"text-align: right;\">0.766267</td></tr>\n",
       "</tbody>\n",
       "</table>\n",
       "  </div>\n",
       "</div>\n",
       "<style>\n",
       ".tuneStatus {\n",
       "  color: var(--jp-ui-font-color1);\n",
       "}\n",
       ".tuneStatus .systemInfo {\n",
       "  display: flex;\n",
       "  flex-direction: column;\n",
       "}\n",
       ".tuneStatus td {\n",
       "  white-space: nowrap;\n",
       "}\n",
       ".tuneStatus .trialStatus {\n",
       "  display: flex;\n",
       "  flex-direction: column;\n",
       "}\n",
       ".tuneStatus h3 {\n",
       "  font-weight: bold;\n",
       "}\n",
       ".tuneStatus .hDivider {\n",
       "  border-bottom-width: var(--jp-border-width);\n",
       "  border-bottom-color: var(--jp-border-color0);\n",
       "  border-bottom-style: solid;\n",
       "}\n",
       ".tuneStatus .vDivider {\n",
       "  border-left-width: var(--jp-border-width);\n",
       "  border-left-color: var(--jp-border-color0);\n",
       "  border-left-style: solid;\n",
       "  margin: 0.5em 1em 0.5em 1em;\n",
       "}\n",
       "</style>\n"
      ],
      "text/plain": [
       "<IPython.core.display.HTML object>"
      ]
     },
     "metadata": {},
     "output_type": "display_data"
    },
    {
     "name": "stdout",
     "output_type": "stream",
     "text": [
      "\u001b[2m\u001b[36m(TrainableCV pid=21540)\u001b[0m Step 0 F-1 Score: 0.7652824360355878\n",
      "\u001b[2m\u001b[36m(TrainableCV pid=21901)\u001b[0m Step 0 F-1 Score: 0.771457619588134\u001b[32m [repeated 2x across cluster] (Ray deduplicates logs by default. Set RAY_DEDUP_LOGS=0 to disable log deduplication, or see https://docs.ray.io/en/master/ray-observability/ray-logging.html#log-deduplication for more options.)\u001b[0m\n",
      "\u001b[2m\u001b[36m(TrainableCV pid=21845)\u001b[0m Step 0 F-1 Score: 0.7645489917626007\u001b[32m [repeated 2x across cluster]\u001b[0m\n",
      "\u001b[2m\u001b[36m(TrainableCV pid=21780)\u001b[0m Step 0 F-1 Score: 0.7662593797033441\u001b[32m [repeated 2x across cluster]\u001b[0m\n",
      "\u001b[2m\u001b[36m(TrainableCV pid=21901)\u001b[0m Step 3 F-1 Score: 0.7733208961305292\u001b[32m [repeated 4x across cluster]\u001b[0m\n",
      "\u001b[2m\u001b[36m(TrainableCV pid=22149)\u001b[0m Step 0 F-1 Score: 0.7662668963262133\u001b[32m [repeated 2x across cluster]\u001b[0m\n",
      "\u001b[2m\u001b[36m(TrainableCV pid=22238)\u001b[0m Step 1 F-1 Score: 0.7740474671730182\u001b[32m [repeated 3x across cluster]\u001b[0m\n",
      "\u001b[2m\u001b[36m(TrainableCV pid=22338)\u001b[0m Step 3 F-1 Score: 0.7733208961305292\u001b[32m [repeated 2x across cluster]\u001b[0m\n",
      "\u001b[2m\u001b[36m(TrainableCV pid=22238)\u001b[0m Step 2 F-1 Score: 0.7670391575419574\u001b[32m [repeated 2x across cluster]\u001b[0m\n"
     ]
    },
    {
     "name": "stderr",
     "output_type": "stream",
     "text": [
      "2023-11-08 13:25:52,668\tWARNING tune.py:194 -- Stop signal received (e.g. via SIGINT/Ctrl+C), ending Ray Tune run. This will try to checkpoint the experiment state one last time. Press CTRL+C (or send SIGINT/SIGKILL/SIGTERM) to skip. \n"
     ]
    },
    {
     "name": "stdout",
     "output_type": "stream",
     "text": [
      "\u001b[2m\u001b[36m(TrainableCV pid=22517)\u001b[0m Step 1 F-1 Score: 0.7738898789216292\u001b[32m [repeated 3x across cluster]\u001b[0m\n"
     ]
    },
    {
     "name": "stderr",
     "output_type": "stream",
     "text": [
      "2023-11-08 13:26:03,228\tINFO tune.py:1143 -- Total run time: 148.46 seconds (137.89 seconds for the tuning loop).\n",
      "2023-11-08 13:26:03,229\tWARNING tune.py:1158 -- Experiment has been interrupted, but the most recent state was saved.\n",
      "Resume experiment with: Tuner.restore(path=\"/tmp/tune_results/lgbm\", trainable=...)\n",
      "2023-11-08 13:26:03,248\tWARNING experiment_analysis.py:205 -- Failed to fetch metrics for 1 trial(s):\n",
      "- TrainableCV_d81b9865: FileNotFoundError('Could not fetch metrics for TrainableCV_d81b9865: both result.json and progress.csv were not found at /tmp/tune_results/lgbm/TrainableCV_d81b9865_13_bagging_freq=5,boosting_type=rf,class_weight=balanced,colsample_bytree=0.4466,learning_rate=0.0695,max_bin_2023-11-08_13-25-32')\n"
     ]
    },
    {
     "name": "stdout",
     "output_type": "stream",
     "text": [
      "lgbm tuned.\n"
     ]
    }
   ],
   "source": [
    "models.tune_all(X_train,y_train,metric='roc_auc')"
   ]
  },
  {
   "cell_type": "code",
   "execution_count": null,
   "metadata": {},
   "outputs": [
    {
     "data": {
      "text/html": [
       "<style>#sk-container-id-2 {color: black;}#sk-container-id-2 pre{padding: 0;}#sk-container-id-2 div.sk-toggleable {background-color: white;}#sk-container-id-2 label.sk-toggleable__label {cursor: pointer;display: block;width: 100%;margin-bottom: 0;padding: 0.3em;box-sizing: border-box;text-align: center;}#sk-container-id-2 label.sk-toggleable__label-arrow:before {content: \"▸\";float: left;margin-right: 0.25em;color: #696969;}#sk-container-id-2 label.sk-toggleable__label-arrow:hover:before {color: black;}#sk-container-id-2 div.sk-estimator:hover label.sk-toggleable__label-arrow:before {color: black;}#sk-container-id-2 div.sk-toggleable__content {max-height: 0;max-width: 0;overflow: hidden;text-align: left;background-color: #f0f8ff;}#sk-container-id-2 div.sk-toggleable__content pre {margin: 0.2em;color: black;border-radius: 0.25em;background-color: #f0f8ff;}#sk-container-id-2 input.sk-toggleable__control:checked~div.sk-toggleable__content {max-height: 200px;max-width: 100%;overflow: auto;}#sk-container-id-2 input.sk-toggleable__control:checked~label.sk-toggleable__label-arrow:before {content: \"▾\";}#sk-container-id-2 div.sk-estimator input.sk-toggleable__control:checked~label.sk-toggleable__label {background-color: #d4ebff;}#sk-container-id-2 div.sk-label input.sk-toggleable__control:checked~label.sk-toggleable__label {background-color: #d4ebff;}#sk-container-id-2 input.sk-hidden--visually {border: 0;clip: rect(1px 1px 1px 1px);clip: rect(1px, 1px, 1px, 1px);height: 1px;margin: -1px;overflow: hidden;padding: 0;position: absolute;width: 1px;}#sk-container-id-2 div.sk-estimator {font-family: monospace;background-color: #f0f8ff;border: 1px dotted black;border-radius: 0.25em;box-sizing: border-box;margin-bottom: 0.5em;}#sk-container-id-2 div.sk-estimator:hover {background-color: #d4ebff;}#sk-container-id-2 div.sk-parallel-item::after {content: \"\";width: 100%;border-bottom: 1px solid gray;flex-grow: 1;}#sk-container-id-2 div.sk-label:hover label.sk-toggleable__label {background-color: #d4ebff;}#sk-container-id-2 div.sk-serial::before {content: \"\";position: absolute;border-left: 1px solid gray;box-sizing: border-box;top: 0;bottom: 0;left: 50%;z-index: 0;}#sk-container-id-2 div.sk-serial {display: flex;flex-direction: column;align-items: center;background-color: white;padding-right: 0.2em;padding-left: 0.2em;position: relative;}#sk-container-id-2 div.sk-item {position: relative;z-index: 1;}#sk-container-id-2 div.sk-parallel {display: flex;align-items: stretch;justify-content: center;background-color: white;position: relative;}#sk-container-id-2 div.sk-item::before, #sk-container-id-2 div.sk-parallel-item::before {content: \"\";position: absolute;border-left: 1px solid gray;box-sizing: border-box;top: 0;bottom: 0;left: 50%;z-index: -1;}#sk-container-id-2 div.sk-parallel-item {display: flex;flex-direction: column;z-index: 1;position: relative;background-color: white;}#sk-container-id-2 div.sk-parallel-item:first-child::after {align-self: flex-end;width: 50%;}#sk-container-id-2 div.sk-parallel-item:last-child::after {align-self: flex-start;width: 50%;}#sk-container-id-2 div.sk-parallel-item:only-child::after {width: 0;}#sk-container-id-2 div.sk-dashed-wrapped {border: 1px dashed gray;margin: 0 0.4em 0.5em 0.4em;box-sizing: border-box;padding-bottom: 0.4em;background-color: white;}#sk-container-id-2 div.sk-label label {font-family: monospace;font-weight: bold;display: inline-block;line-height: 1.2em;}#sk-container-id-2 div.sk-label-container {text-align: center;}#sk-container-id-2 div.sk-container {/* jupyter's `normalize.less` sets `[hidden] { display: none; }` but bootstrap.min.css set `[hidden] { display: none !important; }` so we also need the `!important` here to be able to override the default hidden behavior on the sphinx rendered scikit-learn.org. See: https://github.com/scikit-learn/scikit-learn/issues/21755 */display: inline-block !important;position: relative;}#sk-container-id-2 div.sk-text-repr-fallback {display: none;}</style><div id=\"sk-container-id-2\" class=\"sk-top-container\"><div class=\"sk-text-repr-fallback\"><pre>Pipeline(steps=[(&#x27;preprocess&#x27;,\n",
       "                 Pipeline(steps=[(&#x27;num_imputer&#x27;,\n",
       "                                  PolarsColumnTransformer(steps=OrderedDict([(&#x27;AMT_ANNUITY&#x27;,\n",
       "                                                                              &lt;auxiliary.transformers.PolarsColumnTransformer.Step object at 0x7fc28b28de20&gt;),\n",
       "                                                                             (&#x27;AMT_GOODS_PRICE&#x27;,\n",
       "                                                                              &lt;auxiliary.transformers.PolarsColumnTransformer.Step object at 0x7fc28b28dd30&gt;),\n",
       "                                                                             (&#x27;OWN_CAR_AGE&#x27;,\n",
       "                                                                              &lt;auxiliary.transformers.PolarsColumnTransfo...\n",
       "                 SamplingModelWrapper(model=LGBMClassifier(force_col_wise=True,\n",
       "                                                           n_jobs=1,\n",
       "                                                           verbosity=-1),\n",
       "                                      model_params={&#x27;bagging_freq&#x27;: 4,\n",
       "                                                    &#x27;boosting_type&#x27;: &#x27;gbdt&#x27;,\n",
       "                                                    &#x27;class_weight&#x27;: None,\n",
       "                                                    &#x27;colsample_bytree&#x27;: 0.26219930279195874,\n",
       "                                                    &#x27;learning_rate&#x27;: 0.0023464448501814596,\n",
       "                                                    &#x27;max_bin&#x27;: 44,\n",
       "                                                    &#x27;max_depth&#x27;: 7,\n",
       "                                                    &#x27;n_estimators&#x27;: 233,\n",
       "                                                    &#x27;num_leaves&#x27;: 3031,\n",
       "                                                    &#x27;reg_alpha&#x27;: 0.01052557496671474,\n",
       "                                                    &#x27;reg_lambda&#x27;: 0.24722523477790145,\n",
       "                                                    &#x27;subsample&#x27;: 0.557113346479204}))])</pre><b>In a Jupyter environment, please rerun this cell to show the HTML representation or trust the notebook. <br />On GitHub, the HTML representation is unable to render, please try loading this page with nbviewer.org.</b></div><div class=\"sk-container\" hidden><div class=\"sk-item sk-dashed-wrapped\"><div class=\"sk-label-container\"><div class=\"sk-label sk-toggleable\"><input class=\"sk-toggleable__control sk-hidden--visually\" id=\"sk-estimator-id-2\" type=\"checkbox\" ><label for=\"sk-estimator-id-2\" class=\"sk-toggleable__label sk-toggleable__label-arrow\">Pipeline</label><div class=\"sk-toggleable__content\"><pre>Pipeline(steps=[(&#x27;preprocess&#x27;,\n",
       "                 Pipeline(steps=[(&#x27;num_imputer&#x27;,\n",
       "                                  PolarsColumnTransformer(steps=OrderedDict([(&#x27;AMT_ANNUITY&#x27;,\n",
       "                                                                              &lt;auxiliary.transformers.PolarsColumnTransformer.Step object at 0x7fc28b28de20&gt;),\n",
       "                                                                             (&#x27;AMT_GOODS_PRICE&#x27;,\n",
       "                                                                              &lt;auxiliary.transformers.PolarsColumnTransformer.Step object at 0x7fc28b28dd30&gt;),\n",
       "                                                                             (&#x27;OWN_CAR_AGE&#x27;,\n",
       "                                                                              &lt;auxiliary.transformers.PolarsColumnTransfo...\n",
       "                 SamplingModelWrapper(model=LGBMClassifier(force_col_wise=True,\n",
       "                                                           n_jobs=1,\n",
       "                                                           verbosity=-1),\n",
       "                                      model_params={&#x27;bagging_freq&#x27;: 4,\n",
       "                                                    &#x27;boosting_type&#x27;: &#x27;gbdt&#x27;,\n",
       "                                                    &#x27;class_weight&#x27;: None,\n",
       "                                                    &#x27;colsample_bytree&#x27;: 0.26219930279195874,\n",
       "                                                    &#x27;learning_rate&#x27;: 0.0023464448501814596,\n",
       "                                                    &#x27;max_bin&#x27;: 44,\n",
       "                                                    &#x27;max_depth&#x27;: 7,\n",
       "                                                    &#x27;n_estimators&#x27;: 233,\n",
       "                                                    &#x27;num_leaves&#x27;: 3031,\n",
       "                                                    &#x27;reg_alpha&#x27;: 0.01052557496671474,\n",
       "                                                    &#x27;reg_lambda&#x27;: 0.24722523477790145,\n",
       "                                                    &#x27;subsample&#x27;: 0.557113346479204}))])</pre></div></div></div><div class=\"sk-serial\"><div class=\"sk-item\"><div class=\"sk-label-container\"><div class=\"sk-label sk-toggleable\"><input class=\"sk-toggleable__control sk-hidden--visually\" id=\"sk-estimator-id-3\" type=\"checkbox\" ><label for=\"sk-estimator-id-3\" class=\"sk-toggleable__label sk-toggleable__label-arrow\">preprocess: Pipeline</label><div class=\"sk-toggleable__content\"><pre>Pipeline(steps=[(&#x27;num_imputer&#x27;,\n",
       "                 PolarsColumnTransformer(steps=OrderedDict([(&#x27;AMT_ANNUITY&#x27;,\n",
       "                                                             &lt;auxiliary.transformers.PolarsColumnTransformer.Step object at 0x7fc28b28de20&gt;),\n",
       "                                                            (&#x27;AMT_GOODS_PRICE&#x27;,\n",
       "                                                             &lt;auxiliary.transformers.PolarsColumnTransformer.Step object at 0x7fc28b28dd30&gt;),\n",
       "                                                            (&#x27;OWN_CAR_AGE&#x27;,\n",
       "                                                             &lt;auxiliary.transformers.PolarsColumnTransformer.Step object at 0x7fc28b28dc4...\n",
       "                                               &#x27;REG_REGION_NOT_WORK_REGION&#x27;,\n",
       "                                               &#x27;LIVE_REGION_NOT_WORK_REGION&#x27;,\n",
       "                                               &#x27;REG_CITY_NOT_WORK_CITY&#x27;,\n",
       "                                               &#x27;LIVE_CITY_NOT_WORK_CITY&#x27;,\n",
       "                                               &#x27;COMMONAREA_AVG&#x27;,\n",
       "                                               &#x27;ELEVATORS_AVG&#x27;, &#x27;ENTRANCES_AVG&#x27;,\n",
       "                                               &#x27;FLOORSMAX_AVG&#x27;, &#x27;LANDAREA_AVG&#x27;,\n",
       "                                               &#x27;LIVINGAPARTMENTS_AVG&#x27;,\n",
       "                                               &#x27;NONLIVINGAREA_AVG&#x27;,\n",
       "                                               &#x27;APARTMENTS_MODE&#x27;,\n",
       "                                               &#x27;BASEMENTAREA_MODE&#x27;,\n",
       "                                               &#x27;YEARS_BEGINEXPLUATATION_MODE&#x27;,\n",
       "                                               &#x27;ELEVATORS_MODE&#x27;,\n",
       "                                               &#x27;ENTRANCES_MODE&#x27;,\n",
       "                                               &#x27;FLOORSMAX_MODE&#x27;,\n",
       "                                               &#x27;FLOORSMIN_MODE&#x27;, ...]))])</pre></div></div></div><div class=\"sk-serial\"><div class=\"sk-item\"><div class=\"sk-estimator sk-toggleable\"><input class=\"sk-toggleable__control sk-hidden--visually\" id=\"sk-estimator-id-4\" type=\"checkbox\" ><label for=\"sk-estimator-id-4\" class=\"sk-toggleable__label sk-toggleable__label-arrow\">PolarsColumnTransformer</label><div class=\"sk-toggleable__content\"><pre>PolarsColumnTransformer(steps=OrderedDict([(&#x27;AMT_ANNUITY&#x27;,\n",
       "                                            &lt;auxiliary.transformers.PolarsColumnTransformer.Step object at 0x7fc28b28de20&gt;),\n",
       "                                           (&#x27;AMT_GOODS_PRICE&#x27;,\n",
       "                                            &lt;auxiliary.transformers.PolarsColumnTransformer.Step object at 0x7fc28b28dd30&gt;),\n",
       "                                           (&#x27;OWN_CAR_AGE&#x27;,\n",
       "                                            &lt;auxiliary.transformers.PolarsColumnTransformer.Step object at 0x7fc28b28dc40&gt;),\n",
       "                                           (&#x27;CNT_FAM_MEMBERS&#x27;,\n",
       "                                            &lt;auxilia...\n",
       "                                            &lt;auxiliary.transformers.PolarsColumnTransformer.Step object at 0x7fc28b28f370&gt;),\n",
       "                                           (&#x27;ELEVATORS_MEDI&#x27;,\n",
       "                                            &lt;auxiliary.transformers.PolarsColumnTransformer.Step object at 0x7fc28b28f430&gt;),\n",
       "                                           (&#x27;FLOORSMAX_MEDI&#x27;,\n",
       "                                            &lt;auxiliary.transformers.PolarsColumnTransformer.Step object at 0x7fc28b28f4f0&gt;),\n",
       "                                           (&#x27;LANDAREA_MEDI&#x27;,\n",
       "                                            &lt;auxiliary.transformers.PolarsColumnTransformer.Step object at 0x7fc28b28f5b0&gt;), ...]))</pre></div></div></div><div class=\"sk-item\"><div class=\"sk-estimator sk-toggleable\"><input class=\"sk-toggleable__control sk-hidden--visually\" id=\"sk-estimator-id-5\" type=\"checkbox\" ><label for=\"sk-estimator-id-5\" class=\"sk-toggleable__label sk-toggleable__label-arrow\">PolarsColumnTransformer</label><div class=\"sk-toggleable__content\"><pre>PolarsColumnTransformer(steps=OrderedDict([(&#x27;CODE_GENDER&#x27;,\n",
       "                                            &lt;auxiliary.transformers.PolarsColumnTransformer.Step object at 0x7fc28b2aebb0&gt;),\n",
       "                                           (&#x27;NAME_TYPE_SUITE&#x27;,\n",
       "                                            &lt;auxiliary.transformers.PolarsColumnTransformer.Step object at 0x7fc28b2aec40&gt;),\n",
       "                                           (&#x27;NAME_INCOME_TYPE&#x27;,\n",
       "                                            &lt;auxiliary.transformers.PolarsColumnTransformer.Step object at 0x7fc28b2aed00&gt;),\n",
       "                                           (&#x27;NAME_EDUCATION_TYPE&#x27;...\n",
       "                                            &lt;auxiliary.transformers.PolarsColumnTransformer.Step object at 0x7fc28b2b0370&gt;),\n",
       "                                           (&#x27;bureau_CREDIT_TYPE_mode_active&#x27;,\n",
       "                                            &lt;auxiliary.transformers.PolarsColumnTransformer.Step object at 0x7fc28b2b0400&gt;),\n",
       "                                           (&#x27;bureau_STATUS_mode&#x27;,\n",
       "                                            &lt;auxiliary.transformers.PolarsColumnTransformer.Step object at 0x7fc28b2b0490&gt;),\n",
       "                                           (&#x27;bureau_STATUS_mode_active&#x27;,\n",
       "                                            &lt;auxiliary.transformers.PolarsColumnTransformer.Step object at 0x7fc28b2b0520&gt;)]))</pre></div></div></div><div class=\"sk-item\"><div class=\"sk-estimator sk-toggleable\"><input class=\"sk-toggleable__control sk-hidden--visually\" id=\"sk-estimator-id-6\" type=\"checkbox\" ><label for=\"sk-estimator-id-6\" class=\"sk-toggleable__label sk-toggleable__label-arrow\">PolarsColumnTransformer</label><div class=\"sk-toggleable__content\"><pre>PolarsColumnTransformer(steps=OrderedDict([(&#x27;NAME_CONTRACT_TYPE&#x27;,\n",
       "                                            &lt;auxiliary.transformers.PolarsColumnTransformer.Step object at 0x7fc28b2b0610&gt;),\n",
       "                                           (&#x27;FLAG_OWN_REALTY&#x27;,\n",
       "                                            &lt;auxiliary.transformers.PolarsColumnTransformer.Step object at 0x7fc28b2b06d0&gt;),\n",
       "                                           (&#x27;CODE_GENDER&#x27;,\n",
       "                                            &lt;auxiliary.transformers.PolarsColumnTransformer.Step object at 0x7fc28b2b0790&gt;),\n",
       "                                           (&#x27;NAME_TYPE_SUITE&#x27;,\n",
       "                                            &lt;...\n",
       "                                            &lt;auxiliary.transformers.PolarsColumnTransformer.Step object at 0x7fc286dc31c0&gt;),\n",
       "                                           (&#x27;bureau_CREDIT_TYPE_mode_active&#x27;,\n",
       "                                            &lt;auxiliary.transformers.PolarsColumnTransformer.Step object at 0x7fc286dc3280&gt;),\n",
       "                                           (&#x27;bureau_STATUS_mode&#x27;,\n",
       "                                            &lt;auxiliary.transformers.PolarsColumnTransformer.Step object at 0x7fc286dc3340&gt;),\n",
       "                                           (&#x27;bureau_STATUS_mode_active&#x27;,\n",
       "                                            &lt;auxiliary.transformers.PolarsColumnTransformer.Step object at 0x7fc286dc3400&gt;)]))</pre></div></div></div><div class=\"sk-item\"><div class=\"sk-estimator sk-toggleable\"><input class=\"sk-toggleable__control sk-hidden--visually\" id=\"sk-estimator-id-7\" type=\"checkbox\" ><label for=\"sk-estimator-id-7\" class=\"sk-toggleable__label sk-toggleable__label-arrow\">FeatureRemover</label><div class=\"sk-toggleable__content\"><pre>FeatureRemover(feats_to_drop=[&#x27;CNT_CHILDREN&#x27;, &#x27;NAME_TYPE_SUITE&#x27;,\n",
       "                              &#x27;NAME_HOUSING_TYPE&#x27;, &#x27;REGION_POPULATION_RELATIVE&#x27;,\n",
       "                              &#x27;FLAG_EMP_PHONE&#x27;, &#x27;FLAG_CONT_MOBILE&#x27;,\n",
       "                              &#x27;FLAG_PHONE&#x27;, &#x27;FLAG_EMAIL&#x27;, &#x27;CNT_FAM_MEMBERS&#x27;,\n",
       "                              &#x27;REGION_RATING_CLIENT&#x27;, &#x27;HOUR_APPR_PROCESS_START&#x27;,\n",
       "                              &#x27;REG_REGION_NOT_LIVE_REGION&#x27;,\n",
       "                              &#x27;REG_REGION_NOT_WORK_REGION&#x27;,\n",
       "                              &#x27;LIVE_REGION_NOT_WORK_REGION&#x27;,\n",
       "                              &#x27;REG_CITY_NOT_WORK_CITY&#x27;,\n",
       "                              &#x27;LIVE_CITY_NOT_WORK_CITY&#x27;, &#x27;COMMONAREA_AVG&#x27;,\n",
       "                              &#x27;ELEVATORS_AVG&#x27;, &#x27;ENTRANCES_AVG&#x27;, &#x27;FLOORSMAX_AVG&#x27;,\n",
       "                              &#x27;LANDAREA_AVG&#x27;, &#x27;LIVINGAPARTMENTS_AVG&#x27;,\n",
       "                              &#x27;NONLIVINGAREA_AVG&#x27;, &#x27;APARTMENTS_MODE&#x27;,\n",
       "                              &#x27;BASEMENTAREA_MODE&#x27;,\n",
       "                              &#x27;YEARS_BEGINEXPLUATATION_MODE&#x27;, &#x27;ELEVATORS_MODE&#x27;,\n",
       "                              &#x27;ENTRANCES_MODE&#x27;, &#x27;FLOORSMAX_MODE&#x27;,\n",
       "                              &#x27;FLOORSMIN_MODE&#x27;, ...])</pre></div></div></div></div></div><div class=\"sk-item sk-dashed-wrapped\"><div class=\"sk-label-container\"><div class=\"sk-label sk-toggleable\"><input class=\"sk-toggleable__control sk-hidden--visually\" id=\"sk-estimator-id-8\" type=\"checkbox\" ><label for=\"sk-estimator-id-8\" class=\"sk-toggleable__label sk-toggleable__label-arrow\">model: SamplingModelWrapper</label><div class=\"sk-toggleable__content\"><pre>SamplingModelWrapper(model=LGBMClassifier(force_col_wise=True, n_jobs=1,\n",
       "                                          verbosity=-1),\n",
       "                     model_params={&#x27;bagging_freq&#x27;: 4, &#x27;boosting_type&#x27;: &#x27;gbdt&#x27;,\n",
       "                                   &#x27;class_weight&#x27;: None,\n",
       "                                   &#x27;colsample_bytree&#x27;: 0.26219930279195874,\n",
       "                                   &#x27;learning_rate&#x27;: 0.0023464448501814596,\n",
       "                                   &#x27;max_bin&#x27;: 44, &#x27;max_depth&#x27;: 7,\n",
       "                                   &#x27;n_estimators&#x27;: 233, &#x27;num_leaves&#x27;: 3031,\n",
       "                                   &#x27;reg_alpha&#x27;: 0.01052557496671474,\n",
       "                                   &#x27;reg_lambda&#x27;: 0.24722523477790145,\n",
       "                                   &#x27;subsample&#x27;: 0.557113346479204})</pre></div></div></div><div class=\"sk-parallel\"><div class=\"sk-parallel-item\"><div class=\"sk-item\"><div class=\"sk-label-container\"><div class=\"sk-label sk-toggleable\"><input class=\"sk-toggleable__control sk-hidden--visually\" id=\"sk-estimator-id-9\" type=\"checkbox\" ><label for=\"sk-estimator-id-9\" class=\"sk-toggleable__label sk-toggleable__label-arrow\">model: LGBMClassifier</label><div class=\"sk-toggleable__content\"><pre>LGBMClassifier(force_col_wise=True, n_jobs=1, verbosity=-1)</pre></div></div></div><div class=\"sk-serial\"><div class=\"sk-item\"><div class=\"sk-estimator sk-toggleable\"><input class=\"sk-toggleable__control sk-hidden--visually\" id=\"sk-estimator-id-10\" type=\"checkbox\" ><label for=\"sk-estimator-id-10\" class=\"sk-toggleable__label sk-toggleable__label-arrow\">LGBMClassifier</label><div class=\"sk-toggleable__content\"><pre>LGBMClassifier(force_col_wise=True, n_jobs=1, verbosity=-1)</pre></div></div></div></div></div></div></div></div></div></div></div></div>"
      ],
      "text/plain": [
       "Pipeline(steps=[('preprocess',\n",
       "                 Pipeline(steps=[('num_imputer',\n",
       "                                  PolarsColumnTransformer(steps=OrderedDict([('AMT_ANNUITY',\n",
       "                                                                              <auxiliary.transformers.PolarsColumnTransformer.Step object at 0x7fc28b28de20>),\n",
       "                                                                             ('AMT_GOODS_PRICE',\n",
       "                                                                              <auxiliary.transformers.PolarsColumnTransformer.Step object at 0x7fc28b28dd30>),\n",
       "                                                                             ('OWN_CAR_AGE',\n",
       "                                                                              <auxiliary.transformers.PolarsColumnTransfo...\n",
       "                 SamplingModelWrapper(model=LGBMClassifier(force_col_wise=True,\n",
       "                                                           n_jobs=1,\n",
       "                                                           verbosity=-1),\n",
       "                                      model_params={'bagging_freq': 4,\n",
       "                                                    'boosting_type': 'gbdt',\n",
       "                                                    'class_weight': None,\n",
       "                                                    'colsample_bytree': 0.26219930279195874,\n",
       "                                                    'learning_rate': 0.0023464448501814596,\n",
       "                                                    'max_bin': 44,\n",
       "                                                    'max_depth': 7,\n",
       "                                                    'n_estimators': 233,\n",
       "                                                    'num_leaves': 3031,\n",
       "                                                    'reg_alpha': 0.01052557496671474,\n",
       "                                                    'reg_lambda': 0.24722523477790145,\n",
       "                                                    'subsample': 0.557113346479204}))])"
      ]
     },
     "execution_count": 14,
     "metadata": {},
     "output_type": "execute_result"
    }
   ],
   "source": [
    "models.models['lgbm'].pipeline.fit(X_train,y_train)"
   ]
  },
  {
   "cell_type": "code",
   "execution_count": null,
   "metadata": {},
   "outputs": [
    {
     "data": {
      "text/plain": [
       "array([ 42, 128,  96,  73, 123,  63,  46,  66,  49,  10,  27,  10, 137,\n",
       "       143, 133,  16,   6,   6,  13,   4,   5,   8,   4,  11,  12,  20,\n",
       "        10,  52,  10,  14,  27,  27,  26,  22,  18,  23,  10,  35,  32,\n",
       "        34,  45,  22,  10,  15,  27,  27,  22,  17,  16,  12,  37,  40,\n",
       "        18,  36,   9,  37,  12,  13,  32,  19,  15,   5,  28,  64,   3,\n",
       "         3,  43,  95,  33,  28,   1,  27,  68,  13,  25,  31, 122,  52,\n",
       "        55,  33,  10,  30,  23,  38,  11,  67,   5,  15], dtype=int32)"
      ]
     },
     "execution_count": 15,
     "metadata": {},
     "output_type": "execute_result"
    }
   ],
   "source": [
    "models.models['lgbm'].pipeline['model'].model.feature_importances_"
   ]
  },
  {
   "cell_type": "code",
   "execution_count": null,
   "metadata": {},
   "outputs": [
    {
     "data": {
      "text/plain": [
       "'prev_payment_left'"
      ]
     },
     "execution_count": 28,
     "metadata": {},
     "output_type": "execute_result"
    }
   ],
   "source": [
    "feats=pl.DataFrame({'imp':models.models['lgbm'].pipeline['model'].model.feature_importances_,'feat':cols})\n",
    "feats.sort('imp')[-6,1]"
   ]
  },
  {
   "cell_type": "code",
   "execution_count": null,
   "metadata": {},
   "outputs": [],
   "source": [
    "cols=models.models['lgbm'].pipeline['preprocess'].fit_transform(X_train,y_train).columns"
   ]
  },
  {
   "cell_type": "code",
   "execution_count": null,
   "metadata": {},
   "outputs": [
    {
     "data": {
      "text/plain": [
       "182"
      ]
     },
     "execution_count": 47,
     "metadata": {},
     "output_type": "execute_result"
    }
   ],
   "source": [
    "models.models['lgbm_grade_single'].best_params"
   ]
  },
  {
   "cell_type": "code",
   "execution_count": null,
   "metadata": {},
   "outputs": [],
   "source": [
    "scores = []\n",
    "for train_index, test_index in StratifiedKFold(5).split(X_train, y_train):\n",
    "    full_pipeline_etrees.fit(\n",
    "        X_train[train_index], y_train[train_index]\n",
    "    )\n",
    "    try:\n",
    "        scores.append(\n",
    "            roc_auc_score(\n",
    "                y_train[test_index],\n",
    "                full_pipeline_etrees.predict_proba(\n",
    "                    X_train[test_index]\n",
    "                )[:,1],\n",
    "            )\n",
    "        )\n",
    "    except:\n",
    "        bad_df=full_pipeline_etrees['preprocess'].transform(X_train[test_index])"
   ]
  },
  {
   "cell_type": "code",
   "execution_count": null,
   "metadata": {},
   "outputs": [],
   "source": [
    "scores = []\n",
    "for train_index, test_index in StratifiedKFold(5).split(X_train, y_train):\n",
    "    models.models[\"lgbm_grade_single\"].pipeline.fit(\n",
    "        X_train[train_index], y_train[train_index]\n",
    "    )\n",
    "    scores.append(\n",
    "        roc_auc_score(\n",
    "            y_train[test_index],\n",
    "            models.models[\"lgbm_grade_single\"].pipeline.predict_proba(\n",
    "                X_train[test_index]\n",
    "            )[:,1],\n",
    "        )\n",
    "    )"
   ]
  }
 ],
 "metadata": {
  "kernelspec": {
   "display_name": "base",
   "language": "python",
   "name": "python3"
  },
  "language_info": {
   "codemirror_mode": {
    "name": "ipython",
    "version": 3
   },
   "file_extension": ".py",
   "mimetype": "text/x-python",
   "name": "python",
   "nbconvert_exporter": "python",
   "pygments_lexer": "ipython3",
   "version": "3.9.13"
  }
 },
 "nbformat": 4,
 "nbformat_minor": 2
}
