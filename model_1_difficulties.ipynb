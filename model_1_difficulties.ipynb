{
 "cells": [
  {
   "cell_type": "markdown",
   "metadata": {},
   "source": [
    "# Model 1: Credits Where Difficulties Ocurred"
   ]
  },
  {
   "cell_type": "markdown",
   "metadata": {},
   "source": [
    "## Setup"
   ]
  },
  {
   "cell_type": "markdown",
   "metadata": {},
   "source": [
    "**Imports:**"
   ]
  },
  {
   "cell_type": "code",
   "execution_count": 78,
   "metadata": {},
   "outputs": [],
   "source": [
    "%reload_ext autoreload\n",
    "%autoreload 1\n",
    "import os\n",
    "import warnings\n",
    "from mlflow import MlflowClient\n",
    "import mlflow\n",
    "from pprint import pprint\n",
    "import random\n",
    "import polars as pl\n",
    "from sklearn.pipeline import Pipeline\n",
    "from sklearn.ensemble import ExtraTreesClassifier\n",
    "from rgf.sklearn import RGFClassifier\n",
    "import auxiliary.transformers as tr\n",
    "from auxiliary.transformers import PolarsColumnTransformer as PCT\n",
    "from lightgbm import LGBMClassifier\n",
    "from sklearn.model_selection import StratifiedKFold\n",
    "from sklearn.metrics import roc_auc_score\n",
    "import copy\n",
    "import auxiliary.tuning as tunes\n",
    "import auxiliary.eda_functions as eda\n",
    "from ray import tune\n",
    "import joblib\n",
    "import numpy as np\n",
    "import matplotlib.pyplot as plt\n",
    "import seaborn as sns\n",
    "from BorutaShap import BorutaShap\n",
    "import statistics\n",
    "from sklearn.utils.validation import check_random_state\n",
    "%aimport auxiliary.transformers\n",
    "%aimport auxiliary.tuning\n",
    "%aimport auxiliary.eda_functions"
   ]
  },
  {
   "cell_type": "markdown",
   "metadata": {},
   "source": [
    "**Settings:**"
   ]
  },
  {
   "cell_type": "code",
   "execution_count": 79,
   "metadata": {},
   "outputs": [],
   "source": [
    "random.seed(1)\n",
    "warnings.filterwarnings(\n",
    "    \"ignore\", category=UserWarning, message=\"Cannot find FastRGF executable files.*\"\n",
    ")"
   ]
  },
  {
   "cell_type": "markdown",
   "metadata": {},
   "source": [
    "**Loading the data:**"
   ]
  },
  {
   "cell_type": "code",
   "execution_count": 28,
   "metadata": {},
   "outputs": [],
   "source": [
    "train_data=pl.read_parquet('temp/application_train_filtered.parquet')\n",
    "id_and_target=['SK_ID_CURR','TARGET']\n",
    "X_train=train_data.drop(columns=id_and_target)\n",
    "y_train=train_data['TARGET']"
   ]
  },
  {
   "cell_type": "markdown",
   "metadata": {},
   "source": [
    "**Specifying categoric numeric and boolean features:**"
   ]
  },
  {
   "cell_type": "code",
   "execution_count": 29,
   "metadata": {},
   "outputs": [],
   "source": [
    "bool_features = []\n",
    "for feature in X_train.select(pl.col(pl.Utf8)).columns:\n",
    "    if X_train[feature].n_unique() == 2:\n",
    "        bool_features.append(feature)\n",
    "\n",
    "cat_features = [\n",
    "    feature\n",
    "    for feature in X_train.select(pl.col(pl.Utf8)).columns\n",
    "    if feature not in bool_features\n",
    "]\n",
    "\n",
    "numeric_features_with_nulls = (\n",
    "    pl.Series(\n",
    "        X_train.select(pl.col(pl.FLOAT_DTYPES), pl.col(pl.INTEGER_DTYPES)).columns\n",
    "    )\n",
    "    .filter(\n",
    "        X_train.select(pl.col(pl.FLOAT_DTYPES), pl.col(pl.INTEGER_DTYPES))\n",
    "        .select(pl.all().is_null().any())\n",
    "        .transpose()\n",
    "        .to_series()\n",
    "    )\n",
    "    .to_list()\n",
    ")"
   ]
  },
  {
   "cell_type": "markdown",
   "metadata": {},
   "source": [
    "## Pipelines"
   ]
  },
  {
   "cell_type": "markdown",
   "metadata": {},
   "source": [
    "### Preprocessing pipeline"
   ]
  },
  {
   "cell_type": "code",
   "execution_count": 30,
   "metadata": {},
   "outputs": [],
   "source": [
    "preprocessing = Pipeline([])\n",
    "\n",
    "num_imputer = tr.PolarsColumnTransformer([])\n",
    "for feature in numeric_features_with_nulls:\n",
    "    num_imputer.steps[feature] = PCT.Step(\n",
    "        feature, tr.NumDiffFromRestImputer(), feature\n",
    "    )\n",
    "preprocessing.steps.insert(0,('num_imputer', num_imputer))\n",
    "\n",
    "cat_imputers = tr.PolarsColumnTransformer([])\n",
    "for feature in cat_features:\n",
    "    cat_imputers.steps[feature] = PCT.Step(\n",
    "        feature, tr.NotInImputerPolars(min_values=100, fill_value=\"other\"), feature\n",
    "    )\n",
    "preprocessing.steps.append((\"cat_imputers\", cat_imputers))\n",
    "\n",
    "encoders = tr.PolarsColumnTransformer([])\n",
    "for feature in bool_features:\n",
    "    encoders.steps[feature] = PCT.Step(\n",
    "        feature, tr.PolarsOneHotEncoder(drop=True), feature\n",
    "    )\n",
    "for feature in cat_features:\n",
    "    encoders.steps[feature] = PCT.Step(\n",
    "        feature, tr.TargetMeanOrderedLabeler(how=\"label\"), feature\n",
    "    )\n",
    "preprocessing.steps.append((\"encoders\", encoders))\n",
    "feature_remover = tr.FeatureRemover([])\n",
    "preprocessing.steps.append((\"feature_removal\", feature_remover))"
   ]
  },
  {
   "cell_type": "markdown",
   "metadata": {},
   "source": [
    "### Models and Sampling:"
   ]
  },
  {
   "cell_type": "code",
   "execution_count": 31,
   "metadata": {},
   "outputs": [],
   "source": [
    "model_lgb=LGBMClassifier(n_jobs=1,verbosity=-1,force_col_wise=True)\n",
    "sampler_model=tr.SamplingModelWrapper(model_lgb)\n",
    "full_pipeline=Pipeline([('preprocess', preprocessing),('model',sampler_model)])"
   ]
  },
  {
   "cell_type": "code",
   "execution_count": 32,
   "metadata": {},
   "outputs": [],
   "source": [
    "preprocessing_etrees=copy.deepcopy(preprocessing)\n",
    "model_extra_trees = ExtraTreesClassifier(random_state=1,n_jobs=1)\n",
    "sampler_model_etrees=tr.SamplingModelWrapper(model_extra_trees)\n",
    "full_pipeline_etrees=Pipeline([('preprocess',preprocessing_etrees),('model',sampler_model_etrees)])\n"
   ]
  },
  {
   "cell_type": "code",
   "execution_count": 33,
   "metadata": {},
   "outputs": [],
   "source": [
    "preprocessing_rgf = copy.deepcopy(preprocessing)\n",
    "model_rgf = RGFClassifier()\n",
    "sampler_model_rgf=tr.SamplingModelWrapper(model_rgf)\n",
    "full_pipeline_rgf = Pipeline([(\"preprocess\", preprocessing_rgf), (\"model\", sampler_model_rgf)])"
   ]
  },
  {
   "cell_type": "markdown",
   "metadata": {},
   "source": [
    "## Feature Selection:"
   ]
  },
  {
   "cell_type": "markdown",
   "metadata": {},
   "source": [
    "**Fitting Boruta Shap algorithm on LGBM models with different alpha regularization values**"
   ]
  },
  {
   "cell_type": "raw",
   "metadata": {},
   "source": [
    "model_for_selection_high_reg=LGBMClassifier(verbose=-1,random_state=1,reg_alpha=10,num_leaves=100)\n",
    "selector_high_alpha=BorutaShap(importance_measure='shap',model=model_for_selection_high_reg)\n",
    "selector_high_alpha.fit(\n",
    "    full_pipeline[\"preprocess\"]\n",
    "    .fit_transform(X_train, y_train)\n",
    "    .to_pandas(),\n",
    "    y_train.to_pandas(),\n",
    ")\n",
    "joblib.dump(selector_high_alpha,'temp/model_1_selector_alpha10.joblib')\n",
    "\n",
    "model_for_selection_reg=LGBMClassifier(verbose=-1,random_state=1,reg_alpha=1,num_leaves=100)\n",
    "selector_with_alpha=BorutaShap(importance_measure='shap',model=model_for_selection_reg)\n",
    "selector_with_alpha.fit(\n",
    "    full_pipeline[\"preprocess\"]\n",
    "    .fit_transform(X_train, y_train)\n",
    "    .to_pandas(),\n",
    "    y_train.to_pandas(),\n",
    ")\n",
    "joblib.dump(selector_with_alpha,'temp/model_1_selector_alpha1.joblib')\n",
    "\n",
    "model_for_selection_noreg=LGBMClassifier(verbose=-1,random_state=1,reg_alpha=0,num_leaves=100)\n",
    "selector_no_alpha=BorutaShap(importance_measure='shap',model=model_for_selection_noreg)\n",
    "selector_no_alpha.fit(\n",
    "    full_pipeline[\"preprocess\"]\n",
    "    .fit_transform(X_train, y_train)\n",
    "    .to_pandas(),\n",
    "    y_train.to_pandas(),\n",
    ")\n",
    "joblib.dump(selector_no_alpha,'temp/model_1_selector_alpha0.joblib')"
   ]
  },
  {
   "cell_type": "markdown",
   "metadata": {},
   "source": [
    "**Creating lists of bad and tentative feature lists for each selection experiment:**"
   ]
  },
  {
   "cell_type": "code",
   "execution_count": 34,
   "metadata": {},
   "outputs": [],
   "source": [
    "selector_with_alpha=joblib.load('temp/model_1_selector_alpha1.joblib')\n",
    "selector_high_alpha=joblib.load('temp/model_1_selector_alpha10.joblib')\n",
    "selector_no_alpha=joblib.load('temp/model_1_selector_alpha0.joblib')\n",
    "bad_features_with_alpha=selector_with_alpha.features_to_remove.tolist()\n",
    "bad_and_tentative_features_alpha=bad_features_with_alpha.copy()\n",
    "bad_and_tentative_features_alpha.extend(selector_with_alpha.tentative.copy())\n",
    "\n",
    "\n",
    "bad_features_high_alpha=selector_high_alpha.features_to_remove.tolist()\n",
    "bad_and_tentative_features_high_alpha=bad_features_high_alpha.copy()\n",
    "bad_and_tentative_features_high_alpha.extend(selector_high_alpha.tentative.copy())\n",
    "\n",
    "\n",
    "bad_feature_no_alpha=selector_no_alpha.features_to_remove.tolist()\n",
    "bad_and_tentative_features_no_alpha=bad_feature_no_alpha.copy()\n",
    "bad_and_tentative_features_no_alpha.extend(selector_no_alpha.tentative.copy())\n"
   ]
  },
  {
   "cell_type": "markdown",
   "metadata": {},
   "source": [
    "**Putting the feature quality data into a single data frame:**"
   ]
  },
  {
   "cell_type": "code",
   "execution_count": 35,
   "metadata": {},
   "outputs": [],
   "source": [
    "feature_quality = {\"feature\": preprocessing.fit_transform(X_train, y_train).columns}\n",
    "feature_quality[\"high_alpha\"] = []\n",
    "feature_quality[\"alpha\"] = []\n",
    "feature_quality[\"no_alpha\"] = []\n",
    "\n",
    "for feature in feature_quality[\"feature\"]:\n",
    "    if feature in bad_features_high_alpha:\n",
    "        feature_quality[\"high_alpha\"].append(\"bad\")\n",
    "    elif feature in selector_high_alpha.tentative:\n",
    "        feature_quality[\"high_alpha\"].append(\"tentative\")\n",
    "    else:\n",
    "        feature_quality[\"high_alpha\"].append(\"good\")\n",
    "\n",
    "for feature in feature_quality[\"feature\"]:\n",
    "    if feature in bad_features_with_alpha:\n",
    "        feature_quality[\"alpha\"].append(\"bad\")\n",
    "    elif feature in selector_with_alpha.tentative:\n",
    "        feature_quality[\"alpha\"].append(\"tentative\")\n",
    "    else:\n",
    "        feature_quality[\"alpha\"].append(\"good\")\n",
    "\n",
    "for feature in feature_quality[\"feature\"]:\n",
    "    if feature in bad_features_high_alpha:\n",
    "        feature_quality[\"no_alpha\"].append(\"bad\")\n",
    "    elif feature in selector_no_alpha.tentative:\n",
    "        feature_quality[\"no_alpha\"].append(\"tentative\")\n",
    "    else:\n",
    "        feature_quality[\"no_alpha\"].append(\"good\")\n",
    "\n",
    "feature_quality=pl.DataFrame(feature_quality)\n"
   ]
  },
  {
   "cell_type": "markdown",
   "metadata": {},
   "source": [
    "**Features with no consensus:**"
   ]
  },
  {
   "cell_type": "code",
   "execution_count": 36,
   "metadata": {},
   "outputs": [
    {
     "data": {
      "text/markdown": [
       "| feature                                   | high_alpha   | alpha     | no_alpha   |\n",
       "|:------------------------------------------|:-------------|:----------|:-----------|\n",
       "| AMT_INCOME_TOTAL                          | good         | good      | tentative  |\n",
       "| DAYS_REGISTRATION                         | tentative    | good      | good       |\n",
       "| FLAG_WORK_PHONE                           | tentative    | good      | good       |\n",
       "| LIVINGAREA_MEDI                           | bad          | tentative | bad        |\n",
       "| DEF_60_CNT_SOCIAL_CIRCLE                  | bad          | tentative | bad        |\n",
       "| bureau_DAYS_CREDIT_ENDDATE_max            | tentative    | tentative | good       |\n",
       "| bureau_AMT_CREDIT_MAX_OVERDUE_max         | tentative    | tentative | good       |\n",
       "| bureau_AMT_CREDIT_SUM_mean                | tentative    | good      | good       |\n",
       "| bureau_AMT_CREDIT_SUM_max                 | tentative    | tentative | good       |\n",
       "| bureau_AMT_CREDIT_SUM_LIMIT_mean          | bad          | tentative | bad        |\n",
       "| bureau_DAYS_CREDIT_mean                   | tentative    | good      | good       |\n",
       "| bureau_DAYS_CREDIT_sum                    | bad          | tentative | bad        |\n",
       "| bureau_DAYS_CREDIT_UPDATE_std             | bad          | tentative | bad        |\n",
       "| bureau_DAYS_CREDIT_ENDDATE_mean_Active    | tentative    | good      | good       |\n",
       "| bureau_DAYS_CREDIT_ENDDATE_mode_Active    | bad          | tentative | bad        |\n",
       "| bureau_AMT_CREDIT_MAX_OVERDUE_mean_Active | bad          | tentative | bad        |\n",
       "| bureau_AMT_CREDIT_SUM_mean_Active         | bad          | tentative | bad        |\n",
       "| bureau_AMT_CREDIT_SUM_DEBT_sum_Active     | bad          | tentative | bad        |\n",
       "| bureau_DAYS_CREDIT_mean_Active            | bad          | tentative | bad        |\n",
       "| prev_AMT_CREDIT_mean_Approved             | bad          | tentative | bad        |\n",
       "| prev_AMT_CREDIT_sum_Revolving_loans       | tentative    | tentative | good       |\n",
       "| NAME_INCOME_TYPE                          | tentative    | good      | good       |\n",
       "| NAME_HOUSING_TYPE                         | bad          | tentative | bad        |\n",
       "| WALLSMATERIAL_MODE                        | bad          | tentative | bad        |\n",
       "| NAME_CONTRACT_TYPE_Cash loans             | tentative    | good      | good       |"
      ],
      "text/plain": [
       "<IPython.core.display.Markdown object>"
      ]
     },
     "execution_count": 36,
     "metadata": {},
     "output_type": "execute_result"
    }
   ],
   "source": [
    "eda.table_display(feature_quality.filter(\n",
    "    (pl.col(\"high_alpha\") != pl.col(\"alpha\"))\n",
    "    | (pl.col(\"high_alpha\") != pl.col(\"no_alpha\"))\n",
    "    | (pl.col(\"alpha\") != pl.col(\"no_alpha\"))\n",
    "))\n"
   ]
  },
  {
   "cell_type": "markdown",
   "metadata": {},
   "source": [
    "**Creating lists of bad and tentative features from consensus:**"
   ]
  },
  {
   "cell_type": "code",
   "execution_count": 37,
   "metadata": {},
   "outputs": [],
   "source": [
    "feature_quality = feature_quality.with_columns(\n",
    "    feature_quality.map_rows(lambda x: statistics.mode(x[1:]))\n",
    "    .to_series()\n",
    "    .alias(\"consensus\")\n",
    ")\n",
    "\n",
    "consensus_bad_tentative_features = feature_quality.filter(\n",
    "    pl.col(\"consensus\") != \"good\"\n",
    ")[\"feature\"].to_list()\n",
    "consensus_bad_features = feature_quality.filter(pl.col(\"consensus\") == \"bad\")[\n",
    "    \"feature\"\n",
    "].to_list()\n",
    "feature_removal_list = [consensus_bad_features, consensus_bad_tentative_features]"
   ]
  },
  {
   "cell_type": "markdown",
   "metadata": {},
   "source": [
    "## Hyperparameter Tuning"
   ]
  },
  {
   "cell_type": "markdown",
   "metadata": {},
   "source": [
    "### Parameter Search Spaces"
   ]
  },
  {
   "cell_type": "markdown",
   "metadata": {},
   "source": [
    "**LightGBM parameter space:**"
   ]
  },
  {
   "cell_type": "code",
   "execution_count": 38,
   "metadata": {},
   "outputs": [],
   "source": [
    "models = tunes.Models()\n",
    "model_params_lgb = {\n",
    "    \"max_depth\": tune.randint(5, 30),\n",
    "    \"num_leaves\": tune.randint(10, 1000),\n",
    "    \"n_estimators\": tune.randint(10, 251),\n",
    "    \"learning_rate\": tune.loguniform(0.001, 0.1),\n",
    "    \"bagging_freq\": tune.randint(0, 11),\n",
    "    \"colsample_bytree\": tune.uniform(0.2, 1.0),\n",
    "    \"subsample\": tune.uniform(0.2, 1.0),\n",
    "    \"reg_alpha\": tune.loguniform(0.001, 100),\n",
    "    \"reg_lambda\": tune.loguniform(0.001, 100),\n",
    "    \"boosting_type\": tune.choice([\"gbdt\", \"dart\", \"rf\"]),\n",
    "    \"class_weight\": tune.choice([\"balanced\", None]),\n",
    "    \"max_bin\": tune.randint(5, 201),\n",
    "}\n",
    "\n",
    "search_space_lgbm = {\n",
    "    \"preprocess__feature_removal__feats_to_drop\": tune.choice(feature_removal_list),\n",
    "    \"model__model_params\": model_params_lgb,\n",
    "    \"model__sampler\": tune.choice(['smote','adasyn','random',None])\n",
    "}\n",
    "\n",
    "models.add_model(\n",
    "    \"lgbm\", full_pipeline, search_space_lgbm, metric_threshold=0.77\n",
    ")\n"
   ]
  },
  {
   "cell_type": "markdown",
   "metadata": {},
   "source": [
    "**Extra Trees parameter space:**"
   ]
  },
  {
   "cell_type": "code",
   "execution_count": 39,
   "metadata": {},
   "outputs": [],
   "source": [
    "model_params_extra_trees = {\n",
    "    \"n_estimators\": tune.randint(10, 251),\n",
    "    \"max_depth\": tune.randint(5, 30),\n",
    "    \"max_leaf_nodes\": tune.randint(30,1000),\n",
    "    \"min_samples_split\": tune.randint(2, 21),\n",
    "    \"min_samples_leaf\": tune.randint(1, 21),\n",
    "    \"max_features\": tune.uniform(0.1,1.0),\n",
    "    \"class_weight\": tune.choice([\"balanced\",\"balanced_subsample\" , None]),\n",
    "    \"max_samples\": tune.uniform(0.1, 1.0),\n",
    "}\n",
    "\n",
    "search_space_extra_trees = {\n",
    "    \"preprocess__feature_removal__feats_to_drop\": tune.choice(feature_removal_list),\n",
    "    \"model__model_params\": model_params_extra_trees,\n",
    "    \"model__sampler\": tune.choice(['smote', 'adasyn', 'random', None])\n",
    "}\n",
    "\n",
    "models.add_model(\n",
    "    \"extra_trees\", full_pipeline_etrees, search_space_extra_trees, metric_threshold=0.73\n",
    ")\n"
   ]
  },
  {
   "cell_type": "markdown",
   "metadata": {},
   "source": [
    "Randomized Greedy Forest parameter space:"
   ]
  },
  {
   "cell_type": "code",
   "execution_count": 40,
   "metadata": {},
   "outputs": [],
   "source": [
    "model_params_rgf = {\n",
    "    \"algorithm\": tune.choice([\"RGF\", \"RGF Opt\", \"RGF Sib\"]),\n",
    "    \"loss\": tune.choice([\"LS\", \"Expo\", \"Log\", \"Abs\"]),\n",
    "    \"l2\": tune.loguniform(1e-6, 1.0),\n",
    "    \"max_leaf\": tune.randint(10, 1000),\n",
    "    \"test_interval\": tune.quniform(100,1000,100),\n",
    "    \"reg_depth\": tune.randint(1, 21),\n",
    "    \"learning_rate\": tune.loguniform(1e-6, 1.0),\n",
    "}\n",
    "\n",
    "search_space_rgf = {\n",
    "    \"preprocess__feature_removal__feats_to_drop\": tune.choice(feature_removal_list),\n",
    "    \"model__model_params\": model_params_rgf,\n",
    "    \"model__sampler\": tune.choice(['smote', 'adasyn', 'random', None])\n",
    "}\n",
    "\n",
    "models.add_model(\n",
    "    \"rgf\", full_pipeline_rgf, search_space_rgf, metric_threshold=0.76\n",
    ")\n"
   ]
  },
  {
   "cell_type": "markdown",
   "metadata": {},
   "source": [
    "### Hyperparameter tuning:"
   ]
  },
  {
   "cell_type": "markdown",
   "metadata": {},
   "source": [
    "**Tuning of each model and saving the results:**"
   ]
  },
  {
   "cell_type": "raw",
   "metadata": {},
   "source": [
    "models.models['lgbm'].tune_model(X_train,y_train, n=200,metric='roc_auc')\n",
    "joblib.dump(models,\"temp/model_1_tuned_models.joblib\")\n",
    "models=joblib.load('temp/model_1_tuned_models.joblib')\n",
    "models.models['extra_trees'].tune_model(X_train,y_train, n=100,metric='roc_auc')\n",
    "joblib.dump(models,\"temp/model_1_tuned_models.joblib\")\n",
    "models.models['rgf'].tune_model(X_train,y_train, n=50,metric='roc_auc',sample_size=100000)\n",
    "joblib.dump(models,\"temp/model_1_tuned_models.joblib\")\n",
    "models.tune_all(X_train,y_train,metric='roc_auc',sample_size=10000)"
   ]
  },
  {
   "cell_type": "markdown",
   "metadata": {},
   "source": [
    "**Loading the tuned models:**"
   ]
  },
  {
   "cell_type": "code",
   "execution_count": 16,
   "metadata": {},
   "outputs": [],
   "source": [
    "models=joblib.load(\"temp/model_1_tuned_models.joblib\")"
   ]
  },
  {
   "cell_type": "markdown",
   "metadata": {},
   "source": [
    "**Best parameters:**"
   ]
  },
  {
   "cell_type": "code",
   "execution_count": 17,
   "metadata": {},
   "outputs": [
    {
     "name": "stdout",
     "output_type": "stream",
     "text": [
      "lgbm\n",
      "----------------\n",
      "'model__model_params:'\n",
      "{'bagging_freq': 4,\n",
      " 'boosting_type': 'gbdt',\n",
      " 'class_weight': None,\n",
      " 'colsample_bytree': 0.8014252957700048,\n",
      " 'learning_rate': 0.024615541208760996,\n",
      " 'max_bin': 195,\n",
      " 'max_depth': 11,\n",
      " 'n_estimators': 130,\n",
      " 'num_leaves': 850,\n",
      " 'reg_alpha': 0.1867708640086517,\n",
      " 'reg_lambda': 0.05040568844637988,\n",
      " 'subsample': 0.3674293085589498}\n",
      "\n",
      "'model__sampler:'\n",
      "'random'\n",
      "\n",
      "extra_trees\n",
      "----------------\n",
      "'model__model_params:'\n",
      "{'class_weight': 'balanced_subsample',\n",
      " 'max_depth': 17,\n",
      " 'max_features': 0.6415290560036582,\n",
      " 'max_leaf_nodes': 184,\n",
      " 'max_samples': 0.4259865167145781,\n",
      " 'min_samples_leaf': 4,\n",
      " 'min_samples_split': 18,\n",
      " 'n_estimators': 222}\n",
      "\n",
      "'model__sampler:'\n",
      "None\n",
      "\n",
      "rgf\n",
      "----------------\n",
      "'model__model_params:'\n",
      "{'algorithm': 'RGF Opt',\n",
      " 'l2': 0.0017590322410677072,\n",
      " 'learning_rate': 0.00023978850531378984,\n",
      " 'loss': 'Log',\n",
      " 'max_leaf': 908,\n",
      " 'reg_depth': 1,\n",
      " 'test_interval': 700.0}\n",
      "\n",
      "'model__sampler:'\n",
      "'random'\n",
      "\n"
     ]
    }
   ],
   "source": [
    "for model in models.models.values():\n",
    "    print(model.name)\n",
    "    print(\"----------------\")\n",
    "    for key,param in model.best_params.items():\n",
    "        if key[:3]==\"mod\":\n",
    "            pprint(key+\":\")\n",
    "            pprint(param)\n",
    "            print(\"\")\n"
   ]
  },
  {
   "cell_type": "markdown",
   "metadata": {},
   "source": [
    "**Which features have been removed for each model:**"
   ]
  },
  {
   "cell_type": "code",
   "execution_count": 24,
   "metadata": {},
   "outputs": [
    {
     "name": "stdout",
     "output_type": "stream",
     "text": [
      "lgbm\n",
      "Only bad features removed\n",
      "\n",
      "extra_trees\n",
      "Bad and Tentative features removed\n",
      "\n",
      "rgf\n",
      "Bad and Tentative features removed\n",
      "\n"
     ]
    }
   ],
   "source": [
    "for model in models.models.values():\n",
    "    print(model.name)\n",
    "    if model.best_params['preprocess__feature_removal__feats_to_drop']==consensus_bad_features:\n",
    "        print(\"Only bad features removed\")\n",
    "        print(\"\")\n",
    "    else:\n",
    "        print(\"Bad and Tentative features removed\")\n",
    "        print(\"\")\n"
   ]
  },
  {
   "cell_type": "markdown",
   "metadata": {},
   "source": [
    "## Model Selection"
   ]
  },
  {
   "cell_type": "raw",
   "metadata": {},
   "source": [
    "!mlflow server --host 127.0.0.1 --port 8080"
   ]
  },
  {
   "cell_type": "markdown",
   "metadata": {},
   "source": [
    "**KFold Cross-validations of each model:**"
   ]
  },
  {
   "cell_type": "code",
   "execution_count": 38,
   "metadata": {},
   "outputs": [
    {
     "name": "stderr",
     "output_type": "stream",
     "text": [
      "2023/11/12 11:11:13 INFO mlflow.tracking.fluent: Experiment with name 'Credit Risk' does not exist. Creating a new experiment.\n"
     ]
    }
   ],
   "source": [
    "scores={}\n",
    "mlflow.set_tracking_uri(\"http://127.0.0.1:8080\")\n",
    "mlflow.set_experiment(\"Credit Risk\")\n",
    "for model in models.models.values():\n",
    "    scores[model.name]=np.array(model.cross_val_roc_auc(X_train,y_train))\n",
    "    with mlflow.start_run(run_name=f\"{model.name}_cross_val\") as run:\n",
    "\n",
    "        mlflow.log_params(model.best_params)\n",
    "\n",
    "        mlflow.log_metric(\"mean_roc_auc\",scores[model.name].mean())\n",
    "\n",
    "    # Log an instance of the trained model for later use\n",
    "    mlflow.sklearn.log_model(\n",
    "        sk_model=model.pipeline, artifact_path=f\"temp/mlflow/{model.name}_cross_val\"\n",
    "    )\n",
    "    mlflow.end_run()\n",
    "scores=pl.DataFrame(scores)"
   ]
  },
  {
   "cell_type": "code",
   "execution_count": 40,
   "metadata": {},
   "outputs": [
    {
     "data": {
      "image/png": "[encoded data removed]",
      "text/plain": [
       "<Figure size 640x480 with 1 Axes>"
      ]
     },
     "metadata": {},
     "output_type": "display_data"
    }
   ],
   "source": [
    "fig_scores,ax_scores=plt.subplots()\n",
    "sns.boxplot(scores)\n",
    "ax_scores.set_xticklabels(scores.columns)\n",
    "plt.show()"
   ]
  },
  {
   "cell_type": "code",
   "execution_count": null,
   "metadata": {},
   "outputs": [],
   "source": []
  },
  {
   "cell_type": "markdown",
   "metadata": {},
   "source": [
    "### Model Stacking"
   ]
  },
  {
   "cell_type": "code",
   "execution_count": 60,
   "metadata": {},
   "outputs": [],
   "source": [
    "final_estimator = LGBMClassifier(random_state=1, n_jobs=1,verbose=-1)\n",
    "model_stack = tr.SimplerStacker(\n",
    "    [model.pipeline for model in models.models.values()],\n",
    "    final_estimator=final_estimator,\n",
    ")"
   ]
  },
  {
   "cell_type": "code",
   "execution_count": 74,
   "metadata": {},
   "outputs": [
    {
     "name": "stderr",
     "output_type": "stream",
     "text": [
      "/home/gediminas/anaconda3/lib/python3.9/site-packages/rgf/utils.py:224: UserWarning: Cannot find FastRGF executable files. FastRGF estimators will be unavailable for usage.\n",
      "  warnings.warn(\"Cannot find FastRGF executable files. \"\n",
      "/home/gediminas/anaconda3/lib/python3.9/site-packages/rgf/utils.py:224: UserWarning: Cannot find FastRGF executable files. FastRGF estimators will be unavailable for usage.\n",
      "  warnings.warn(\"Cannot find FastRGF executable files. \"\n",
      "/home/gediminas/anaconda3/lib/python3.9/site-packages/rgf/utils.py:224: UserWarning: Cannot find FastRGF executable files. FastRGF estimators will be unavailable for usage.\n",
      "  warnings.warn(\"Cannot find FastRGF executable files. \"\n",
      "/home/gediminas/anaconda3/lib/python3.9/site-packages/rgf/utils.py:224: UserWarning: Cannot find FastRGF executable files. FastRGF estimators will be unavailable for usage.\n",
      "  warnings.warn(\"Cannot find FastRGF executable files. \"\n",
      "/home/gediminas/anaconda3/lib/python3.9/site-packages/rgf/utils.py:224: UserWarning: Cannot find FastRGF executable files. FastRGF estimators will be unavailable for usage.\n",
      "  warnings.warn(\"Cannot find FastRGF executable files. \"\n",
      "/home/gediminas/anaconda3/lib/python3.9/site-packages/rgf/utils.py:224: UserWarning: Cannot find FastRGF executable files. FastRGF estimators will be unavailable for usage.\n",
      "  warnings.warn(\"Cannot find FastRGF executable files. \"\n",
      "/home/gediminas/anaconda3/lib/python3.9/site-packages/rgf/utils.py:224: UserWarning: Cannot find FastRGF executable files. FastRGF estimators will be unavailable for usage.\n",
      "  warnings.warn(\"Cannot find FastRGF executable files. \"\n",
      "/home/gediminas/anaconda3/lib/python3.9/site-packages/rgf/utils.py:224: UserWarning: Cannot find FastRGF executable files. FastRGF estimators will be unavailable for usage.\n",
      "  warnings.warn(\"Cannot find FastRGF executable files. \"\n",
      "/home/gediminas/anaconda3/lib/python3.9/site-packages/rgf/utils.py:224: UserWarning: Cannot find FastRGF executable files. FastRGF estimators will be unavailable for usage.\n",
      "  warnings.warn(\"Cannot find FastRGF executable files. \"\n",
      "/home/gediminas/anaconda3/lib/python3.9/site-packages/rgf/utils.py:224: UserWarning: Cannot find FastRGF executable files. FastRGF estimators will be unavailable for usage.\n",
      "  warnings.warn(\"Cannot find FastRGF executable files. \"\n"
     ]
    },
    {
     "name": "stdout",
     "output_type": "stream",
     "text": [
      "[LightGBM] [Info] Number of positive: 19860, number of negative: 226148\n",
      "[LightGBM] [Warning] Auto-choosing col-wise multi-threading, the overhead of testing was 0.003615 seconds.\n",
      "You can set `force_col_wise=true` to remove the overhead.\n",
      "[LightGBM] [Info] Total Bins 572\n",
      "[LightGBM] [Info] Number of data points in the train set: 246008, number of used features: 3\n",
      "[LightGBM] [Info] [binary:BoostFromScore]: pavg=0.080729 -> initscore=-2.432482\n",
      "[LightGBM] [Info] Start training from score -2.432482\n",
      "Iteration Complete\n"
     ]
    },
    {
     "ename": "KeyboardInterrupt",
     "evalue": "",
     "output_type": "error",
     "traceback": [
      "\u001b[0;31m---------------------------------------------------------------------------\u001b[0m",
      "\u001b[0;31mKeyboardInterrupt\u001b[0m                         Traceback (most recent call last)",
      "\u001b[1;32m/home/gediminas/Documents/turing_projects/module3_s4/gskvar-ML.4/model_1_difficulties.ipynb Cell 54\u001b[0m line \u001b[0;36m4\n\u001b[1;32m      <a href='vscode-notebook-cell:/home/gediminas/Documents/turing_projects/module3_s4/gskvar-ML.4/model_1_difficulties.ipynb#Y155sZmlsZQ%3D%3D?line=1'>2</a>\u001b[0m stacked_model_scores\u001b[39m=\u001b[39m[]\n\u001b[1;32m      <a href='vscode-notebook-cell:/home/gediminas/Documents/turing_projects/module3_s4/gskvar-ML.4/model_1_difficulties.ipynb#Y155sZmlsZQ%3D%3D?line=2'>3</a>\u001b[0m \u001b[39mfor\u001b[39;00m train_index, test_index \u001b[39min\u001b[39;00m splitter\u001b[39m.\u001b[39msplit(X_train,y_train):\n\u001b[0;32m----> <a href='vscode-notebook-cell:/home/gediminas/Documents/turing_projects/module3_s4/gskvar-ML.4/model_1_difficulties.ipynb#Y155sZmlsZQ%3D%3D?line=3'>4</a>\u001b[0m     model_stack\u001b[39m.\u001b[39;49mfit(X_train[train_index],y_train[train_index])\n\u001b[1;32m      <a href='vscode-notebook-cell:/home/gediminas/Documents/turing_projects/module3_s4/gskvar-ML.4/model_1_difficulties.ipynb#Y155sZmlsZQ%3D%3D?line=4'>5</a>\u001b[0m     preds\u001b[39m=\u001b[39mmodel_stack\u001b[39m.\u001b[39mpredict_proba(X_train[test_index])[:,\u001b[39m1\u001b[39m]\n\u001b[1;32m      <a href='vscode-notebook-cell:/home/gediminas/Documents/turing_projects/module3_s4/gskvar-ML.4/model_1_difficulties.ipynb#Y155sZmlsZQ%3D%3D?line=5'>6</a>\u001b[0m     stacked_model_scores\u001b[39m.\u001b[39mappend(roc_auc_score(y_train[test_index],preds))\n",
      "File \u001b[0;32m~/Documents/turing_projects/module3_s4/gskvar-ML.4/auxiliary/transformers.py:869\u001b[0m, in \u001b[0;36mSimplerStacker.fit\u001b[0;34m(self, X, y)\u001b[0m\n\u001b[1;32m    866\u001b[0m         y_pred_cv[test_index] \u001b[39m=\u001b[39m results[i]\n\u001b[1;32m    868\u001b[0m     base_predictions\u001b[39m.\u001b[39mappend(y_pred_cv)\n\u001b[0;32m--> 869\u001b[0m     model\u001b[39m.\u001b[39;49mfit(X, y)\n\u001b[1;32m    870\u001b[0m base_predictions \u001b[39m=\u001b[39m np\u001b[39m.\u001b[39mcolumn_stack(base_predictions)\n\u001b[1;32m    871\u001b[0m \u001b[39mself\u001b[39m\u001b[39m.\u001b[39mfinal_estimator\u001b[39m.\u001b[39mfit(base_predictions, y)\n",
      "File \u001b[0;32m~/anaconda3/lib/python3.9/site-packages/sklearn/base.py:1152\u001b[0m, in \u001b[0;36m_fit_context.<locals>.decorator.<locals>.wrapper\u001b[0;34m(estimator, *args, **kwargs)\u001b[0m\n\u001b[1;32m   1145\u001b[0m     estimator\u001b[39m.\u001b[39m_validate_params()\n\u001b[1;32m   1147\u001b[0m \u001b[39mwith\u001b[39;00m config_context(\n\u001b[1;32m   1148\u001b[0m     skip_parameter_validation\u001b[39m=\u001b[39m(\n\u001b[1;32m   1149\u001b[0m         prefer_skip_nested_validation \u001b[39mor\u001b[39;00m global_skip_validation\n\u001b[1;32m   1150\u001b[0m     )\n\u001b[1;32m   1151\u001b[0m ):\n\u001b[0;32m-> 1152\u001b[0m     \u001b[39mreturn\u001b[39;00m fit_method(estimator, \u001b[39m*\u001b[39;49margs, \u001b[39m*\u001b[39;49m\u001b[39m*\u001b[39;49mkwargs)\n",
      "File \u001b[0;32m~/anaconda3/lib/python3.9/site-packages/sklearn/pipeline.py:427\u001b[0m, in \u001b[0;36mPipeline.fit\u001b[0;34m(self, X, y, **fit_params)\u001b[0m\n\u001b[1;32m    425\u001b[0m     \u001b[39mif\u001b[39;00m \u001b[39mself\u001b[39m\u001b[39m.\u001b[39m_final_estimator \u001b[39m!=\u001b[39m \u001b[39m\"\u001b[39m\u001b[39mpassthrough\u001b[39m\u001b[39m\"\u001b[39m:\n\u001b[1;32m    426\u001b[0m         fit_params_last_step \u001b[39m=\u001b[39m fit_params_steps[\u001b[39mself\u001b[39m\u001b[39m.\u001b[39msteps[\u001b[39m-\u001b[39m\u001b[39m1\u001b[39m][\u001b[39m0\u001b[39m]]\n\u001b[0;32m--> 427\u001b[0m         \u001b[39mself\u001b[39;49m\u001b[39m.\u001b[39;49m_final_estimator\u001b[39m.\u001b[39;49mfit(Xt, y, \u001b[39m*\u001b[39;49m\u001b[39m*\u001b[39;49mfit_params_last_step)\n\u001b[1;32m    429\u001b[0m \u001b[39mreturn\u001b[39;00m \u001b[39mself\u001b[39m\n",
      "File \u001b[0;32m~/Documents/turing_projects/module3_s4/gskvar-ML.4/auxiliary/transformers.py:799\u001b[0m, in \u001b[0;36mSamplingModelWrapper.fit\u001b[0;34m(self, X, y)\u001b[0m\n\u001b[1;32m    797\u001b[0m             y[np\u001b[39m.\u001b[39misnan(X)] \u001b[39m=\u001b[39m \u001b[39mself\u001b[39m\u001b[39m.\u001b[39mfinal_fill\n\u001b[1;32m    798\u001b[0m         X, y \u001b[39m=\u001b[39m \u001b[39mself\u001b[39m\u001b[39m.\u001b[39mtransformer\u001b[39m.\u001b[39mfit_resample(X, y)\n\u001b[0;32m--> 799\u001b[0m \u001b[39mself\u001b[39;49m\u001b[39m.\u001b[39;49mmodel\u001b[39m.\u001b[39;49mfit(X, y)\n\u001b[1;32m    800\u001b[0m \u001b[39mreturn\u001b[39;00m \u001b[39mself\u001b[39m\n",
      "File \u001b[0;32m~/anaconda3/lib/python3.9/site-packages/lightgbm/sklearn.py:1142\u001b[0m, in \u001b[0;36mLGBMClassifier.fit\u001b[0;34m(self, X, y, sample_weight, init_score, eval_set, eval_names, eval_sample_weight, eval_class_weight, eval_init_score, eval_metric, feature_name, categorical_feature, callbacks, init_model)\u001b[0m\n\u001b[1;32m   1139\u001b[0m         \u001b[39melse\u001b[39;00m:\n\u001b[1;32m   1140\u001b[0m             valid_sets\u001b[39m.\u001b[39mappend((valid_x, \u001b[39mself\u001b[39m\u001b[39m.\u001b[39m_le\u001b[39m.\u001b[39mtransform(valid_y)))\n\u001b[0;32m-> 1142\u001b[0m \u001b[39msuper\u001b[39;49m()\u001b[39m.\u001b[39;49mfit(\n\u001b[1;32m   1143\u001b[0m     X,\n\u001b[1;32m   1144\u001b[0m     _y,\n\u001b[1;32m   1145\u001b[0m     sample_weight\u001b[39m=\u001b[39;49msample_weight,\n\u001b[1;32m   1146\u001b[0m     init_score\u001b[39m=\u001b[39;49minit_score,\n\u001b[1;32m   1147\u001b[0m     eval_set\u001b[39m=\u001b[39;49mvalid_sets,\n\u001b[1;32m   1148\u001b[0m     eval_names\u001b[39m=\u001b[39;49meval_names,\n\u001b[1;32m   1149\u001b[0m     eval_sample_weight\u001b[39m=\u001b[39;49meval_sample_weight,\n\u001b[1;32m   1150\u001b[0m     eval_class_weight\u001b[39m=\u001b[39;49meval_class_weight,\n\u001b[1;32m   1151\u001b[0m     eval_init_score\u001b[39m=\u001b[39;49meval_init_score,\n\u001b[1;32m   1152\u001b[0m     eval_metric\u001b[39m=\u001b[39;49meval_metric,\n\u001b[1;32m   1153\u001b[0m     feature_name\u001b[39m=\u001b[39;49mfeature_name,\n\u001b[1;32m   1154\u001b[0m     categorical_feature\u001b[39m=\u001b[39;49mcategorical_feature,\n\u001b[1;32m   1155\u001b[0m     callbacks\u001b[39m=\u001b[39;49mcallbacks,\n\u001b[1;32m   1156\u001b[0m     init_model\u001b[39m=\u001b[39;49minit_model\n\u001b[1;32m   1157\u001b[0m )\n\u001b[1;32m   1158\u001b[0m \u001b[39mreturn\u001b[39;00m \u001b[39mself\u001b[39m\n",
      "File \u001b[0;32m~/anaconda3/lib/python3.9/site-packages/lightgbm/sklearn.py:842\u001b[0m, in \u001b[0;36mLGBMModel.fit\u001b[0;34m(self, X, y, sample_weight, init_score, group, eval_set, eval_names, eval_sample_weight, eval_class_weight, eval_init_score, eval_group, eval_metric, feature_name, categorical_feature, callbacks, init_model)\u001b[0m\n\u001b[1;32m    839\u001b[0m evals_result: _EvalResultDict \u001b[39m=\u001b[39m {}\n\u001b[1;32m    840\u001b[0m callbacks\u001b[39m.\u001b[39mappend(record_evaluation(evals_result))\n\u001b[0;32m--> 842\u001b[0m \u001b[39mself\u001b[39m\u001b[39m.\u001b[39m_Booster \u001b[39m=\u001b[39m train(\n\u001b[1;32m    843\u001b[0m     params\u001b[39m=\u001b[39;49mparams,\n\u001b[1;32m    844\u001b[0m     train_set\u001b[39m=\u001b[39;49mtrain_set,\n\u001b[1;32m    845\u001b[0m     num_boost_round\u001b[39m=\u001b[39;49m\u001b[39mself\u001b[39;49m\u001b[39m.\u001b[39;49mn_estimators,\n\u001b[1;32m    846\u001b[0m     valid_sets\u001b[39m=\u001b[39;49mvalid_sets,\n\u001b[1;32m    847\u001b[0m     valid_names\u001b[39m=\u001b[39;49meval_names,\n\u001b[1;32m    848\u001b[0m     feval\u001b[39m=\u001b[39;49meval_metrics_callable,  \u001b[39m# type: ignore[arg-type]\u001b[39;49;00m\n\u001b[1;32m    849\u001b[0m     init_model\u001b[39m=\u001b[39;49minit_model,\n\u001b[1;32m    850\u001b[0m     feature_name\u001b[39m=\u001b[39;49mfeature_name,\n\u001b[1;32m    851\u001b[0m     callbacks\u001b[39m=\u001b[39;49mcallbacks\n\u001b[1;32m    852\u001b[0m )\n\u001b[1;32m    854\u001b[0m \u001b[39mself\u001b[39m\u001b[39m.\u001b[39m_evals_result \u001b[39m=\u001b[39m evals_result\n\u001b[1;32m    855\u001b[0m \u001b[39mself\u001b[39m\u001b[39m.\u001b[39m_best_iteration \u001b[39m=\u001b[39m \u001b[39mself\u001b[39m\u001b[39m.\u001b[39m_Booster\u001b[39m.\u001b[39mbest_iteration\n",
      "File \u001b[0;32m~/anaconda3/lib/python3.9/site-packages/lightgbm/engine.py:266\u001b[0m, in \u001b[0;36mtrain\u001b[0;34m(params, train_set, num_boost_round, valid_sets, valid_names, feval, init_model, feature_name, categorical_feature, keep_training_booster, callbacks)\u001b[0m\n\u001b[1;32m    258\u001b[0m \u001b[39mfor\u001b[39;00m cb \u001b[39min\u001b[39;00m callbacks_before_iter:\n\u001b[1;32m    259\u001b[0m     cb(callback\u001b[39m.\u001b[39mCallbackEnv(model\u001b[39m=\u001b[39mbooster,\n\u001b[1;32m    260\u001b[0m                             params\u001b[39m=\u001b[39mparams,\n\u001b[1;32m    261\u001b[0m                             iteration\u001b[39m=\u001b[39mi,\n\u001b[1;32m    262\u001b[0m                             begin_iteration\u001b[39m=\u001b[39minit_iteration,\n\u001b[1;32m    263\u001b[0m                             end_iteration\u001b[39m=\u001b[39minit_iteration \u001b[39m+\u001b[39m num_boost_round,\n\u001b[1;32m    264\u001b[0m                             evaluation_result_list\u001b[39m=\u001b[39m\u001b[39mNone\u001b[39;00m))\n\u001b[0;32m--> 266\u001b[0m booster\u001b[39m.\u001b[39;49mupdate(fobj\u001b[39m=\u001b[39;49mfobj)\n\u001b[1;32m    268\u001b[0m evaluation_result_list: List[_LGBM_BoosterEvalMethodResultType] \u001b[39m=\u001b[39m []\n\u001b[1;32m    269\u001b[0m \u001b[39m# check evaluation result.\u001b[39;00m\n",
      "File \u001b[0;32m~/anaconda3/lib/python3.9/site-packages/lightgbm/basic.py:3557\u001b[0m, in \u001b[0;36mBooster.update\u001b[0;34m(self, train_set, fobj)\u001b[0m\n\u001b[1;32m   3555\u001b[0m \u001b[39mif\u001b[39;00m \u001b[39mself\u001b[39m\u001b[39m.\u001b[39m__set_objective_to_none:\n\u001b[1;32m   3556\u001b[0m     \u001b[39mraise\u001b[39;00m LightGBMError(\u001b[39m'\u001b[39m\u001b[39mCannot update due to null objective function.\u001b[39m\u001b[39m'\u001b[39m)\n\u001b[0;32m-> 3557\u001b[0m _safe_call(_LIB\u001b[39m.\u001b[39;49mLGBM_BoosterUpdateOneIter(\n\u001b[1;32m   3558\u001b[0m     \u001b[39mself\u001b[39;49m\u001b[39m.\u001b[39;49m_handle,\n\u001b[1;32m   3559\u001b[0m     ctypes\u001b[39m.\u001b[39;49mbyref(is_finished)))\n\u001b[1;32m   3560\u001b[0m \u001b[39mself\u001b[39m\u001b[39m.\u001b[39m__is_predicted_cur_iter \u001b[39m=\u001b[39m [\u001b[39mFalse\u001b[39;00m \u001b[39mfor\u001b[39;00m _ \u001b[39min\u001b[39;00m \u001b[39mrange\u001b[39m(\u001b[39mself\u001b[39m\u001b[39m.\u001b[39m__num_dataset)]\n\u001b[1;32m   3561\u001b[0m \u001b[39mreturn\u001b[39;00m is_finished\u001b[39m.\u001b[39mvalue \u001b[39m==\u001b[39m \u001b[39m1\u001b[39m\n",
      "\u001b[0;31mKeyboardInterrupt\u001b[0m: "
     ]
    }
   ],
   "source": [
    "splitter = StratifiedKFold(n_splits=5, shuffle=True, random_state=1)\n",
    "stacked_model_scores=[]\n",
    "for train_index, test_index in splitter.split(X_train,y_train):\n",
    "    model_stack.fit(X_train[train_index],y_train[train_index])\n",
    "    preds=model_stack.predict_proba(X_train[test_index])[:,1]\n",
    "    stacked_model_scores.append(roc_auc_score(y_train[test_index],preds))\n",
    "joblib.dump(stacked_model_scores,\"temp/stack_scores.joblib\")"
   ]
  },
  {
   "cell_type": "code",
   "execution_count": 75,
   "metadata": {},
   "outputs": [
    {
     "data": {
      "text/plain": [
       "[0.7715643253526391]"
      ]
     },
     "execution_count": 75,
     "metadata": {},
     "output_type": "execute_result"
    }
   ],
   "source": [
    "stacked_model_scores"
   ]
  },
  {
   "cell_type": "code",
   "execution_count": 21,
   "metadata": {},
   "outputs": [
    {
     "data": {
      "text/plain": [
       "array([ 33, 157, 103,  92,  31, 139,  91,  45,  74,  60,  11,  29, 170,\n",
       "       158, 147,  22,  48,  14,  19,  35,  37,  38,  41,  17,  20,  10,\n",
       "        36,  29,  47,  45,  33,  28,  31,  20,  16,  28,  31,  41,  40,\n",
       "        20,  26,  51,  24,  36,  66,  31,  23,  28,  93,  13,  29,  25,\n",
       "       113,  41,  56,  40,  13,  36,  28,  35,  15,  68,  24], dtype=int32)"
      ]
     },
     "execution_count": 21,
     "metadata": {},
     "output_type": "execute_result"
    }
   ],
   "source": [
    "models.models['lgbm'].pipeline['model'].model.feature_importances_"
   ]
  },
  {
   "cell_type": "code",
   "execution_count": 22,
   "metadata": {},
   "outputs": [],
   "source": [
    "cols=models.models['lgbm'].pipeline['preprocess'].fit_transform(X_train,y_train).columns"
   ]
  },
  {
   "cell_type": "code",
   "execution_count": 23,
   "metadata": {},
   "outputs": [
    {
     "data": {
      "text/plain": [
       "'prev_payment_left'"
      ]
     },
     "execution_count": 23,
     "metadata": {},
     "output_type": "execute_result"
    }
   ],
   "source": [
    "feats=pl.DataFrame({'imp':models.models['lgbm'].pipeline['model'].model.feature_importances_,'feat':cols})\n",
    "feats.sort('imp')[-6,1]"
   ]
  },
  {
   "cell_type": "code",
   "execution_count": 25,
   "metadata": {},
   "outputs": [
    {
     "data": {
      "text/markdown": [
       "|   imp | feat                                     |\n",
       "|------:|:-----------------------------------------|\n",
       "|    10 | bureau_AMT_CREDIT_MAX_OVERDUE_max        |\n",
       "|    11 | FLAG_WORK_PHONE                          |\n",
       "|    13 | prev_AMT_CREDIT_sum_Revolving_loans      |\n",
       "|    13 | NAME_INCOME_TYPE                         |\n",
       "|    14 | FLAG_DOCUMENT_3                          |\n",
       "|    15 | WEEKDAY_APPR_PROCESS_START               |\n",
       "|    16 | bureau_DAYS_CREDIT_ENDDATE_sum_Active    |\n",
       "|    17 | bureau_AMT_CREDIT_MAX_OVERDUE_mean       |\n",
       "|    19 | AMT_REQ_CREDIT_BUREAU_QRT                |\n",
       "|    20 | bureau_AMT_CREDIT_MAX_OVERDUE_sum        |\n",
       "|    20 | bureau_DAYS_CREDIT_ENDDATE_mean_Active   |\n",
       "|    20 | bureau_AMT_CREDIT_SUM_DEBT_mean_Active   |\n",
       "|    22 | DEF_30_CNT_SOCIAL_CIRCLE                 |\n",
       "|    23 | prev_AMT_CREDIT_sum_Refused              |\n",
       "|    24 | bureau_DAYS_CREDIT_mode_Active           |\n",
       "|    24 | NAME_CONTRACT_TYPE_Cash loans            |\n",
       "|    25 | prev_count_Refused                       |\n",
       "|    26 | bureau_AMT_CREDIT_SUM_DEBT_min_Active    |\n",
       "|    28 | bureau_DAYS_CREDIT_max                   |\n",
       "|    28 | bureau_DAYS_CREDIT_ENDDATE_min_Active    |\n",
       "|    28 | prev_AMT_CREDIT_mean_Consumer_loans      |\n",
       "|    28 | NAME_FAMILY_STATUS                       |\n",
       "|    29 | REGION_RATING_CLIENT_W_CITY              |\n",
       "|    29 | bureau_AMT_CREDIT_SUM_sum                |\n",
       "|    29 | prev_count_Approved                      |\n",
       "|    31 | REGION_POPULATION_RELATIVE               |\n",
       "|    31 | bureau_DAYS_CREDIT_mode                  |\n",
       "|    31 | bureau_DAYS_CREDIT_ENDDATE_max_Active    |\n",
       "|    31 | prev_AMT_CREDIT_mean_Refused             |\n",
       "|    33 | AMT_INCOME_TOTAL                         |\n",
       "|    33 | bureau_DAYS_CREDIT_mean                  |\n",
       "|    35 | bureau_DAYS_CREDIT_ENDDATE_max           |\n",
       "|    35 | OCCUPATION_TYPE                          |\n",
       "|    36 | bureau_AMT_CREDIT_SUM_mean               |\n",
       "|    36 | bureau_count_Active                      |\n",
       "|    36 | NAME_EDUCATION_TYPE                      |\n",
       "|    37 | bureau_DAYS_CREDIT_ENDDATE_mode          |\n",
       "|    38 | bureau_DAYS_ENDDATE_FACT_max             |\n",
       "|    40 | bureau_AMT_CREDIT_SUM_min_Active         |\n",
       "|    40 | CODE_GENDER                              |\n",
       "|    41 | bureau_DAYS_ENDDATE_FACT_std             |\n",
       "|    41 | bureau_AMT_CREDIT_MAX_OVERDUE_sum_Active |\n",
       "|    41 | prev_AMT_BALANCE_CURR_sum                |\n",
       "|    45 | DAYS_REGISTRATION                        |\n",
       "|    45 | bureau_AMT_CREDIT_SUM_DEBT_mean          |\n",
       "|    47 | bureau_AMT_CREDIT_SUM_max                |\n",
       "|    48 | DAYS_LAST_PHONE_CHANGE                   |\n",
       "|    51 | bureau_DAYS_CREDIT_max_Active            |\n",
       "|    56 | prev_curr_bal_lim_diff_sum               |\n",
       "|    60 | OWN_CAR_AGE                              |\n",
       "|    66 | prev_AMT_CREDIT_sum_Approved             |\n",
       "|    68 | ORGANIZATION_TYPE                        |\n",
       "|    74 | DAYS_ID_PUBLISH                          |\n",
       "|    91 | DAYS_EMPLOYED                            |\n",
       "|    92 | AMT_GOODS_PRICE                          |\n",
       "|    93 | prev_AMT_CREDIT_sum_Consumer_loans       |\n",
       "|   103 | AMT_ANNUITY                              |\n",
       "|   113 | prev_payment_left                        |\n",
       "|   139 | DAYS_BIRTH                               |\n",
       "|   147 | EXT_SOURCE_3                             |\n",
       "|   157 | AMT_CREDIT                               |\n",
       "|   158 | EXT_SOURCE_2                             |\n",
       "|   170 | EXT_SOURCE_1                             |"
      ],
      "text/plain": [
       "<IPython.core.display.Markdown object>"
      ]
     },
     "execution_count": 25,
     "metadata": {},
     "output_type": "execute_result"
    }
   ],
   "source": [
    "eda.table_display(feats.sort(\"imp\"))"
   ]
  },
  {
   "cell_type": "code",
   "execution_count": 27,
   "metadata": {},
   "outputs": [],
   "source": [
    "scores = []\n",
    "for train_index, test_index in StratifiedKFold(5).split(X_train, y_train):\n",
    "    models.models[\"lgbm\"].pipeline.fit(\n",
    "        X_train[train_index], y_train[train_index]\n",
    "    )\n",
    "    scores.append(\n",
    "        roc_auc_score(\n",
    "            y_train[test_index],\n",
    "            models.models[\"lgbm\"].pipeline.predict_proba(\n",
    "                X_train[test_index]\n",
    "            )[:,1],\n",
    "        )\n",
    "    )"
   ]
  }
 ],
 "metadata": {
  "kernelspec": {
   "display_name": "base",
   "language": "python",
   "name": "python3"
  },
  "language_info": {
   "codemirror_mode": {
    "name": "ipython",
    "version": 3
   },
   "file_extension": ".py",
   "mimetype": "text/x-python",
   "name": "python",
   "nbconvert_exporter": "python",
   "pygments_lexer": "ipython3",
   "version": "3.9.13"
  }
 },
 "nbformat": 4,
 "nbformat_minor": 2
}
