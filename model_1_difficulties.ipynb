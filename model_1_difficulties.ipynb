{
 "cells": [
  {
   "cell_type": "code",
   "execution_count": 26,
   "metadata": {},
   "outputs": [],
   "source": [
    "%reload_ext autoreload\n",
    "%autoreload 1\n",
    "from pprint import pprint\n",
    "import random\n",
    "import polars as pl\n",
    "from sklearn.pipeline import Pipeline\n",
    "from sklearn.ensemble import ExtraTreesClassifier\n",
    "from rgf.sklearn import RGFClassifier\n",
    "import auxiliary.transformers as tr\n",
    "from auxiliary.transformers import PolarsColumnTransformer as PCT\n",
    "from lightgbm import LGBMClassifier\n",
    "from sklearn.model_selection import StratifiedKFold\n",
    "from sklearn.metrics import roc_auc_score\n",
    "import copy\n",
    "import auxiliary.tuning as tunes\n",
    "import auxiliary.eda_functions as eda\n",
    "from ray import tune\n",
    "import joblib\n",
    "import numpy as np\n",
    "import matplotlib.pyplot as plt\n",
    "import seaborn as sns\n",
    "from BorutaShap import BorutaShap\n",
    "import statistics\n",
    "from sklearn.utils.validation import check_random_state\n",
    "%aimport auxiliary.transformers\n",
    "%aimport auxiliary.tuning\n",
    "%aimport auxiliary.eda_functions"
   ]
  },
  {
   "cell_type": "code",
   "execution_count": 2,
   "metadata": {},
   "outputs": [],
   "source": [
    "random.seed(1)"
   ]
  },
  {
   "cell_type": "code",
   "execution_count": 3,
   "metadata": {},
   "outputs": [],
   "source": [
    "train_data=pl.read_parquet('temp/application_train_filtered.parquet')\n",
    "id_and_target=['SK_ID_CURR','TARGET']\n",
    "X_train=train_data.drop(columns=id_and_target)\n",
    "y_train=train_data['TARGET']"
   ]
  },
  {
   "cell_type": "code",
   "execution_count": 4,
   "metadata": {},
   "outputs": [],
   "source": [
    "bool_features = []\n",
    "for feature in X_train.select(pl.col(pl.Utf8)).columns:\n",
    "    if X_train[feature].n_unique() == 2:\n",
    "        bool_features.append(feature)\n",
    "\n",
    "cat_features = [\n",
    "    feature\n",
    "    for feature in X_train.select(pl.col(pl.Utf8)).columns\n",
    "    if feature not in bool_features\n",
    "]\n",
    "\n",
    "numeric_features_with_nulls = (\n",
    "    pl.Series(\n",
    "        X_train.select(pl.col(pl.FLOAT_DTYPES), pl.col(pl.INTEGER_DTYPES)).columns\n",
    "    )\n",
    "    .filter(\n",
    "        X_train.select(pl.col(pl.FLOAT_DTYPES), pl.col(pl.INTEGER_DTYPES))\n",
    "        .select(pl.all().is_null().any())\n",
    "        .transpose()\n",
    "        .to_series()\n",
    "    )\n",
    "    .to_list()\n",
    ")"
   ]
  },
  {
   "cell_type": "code",
   "execution_count": 5,
   "metadata": {},
   "outputs": [],
   "source": [
    "preprocessing = Pipeline([])\n",
    "\n",
    "num_imputer = tr.PolarsColumnTransformer([])\n",
    "for feature in numeric_features_with_nulls:\n",
    "    num_imputer.steps[feature] = PCT.Step(\n",
    "        feature, tr.NumDiffFromRestImputer(), feature\n",
    "    )\n",
    "preprocessing.steps.insert(0,('num_imputer', num_imputer))\n",
    "\n",
    "cat_imputers = tr.PolarsColumnTransformer([])\n",
    "for feature in cat_features:\n",
    "    cat_imputers.steps[feature] = PCT.Step(\n",
    "        feature, tr.NotInImputerPolars(min_values=100, fill_value=\"other\"), feature\n",
    "    )\n",
    "preprocessing.steps.append((\"cat_imputers\", cat_imputers))\n",
    "\n",
    "encoders = tr.PolarsColumnTransformer([])\n",
    "for feature in bool_features:\n",
    "    encoders.steps[feature] = PCT.Step(\n",
    "        feature, tr.PolarsOneHotEncoder(drop=True), feature\n",
    "    )\n",
    "for feature in cat_features:\n",
    "    encoders.steps[feature] = PCT.Step(\n",
    "        feature, tr.TargetMeanOrderedLabeler(how=\"label\"), feature\n",
    "    )\n",
    "preprocessing.steps.append((\"encoders\", encoders))\n",
    "feature_remover = tr.FeatureRemover([])\n",
    "preprocessing.steps.append((\"feature_removal\", feature_remover))"
   ]
  },
  {
   "cell_type": "code",
   "execution_count": 6,
   "metadata": {},
   "outputs": [],
   "source": [
    "model_lgb=LGBMClassifier(n_jobs=1,verbosity=-1,force_col_wise=True)\n",
    "sampler_model=tr.SamplingModelWrapper(model_lgb)\n",
    "full_pipeline=Pipeline([('preprocess', preprocessing),('model',sampler_model)])"
   ]
  },
  {
   "cell_type": "code",
   "execution_count": 7,
   "metadata": {},
   "outputs": [],
   "source": [
    "preprocessing_etrees=copy.deepcopy(preprocessing)\n",
    "model_extra_trees = ExtraTreesClassifier(random_state=1,n_jobs=1)\n",
    "sampler_model_etrees=tr.SamplingModelWrapper(model_extra_trees)\n",
    "full_pipeline_etrees=Pipeline([('preprocess',preprocessing_etrees),('model',sampler_model_etrees)])\n"
   ]
  },
  {
   "cell_type": "code",
   "execution_count": 8,
   "metadata": {},
   "outputs": [],
   "source": [
    "preprocessing_rgf = copy.deepcopy(preprocessing)\n",
    "model_rgf = RGFClassifier()\n",
    "sampler_model_rgf=tr.SamplingModelWrapper(model_rgf)\n",
    "full_pipeline_rgf = Pipeline([(\"preprocess\", preprocessing_rgf), (\"model\", sampler_model_rgf)])"
   ]
  },
  {
   "cell_type": "markdown",
   "metadata": {},
   "source": [
    "**Fitting Boruta Shap algorithm on LGBM models with different alpha regularization values**"
   ]
  },
  {
   "cell_type": "raw",
   "metadata": {},
   "source": [
    "model_for_selection_high_reg=LGBMClassifier(verbose=-1,random_state=1,reg_alpha=10,num_leaves=100)\n",
    "selector_high_alpha=BorutaShap(importance_measure='shap',model=model_for_selection_high_reg)\n",
    "selector_high_alpha.fit(\n",
    "    full_pipeline[\"preprocess\"]\n",
    "    .fit_transform(X_train, y_train)\n",
    "    .to_pandas(),\n",
    "    y_train.to_pandas(),\n",
    ")\n",
    "joblib.dump(selector_high_alpha,'temp/model_1_selector_alpha10.joblib')\n",
    "\n",
    "model_for_selection_reg=LGBMClassifier(verbose=-1,random_state=1,reg_alpha=1,num_leaves=100)\n",
    "selector_with_alpha=BorutaShap(importance_measure='shap',model=model_for_selection_reg)\n",
    "selector_with_alpha.fit(\n",
    "    full_pipeline[\"preprocess\"]\n",
    "    .fit_transform(X_train, y_train)\n",
    "    .to_pandas(),\n",
    "    y_train.to_pandas(),\n",
    ")\n",
    "joblib.dump(selector_with_alpha,'temp/model_1_selector_alpha1.joblib')\n",
    "\n",
    "model_for_selection_noreg=LGBMClassifier(verbose=-1,random_state=1,reg_alpha=0,num_leaves=100)\n",
    "selector_no_alpha=BorutaShap(importance_measure='shap',model=model_for_selection_noreg)\n",
    "selector_no_alpha.fit(\n",
    "    full_pipeline[\"preprocess\"]\n",
    "    .fit_transform(X_train, y_train)\n",
    "    .to_pandas(),\n",
    "    y_train.to_pandas(),\n",
    ")\n",
    "joblib.dump(selector_no_alpha,'temp/model_1_selector_alpha0.joblib')"
   ]
  },
  {
   "cell_type": "code",
   "execution_count": 9,
   "metadata": {},
   "outputs": [],
   "source": [
    "selector_with_alpha=joblib.load('temp/model_1_selector_alpha1.joblib')\n",
    "selector_high_alpha=joblib.load('temp/model_1_selector_alpha10.joblib')\n",
    "selector_no_alpha=joblib.load('temp/model_1_selector_alpha0.joblib')\n",
    "bad_features_with_alpha=selector_with_alpha.features_to_remove.tolist()\n",
    "bad_and_tentative_features_alpha=bad_features_with_alpha.copy()\n",
    "bad_and_tentative_features_alpha.extend(selector_with_alpha.tentative.copy())\n",
    "\n",
    "\n",
    "bad_features_high_alpha=selector_high_alpha.features_to_remove.tolist()\n",
    "bad_and_tentative_features_high_alpha=bad_features_high_alpha.copy()\n",
    "bad_and_tentative_features_high_alpha.extend(selector_high_alpha.tentative.copy())\n",
    "\n",
    "\n",
    "bad_feature_no_alpha=selector_no_alpha.features_to_remove.tolist()\n",
    "bad_and_tentative_features_no_alpha=bad_feature_no_alpha.copy()\n",
    "bad_and_tentative_features_no_alpha.extend(selector_no_alpha.tentative.copy())\n"
   ]
  },
  {
   "cell_type": "code",
   "execution_count": 10,
   "metadata": {},
   "outputs": [],
   "source": [
    "feature_quality = {\"feature\": preprocessing.fit_transform(X_train, y_train).columns}\n",
    "feature_quality[\"high_alpha\"] = []\n",
    "feature_quality[\"alpha\"] = []\n",
    "feature_quality[\"no_alpha\"] = []\n",
    "\n",
    "for feature in feature_quality[\"feature\"]:\n",
    "    if feature in bad_features_high_alpha:\n",
    "        feature_quality[\"high_alpha\"].append(\"bad\")\n",
    "    elif feature in selector_high_alpha.tentative:\n",
    "        feature_quality[\"high_alpha\"].append(\"tentative\")\n",
    "    else:\n",
    "        feature_quality[\"high_alpha\"].append(\"good\")\n",
    "\n",
    "for feature in feature_quality[\"feature\"]:\n",
    "    if feature in bad_features_with_alpha:\n",
    "        feature_quality[\"alpha\"].append(\"bad\")\n",
    "    elif feature in selector_with_alpha.tentative:\n",
    "        feature_quality[\"alpha\"].append(\"tentative\")\n",
    "    else:\n",
    "        feature_quality[\"alpha\"].append(\"good\")\n",
    "\n",
    "for feature in feature_quality[\"feature\"]:\n",
    "    if feature in bad_features_high_alpha:\n",
    "        feature_quality[\"no_alpha\"].append(\"bad\")\n",
    "    elif feature in selector_no_alpha.tentative:\n",
    "        feature_quality[\"no_alpha\"].append(\"tentative\")\n",
    "    else:\n",
    "        feature_quality[\"no_alpha\"].append(\"good\")\n",
    "\n",
    "feature_quality=pl.DataFrame(feature_quality)\n"
   ]
  },
  {
   "cell_type": "markdown",
   "metadata": {},
   "source": [
    "**Features with no consensus**"
   ]
  },
  {
   "cell_type": "code",
   "execution_count": 11,
   "metadata": {},
   "outputs": [
    {
     "data": {
      "text/markdown": [
       "| feature                                   | high_alpha   | alpha     | no_alpha   |\n",
       "|:------------------------------------------|:-------------|:----------|:-----------|\n",
       "| AMT_INCOME_TOTAL                          | good         | good      | tentative  |\n",
       "| DAYS_REGISTRATION                         | tentative    | good      | good       |\n",
       "| FLAG_WORK_PHONE                           | tentative    | good      | good       |\n",
       "| LIVINGAREA_MEDI                           | bad          | tentative | bad        |\n",
       "| DEF_60_CNT_SOCIAL_CIRCLE                  | bad          | tentative | bad        |\n",
       "| bureau_DAYS_CREDIT_ENDDATE_max            | tentative    | tentative | good       |\n",
       "| bureau_AMT_CREDIT_MAX_OVERDUE_max         | tentative    | tentative | good       |\n",
       "| bureau_AMT_CREDIT_SUM_mean                | tentative    | good      | good       |\n",
       "| bureau_AMT_CREDIT_SUM_max                 | tentative    | tentative | good       |\n",
       "| bureau_AMT_CREDIT_SUM_LIMIT_mean          | bad          | tentative | bad        |\n",
       "| bureau_DAYS_CREDIT_mean                   | tentative    | good      | good       |\n",
       "| bureau_DAYS_CREDIT_sum                    | bad          | tentative | bad        |\n",
       "| bureau_DAYS_CREDIT_UPDATE_std             | bad          | tentative | bad        |\n",
       "| bureau_DAYS_CREDIT_ENDDATE_mean_Active    | tentative    | good      | good       |\n",
       "| bureau_DAYS_CREDIT_ENDDATE_mode_Active    | bad          | tentative | bad        |\n",
       "| bureau_AMT_CREDIT_MAX_OVERDUE_mean_Active | bad          | tentative | bad        |\n",
       "| bureau_AMT_CREDIT_SUM_mean_Active         | bad          | tentative | bad        |\n",
       "| bureau_AMT_CREDIT_SUM_DEBT_sum_Active     | bad          | tentative | bad        |\n",
       "| bureau_DAYS_CREDIT_mean_Active            | bad          | tentative | bad        |\n",
       "| prev_AMT_CREDIT_mean_Approved             | bad          | tentative | bad        |\n",
       "| prev_AMT_CREDIT_sum_Revolving_loans       | tentative    | tentative | good       |\n",
       "| NAME_INCOME_TYPE                          | tentative    | good      | good       |\n",
       "| NAME_HOUSING_TYPE                         | bad          | tentative | bad        |\n",
       "| WALLSMATERIAL_MODE                        | bad          | tentative | bad        |\n",
       "| NAME_CONTRACT_TYPE_Cash loans             | tentative    | good      | good       |"
      ],
      "text/plain": [
       "<IPython.core.display.Markdown object>"
      ]
     },
     "execution_count": 11,
     "metadata": {},
     "output_type": "execute_result"
    }
   ],
   "source": [
    "eda.table_display(feature_quality.filter(\n",
    "    (pl.col(\"high_alpha\") != pl.col(\"alpha\"))\n",
    "    | (pl.col(\"high_alpha\") != pl.col(\"no_alpha\"))\n",
    "    | (pl.col(\"alpha\") != pl.col(\"no_alpha\"))\n",
    "))\n"
   ]
  },
  {
   "cell_type": "code",
   "execution_count": 12,
   "metadata": {},
   "outputs": [],
   "source": [
    "feature_quality = feature_quality.with_columns(\n",
    "    feature_quality.map_rows(lambda x: statistics.mode(x[1:]))\n",
    "    .to_series()\n",
    "    .alias(\"consensus\")\n",
    ")"
   ]
  },
  {
   "cell_type": "code",
   "execution_count": 13,
   "metadata": {},
   "outputs": [],
   "source": [
    "consensus_bad_tentative_features=feature_quality.filter(pl.col(\"consensus\")!=\"good\")['feature'].to_list()\n",
    "consensus_bad_features=feature_quality.filter(pl.col(\"consensus\")==\"bad\")['feature'].to_list()\n",
    "feature_removal_list=[consensus_bad_features,consensus_bad_tentative_features]"
   ]
  },
  {
   "cell_type": "code",
   "execution_count": 14,
   "metadata": {},
   "outputs": [],
   "source": [
    "models = tunes.Models()\n",
    "model_params_lgb = {\n",
    "    \"max_depth\": tune.randint(5, 30),\n",
    "    \"num_leaves\": tune.randint(10, 1000),\n",
    "    \"n_estimators\": tune.randint(10, 251),\n",
    "    \"learning_rate\": tune.loguniform(0.001, 0.1),\n",
    "    \"bagging_freq\": tune.randint(0, 11),\n",
    "    \"colsample_bytree\": tune.uniform(0.2, 1.0),\n",
    "    \"subsample\": tune.uniform(0.2, 1.0),\n",
    "    \"reg_alpha\": tune.loguniform(0.001, 100),\n",
    "    \"reg_lambda\": tune.loguniform(0.001, 100),\n",
    "    \"boosting_type\": tune.choice([\"gbdt\", \"dart\", \"rf\"]),\n",
    "    \"class_weight\": tune.choice([\"balanced\", None]),\n",
    "    \"max_bin\": tune.randint(5, 201),\n",
    "}\n",
    "\n",
    "search_space_lgbm = {\n",
    "    \"preprocess__feature_removal__feats_to_drop\": tune.choice(feature_removal_list),\n",
    "    \"model__model_params\": model_params_lgb,\n",
    "    \"model__sampler\": tune.choice(['smote','adasyn','random',None])\n",
    "}\n",
    "\n",
    "models.add_model(\n",
    "    \"lgbm\", full_pipeline, search_space_lgbm, metric_threshold=0.77\n",
    ")\n"
   ]
  },
  {
   "cell_type": "code",
   "execution_count": 15,
   "metadata": {},
   "outputs": [],
   "source": [
    "model_params_extra_trees = {\n",
    "    \"n_estimators\": tune.randint(10, 251),\n",
    "    \"max_depth\": tune.randint(5, 30),\n",
    "    \"max_leaf_nodes\": tune.randint(30,1000),\n",
    "    \"min_samples_split\": tune.randint(2, 21),\n",
    "    \"min_samples_leaf\": tune.randint(1, 21),\n",
    "    \"max_features\": tune.uniform(0.1,1.0),\n",
    "    \"class_weight\": tune.choice([\"balanced\",\"balanced_subsample\" , None]),\n",
    "    \"max_samples\": tune.uniform(0.1, 1.0),\n",
    "}\n",
    "\n",
    "search_space_extra_trees = {\n",
    "    \"preprocess__feature_removal__feats_to_drop\": tune.choice(feature_removal_list),\n",
    "    \"model__model_params\": model_params_extra_trees,\n",
    "    \"model__sampler\": tune.choice(['smote', 'adasyn', 'random', None])\n",
    "}\n",
    "\n",
    "models.add_model(\n",
    "    \"extra_trees\", full_pipeline_etrees, search_space_extra_trees, metric_threshold=0.73\n",
    ")\n"
   ]
  },
  {
   "cell_type": "code",
   "execution_count": 16,
   "metadata": {},
   "outputs": [],
   "source": [
    "model_params_rgf = {\n",
    "    \"algorithm\": tune.choice([\"RGF\", \"RGF Opt\", \"RGF Sib\"]),\n",
    "    \"loss\": tune.choice([\"LS\", \"Expo\", \"Log\", \"Abs\"]),\n",
    "    \"l2\": tune.loguniform(1e-6, 1.0),\n",
    "    \"max_leaf\": tune.randint(10, 1000),\n",
    "    \"test_interval\": tune.quniform(100,1000,100),\n",
    "    \"reg_depth\": tune.randint(1, 21),\n",
    "    \"learning_rate\": tune.loguniform(1e-6, 1.0),\n",
    "}\n",
    "\n",
    "search_space_rgf = {\n",
    "    \"preprocess__feature_removal__feats_to_drop\": tune.choice(feature_removal_list),\n",
    "    \"model__model_params\": model_params_rgf,\n",
    "    \"model__sampler\": tune.choice(['smote', 'adasyn', 'random', None])\n",
    "}\n",
    "\n",
    "models.add_model(\n",
    "    \"rgf\", full_pipeline_rgf, search_space_rgf, metric_threshold=0.76\n",
    ")\n"
   ]
  },
  {
   "cell_type": "raw",
   "metadata": {},
   "source": [
    "models.models['lgbm'].tune_model(X_train,y_train, n=200,metric='roc_auc')\n",
    "joblib.dump(models,\"temp/model_1_tuned_models.joblib\")\n",
    "models=joblib.load('temp/model_1_tuned_models.joblib')\n",
    "models.models['extra_trees'].tune_model(X_train,y_train, n=100,metric='roc_auc')\n",
    "joblib.dump(models,\"temp/model_1_tuned_models.joblib\")\n",
    "models.models['rgf'].tune_model(X_train,y_train, n=50,metric='roc_auc',sample_size=100000)\n",
    "joblib.dump(models,\"temp/model_1_tuned_models.joblib\")\n",
    "models.tune_all(X_train,y_train,metric='roc_auc',sample_size=10000)"
   ]
  },
  {
   "cell_type": "code",
   "execution_count": 17,
   "metadata": {},
   "outputs": [],
   "source": [
    "models=joblib.load(\"temp/model_1_tuned_models.joblib\")"
   ]
  },
  {
   "cell_type": "code",
   "execution_count": 18,
   "metadata": {},
   "outputs": [
    {
     "name": "stdout",
     "output_type": "stream",
     "text": [
      "lgbm\n",
      "----------------\n",
      "'model__model_params:'\n",
      "{'bagging_freq': 4,\n",
      " 'boosting_type': 'gbdt',\n",
      " 'class_weight': None,\n",
      " 'colsample_bytree': 0.8014252957700048,\n",
      " 'learning_rate': 0.024615541208760996,\n",
      " 'max_bin': 195,\n",
      " 'max_depth': 11,\n",
      " 'n_estimators': 130,\n",
      " 'num_leaves': 850,\n",
      " 'reg_alpha': 0.1867708640086517,\n",
      " 'reg_lambda': 0.05040568844637988,\n",
      " 'subsample': 0.3674293085589498}\n",
      "\n",
      "'model__sampler:'\n",
      "'random'\n",
      "\n",
      "extra_trees\n",
      "----------------\n",
      "'model__model_params:'\n",
      "{'class_weight': 'balanced_subsample',\n",
      " 'max_depth': 17,\n",
      " 'max_features': 0.6415290560036582,\n",
      " 'max_leaf_nodes': 184,\n",
      " 'max_samples': 0.4259865167145781,\n",
      " 'min_samples_leaf': 4,\n",
      " 'min_samples_split': 18,\n",
      " 'n_estimators': 222}\n",
      "\n",
      "'model__sampler:'\n",
      "None\n",
      "\n",
      "rgf\n",
      "----------------\n",
      "'model__model_params:'\n",
      "{'algorithm': 'RGF Opt',\n",
      " 'l2': 0.0017590322410677072,\n",
      " 'learning_rate': 0.00023978850531378984,\n",
      " 'loss': 'Log',\n",
      " 'max_leaf': 908,\n",
      " 'reg_depth': 1,\n",
      " 'test_interval': 700.0}\n",
      "\n",
      "'model__sampler:'\n",
      "'random'\n",
      "\n"
     ]
    }
   ],
   "source": [
    "for model in models.models.values():\n",
    "    print(model.name)\n",
    "    print(\"----------------\")\n",
    "    for key,param in model.best_params.items():\n",
    "        if key[:3]==\"mod\":\n",
    "            pprint(key+\":\")\n",
    "            pprint(param)\n",
    "            print(\"\")\n"
   ]
  },
  {
   "cell_type": "code",
   "execution_count": 23,
   "metadata": {},
   "outputs": [
    {
     "name": "stdout",
     "output_type": "stream",
     "text": [
      "lgbm\n",
      "0.7728888468935435\n",
      "extra_trees\n",
      "0.7325794744698934\n",
      "rgf\n",
      "0.7750529599284133\n"
     ]
    }
   ],
   "source": [
    "scores={}\n",
    "for model in models.models.values():\n",
    "    scores[model.name]=np.array(model.cross_val_roc_auc(X_train,y_train))\n",
    "    print(model.name)\n",
    "    print(scores[model.name].mean())\n",
    "scores=pl.DataFrame(scores)"
   ]
  },
  {
   "cell_type": "code",
   "execution_count": 28,
   "metadata": {},
   "outputs": [
    {
     "data": {
      "text/html": [
       "<div><style>\n",
       ".dataframe > thead > tr > th,\n",
       ".dataframe > tbody > tr > td {\n",
       "  text-align: right;\n",
       "  white-space: pre-wrap;\n",
       "}\n",
       "</style>\n",
       "<small>shape: (5, 3)</small><table border=\"1\" class=\"dataframe\"><thead><tr><th>lgbm</th><th>extra_trees</th><th>rgf</th></tr><tr><td>f64</td><td>f64</td><td>f64</td></tr></thead><tbody><tr><td>0.772106</td><td>0.7342</td><td>0.773761</td></tr><tr><td>0.774733</td><td>0.735193</td><td>0.776159</td></tr><tr><td>0.76761</td><td>0.724074</td><td>0.770123</td></tr><tr><td>0.774824</td><td>0.735596</td><td>0.777819</td></tr><tr><td>0.775171</td><td>0.733834</td><td>0.777402</td></tr></tbody></table></div>"
      ],
      "text/plain": [
       "shape: (5, 3)\n",
       "┌──────────┬─────────────┬──────────┐\n",
       "│ lgbm     ┆ extra_trees ┆ rgf      │\n",
       "│ ---      ┆ ---         ┆ ---      │\n",
       "│ f64      ┆ f64         ┆ f64      │\n",
       "╞══════════╪═════════════╪══════════╡\n",
       "│ 0.772106 ┆ 0.7342      ┆ 0.773761 │\n",
       "│ 0.774733 ┆ 0.735193    ┆ 0.776159 │\n",
       "│ 0.76761  ┆ 0.724074    ┆ 0.770123 │\n",
       "│ 0.774824 ┆ 0.735596    ┆ 0.777819 │\n",
       "│ 0.775171 ┆ 0.733834    ┆ 0.777402 │\n",
       "└──────────┴─────────────┴──────────┘"
      ]
     },
     "execution_count": 28,
     "metadata": {},
     "output_type": "execute_result"
    }
   ],
   "source": [
    "scores"
   ]
  },
  {
   "cell_type": "code",
   "execution_count": 31,
   "metadata": {},
   "outputs": [
    {
     "data": {
      "text/plain": [
       "[Text(0, 0, 'lgbm'), Text(1, 0, 'extra_trees'), Text(2, 0, 'rgf')]"
      ]
     },
     "execution_count": 31,
     "metadata": {},
     "output_type": "execute_result"
    },
    {
     "data": {
      "image/png": "[encoded data removed]",
      "text/plain": [
       "<Figure size 640x480 with 1 Axes>"
      ]
     },
     "metadata": {},
     "output_type": "display_data"
    }
   ],
   "source": [
    "fig_scores,ax_scores=plt.subplots()\n",
    "sns.boxplot(scores)\n",
    "ax_scores.set_xticklabels(scores.columns)"
   ]
  },
  {
   "cell_type": "code",
   "execution_count": 33,
   "metadata": {},
   "outputs": [],
   "source": [
    "from sklearn.ensemble import StackingClassifier\n",
    "final_estimator=LGBMClassifier(random_state=1,n_jobs=1)\n",
    "model_stack=StackingClassifier([model.pipeline for model in models.models.values()],final_estimator=final_estimator)"
   ]
  },
  {
   "cell_type": "code",
   "execution_count": 34,
   "metadata": {},
   "outputs": [
    {
     "ename": "AttributeError",
     "evalue": "'str' object has no attribute 'name'",
     "output_type": "error",
     "traceback": [
      "\u001b[0;31m---------------------------------------------------------------------------\u001b[0m",
      "\u001b[0;31mEmpty\u001b[0m                                     Traceback (most recent call last)",
      "File \u001b[0;32m~/anaconda3/lib/python3.9/site-packages/joblib/parallel.py:862\u001b[0m, in \u001b[0;36mParallel.dispatch_one_batch\u001b[0;34m(self, iterator)\u001b[0m\n\u001b[1;32m    861\u001b[0m \u001b[39mtry\u001b[39;00m:\n\u001b[0;32m--> 862\u001b[0m     tasks \u001b[39m=\u001b[39m \u001b[39mself\u001b[39;49m\u001b[39m.\u001b[39;49m_ready_batches\u001b[39m.\u001b[39;49mget(block\u001b[39m=\u001b[39;49m\u001b[39mFalse\u001b[39;49;00m)\n\u001b[1;32m    863\u001b[0m \u001b[39mexcept\u001b[39;00m queue\u001b[39m.\u001b[39mEmpty:\n\u001b[1;32m    864\u001b[0m     \u001b[39m# slice the iterator n_jobs * batchsize items at a time. If the\u001b[39;00m\n\u001b[1;32m    865\u001b[0m     \u001b[39m# slice returns less than that, then the current batchsize puts\u001b[39;00m\n\u001b[0;32m   (...)\u001b[0m\n\u001b[1;32m    868\u001b[0m     \u001b[39m# accordingly to distribute evenly the last items between all\u001b[39;00m\n\u001b[1;32m    869\u001b[0m     \u001b[39m# workers.\u001b[39;00m\n",
      "File \u001b[0;32m~/anaconda3/lib/python3.9/queue.py:168\u001b[0m, in \u001b[0;36mQueue.get\u001b[0;34m(self, block, timeout)\u001b[0m\n\u001b[1;32m    167\u001b[0m     \u001b[39mif\u001b[39;00m \u001b[39mnot\u001b[39;00m \u001b[39mself\u001b[39m\u001b[39m.\u001b[39m_qsize():\n\u001b[0;32m--> 168\u001b[0m         \u001b[39mraise\u001b[39;00m Empty\n\u001b[1;32m    169\u001b[0m \u001b[39melif\u001b[39;00m timeout \u001b[39mis\u001b[39;00m \u001b[39mNone\u001b[39;00m:\n",
      "\u001b[0;31mEmpty\u001b[0m: ",
      "\nDuring handling of the above exception, another exception occurred:\n",
      "\u001b[0;31mAttributeError\u001b[0m                            Traceback (most recent call last)",
      "\u001b[1;32m/home/gediminas/Documents/turing_projects/module3_s4/gskvar-ML.4/model_1_difficulties.ipynb Cell 27\u001b[0m line \u001b[0;36m2\n\u001b[1;32m      <a href='vscode-notebook-cell:/home/gediminas/Documents/turing_projects/module3_s4/gskvar-ML.4/model_1_difficulties.ipynb#X61sZmlsZQ%3D%3D?line=0'>1</a>\u001b[0m \u001b[39mfrom\u001b[39;00m \u001b[39msklearn\u001b[39;00m\u001b[39m.\u001b[39;00m\u001b[39mmodel_selection\u001b[39;00m \u001b[39mimport\u001b[39;00m cross_val_score\n\u001b[0;32m----> <a href='vscode-notebook-cell:/home/gediminas/Documents/turing_projects/module3_s4/gskvar-ML.4/model_1_difficulties.ipynb#X61sZmlsZQ%3D%3D?line=1'>2</a>\u001b[0m final_score\u001b[39m=\u001b[39mcross_val_score(model_stack,X_train,y_train)\n",
      "File \u001b[0;32m~/anaconda3/lib/python3.9/site-packages/sklearn/model_selection/_validation.py:562\u001b[0m, in \u001b[0;36mcross_val_score\u001b[0;34m(estimator, X, y, groups, scoring, cv, n_jobs, verbose, fit_params, pre_dispatch, error_score)\u001b[0m\n\u001b[1;32m    559\u001b[0m \u001b[39m# To ensure multimetric format is not supported\u001b[39;00m\n\u001b[1;32m    560\u001b[0m scorer \u001b[39m=\u001b[39m check_scoring(estimator, scoring\u001b[39m=\u001b[39mscoring)\n\u001b[0;32m--> 562\u001b[0m cv_results \u001b[39m=\u001b[39m cross_validate(\n\u001b[1;32m    563\u001b[0m     estimator\u001b[39m=\u001b[39;49mestimator,\n\u001b[1;32m    564\u001b[0m     X\u001b[39m=\u001b[39;49mX,\n\u001b[1;32m    565\u001b[0m     y\u001b[39m=\u001b[39;49my,\n\u001b[1;32m    566\u001b[0m     groups\u001b[39m=\u001b[39;49mgroups,\n\u001b[1;32m    567\u001b[0m     scoring\u001b[39m=\u001b[39;49m{\u001b[39m\"\u001b[39;49m\u001b[39mscore\u001b[39;49m\u001b[39m\"\u001b[39;49m: scorer},\n\u001b[1;32m    568\u001b[0m     cv\u001b[39m=\u001b[39;49mcv,\n\u001b[1;32m    569\u001b[0m     n_jobs\u001b[39m=\u001b[39;49mn_jobs,\n\u001b[1;32m    570\u001b[0m     verbose\u001b[39m=\u001b[39;49mverbose,\n\u001b[1;32m    571\u001b[0m     fit_params\u001b[39m=\u001b[39;49mfit_params,\n\u001b[1;32m    572\u001b[0m     pre_dispatch\u001b[39m=\u001b[39;49mpre_dispatch,\n\u001b[1;32m    573\u001b[0m     error_score\u001b[39m=\u001b[39;49merror_score,\n\u001b[1;32m    574\u001b[0m )\n\u001b[1;32m    575\u001b[0m \u001b[39mreturn\u001b[39;00m cv_results[\u001b[39m\"\u001b[39m\u001b[39mtest_score\u001b[39m\u001b[39m\"\u001b[39m]\n",
      "File \u001b[0;32m~/anaconda3/lib/python3.9/site-packages/sklearn/utils/_param_validation.py:211\u001b[0m, in \u001b[0;36mvalidate_params.<locals>.decorator.<locals>.wrapper\u001b[0;34m(*args, **kwargs)\u001b[0m\n\u001b[1;32m    205\u001b[0m \u001b[39mtry\u001b[39;00m:\n\u001b[1;32m    206\u001b[0m     \u001b[39mwith\u001b[39;00m config_context(\n\u001b[1;32m    207\u001b[0m         skip_parameter_validation\u001b[39m=\u001b[39m(\n\u001b[1;32m    208\u001b[0m             prefer_skip_nested_validation \u001b[39mor\u001b[39;00m global_skip_validation\n\u001b[1;32m    209\u001b[0m         )\n\u001b[1;32m    210\u001b[0m     ):\n\u001b[0;32m--> 211\u001b[0m         \u001b[39mreturn\u001b[39;00m func(\u001b[39m*\u001b[39;49margs, \u001b[39m*\u001b[39;49m\u001b[39m*\u001b[39;49mkwargs)\n\u001b[1;32m    212\u001b[0m \u001b[39mexcept\u001b[39;00m InvalidParameterError \u001b[39mas\u001b[39;00m e:\n\u001b[1;32m    213\u001b[0m     \u001b[39m# When the function is just a wrapper around an estimator, we allow\u001b[39;00m\n\u001b[1;32m    214\u001b[0m     \u001b[39m# the function to delegate validation to the estimator, but we replace\u001b[39;00m\n\u001b[1;32m    215\u001b[0m     \u001b[39m# the name of the estimator by the name of the function in the error\u001b[39;00m\n\u001b[1;32m    216\u001b[0m     \u001b[39m# message to avoid confusion.\u001b[39;00m\n\u001b[1;32m    217\u001b[0m     msg \u001b[39m=\u001b[39m re\u001b[39m.\u001b[39msub(\n\u001b[1;32m    218\u001b[0m         \u001b[39mr\u001b[39m\u001b[39m\"\u001b[39m\u001b[39mparameter of \u001b[39m\u001b[39m\\\u001b[39m\u001b[39mw+ must be\u001b[39m\u001b[39m\"\u001b[39m,\n\u001b[1;32m    219\u001b[0m         \u001b[39mf\u001b[39m\u001b[39m\"\u001b[39m\u001b[39mparameter of \u001b[39m\u001b[39m{\u001b[39;00mfunc\u001b[39m.\u001b[39m\u001b[39m__qualname__\u001b[39m\u001b[39m}\u001b[39;00m\u001b[39m must be\u001b[39m\u001b[39m\"\u001b[39m,\n\u001b[1;32m    220\u001b[0m         \u001b[39mstr\u001b[39m(e),\n\u001b[1;32m    221\u001b[0m     )\n",
      "File \u001b[0;32m~/anaconda3/lib/python3.9/site-packages/sklearn/model_selection/_validation.py:309\u001b[0m, in \u001b[0;36mcross_validate\u001b[0;34m(estimator, X, y, groups, scoring, cv, n_jobs, verbose, fit_params, pre_dispatch, return_train_score, return_estimator, return_indices, error_score)\u001b[0m\n\u001b[1;32m    306\u001b[0m \u001b[39m# We clone the estimator to make sure that all the folds are\u001b[39;00m\n\u001b[1;32m    307\u001b[0m \u001b[39m# independent, and that it is pickle-able.\u001b[39;00m\n\u001b[1;32m    308\u001b[0m parallel \u001b[39m=\u001b[39m Parallel(n_jobs\u001b[39m=\u001b[39mn_jobs, verbose\u001b[39m=\u001b[39mverbose, pre_dispatch\u001b[39m=\u001b[39mpre_dispatch)\n\u001b[0;32m--> 309\u001b[0m results \u001b[39m=\u001b[39m parallel(\n\u001b[1;32m    310\u001b[0m     delayed(_fit_and_score)(\n\u001b[1;32m    311\u001b[0m         clone(estimator),\n\u001b[1;32m    312\u001b[0m         X,\n\u001b[1;32m    313\u001b[0m         y,\n\u001b[1;32m    314\u001b[0m         scorers,\n\u001b[1;32m    315\u001b[0m         train,\n\u001b[1;32m    316\u001b[0m         test,\n\u001b[1;32m    317\u001b[0m         verbose,\n\u001b[1;32m    318\u001b[0m         \u001b[39mNone\u001b[39;49;00m,\n\u001b[1;32m    319\u001b[0m         fit_params,\n\u001b[1;32m    320\u001b[0m         return_train_score\u001b[39m=\u001b[39;49mreturn_train_score,\n\u001b[1;32m    321\u001b[0m         return_times\u001b[39m=\u001b[39;49m\u001b[39mTrue\u001b[39;49;00m,\n\u001b[1;32m    322\u001b[0m         return_estimator\u001b[39m=\u001b[39;49mreturn_estimator,\n\u001b[1;32m    323\u001b[0m         error_score\u001b[39m=\u001b[39;49merror_score,\n\u001b[1;32m    324\u001b[0m     )\n\u001b[1;32m    325\u001b[0m     \u001b[39mfor\u001b[39;49;00m train, test \u001b[39min\u001b[39;49;00m indices\n\u001b[1;32m    326\u001b[0m )\n\u001b[1;32m    328\u001b[0m _warn_or_raise_about_fit_failures(results, error_score)\n\u001b[1;32m    330\u001b[0m \u001b[39m# For callable scoring, the return type is only know after calling. If the\u001b[39;00m\n\u001b[1;32m    331\u001b[0m \u001b[39m# return type is a dictionary, the error scores can now be inserted with\u001b[39;00m\n\u001b[1;32m    332\u001b[0m \u001b[39m# the correct key.\u001b[39;00m\n",
      "File \u001b[0;32m~/anaconda3/lib/python3.9/site-packages/sklearn/utils/parallel.py:65\u001b[0m, in \u001b[0;36mParallel.__call__\u001b[0;34m(self, iterable)\u001b[0m\n\u001b[1;32m     60\u001b[0m config \u001b[39m=\u001b[39m get_config()\n\u001b[1;32m     61\u001b[0m iterable_with_config \u001b[39m=\u001b[39m (\n\u001b[1;32m     62\u001b[0m     (_with_config(delayed_func, config), args, kwargs)\n\u001b[1;32m     63\u001b[0m     \u001b[39mfor\u001b[39;00m delayed_func, args, kwargs \u001b[39min\u001b[39;00m iterable\n\u001b[1;32m     64\u001b[0m )\n\u001b[0;32m---> 65\u001b[0m \u001b[39mreturn\u001b[39;00m \u001b[39msuper\u001b[39;49m()\u001b[39m.\u001b[39;49m\u001b[39m__call__\u001b[39;49m(iterable_with_config)\n",
      "File \u001b[0;32m~/anaconda3/lib/python3.9/site-packages/joblib/parallel.py:1085\u001b[0m, in \u001b[0;36mParallel.__call__\u001b[0;34m(self, iterable)\u001b[0m\n\u001b[1;32m   1076\u001b[0m \u001b[39mtry\u001b[39;00m:\n\u001b[1;32m   1077\u001b[0m     \u001b[39m# Only set self._iterating to True if at least a batch\u001b[39;00m\n\u001b[1;32m   1078\u001b[0m     \u001b[39m# was dispatched. In particular this covers the edge\u001b[39;00m\n\u001b[0;32m   (...)\u001b[0m\n\u001b[1;32m   1082\u001b[0m     \u001b[39m# was very quick and its callback already dispatched all the\u001b[39;00m\n\u001b[1;32m   1083\u001b[0m     \u001b[39m# remaining jobs.\u001b[39;00m\n\u001b[1;32m   1084\u001b[0m     \u001b[39mself\u001b[39m\u001b[39m.\u001b[39m_iterating \u001b[39m=\u001b[39m \u001b[39mFalse\u001b[39;00m\n\u001b[0;32m-> 1085\u001b[0m     \u001b[39mif\u001b[39;00m \u001b[39mself\u001b[39;49m\u001b[39m.\u001b[39;49mdispatch_one_batch(iterator):\n\u001b[1;32m   1086\u001b[0m         \u001b[39mself\u001b[39m\u001b[39m.\u001b[39m_iterating \u001b[39m=\u001b[39m \u001b[39mself\u001b[39m\u001b[39m.\u001b[39m_original_iterator \u001b[39mis\u001b[39;00m \u001b[39mnot\u001b[39;00m \u001b[39mNone\u001b[39;00m\n\u001b[1;32m   1088\u001b[0m     \u001b[39mwhile\u001b[39;00m \u001b[39mself\u001b[39m\u001b[39m.\u001b[39mdispatch_one_batch(iterator):\n",
      "File \u001b[0;32m~/anaconda3/lib/python3.9/site-packages/joblib/parallel.py:873\u001b[0m, in \u001b[0;36mParallel.dispatch_one_batch\u001b[0;34m(self, iterator)\u001b[0m\n\u001b[1;32m    870\u001b[0m n_jobs \u001b[39m=\u001b[39m \u001b[39mself\u001b[39m\u001b[39m.\u001b[39m_cached_effective_n_jobs\n\u001b[1;32m    871\u001b[0m big_batch_size \u001b[39m=\u001b[39m batch_size \u001b[39m*\u001b[39m n_jobs\n\u001b[0;32m--> 873\u001b[0m islice \u001b[39m=\u001b[39m \u001b[39mlist\u001b[39;49m(itertools\u001b[39m.\u001b[39;49mislice(iterator, big_batch_size))\n\u001b[1;32m    874\u001b[0m \u001b[39mif\u001b[39;00m \u001b[39mlen\u001b[39m(islice) \u001b[39m==\u001b[39m \u001b[39m0\u001b[39m:\n\u001b[1;32m    875\u001b[0m     \u001b[39mreturn\u001b[39;00m \u001b[39mFalse\u001b[39;00m\n",
      "File \u001b[0;32m~/anaconda3/lib/python3.9/site-packages/sklearn/utils/parallel.py:61\u001b[0m, in \u001b[0;36m<genexpr>\u001b[0;34m(.0)\u001b[0m\n\u001b[1;32m     56\u001b[0m \u001b[39m# Capture the thread-local scikit-learn configuration at the time\u001b[39;00m\n\u001b[1;32m     57\u001b[0m \u001b[39m# Parallel.__call__ is issued since the tasks can be dispatched\u001b[39;00m\n\u001b[1;32m     58\u001b[0m \u001b[39m# in a different thread depending on the backend and on the value of\u001b[39;00m\n\u001b[1;32m     59\u001b[0m \u001b[39m# pre_dispatch and n_jobs.\u001b[39;00m\n\u001b[1;32m     60\u001b[0m config \u001b[39m=\u001b[39m get_config()\n\u001b[0;32m---> 61\u001b[0m iterable_with_config \u001b[39m=\u001b[39m (\n\u001b[1;32m     62\u001b[0m     (_with_config(delayed_func, config), args, kwargs)\n\u001b[1;32m     63\u001b[0m     \u001b[39mfor\u001b[39;00m delayed_func, args, kwargs \u001b[39min\u001b[39;00m iterable\n\u001b[1;32m     64\u001b[0m )\n\u001b[1;32m     65\u001b[0m \u001b[39mreturn\u001b[39;00m \u001b[39msuper\u001b[39m()\u001b[39m.\u001b[39m\u001b[39m__call__\u001b[39m(iterable_with_config)\n",
      "File \u001b[0;32m~/anaconda3/lib/python3.9/site-packages/sklearn/model_selection/_validation.py:311\u001b[0m, in \u001b[0;36m<genexpr>\u001b[0;34m(.0)\u001b[0m\n\u001b[1;32m    306\u001b[0m \u001b[39m# We clone the estimator to make sure that all the folds are\u001b[39;00m\n\u001b[1;32m    307\u001b[0m \u001b[39m# independent, and that it is pickle-able.\u001b[39;00m\n\u001b[1;32m    308\u001b[0m parallel \u001b[39m=\u001b[39m Parallel(n_jobs\u001b[39m=\u001b[39mn_jobs, verbose\u001b[39m=\u001b[39mverbose, pre_dispatch\u001b[39m=\u001b[39mpre_dispatch)\n\u001b[1;32m    309\u001b[0m results \u001b[39m=\u001b[39m parallel(\n\u001b[1;32m    310\u001b[0m     delayed(_fit_and_score)(\n\u001b[0;32m--> 311\u001b[0m         clone(estimator),\n\u001b[1;32m    312\u001b[0m         X,\n\u001b[1;32m    313\u001b[0m         y,\n\u001b[1;32m    314\u001b[0m         scorers,\n\u001b[1;32m    315\u001b[0m         train,\n\u001b[1;32m    316\u001b[0m         test,\n\u001b[1;32m    317\u001b[0m         verbose,\n\u001b[1;32m    318\u001b[0m         \u001b[39mNone\u001b[39;00m,\n\u001b[1;32m    319\u001b[0m         fit_params,\n\u001b[1;32m    320\u001b[0m         return_train_score\u001b[39m=\u001b[39mreturn_train_score,\n\u001b[1;32m    321\u001b[0m         return_times\u001b[39m=\u001b[39m\u001b[39mTrue\u001b[39;00m,\n\u001b[1;32m    322\u001b[0m         return_estimator\u001b[39m=\u001b[39mreturn_estimator,\n\u001b[1;32m    323\u001b[0m         error_score\u001b[39m=\u001b[39merror_score,\n\u001b[1;32m    324\u001b[0m     )\n\u001b[1;32m    325\u001b[0m     \u001b[39mfor\u001b[39;00m train, test \u001b[39min\u001b[39;00m indices\n\u001b[1;32m    326\u001b[0m )\n\u001b[1;32m    328\u001b[0m _warn_or_raise_about_fit_failures(results, error_score)\n\u001b[1;32m    330\u001b[0m \u001b[39m# For callable scoring, the return type is only know after calling. If the\u001b[39;00m\n\u001b[1;32m    331\u001b[0m \u001b[39m# return type is a dictionary, the error scores can now be inserted with\u001b[39;00m\n\u001b[1;32m    332\u001b[0m \u001b[39m# the correct key.\u001b[39;00m\n",
      "File \u001b[0;32m~/anaconda3/lib/python3.9/site-packages/sklearn/base.py:75\u001b[0m, in \u001b[0;36mclone\u001b[0;34m(estimator, safe)\u001b[0m\n\u001b[1;32m     41\u001b[0m \u001b[39m\u001b[39m\u001b[39m\"\"\"Construct a new unfitted estimator with the same parameters.\u001b[39;00m\n\u001b[1;32m     42\u001b[0m \n\u001b[1;32m     43\u001b[0m \u001b[39mClone does a deep copy of the model in an estimator\u001b[39;00m\n\u001b[0;32m   (...)\u001b[0m\n\u001b[1;32m     72\u001b[0m \u001b[39mfound in :ref:`randomness`.\u001b[39;00m\n\u001b[1;32m     73\u001b[0m \u001b[39m\"\"\"\u001b[39;00m\n\u001b[1;32m     74\u001b[0m \u001b[39mif\u001b[39;00m \u001b[39mhasattr\u001b[39m(estimator, \u001b[39m\"\u001b[39m\u001b[39m__sklearn_clone__\u001b[39m\u001b[39m\"\u001b[39m) \u001b[39mand\u001b[39;00m \u001b[39mnot\u001b[39;00m inspect\u001b[39m.\u001b[39misclass(estimator):\n\u001b[0;32m---> 75\u001b[0m     \u001b[39mreturn\u001b[39;00m estimator\u001b[39m.\u001b[39;49m__sklearn_clone__()\n\u001b[1;32m     76\u001b[0m \u001b[39mreturn\u001b[39;00m _clone_parametrized(estimator, safe\u001b[39m=\u001b[39msafe)\n",
      "File \u001b[0;32m~/anaconda3/lib/python3.9/site-packages/sklearn/base.py:268\u001b[0m, in \u001b[0;36mBaseEstimator.__sklearn_clone__\u001b[0;34m(self)\u001b[0m\n\u001b[1;32m    267\u001b[0m \u001b[39mdef\u001b[39;00m \u001b[39m__sklearn_clone__\u001b[39m(\u001b[39mself\u001b[39m):\n\u001b[0;32m--> 268\u001b[0m     \u001b[39mreturn\u001b[39;00m _clone_parametrized(\u001b[39mself\u001b[39;49m)\n",
      "File \u001b[0;32m~/anaconda3/lib/python3.9/site-packages/sklearn/base.py:108\u001b[0m, in \u001b[0;36m_clone_parametrized\u001b[0;34m(estimator, safe)\u001b[0m\n\u001b[1;32m    106\u001b[0m new_object_params \u001b[39m=\u001b[39m estimator\u001b[39m.\u001b[39mget_params(deep\u001b[39m=\u001b[39m\u001b[39mFalse\u001b[39;00m)\n\u001b[1;32m    107\u001b[0m \u001b[39mfor\u001b[39;00m name, param \u001b[39min\u001b[39;00m new_object_params\u001b[39m.\u001b[39mitems():\n\u001b[0;32m--> 108\u001b[0m     new_object_params[name] \u001b[39m=\u001b[39m clone(param, safe\u001b[39m=\u001b[39;49m\u001b[39mFalse\u001b[39;49;00m)\n\u001b[1;32m    110\u001b[0m new_object \u001b[39m=\u001b[39m klass(\u001b[39m*\u001b[39m\u001b[39m*\u001b[39mnew_object_params)\n\u001b[1;32m    111\u001b[0m \u001b[39mtry\u001b[39;00m:\n",
      "File \u001b[0;32m~/anaconda3/lib/python3.9/site-packages/sklearn/base.py:76\u001b[0m, in \u001b[0;36mclone\u001b[0;34m(estimator, safe)\u001b[0m\n\u001b[1;32m     74\u001b[0m \u001b[39mif\u001b[39;00m \u001b[39mhasattr\u001b[39m(estimator, \u001b[39m\"\u001b[39m\u001b[39m__sklearn_clone__\u001b[39m\u001b[39m\"\u001b[39m) \u001b[39mand\u001b[39;00m \u001b[39mnot\u001b[39;00m inspect\u001b[39m.\u001b[39misclass(estimator):\n\u001b[1;32m     75\u001b[0m     \u001b[39mreturn\u001b[39;00m estimator\u001b[39m.\u001b[39m__sklearn_clone__()\n\u001b[0;32m---> 76\u001b[0m \u001b[39mreturn\u001b[39;00m _clone_parametrized(estimator, safe\u001b[39m=\u001b[39;49msafe)\n",
      "File \u001b[0;32m~/anaconda3/lib/python3.9/site-packages/sklearn/base.py:86\u001b[0m, in \u001b[0;36m_clone_parametrized\u001b[0;34m(estimator, safe)\u001b[0m\n\u001b[1;32m     84\u001b[0m     \u001b[39mreturn\u001b[39;00m {k: clone(v, safe\u001b[39m=\u001b[39msafe) \u001b[39mfor\u001b[39;00m k, v \u001b[39min\u001b[39;00m estimator\u001b[39m.\u001b[39mitems()}\n\u001b[1;32m     85\u001b[0m \u001b[39melif\u001b[39;00m estimator_type \u001b[39min\u001b[39;00m (\u001b[39mlist\u001b[39m, \u001b[39mtuple\u001b[39m, \u001b[39mset\u001b[39m, \u001b[39mfrozenset\u001b[39m):\n\u001b[0;32m---> 86\u001b[0m     \u001b[39mreturn\u001b[39;00m estimator_type([clone(e, safe\u001b[39m=\u001b[39msafe) \u001b[39mfor\u001b[39;00m e \u001b[39min\u001b[39;00m estimator])\n\u001b[1;32m     87\u001b[0m \u001b[39melif\u001b[39;00m \u001b[39mnot\u001b[39;00m \u001b[39mhasattr\u001b[39m(estimator, \u001b[39m\"\u001b[39m\u001b[39mget_params\u001b[39m\u001b[39m\"\u001b[39m) \u001b[39mor\u001b[39;00m \u001b[39misinstance\u001b[39m(estimator, \u001b[39mtype\u001b[39m):\n\u001b[1;32m     88\u001b[0m     \u001b[39mif\u001b[39;00m \u001b[39mnot\u001b[39;00m safe:\n",
      "File \u001b[0;32m~/anaconda3/lib/python3.9/site-packages/sklearn/base.py:86\u001b[0m, in \u001b[0;36m<listcomp>\u001b[0;34m(.0)\u001b[0m\n\u001b[1;32m     84\u001b[0m     \u001b[39mreturn\u001b[39;00m {k: clone(v, safe\u001b[39m=\u001b[39msafe) \u001b[39mfor\u001b[39;00m k, v \u001b[39min\u001b[39;00m estimator\u001b[39m.\u001b[39mitems()}\n\u001b[1;32m     85\u001b[0m \u001b[39melif\u001b[39;00m estimator_type \u001b[39min\u001b[39;00m (\u001b[39mlist\u001b[39m, \u001b[39mtuple\u001b[39m, \u001b[39mset\u001b[39m, \u001b[39mfrozenset\u001b[39m):\n\u001b[0;32m---> 86\u001b[0m     \u001b[39mreturn\u001b[39;00m estimator_type([clone(e, safe\u001b[39m=\u001b[39;49msafe) \u001b[39mfor\u001b[39;00m e \u001b[39min\u001b[39;00m estimator])\n\u001b[1;32m     87\u001b[0m \u001b[39melif\u001b[39;00m \u001b[39mnot\u001b[39;00m \u001b[39mhasattr\u001b[39m(estimator, \u001b[39m\"\u001b[39m\u001b[39mget_params\u001b[39m\u001b[39m\"\u001b[39m) \u001b[39mor\u001b[39;00m \u001b[39misinstance\u001b[39m(estimator, \u001b[39mtype\u001b[39m):\n\u001b[1;32m     88\u001b[0m     \u001b[39mif\u001b[39;00m \u001b[39mnot\u001b[39;00m safe:\n",
      "File \u001b[0;32m~/anaconda3/lib/python3.9/site-packages/sklearn/base.py:75\u001b[0m, in \u001b[0;36mclone\u001b[0;34m(estimator, safe)\u001b[0m\n\u001b[1;32m     41\u001b[0m \u001b[39m\u001b[39m\u001b[39m\"\"\"Construct a new unfitted estimator with the same parameters.\u001b[39;00m\n\u001b[1;32m     42\u001b[0m \n\u001b[1;32m     43\u001b[0m \u001b[39mClone does a deep copy of the model in an estimator\u001b[39;00m\n\u001b[0;32m   (...)\u001b[0m\n\u001b[1;32m     72\u001b[0m \u001b[39mfound in :ref:`randomness`.\u001b[39;00m\n\u001b[1;32m     73\u001b[0m \u001b[39m\"\"\"\u001b[39;00m\n\u001b[1;32m     74\u001b[0m \u001b[39mif\u001b[39;00m \u001b[39mhasattr\u001b[39m(estimator, \u001b[39m\"\u001b[39m\u001b[39m__sklearn_clone__\u001b[39m\u001b[39m\"\u001b[39m) \u001b[39mand\u001b[39;00m \u001b[39mnot\u001b[39;00m inspect\u001b[39m.\u001b[39misclass(estimator):\n\u001b[0;32m---> 75\u001b[0m     \u001b[39mreturn\u001b[39;00m estimator\u001b[39m.\u001b[39;49m__sklearn_clone__()\n\u001b[1;32m     76\u001b[0m \u001b[39mreturn\u001b[39;00m _clone_parametrized(estimator, safe\u001b[39m=\u001b[39msafe)\n",
      "File \u001b[0;32m~/anaconda3/lib/python3.9/site-packages/sklearn/base.py:268\u001b[0m, in \u001b[0;36mBaseEstimator.__sklearn_clone__\u001b[0;34m(self)\u001b[0m\n\u001b[1;32m    267\u001b[0m \u001b[39mdef\u001b[39;00m \u001b[39m__sklearn_clone__\u001b[39m(\u001b[39mself\u001b[39m):\n\u001b[0;32m--> 268\u001b[0m     \u001b[39mreturn\u001b[39;00m _clone_parametrized(\u001b[39mself\u001b[39;49m)\n",
      "File \u001b[0;32m~/anaconda3/lib/python3.9/site-packages/sklearn/base.py:108\u001b[0m, in \u001b[0;36m_clone_parametrized\u001b[0;34m(estimator, safe)\u001b[0m\n\u001b[1;32m    106\u001b[0m new_object_params \u001b[39m=\u001b[39m estimator\u001b[39m.\u001b[39mget_params(deep\u001b[39m=\u001b[39m\u001b[39mFalse\u001b[39;00m)\n\u001b[1;32m    107\u001b[0m \u001b[39mfor\u001b[39;00m name, param \u001b[39min\u001b[39;00m new_object_params\u001b[39m.\u001b[39mitems():\n\u001b[0;32m--> 108\u001b[0m     new_object_params[name] \u001b[39m=\u001b[39m clone(param, safe\u001b[39m=\u001b[39;49m\u001b[39mFalse\u001b[39;49;00m)\n\u001b[1;32m    110\u001b[0m new_object \u001b[39m=\u001b[39m klass(\u001b[39m*\u001b[39m\u001b[39m*\u001b[39mnew_object_params)\n\u001b[1;32m    111\u001b[0m \u001b[39mtry\u001b[39;00m:\n",
      "File \u001b[0;32m~/anaconda3/lib/python3.9/site-packages/sklearn/base.py:76\u001b[0m, in \u001b[0;36mclone\u001b[0;34m(estimator, safe)\u001b[0m\n\u001b[1;32m     74\u001b[0m \u001b[39mif\u001b[39;00m \u001b[39mhasattr\u001b[39m(estimator, \u001b[39m\"\u001b[39m\u001b[39m__sklearn_clone__\u001b[39m\u001b[39m\"\u001b[39m) \u001b[39mand\u001b[39;00m \u001b[39mnot\u001b[39;00m inspect\u001b[39m.\u001b[39misclass(estimator):\n\u001b[1;32m     75\u001b[0m     \u001b[39mreturn\u001b[39;00m estimator\u001b[39m.\u001b[39m__sklearn_clone__()\n\u001b[0;32m---> 76\u001b[0m \u001b[39mreturn\u001b[39;00m _clone_parametrized(estimator, safe\u001b[39m=\u001b[39;49msafe)\n",
      "File \u001b[0;32m~/anaconda3/lib/python3.9/site-packages/sklearn/base.py:86\u001b[0m, in \u001b[0;36m_clone_parametrized\u001b[0;34m(estimator, safe)\u001b[0m\n\u001b[1;32m     84\u001b[0m     \u001b[39mreturn\u001b[39;00m {k: clone(v, safe\u001b[39m=\u001b[39msafe) \u001b[39mfor\u001b[39;00m k, v \u001b[39min\u001b[39;00m estimator\u001b[39m.\u001b[39mitems()}\n\u001b[1;32m     85\u001b[0m \u001b[39melif\u001b[39;00m estimator_type \u001b[39min\u001b[39;00m (\u001b[39mlist\u001b[39m, \u001b[39mtuple\u001b[39m, \u001b[39mset\u001b[39m, \u001b[39mfrozenset\u001b[39m):\n\u001b[0;32m---> 86\u001b[0m     \u001b[39mreturn\u001b[39;00m estimator_type([clone(e, safe\u001b[39m=\u001b[39msafe) \u001b[39mfor\u001b[39;00m e \u001b[39min\u001b[39;00m estimator])\n\u001b[1;32m     87\u001b[0m \u001b[39melif\u001b[39;00m \u001b[39mnot\u001b[39;00m \u001b[39mhasattr\u001b[39m(estimator, \u001b[39m\"\u001b[39m\u001b[39mget_params\u001b[39m\u001b[39m\"\u001b[39m) \u001b[39mor\u001b[39;00m \u001b[39misinstance\u001b[39m(estimator, \u001b[39mtype\u001b[39m):\n\u001b[1;32m     88\u001b[0m     \u001b[39mif\u001b[39;00m \u001b[39mnot\u001b[39;00m safe:\n",
      "File \u001b[0;32m~/anaconda3/lib/python3.9/site-packages/sklearn/base.py:86\u001b[0m, in \u001b[0;36m<listcomp>\u001b[0;34m(.0)\u001b[0m\n\u001b[1;32m     84\u001b[0m     \u001b[39mreturn\u001b[39;00m {k: clone(v, safe\u001b[39m=\u001b[39msafe) \u001b[39mfor\u001b[39;00m k, v \u001b[39min\u001b[39;00m estimator\u001b[39m.\u001b[39mitems()}\n\u001b[1;32m     85\u001b[0m \u001b[39melif\u001b[39;00m estimator_type \u001b[39min\u001b[39;00m (\u001b[39mlist\u001b[39m, \u001b[39mtuple\u001b[39m, \u001b[39mset\u001b[39m, \u001b[39mfrozenset\u001b[39m):\n\u001b[0;32m---> 86\u001b[0m     \u001b[39mreturn\u001b[39;00m estimator_type([clone(e, safe\u001b[39m=\u001b[39;49msafe) \u001b[39mfor\u001b[39;00m e \u001b[39min\u001b[39;00m estimator])\n\u001b[1;32m     87\u001b[0m \u001b[39melif\u001b[39;00m \u001b[39mnot\u001b[39;00m \u001b[39mhasattr\u001b[39m(estimator, \u001b[39m\"\u001b[39m\u001b[39mget_params\u001b[39m\u001b[39m\"\u001b[39m) \u001b[39mor\u001b[39;00m \u001b[39misinstance\u001b[39m(estimator, \u001b[39mtype\u001b[39m):\n\u001b[1;32m     88\u001b[0m     \u001b[39mif\u001b[39;00m \u001b[39mnot\u001b[39;00m safe:\n",
      "File \u001b[0;32m~/anaconda3/lib/python3.9/site-packages/sklearn/base.py:76\u001b[0m, in \u001b[0;36mclone\u001b[0;34m(estimator, safe)\u001b[0m\n\u001b[1;32m     74\u001b[0m \u001b[39mif\u001b[39;00m \u001b[39mhasattr\u001b[39m(estimator, \u001b[39m\"\u001b[39m\u001b[39m__sklearn_clone__\u001b[39m\u001b[39m\"\u001b[39m) \u001b[39mand\u001b[39;00m \u001b[39mnot\u001b[39;00m inspect\u001b[39m.\u001b[39misclass(estimator):\n\u001b[1;32m     75\u001b[0m     \u001b[39mreturn\u001b[39;00m estimator\u001b[39m.\u001b[39m__sklearn_clone__()\n\u001b[0;32m---> 76\u001b[0m \u001b[39mreturn\u001b[39;00m _clone_parametrized(estimator, safe\u001b[39m=\u001b[39;49msafe)\n",
      "File \u001b[0;32m~/anaconda3/lib/python3.9/site-packages/sklearn/base.py:86\u001b[0m, in \u001b[0;36m_clone_parametrized\u001b[0;34m(estimator, safe)\u001b[0m\n\u001b[1;32m     84\u001b[0m     \u001b[39mreturn\u001b[39;00m {k: clone(v, safe\u001b[39m=\u001b[39msafe) \u001b[39mfor\u001b[39;00m k, v \u001b[39min\u001b[39;00m estimator\u001b[39m.\u001b[39mitems()}\n\u001b[1;32m     85\u001b[0m \u001b[39melif\u001b[39;00m estimator_type \u001b[39min\u001b[39;00m (\u001b[39mlist\u001b[39m, \u001b[39mtuple\u001b[39m, \u001b[39mset\u001b[39m, \u001b[39mfrozenset\u001b[39m):\n\u001b[0;32m---> 86\u001b[0m     \u001b[39mreturn\u001b[39;00m estimator_type([clone(e, safe\u001b[39m=\u001b[39msafe) \u001b[39mfor\u001b[39;00m e \u001b[39min\u001b[39;00m estimator])\n\u001b[1;32m     87\u001b[0m \u001b[39melif\u001b[39;00m \u001b[39mnot\u001b[39;00m \u001b[39mhasattr\u001b[39m(estimator, \u001b[39m\"\u001b[39m\u001b[39mget_params\u001b[39m\u001b[39m\"\u001b[39m) \u001b[39mor\u001b[39;00m \u001b[39misinstance\u001b[39m(estimator, \u001b[39mtype\u001b[39m):\n\u001b[1;32m     88\u001b[0m     \u001b[39mif\u001b[39;00m \u001b[39mnot\u001b[39;00m safe:\n",
      "File \u001b[0;32m~/anaconda3/lib/python3.9/site-packages/sklearn/base.py:86\u001b[0m, in \u001b[0;36m<listcomp>\u001b[0;34m(.0)\u001b[0m\n\u001b[1;32m     84\u001b[0m     \u001b[39mreturn\u001b[39;00m {k: clone(v, safe\u001b[39m=\u001b[39msafe) \u001b[39mfor\u001b[39;00m k, v \u001b[39min\u001b[39;00m estimator\u001b[39m.\u001b[39mitems()}\n\u001b[1;32m     85\u001b[0m \u001b[39melif\u001b[39;00m estimator_type \u001b[39min\u001b[39;00m (\u001b[39mlist\u001b[39m, \u001b[39mtuple\u001b[39m, \u001b[39mset\u001b[39m, \u001b[39mfrozenset\u001b[39m):\n\u001b[0;32m---> 86\u001b[0m     \u001b[39mreturn\u001b[39;00m estimator_type([clone(e, safe\u001b[39m=\u001b[39;49msafe) \u001b[39mfor\u001b[39;00m e \u001b[39min\u001b[39;00m estimator])\n\u001b[1;32m     87\u001b[0m \u001b[39melif\u001b[39;00m \u001b[39mnot\u001b[39;00m \u001b[39mhasattr\u001b[39m(estimator, \u001b[39m\"\u001b[39m\u001b[39mget_params\u001b[39m\u001b[39m\"\u001b[39m) \u001b[39mor\u001b[39;00m \u001b[39misinstance\u001b[39m(estimator, \u001b[39mtype\u001b[39m):\n\u001b[1;32m     88\u001b[0m     \u001b[39mif\u001b[39;00m \u001b[39mnot\u001b[39;00m safe:\n",
      "File \u001b[0;32m~/anaconda3/lib/python3.9/site-packages/sklearn/base.py:75\u001b[0m, in \u001b[0;36mclone\u001b[0;34m(estimator, safe)\u001b[0m\n\u001b[1;32m     41\u001b[0m \u001b[39m\u001b[39m\u001b[39m\"\"\"Construct a new unfitted estimator with the same parameters.\u001b[39;00m\n\u001b[1;32m     42\u001b[0m \n\u001b[1;32m     43\u001b[0m \u001b[39mClone does a deep copy of the model in an estimator\u001b[39;00m\n\u001b[0;32m   (...)\u001b[0m\n\u001b[1;32m     72\u001b[0m \u001b[39mfound in :ref:`randomness`.\u001b[39;00m\n\u001b[1;32m     73\u001b[0m \u001b[39m\"\"\"\u001b[39;00m\n\u001b[1;32m     74\u001b[0m \u001b[39mif\u001b[39;00m \u001b[39mhasattr\u001b[39m(estimator, \u001b[39m\"\u001b[39m\u001b[39m__sklearn_clone__\u001b[39m\u001b[39m\"\u001b[39m) \u001b[39mand\u001b[39;00m \u001b[39mnot\u001b[39;00m inspect\u001b[39m.\u001b[39misclass(estimator):\n\u001b[0;32m---> 75\u001b[0m     \u001b[39mreturn\u001b[39;00m estimator\u001b[39m.\u001b[39;49m__sklearn_clone__()\n\u001b[1;32m     76\u001b[0m \u001b[39mreturn\u001b[39;00m _clone_parametrized(estimator, safe\u001b[39m=\u001b[39msafe)\n",
      "File \u001b[0;32m~/anaconda3/lib/python3.9/site-packages/sklearn/base.py:268\u001b[0m, in \u001b[0;36mBaseEstimator.__sklearn_clone__\u001b[0;34m(self)\u001b[0m\n\u001b[1;32m    267\u001b[0m \u001b[39mdef\u001b[39;00m \u001b[39m__sklearn_clone__\u001b[39m(\u001b[39mself\u001b[39m):\n\u001b[0;32m--> 268\u001b[0m     \u001b[39mreturn\u001b[39;00m _clone_parametrized(\u001b[39mself\u001b[39;49m)\n",
      "File \u001b[0;32m~/anaconda3/lib/python3.9/site-packages/sklearn/base.py:108\u001b[0m, in \u001b[0;36m_clone_parametrized\u001b[0;34m(estimator, safe)\u001b[0m\n\u001b[1;32m    106\u001b[0m new_object_params \u001b[39m=\u001b[39m estimator\u001b[39m.\u001b[39mget_params(deep\u001b[39m=\u001b[39m\u001b[39mFalse\u001b[39;00m)\n\u001b[1;32m    107\u001b[0m \u001b[39mfor\u001b[39;00m name, param \u001b[39min\u001b[39;00m new_object_params\u001b[39m.\u001b[39mitems():\n\u001b[0;32m--> 108\u001b[0m     new_object_params[name] \u001b[39m=\u001b[39m clone(param, safe\u001b[39m=\u001b[39;49m\u001b[39mFalse\u001b[39;49;00m)\n\u001b[1;32m    110\u001b[0m new_object \u001b[39m=\u001b[39m klass(\u001b[39m*\u001b[39m\u001b[39m*\u001b[39mnew_object_params)\n\u001b[1;32m    111\u001b[0m \u001b[39mtry\u001b[39;00m:\n",
      "File \u001b[0;32m~/anaconda3/lib/python3.9/site-packages/sklearn/base.py:76\u001b[0m, in \u001b[0;36mclone\u001b[0;34m(estimator, safe)\u001b[0m\n\u001b[1;32m     74\u001b[0m \u001b[39mif\u001b[39;00m \u001b[39mhasattr\u001b[39m(estimator, \u001b[39m\"\u001b[39m\u001b[39m__sklearn_clone__\u001b[39m\u001b[39m\"\u001b[39m) \u001b[39mand\u001b[39;00m \u001b[39mnot\u001b[39;00m inspect\u001b[39m.\u001b[39misclass(estimator):\n\u001b[1;32m     75\u001b[0m     \u001b[39mreturn\u001b[39;00m estimator\u001b[39m.\u001b[39m__sklearn_clone__()\n\u001b[0;32m---> 76\u001b[0m \u001b[39mreturn\u001b[39;00m _clone_parametrized(estimator, safe\u001b[39m=\u001b[39;49msafe)\n",
      "File \u001b[0;32m~/anaconda3/lib/python3.9/site-packages/sklearn/base.py:86\u001b[0m, in \u001b[0;36m_clone_parametrized\u001b[0;34m(estimator, safe)\u001b[0m\n\u001b[1;32m     84\u001b[0m     \u001b[39mreturn\u001b[39;00m {k: clone(v, safe\u001b[39m=\u001b[39msafe) \u001b[39mfor\u001b[39;00m k, v \u001b[39min\u001b[39;00m estimator\u001b[39m.\u001b[39mitems()}\n\u001b[1;32m     85\u001b[0m \u001b[39melif\u001b[39;00m estimator_type \u001b[39min\u001b[39;00m (\u001b[39mlist\u001b[39m, \u001b[39mtuple\u001b[39m, \u001b[39mset\u001b[39m, \u001b[39mfrozenset\u001b[39m):\n\u001b[0;32m---> 86\u001b[0m     \u001b[39mreturn\u001b[39;00m estimator_type([clone(e, safe\u001b[39m=\u001b[39msafe) \u001b[39mfor\u001b[39;00m e \u001b[39min\u001b[39;00m estimator])\n\u001b[1;32m     87\u001b[0m \u001b[39melif\u001b[39;00m \u001b[39mnot\u001b[39;00m \u001b[39mhasattr\u001b[39m(estimator, \u001b[39m\"\u001b[39m\u001b[39mget_params\u001b[39m\u001b[39m\"\u001b[39m) \u001b[39mor\u001b[39;00m \u001b[39misinstance\u001b[39m(estimator, \u001b[39mtype\u001b[39m):\n\u001b[1;32m     88\u001b[0m     \u001b[39mif\u001b[39;00m \u001b[39mnot\u001b[39;00m safe:\n",
      "File \u001b[0;32m~/anaconda3/lib/python3.9/site-packages/sklearn/base.py:86\u001b[0m, in \u001b[0;36m<listcomp>\u001b[0;34m(.0)\u001b[0m\n\u001b[1;32m     84\u001b[0m     \u001b[39mreturn\u001b[39;00m {k: clone(v, safe\u001b[39m=\u001b[39msafe) \u001b[39mfor\u001b[39;00m k, v \u001b[39min\u001b[39;00m estimator\u001b[39m.\u001b[39mitems()}\n\u001b[1;32m     85\u001b[0m \u001b[39melif\u001b[39;00m estimator_type \u001b[39min\u001b[39;00m (\u001b[39mlist\u001b[39m, \u001b[39mtuple\u001b[39m, \u001b[39mset\u001b[39m, \u001b[39mfrozenset\u001b[39m):\n\u001b[0;32m---> 86\u001b[0m     \u001b[39mreturn\u001b[39;00m estimator_type([clone(e, safe\u001b[39m=\u001b[39;49msafe) \u001b[39mfor\u001b[39;00m e \u001b[39min\u001b[39;00m estimator])\n\u001b[1;32m     87\u001b[0m \u001b[39melif\u001b[39;00m \u001b[39mnot\u001b[39;00m \u001b[39mhasattr\u001b[39m(estimator, \u001b[39m\"\u001b[39m\u001b[39mget_params\u001b[39m\u001b[39m\"\u001b[39m) \u001b[39mor\u001b[39;00m \u001b[39misinstance\u001b[39m(estimator, \u001b[39mtype\u001b[39m):\n\u001b[1;32m     88\u001b[0m     \u001b[39mif\u001b[39;00m \u001b[39mnot\u001b[39;00m safe:\n",
      "File \u001b[0;32m~/anaconda3/lib/python3.9/site-packages/sklearn/base.py:76\u001b[0m, in \u001b[0;36mclone\u001b[0;34m(estimator, safe)\u001b[0m\n\u001b[1;32m     74\u001b[0m \u001b[39mif\u001b[39;00m \u001b[39mhasattr\u001b[39m(estimator, \u001b[39m\"\u001b[39m\u001b[39m__sklearn_clone__\u001b[39m\u001b[39m\"\u001b[39m) \u001b[39mand\u001b[39;00m \u001b[39mnot\u001b[39;00m inspect\u001b[39m.\u001b[39misclass(estimator):\n\u001b[1;32m     75\u001b[0m     \u001b[39mreturn\u001b[39;00m estimator\u001b[39m.\u001b[39m__sklearn_clone__()\n\u001b[0;32m---> 76\u001b[0m \u001b[39mreturn\u001b[39;00m _clone_parametrized(estimator, safe\u001b[39m=\u001b[39;49msafe)\n",
      "File \u001b[0;32m~/anaconda3/lib/python3.9/site-packages/sklearn/base.py:86\u001b[0m, in \u001b[0;36m_clone_parametrized\u001b[0;34m(estimator, safe)\u001b[0m\n\u001b[1;32m     84\u001b[0m     \u001b[39mreturn\u001b[39;00m {k: clone(v, safe\u001b[39m=\u001b[39msafe) \u001b[39mfor\u001b[39;00m k, v \u001b[39min\u001b[39;00m estimator\u001b[39m.\u001b[39mitems()}\n\u001b[1;32m     85\u001b[0m \u001b[39melif\u001b[39;00m estimator_type \u001b[39min\u001b[39;00m (\u001b[39mlist\u001b[39m, \u001b[39mtuple\u001b[39m, \u001b[39mset\u001b[39m, \u001b[39mfrozenset\u001b[39m):\n\u001b[0;32m---> 86\u001b[0m     \u001b[39mreturn\u001b[39;00m estimator_type([clone(e, safe\u001b[39m=\u001b[39msafe) \u001b[39mfor\u001b[39;00m e \u001b[39min\u001b[39;00m estimator])\n\u001b[1;32m     87\u001b[0m \u001b[39melif\u001b[39;00m \u001b[39mnot\u001b[39;00m \u001b[39mhasattr\u001b[39m(estimator, \u001b[39m\"\u001b[39m\u001b[39mget_params\u001b[39m\u001b[39m\"\u001b[39m) \u001b[39mor\u001b[39;00m \u001b[39misinstance\u001b[39m(estimator, \u001b[39mtype\u001b[39m):\n\u001b[1;32m     88\u001b[0m     \u001b[39mif\u001b[39;00m \u001b[39mnot\u001b[39;00m safe:\n",
      "File \u001b[0;32m~/anaconda3/lib/python3.9/site-packages/sklearn/base.py:86\u001b[0m, in \u001b[0;36m<listcomp>\u001b[0;34m(.0)\u001b[0m\n\u001b[1;32m     84\u001b[0m     \u001b[39mreturn\u001b[39;00m {k: clone(v, safe\u001b[39m=\u001b[39msafe) \u001b[39mfor\u001b[39;00m k, v \u001b[39min\u001b[39;00m estimator\u001b[39m.\u001b[39mitems()}\n\u001b[1;32m     85\u001b[0m \u001b[39melif\u001b[39;00m estimator_type \u001b[39min\u001b[39;00m (\u001b[39mlist\u001b[39m, \u001b[39mtuple\u001b[39m, \u001b[39mset\u001b[39m, \u001b[39mfrozenset\u001b[39m):\n\u001b[0;32m---> 86\u001b[0m     \u001b[39mreturn\u001b[39;00m estimator_type([clone(e, safe\u001b[39m=\u001b[39;49msafe) \u001b[39mfor\u001b[39;00m e \u001b[39min\u001b[39;00m estimator])\n\u001b[1;32m     87\u001b[0m \u001b[39melif\u001b[39;00m \u001b[39mnot\u001b[39;00m \u001b[39mhasattr\u001b[39m(estimator, \u001b[39m\"\u001b[39m\u001b[39mget_params\u001b[39m\u001b[39m\"\u001b[39m) \u001b[39mor\u001b[39;00m \u001b[39misinstance\u001b[39m(estimator, \u001b[39mtype\u001b[39m):\n\u001b[1;32m     88\u001b[0m     \u001b[39mif\u001b[39;00m \u001b[39mnot\u001b[39;00m safe:\n",
      "File \u001b[0;32m~/anaconda3/lib/python3.9/site-packages/sklearn/base.py:75\u001b[0m, in \u001b[0;36mclone\u001b[0;34m(estimator, safe)\u001b[0m\n\u001b[1;32m     41\u001b[0m \u001b[39m\u001b[39m\u001b[39m\"\"\"Construct a new unfitted estimator with the same parameters.\u001b[39;00m\n\u001b[1;32m     42\u001b[0m \n\u001b[1;32m     43\u001b[0m \u001b[39mClone does a deep copy of the model in an estimator\u001b[39;00m\n\u001b[0;32m   (...)\u001b[0m\n\u001b[1;32m     72\u001b[0m \u001b[39mfound in :ref:`randomness`.\u001b[39;00m\n\u001b[1;32m     73\u001b[0m \u001b[39m\"\"\"\u001b[39;00m\n\u001b[1;32m     74\u001b[0m \u001b[39mif\u001b[39;00m \u001b[39mhasattr\u001b[39m(estimator, \u001b[39m\"\u001b[39m\u001b[39m__sklearn_clone__\u001b[39m\u001b[39m\"\u001b[39m) \u001b[39mand\u001b[39;00m \u001b[39mnot\u001b[39;00m inspect\u001b[39m.\u001b[39misclass(estimator):\n\u001b[0;32m---> 75\u001b[0m     \u001b[39mreturn\u001b[39;00m estimator\u001b[39m.\u001b[39;49m__sklearn_clone__()\n\u001b[1;32m     76\u001b[0m \u001b[39mreturn\u001b[39;00m _clone_parametrized(estimator, safe\u001b[39m=\u001b[39msafe)\n",
      "File \u001b[0;32m~/anaconda3/lib/python3.9/site-packages/sklearn/base.py:268\u001b[0m, in \u001b[0;36mBaseEstimator.__sklearn_clone__\u001b[0;34m(self)\u001b[0m\n\u001b[1;32m    267\u001b[0m \u001b[39mdef\u001b[39;00m \u001b[39m__sklearn_clone__\u001b[39m(\u001b[39mself\u001b[39m):\n\u001b[0;32m--> 268\u001b[0m     \u001b[39mreturn\u001b[39;00m _clone_parametrized(\u001b[39mself\u001b[39;49m)\n",
      "File \u001b[0;32m~/anaconda3/lib/python3.9/site-packages/sklearn/base.py:110\u001b[0m, in \u001b[0;36m_clone_parametrized\u001b[0;34m(estimator, safe)\u001b[0m\n\u001b[1;32m    107\u001b[0m \u001b[39mfor\u001b[39;00m name, param \u001b[39min\u001b[39;00m new_object_params\u001b[39m.\u001b[39mitems():\n\u001b[1;32m    108\u001b[0m     new_object_params[name] \u001b[39m=\u001b[39m clone(param, safe\u001b[39m=\u001b[39m\u001b[39mFalse\u001b[39;00m)\n\u001b[0;32m--> 110\u001b[0m new_object \u001b[39m=\u001b[39m klass(\u001b[39m*\u001b[39;49m\u001b[39m*\u001b[39;49mnew_object_params)\n\u001b[1;32m    111\u001b[0m \u001b[39mtry\u001b[39;00m:\n\u001b[1;32m    112\u001b[0m     new_object\u001b[39m.\u001b[39m_metadata_request \u001b[39m=\u001b[39m copy\u001b[39m.\u001b[39mdeepcopy(estimator\u001b[39m.\u001b[39m_metadata_request)\n",
      "File \u001b[0;32m~/Documents/turing_projects/module3_s4/gskvar-ML.4/auxiliary/transformers.py:234\u001b[0m, in \u001b[0;36mPolarsColumnTransformer.__init__\u001b[0;34m(self, steps, step_params)\u001b[0m\n\u001b[1;32m    232\u001b[0m \u001b[39mself\u001b[39m\u001b[39m.\u001b[39msteps \u001b[39m=\u001b[39m OrderedDict()\n\u001b[1;32m    233\u001b[0m \u001b[39mfor\u001b[39;00m step \u001b[39min\u001b[39;00m steps:\n\u001b[0;32m--> 234\u001b[0m     \u001b[39mself\u001b[39m\u001b[39m.\u001b[39msteps[step\u001b[39m.\u001b[39;49mname] \u001b[39m=\u001b[39m step\n\u001b[1;32m    235\u001b[0m \u001b[39mself\u001b[39m\u001b[39m.\u001b[39mstep_params \u001b[39m=\u001b[39m step_params\n",
      "\u001b[0;31mAttributeError\u001b[0m: 'str' object has no attribute 'name'"
     ]
    }
   ],
   "source": [
    "from sklearn.model_selection import cross_val_score\n",
    "final_score=cross_val_score(model_stack,X_train,y_train)"
   ]
  },
  {
   "cell_type": "code",
   "execution_count": 42,
   "metadata": {},
   "outputs": [],
   "source": [
    "from mlflow import MlflowClient\n",
    "import mlflow"
   ]
  },
  {
   "cell_type": "code",
   "execution_count": 35,
   "metadata": {},
   "outputs": [],
   "source": [
    "client = MlflowClient(tracking_uri=\"http://127.0.0.1:8080\")"
   ]
  },
  {
   "cell_type": "code",
   "execution_count": 38,
   "metadata": {},
   "outputs": [
    {
     "name": "stdout",
     "output_type": "stream",
     "text": [
      "[<Experiment: artifact_location='mlflow-artifacts:/0', creation_time=1699608362110, experiment_id='0', last_update_time=1699608362110, lifecycle_stage='active', name='Default', tags={}>]\n"
     ]
    }
   ],
   "source": [
    "all_experiments = client.search_experiments()\n",
    "\n",
    "pprint(all_experiments)"
   ]
  },
  {
   "cell_type": "code",
   "execution_count": 40,
   "metadata": {},
   "outputs": [],
   "source": [
    "# Provide an Experiment description that will appear in the UI\n",
    "experiment_description = (\n",
    "    \"This is the grocery forecasting project. \"\n",
    "    \"This experiment contains the produce models for apples.\"\n",
    ")\n",
    "\n",
    "# Provide searchable tags that define characteristics of the Runs that\n",
    "# will be in this Experiment\n",
    "experiment_tags = {\n",
    "    \"project_name\": \"grocery-forecasting\",\n",
    "    \"store_dept\": \"produce\",\n",
    "    \"team\": \"stores-ml\",\n",
    "    \"project_quarter\": \"Q3-2023\",\n",
    "    \"mlflow.note.content\": experiment_description,\n",
    "}\n",
    "\n",
    "# Create the Experiment, providing a unique name\n",
    "produce_apples_experiment = client.create_experiment(\n",
    "    name=\"Apple_Models\", tags=experiment_tags\n",
    ")\n"
   ]
  },
  {
   "cell_type": "code",
   "execution_count": 39,
   "metadata": {},
   "outputs": [
    {
     "name": "stdout",
     "output_type": "stream",
     "text": [
      "{'lifecycle_stage': 'active', 'name': 'Default'}\n"
     ]
    }
   ],
   "source": [
    "default_experiment = [\n",
    "    {\"name\": experiment.name, \"lifecycle_stage\": experiment.lifecycle_stage}\n",
    "    for experiment in all_experiments\n",
    "    if experiment.name == \"Default\"\n",
    "][0]\n",
    "\n",
    "pprint(default_experiment)"
   ]
  },
  {
   "cell_type": "code",
   "execution_count": 43,
   "metadata": {},
   "outputs": [],
   "source": [
    "\n",
    "mlflow.set_tracking_uri(\"http://127.0.0.1:8080\")"
   ]
  },
  {
   "cell_type": "code",
   "execution_count": 44,
   "metadata": {},
   "outputs": [],
   "source": [
    "apple_experiment = mlflow.set_experiment(\"Default\")"
   ]
  },
  {
   "cell_type": "code",
   "execution_count": 48,
   "metadata": {},
   "outputs": [],
   "source": [
    "models.models['lgbm'].pipeline.fit(X_train,y_train)\n",
    "\n",
    "# Predict on the validation set\n",
    "y_pred = models.models['lgbm'].pipeline.predict_proba(X_train)[:,1]\n",
    "\n",
    "# Calculate error metrics\n",
    "roc_auc=roc_auc_score(y_train,y_pred)\n",
    "\n",
    "# Assemble the metrics we're going to write into a collection\n",
    "metrics = {\"roc_auc\": roc_auc}\n",
    "\n",
    "# Initiate the MLflow run context\n",
    "with mlflow.start_run(run_name=\"run1\") as run:\n",
    "    # Log the parameters used for the model fit\n",
    "    mlflow.log_params(models.models['lgbm'].best_params)\n",
    "\n",
    "    # Log the error metrics that were calculated during validation\n",
    "    mlflow.log_metrics(metrics)\n",
    "\n",
    "    # Log an instance of the trained model for later use\n",
    "    mlflow.sklearn.log_model(\n",
    "        sk_model=models.models['lgbm'].pipeline, artifact_path=\"exp_2\"\n",
    "    )\n"
   ]
  },
  {
   "cell_type": "code",
   "execution_count": 20,
   "metadata": {},
   "outputs": [
    {
     "data": {
      "text/html": [
       "<style>#sk-container-id-1 {color: black;}#sk-container-id-1 pre{padding: 0;}#sk-container-id-1 div.sk-toggleable {background-color: white;}#sk-container-id-1 label.sk-toggleable__label {cursor: pointer;display: block;width: 100%;margin-bottom: 0;padding: 0.3em;box-sizing: border-box;text-align: center;}#sk-container-id-1 label.sk-toggleable__label-arrow:before {content: \"▸\";float: left;margin-right: 0.25em;color: #696969;}#sk-container-id-1 label.sk-toggleable__label-arrow:hover:before {color: black;}#sk-container-id-1 div.sk-estimator:hover label.sk-toggleable__label-arrow:before {color: black;}#sk-container-id-1 div.sk-toggleable__content {max-height: 0;max-width: 0;overflow: hidden;text-align: left;background-color: #f0f8ff;}#sk-container-id-1 div.sk-toggleable__content pre {margin: 0.2em;color: black;border-radius: 0.25em;background-color: #f0f8ff;}#sk-container-id-1 input.sk-toggleable__control:checked~div.sk-toggleable__content {max-height: 200px;max-width: 100%;overflow: auto;}#sk-container-id-1 input.sk-toggleable__control:checked~label.sk-toggleable__label-arrow:before {content: \"▾\";}#sk-container-id-1 div.sk-estimator input.sk-toggleable__control:checked~label.sk-toggleable__label {background-color: #d4ebff;}#sk-container-id-1 div.sk-label input.sk-toggleable__control:checked~label.sk-toggleable__label {background-color: #d4ebff;}#sk-container-id-1 input.sk-hidden--visually {border: 0;clip: rect(1px 1px 1px 1px);clip: rect(1px, 1px, 1px, 1px);height: 1px;margin: -1px;overflow: hidden;padding: 0;position: absolute;width: 1px;}#sk-container-id-1 div.sk-estimator {font-family: monospace;background-color: #f0f8ff;border: 1px dotted black;border-radius: 0.25em;box-sizing: border-box;margin-bottom: 0.5em;}#sk-container-id-1 div.sk-estimator:hover {background-color: #d4ebff;}#sk-container-id-1 div.sk-parallel-item::after {content: \"\";width: 100%;border-bottom: 1px solid gray;flex-grow: 1;}#sk-container-id-1 div.sk-label:hover label.sk-toggleable__label {background-color: #d4ebff;}#sk-container-id-1 div.sk-serial::before {content: \"\";position: absolute;border-left: 1px solid gray;box-sizing: border-box;top: 0;bottom: 0;left: 50%;z-index: 0;}#sk-container-id-1 div.sk-serial {display: flex;flex-direction: column;align-items: center;background-color: white;padding-right: 0.2em;padding-left: 0.2em;position: relative;}#sk-container-id-1 div.sk-item {position: relative;z-index: 1;}#sk-container-id-1 div.sk-parallel {display: flex;align-items: stretch;justify-content: center;background-color: white;position: relative;}#sk-container-id-1 div.sk-item::before, #sk-container-id-1 div.sk-parallel-item::before {content: \"\";position: absolute;border-left: 1px solid gray;box-sizing: border-box;top: 0;bottom: 0;left: 50%;z-index: -1;}#sk-container-id-1 div.sk-parallel-item {display: flex;flex-direction: column;z-index: 1;position: relative;background-color: white;}#sk-container-id-1 div.sk-parallel-item:first-child::after {align-self: flex-end;width: 50%;}#sk-container-id-1 div.sk-parallel-item:last-child::after {align-self: flex-start;width: 50%;}#sk-container-id-1 div.sk-parallel-item:only-child::after {width: 0;}#sk-container-id-1 div.sk-dashed-wrapped {border: 1px dashed gray;margin: 0 0.4em 0.5em 0.4em;box-sizing: border-box;padding-bottom: 0.4em;background-color: white;}#sk-container-id-1 div.sk-label label {font-family: monospace;font-weight: bold;display: inline-block;line-height: 1.2em;}#sk-container-id-1 div.sk-label-container {text-align: center;}#sk-container-id-1 div.sk-container {/* jupyter's `normalize.less` sets `[hidden] { display: none; }` but bootstrap.min.css set `[hidden] { display: none !important; }` so we also need the `!important` here to be able to override the default hidden behavior on the sphinx rendered scikit-learn.org. See: https://github.com/scikit-learn/scikit-learn/issues/21755 */display: inline-block !important;position: relative;}#sk-container-id-1 div.sk-text-repr-fallback {display: none;}</style><div id=\"sk-container-id-1\" class=\"sk-top-container\"><div class=\"sk-text-repr-fallback\"><pre>Pipeline(steps=[(&#x27;preprocess&#x27;,\n",
       "                 Pipeline(steps=[(&#x27;num_imputer&#x27;,\n",
       "                                  PolarsColumnTransformer(steps=OrderedDict([(&#x27;AMT_ANNUITY&#x27;,\n",
       "                                                                              &lt;auxiliary.transformers.PolarsColumnTransformer.Step object at 0x7f1a69791a60&gt;),\n",
       "                                                                             (&#x27;AMT_GOODS_PRICE&#x27;,\n",
       "                                                                              &lt;auxiliary.transformers.PolarsColumnTransformer.Step object at 0x7f1a697ab9d0&gt;),\n",
       "                                                                             (&#x27;OWN_CAR_AGE&#x27;,\n",
       "                                                                              &lt;auxiliary.transformers.PolarsColumnTransfo...\n",
       "                                                           n_jobs=1,\n",
       "                                                           verbosity=-1),\n",
       "                                      model_params={&#x27;bagging_freq&#x27;: 4,\n",
       "                                                    &#x27;boosting_type&#x27;: &#x27;gbdt&#x27;,\n",
       "                                                    &#x27;class_weight&#x27;: None,\n",
       "                                                    &#x27;colsample_bytree&#x27;: 0.8014252957700048,\n",
       "                                                    &#x27;learning_rate&#x27;: 0.024615541208760996,\n",
       "                                                    &#x27;max_bin&#x27;: 195,\n",
       "                                                    &#x27;max_depth&#x27;: 11,\n",
       "                                                    &#x27;n_estimators&#x27;: 130,\n",
       "                                                    &#x27;num_leaves&#x27;: 850,\n",
       "                                                    &#x27;reg_alpha&#x27;: 0.1867708640086517,\n",
       "                                                    &#x27;reg_lambda&#x27;: 0.05040568844637988,\n",
       "                                                    &#x27;subsample&#x27;: 0.3674293085589498},\n",
       "                                      sampler=&#x27;random&#x27;))])</pre><b>In a Jupyter environment, please rerun this cell to show the HTML representation or trust the notebook. <br />On GitHub, the HTML representation is unable to render, please try loading this page with nbviewer.org.</b></div><div class=\"sk-container\" hidden><div class=\"sk-item sk-dashed-wrapped\"><div class=\"sk-label-container\"><div class=\"sk-label sk-toggleable\"><input class=\"sk-toggleable__control sk-hidden--visually\" id=\"sk-estimator-id-1\" type=\"checkbox\" ><label for=\"sk-estimator-id-1\" class=\"sk-toggleable__label sk-toggleable__label-arrow\">Pipeline</label><div class=\"sk-toggleable__content\"><pre>Pipeline(steps=[(&#x27;preprocess&#x27;,\n",
       "                 Pipeline(steps=[(&#x27;num_imputer&#x27;,\n",
       "                                  PolarsColumnTransformer(steps=OrderedDict([(&#x27;AMT_ANNUITY&#x27;,\n",
       "                                                                              &lt;auxiliary.transformers.PolarsColumnTransformer.Step object at 0x7f1a69791a60&gt;),\n",
       "                                                                             (&#x27;AMT_GOODS_PRICE&#x27;,\n",
       "                                                                              &lt;auxiliary.transformers.PolarsColumnTransformer.Step object at 0x7f1a697ab9d0&gt;),\n",
       "                                                                             (&#x27;OWN_CAR_AGE&#x27;,\n",
       "                                                                              &lt;auxiliary.transformers.PolarsColumnTransfo...\n",
       "                                                           n_jobs=1,\n",
       "                                                           verbosity=-1),\n",
       "                                      model_params={&#x27;bagging_freq&#x27;: 4,\n",
       "                                                    &#x27;boosting_type&#x27;: &#x27;gbdt&#x27;,\n",
       "                                                    &#x27;class_weight&#x27;: None,\n",
       "                                                    &#x27;colsample_bytree&#x27;: 0.8014252957700048,\n",
       "                                                    &#x27;learning_rate&#x27;: 0.024615541208760996,\n",
       "                                                    &#x27;max_bin&#x27;: 195,\n",
       "                                                    &#x27;max_depth&#x27;: 11,\n",
       "                                                    &#x27;n_estimators&#x27;: 130,\n",
       "                                                    &#x27;num_leaves&#x27;: 850,\n",
       "                                                    &#x27;reg_alpha&#x27;: 0.1867708640086517,\n",
       "                                                    &#x27;reg_lambda&#x27;: 0.05040568844637988,\n",
       "                                                    &#x27;subsample&#x27;: 0.3674293085589498},\n",
       "                                      sampler=&#x27;random&#x27;))])</pre></div></div></div><div class=\"sk-serial\"><div class=\"sk-item\"><div class=\"sk-label-container\"><div class=\"sk-label sk-toggleable\"><input class=\"sk-toggleable__control sk-hidden--visually\" id=\"sk-estimator-id-2\" type=\"checkbox\" ><label for=\"sk-estimator-id-2\" class=\"sk-toggleable__label sk-toggleable__label-arrow\">preprocess: Pipeline</label><div class=\"sk-toggleable__content\"><pre>Pipeline(steps=[(&#x27;num_imputer&#x27;,\n",
       "                 PolarsColumnTransformer(steps=OrderedDict([(&#x27;AMT_ANNUITY&#x27;,\n",
       "                                                             &lt;auxiliary.transformers.PolarsColumnTransformer.Step object at 0x7f1a69791a60&gt;),\n",
       "                                                            (&#x27;AMT_GOODS_PRICE&#x27;,\n",
       "                                                             &lt;auxiliary.transformers.PolarsColumnTransformer.Step object at 0x7f1a697ab9d0&gt;),\n",
       "                                                            (&#x27;OWN_CAR_AGE&#x27;,\n",
       "                                                             &lt;auxiliary.transformers.PolarsColumnTransformer.Step object at 0x7f1a697abdf...\n",
       "                                               &#x27;LIVE_CITY_NOT_WORK_CITY&#x27;,\n",
       "                                               &#x27;YEARS_BEGINEXPLUATATION_AVG&#x27;,\n",
       "                                               &#x27;ENTRANCES_AVG&#x27;,\n",
       "                                               &#x27;NONLIVINGAPARTMENTS_AVG&#x27;,\n",
       "                                               &#x27;NONLIVINGAREA_AVG&#x27;,\n",
       "                                               &#x27;APARTMENTS_MODE&#x27;,\n",
       "                                               &#x27;BASEMENTAREA_MODE&#x27;,\n",
       "                                               &#x27;YEARS_BEGINEXPLUATATION_MODE&#x27;,\n",
       "                                               &#x27;ELEVATORS_MODE&#x27;,\n",
       "                                               &#x27;ENTRANCES_MODE&#x27;,\n",
       "                                               &#x27;FLOORSMAX_MODE&#x27;,\n",
       "                                               &#x27;FLOORSMIN_MODE&#x27;,\n",
       "                                               &#x27;LANDAREA_MODE&#x27;,\n",
       "                                               &#x27;LIVINGAPARTMENTS_MODE&#x27;,\n",
       "                                               &#x27;LIVINGAREA_MODE&#x27;,\n",
       "                                               &#x27;NONLIVINGAPARTMENTS_MODE&#x27;,\n",
       "                                               &#x27;NONLIVINGAREA_MODE&#x27;, ...]))])</pre></div></div></div><div class=\"sk-serial\"><div class=\"sk-item\"><div class=\"sk-estimator sk-toggleable\"><input class=\"sk-toggleable__control sk-hidden--visually\" id=\"sk-estimator-id-3\" type=\"checkbox\" ><label for=\"sk-estimator-id-3\" class=\"sk-toggleable__label sk-toggleable__label-arrow\">PolarsColumnTransformer</label><div class=\"sk-toggleable__content\"><pre>PolarsColumnTransformer(steps=OrderedDict([(&#x27;AMT_ANNUITY&#x27;,\n",
       "                                            &lt;auxiliary.transformers.PolarsColumnTransformer.Step object at 0x7f1a69791a60&gt;),\n",
       "                                           (&#x27;AMT_GOODS_PRICE&#x27;,\n",
       "                                            &lt;auxiliary.transformers.PolarsColumnTransformer.Step object at 0x7f1a697ab9d0&gt;),\n",
       "                                           (&#x27;OWN_CAR_AGE&#x27;,\n",
       "                                            &lt;auxiliary.transformers.PolarsColumnTransformer.Step object at 0x7f1a697abdf0&gt;),\n",
       "                                           (&#x27;CNT_FAM_MEMBERS&#x27;,\n",
       "                                            &lt;auxilia...\n",
       "                                            &lt;auxiliary.transformers.PolarsColumnTransformer.Step object at 0x7f1a00dbb400&gt;),\n",
       "                                           (&#x27;ELEVATORS_MEDI&#x27;,\n",
       "                                            &lt;auxiliary.transformers.PolarsColumnTransformer.Step object at 0x7f1a00d740a0&gt;),\n",
       "                                           (&#x27;FLOORSMAX_MEDI&#x27;,\n",
       "                                            &lt;auxiliary.transformers.PolarsColumnTransformer.Step object at 0x7f1a00d74160&gt;),\n",
       "                                           (&#x27;LANDAREA_MEDI&#x27;,\n",
       "                                            &lt;auxiliary.transformers.PolarsColumnTransformer.Step object at 0x7f1a00d74220&gt;), ...]))</pre></div></div></div><div class=\"sk-item\"><div class=\"sk-estimator sk-toggleable\"><input class=\"sk-toggleable__control sk-hidden--visually\" id=\"sk-estimator-id-4\" type=\"checkbox\" ><label for=\"sk-estimator-id-4\" class=\"sk-toggleable__label sk-toggleable__label-arrow\">PolarsColumnTransformer</label><div class=\"sk-toggleable__content\"><pre>PolarsColumnTransformer(steps=OrderedDict([(&#x27;CODE_GENDER&#x27;,\n",
       "                                            &lt;auxiliary.transformers.PolarsColumnTransformer.Step object at 0x7f1a00d02520&gt;),\n",
       "                                           (&#x27;NAME_TYPE_SUITE&#x27;,\n",
       "                                            &lt;auxiliary.transformers.PolarsColumnTransformer.Step object at 0x7f1a00d025b0&gt;),\n",
       "                                           (&#x27;NAME_INCOME_TYPE&#x27;,\n",
       "                                            &lt;auxiliary.transformers.PolarsColumnTransformer.Step object at 0x7f1a00d02670&gt;),\n",
       "                                           (&#x27;NAME_EDUCATION_TYPE&#x27;...\n",
       "                                            &lt;auxiliary.transformers.PolarsColumnTransformer.Step object at 0x7f1a00d02ca0&gt;),\n",
       "                                           (&#x27;bureau_CREDIT_TYPE_mode_active&#x27;,\n",
       "                                            &lt;auxiliary.transformers.PolarsColumnTransformer.Step object at 0x7f1a00d02d30&gt;),\n",
       "                                           (&#x27;bureau_STATUS_mode&#x27;,\n",
       "                                            &lt;auxiliary.transformers.PolarsColumnTransformer.Step object at 0x7f1a00d02dc0&gt;),\n",
       "                                           (&#x27;bureau_STATUS_mode_active&#x27;,\n",
       "                                            &lt;auxiliary.transformers.PolarsColumnTransformer.Step object at 0x7f1a00d02e50&gt;)]))</pre></div></div></div><div class=\"sk-item\"><div class=\"sk-estimator sk-toggleable\"><input class=\"sk-toggleable__control sk-hidden--visually\" id=\"sk-estimator-id-5\" type=\"checkbox\" ><label for=\"sk-estimator-id-5\" class=\"sk-toggleable__label sk-toggleable__label-arrow\">PolarsColumnTransformer</label><div class=\"sk-toggleable__content\"><pre>PolarsColumnTransformer(steps=OrderedDict([(&#x27;NAME_CONTRACT_TYPE&#x27;,\n",
       "                                            &lt;auxiliary.transformers.PolarsColumnTransformer.Step object at 0x7f1a00d02f40&gt;),\n",
       "                                           (&#x27;FLAG_OWN_REALTY&#x27;,\n",
       "                                            &lt;auxiliary.transformers.PolarsColumnTransformer.Step object at 0x7f1a00d04040&gt;),\n",
       "                                           (&#x27;CODE_GENDER&#x27;,\n",
       "                                            &lt;auxiliary.transformers.PolarsColumnTransformer.Step object at 0x7f1a00d04100&gt;),\n",
       "                                           (&#x27;NAME_TYPE_SUITE&#x27;,\n",
       "                                            &lt;...\n",
       "                                            &lt;auxiliary.transformers.PolarsColumnTransformer.Step object at 0x7f1a00d04af0&gt;),\n",
       "                                           (&#x27;bureau_CREDIT_TYPE_mode_active&#x27;,\n",
       "                                            &lt;auxiliary.transformers.PolarsColumnTransformer.Step object at 0x7f1a00d04bb0&gt;),\n",
       "                                           (&#x27;bureau_STATUS_mode&#x27;,\n",
       "                                            &lt;auxiliary.transformers.PolarsColumnTransformer.Step object at 0x7f1a00d04c70&gt;),\n",
       "                                           (&#x27;bureau_STATUS_mode_active&#x27;,\n",
       "                                            &lt;auxiliary.transformers.PolarsColumnTransformer.Step object at 0x7f1a00d04d30&gt;)]))</pre></div></div></div><div class=\"sk-item\"><div class=\"sk-estimator sk-toggleable\"><input class=\"sk-toggleable__control sk-hidden--visually\" id=\"sk-estimator-id-6\" type=\"checkbox\" ><label for=\"sk-estimator-id-6\" class=\"sk-toggleable__label sk-toggleable__label-arrow\">FeatureRemover</label><div class=\"sk-toggleable__content\"><pre>FeatureRemover(feats_to_drop=[&#x27;CNT_CHILDREN&#x27;, &#x27;FLAG_EMP_PHONE&#x27;,\n",
       "                              &#x27;FLAG_CONT_MOBILE&#x27;, &#x27;FLAG_PHONE&#x27;, &#x27;FLAG_EMAIL&#x27;,\n",
       "                              &#x27;CNT_FAM_MEMBERS&#x27;, &#x27;REGION_RATING_CLIENT&#x27;,\n",
       "                              &#x27;HOUR_APPR_PROCESS_START&#x27;,\n",
       "                              &#x27;REG_REGION_NOT_LIVE_REGION&#x27;,\n",
       "                              &#x27;REG_REGION_NOT_WORK_REGION&#x27;,\n",
       "                              &#x27;LIVE_REGION_NOT_WORK_REGION&#x27;,\n",
       "                              &#x27;REG_CITY_NOT_LIVE_CITY&#x27;,\n",
       "                              &#x27;REG_CITY_NOT_WORK_CITY&#x27;,\n",
       "                              &#x27;LIVE_CITY_NOT_WORK_CITY&#x27;,\n",
       "                              &#x27;YEARS_BEGINEXPLUATATION_AVG&#x27;, &#x27;ENTRANCES_AVG&#x27;,\n",
       "                              &#x27;NONLIVINGAPARTMENTS_AVG&#x27;, &#x27;NONLIVINGAREA_AVG&#x27;,\n",
       "                              &#x27;APARTMENTS_MODE&#x27;, &#x27;BASEMENTAREA_MODE&#x27;,\n",
       "                              &#x27;YEARS_BEGINEXPLUATATION_MODE&#x27;, &#x27;ELEVATORS_MODE&#x27;,\n",
       "                              &#x27;ENTRANCES_MODE&#x27;, &#x27;FLOORSMAX_MODE&#x27;,\n",
       "                              &#x27;FLOORSMIN_MODE&#x27;, &#x27;LANDAREA_MODE&#x27;,\n",
       "                              &#x27;LIVINGAPARTMENTS_MODE&#x27;, &#x27;LIVINGAREA_MODE&#x27;,\n",
       "                              &#x27;NONLIVINGAPARTMENTS_MODE&#x27;, &#x27;NONLIVINGAREA_MODE&#x27;, ...])</pre></div></div></div></div></div><div class=\"sk-item sk-dashed-wrapped\"><div class=\"sk-label-container\"><div class=\"sk-label sk-toggleable\"><input class=\"sk-toggleable__control sk-hidden--visually\" id=\"sk-estimator-id-7\" type=\"checkbox\" ><label for=\"sk-estimator-id-7\" class=\"sk-toggleable__label sk-toggleable__label-arrow\">model: SamplingModelWrapper</label><div class=\"sk-toggleable__content\"><pre>SamplingModelWrapper(model=LGBMClassifier(force_col_wise=True, n_jobs=1,\n",
       "                                          verbosity=-1),\n",
       "                     model_params={&#x27;bagging_freq&#x27;: 4, &#x27;boosting_type&#x27;: &#x27;gbdt&#x27;,\n",
       "                                   &#x27;class_weight&#x27;: None,\n",
       "                                   &#x27;colsample_bytree&#x27;: 0.8014252957700048,\n",
       "                                   &#x27;learning_rate&#x27;: 0.024615541208760996,\n",
       "                                   &#x27;max_bin&#x27;: 195, &#x27;max_depth&#x27;: 11,\n",
       "                                   &#x27;n_estimators&#x27;: 130, &#x27;num_leaves&#x27;: 850,\n",
       "                                   &#x27;reg_alpha&#x27;: 0.1867708640086517,\n",
       "                                   &#x27;reg_lambda&#x27;: 0.05040568844637988,\n",
       "                                   &#x27;subsample&#x27;: 0.3674293085589498},\n",
       "                     sampler=&#x27;random&#x27;)</pre></div></div></div><div class=\"sk-parallel\"><div class=\"sk-parallel-item\"><div class=\"sk-item\"><div class=\"sk-label-container\"><div class=\"sk-label sk-toggleable\"><input class=\"sk-toggleable__control sk-hidden--visually\" id=\"sk-estimator-id-8\" type=\"checkbox\" ><label for=\"sk-estimator-id-8\" class=\"sk-toggleable__label sk-toggleable__label-arrow\">model: LGBMClassifier</label><div class=\"sk-toggleable__content\"><pre>LGBMClassifier(force_col_wise=True, n_jobs=1, verbosity=-1)</pre></div></div></div><div class=\"sk-serial\"><div class=\"sk-item\"><div class=\"sk-estimator sk-toggleable\"><input class=\"sk-toggleable__control sk-hidden--visually\" id=\"sk-estimator-id-9\" type=\"checkbox\" ><label for=\"sk-estimator-id-9\" class=\"sk-toggleable__label sk-toggleable__label-arrow\">LGBMClassifier</label><div class=\"sk-toggleable__content\"><pre>LGBMClassifier(force_col_wise=True, n_jobs=1, verbosity=-1)</pre></div></div></div></div></div></div></div></div></div></div></div></div>"
      ],
      "text/plain": [
       "Pipeline(steps=[('preprocess',\n",
       "                 Pipeline(steps=[('num_imputer',\n",
       "                                  PolarsColumnTransformer(steps=OrderedDict([('AMT_ANNUITY',\n",
       "                                                                              <auxiliary.transformers.PolarsColumnTransformer.Step object at 0x7f1a69791a60>),\n",
       "                                                                             ('AMT_GOODS_PRICE',\n",
       "                                                                              <auxiliary.transformers.PolarsColumnTransformer.Step object at 0x7f1a697ab9d0>),\n",
       "                                                                             ('OWN_CAR_AGE',\n",
       "                                                                              <auxiliary.transformers.PolarsColumnTransfo...\n",
       "                                                           n_jobs=1,\n",
       "                                                           verbosity=-1),\n",
       "                                      model_params={'bagging_freq': 4,\n",
       "                                                    'boosting_type': 'gbdt',\n",
       "                                                    'class_weight': None,\n",
       "                                                    'colsample_bytree': 0.8014252957700048,\n",
       "                                                    'learning_rate': 0.024615541208760996,\n",
       "                                                    'max_bin': 195,\n",
       "                                                    'max_depth': 11,\n",
       "                                                    'n_estimators': 130,\n",
       "                                                    'num_leaves': 850,\n",
       "                                                    'reg_alpha': 0.1867708640086517,\n",
       "                                                    'reg_lambda': 0.05040568844637988,\n",
       "                                                    'subsample': 0.3674293085589498},\n",
       "                                      sampler='random'))])"
      ]
     },
     "execution_count": 20,
     "metadata": {},
     "output_type": "execute_result"
    }
   ],
   "source": []
  },
  {
   "cell_type": "code",
   "execution_count": 21,
   "metadata": {},
   "outputs": [
    {
     "data": {
      "text/plain": [
       "array([ 33, 157, 103,  92,  31, 139,  91,  45,  74,  60,  11,  29, 170,\n",
       "       158, 147,  22,  48,  14,  19,  35,  37,  38,  41,  17,  20,  10,\n",
       "        36,  29,  47,  45,  33,  28,  31,  20,  16,  28,  31,  41,  40,\n",
       "        20,  26,  51,  24,  36,  66,  31,  23,  28,  93,  13,  29,  25,\n",
       "       113,  41,  56,  40,  13,  36,  28,  35,  15,  68,  24], dtype=int32)"
      ]
     },
     "execution_count": 21,
     "metadata": {},
     "output_type": "execute_result"
    }
   ],
   "source": [
    "models.models['lgbm'].pipeline['model'].model.feature_importances_"
   ]
  },
  {
   "cell_type": "code",
   "execution_count": 22,
   "metadata": {},
   "outputs": [],
   "source": [
    "cols=models.models['lgbm'].pipeline['preprocess'].fit_transform(X_train,y_train).columns"
   ]
  },
  {
   "cell_type": "code",
   "execution_count": 23,
   "metadata": {},
   "outputs": [
    {
     "data": {
      "text/plain": [
       "'prev_payment_left'"
      ]
     },
     "execution_count": 23,
     "metadata": {},
     "output_type": "execute_result"
    }
   ],
   "source": [
    "feats=pl.DataFrame({'imp':models.models['lgbm'].pipeline['model'].model.feature_importances_,'feat':cols})\n",
    "feats.sort('imp')[-6,1]"
   ]
  },
  {
   "cell_type": "code",
   "execution_count": 25,
   "metadata": {},
   "outputs": [
    {
     "data": {
      "text/markdown": [
       "|   imp | feat                                     |\n",
       "|------:|:-----------------------------------------|\n",
       "|    10 | bureau_AMT_CREDIT_MAX_OVERDUE_max        |\n",
       "|    11 | FLAG_WORK_PHONE                          |\n",
       "|    13 | prev_AMT_CREDIT_sum_Revolving_loans      |\n",
       "|    13 | NAME_INCOME_TYPE                         |\n",
       "|    14 | FLAG_DOCUMENT_3                          |\n",
       "|    15 | WEEKDAY_APPR_PROCESS_START               |\n",
       "|    16 | bureau_DAYS_CREDIT_ENDDATE_sum_Active    |\n",
       "|    17 | bureau_AMT_CREDIT_MAX_OVERDUE_mean       |\n",
       "|    19 | AMT_REQ_CREDIT_BUREAU_QRT                |\n",
       "|    20 | bureau_AMT_CREDIT_MAX_OVERDUE_sum        |\n",
       "|    20 | bureau_DAYS_CREDIT_ENDDATE_mean_Active   |\n",
       "|    20 | bureau_AMT_CREDIT_SUM_DEBT_mean_Active   |\n",
       "|    22 | DEF_30_CNT_SOCIAL_CIRCLE                 |\n",
       "|    23 | prev_AMT_CREDIT_sum_Refused              |\n",
       "|    24 | bureau_DAYS_CREDIT_mode_Active           |\n",
       "|    24 | NAME_CONTRACT_TYPE_Cash loans            |\n",
       "|    25 | prev_count_Refused                       |\n",
       "|    26 | bureau_AMT_CREDIT_SUM_DEBT_min_Active    |\n",
       "|    28 | bureau_DAYS_CREDIT_max                   |\n",
       "|    28 | bureau_DAYS_CREDIT_ENDDATE_min_Active    |\n",
       "|    28 | prev_AMT_CREDIT_mean_Consumer_loans      |\n",
       "|    28 | NAME_FAMILY_STATUS                       |\n",
       "|    29 | REGION_RATING_CLIENT_W_CITY              |\n",
       "|    29 | bureau_AMT_CREDIT_SUM_sum                |\n",
       "|    29 | prev_count_Approved                      |\n",
       "|    31 | REGION_POPULATION_RELATIVE               |\n",
       "|    31 | bureau_DAYS_CREDIT_mode                  |\n",
       "|    31 | bureau_DAYS_CREDIT_ENDDATE_max_Active    |\n",
       "|    31 | prev_AMT_CREDIT_mean_Refused             |\n",
       "|    33 | AMT_INCOME_TOTAL                         |\n",
       "|    33 | bureau_DAYS_CREDIT_mean                  |\n",
       "|    35 | bureau_DAYS_CREDIT_ENDDATE_max           |\n",
       "|    35 | OCCUPATION_TYPE                          |\n",
       "|    36 | bureau_AMT_CREDIT_SUM_mean               |\n",
       "|    36 | bureau_count_Active                      |\n",
       "|    36 | NAME_EDUCATION_TYPE                      |\n",
       "|    37 | bureau_DAYS_CREDIT_ENDDATE_mode          |\n",
       "|    38 | bureau_DAYS_ENDDATE_FACT_max             |\n",
       "|    40 | bureau_AMT_CREDIT_SUM_min_Active         |\n",
       "|    40 | CODE_GENDER                              |\n",
       "|    41 | bureau_DAYS_ENDDATE_FACT_std             |\n",
       "|    41 | bureau_AMT_CREDIT_MAX_OVERDUE_sum_Active |\n",
       "|    41 | prev_AMT_BALANCE_CURR_sum                |\n",
       "|    45 | DAYS_REGISTRATION                        |\n",
       "|    45 | bureau_AMT_CREDIT_SUM_DEBT_mean          |\n",
       "|    47 | bureau_AMT_CREDIT_SUM_max                |\n",
       "|    48 | DAYS_LAST_PHONE_CHANGE                   |\n",
       "|    51 | bureau_DAYS_CREDIT_max_Active            |\n",
       "|    56 | prev_curr_bal_lim_diff_sum               |\n",
       "|    60 | OWN_CAR_AGE                              |\n",
       "|    66 | prev_AMT_CREDIT_sum_Approved             |\n",
       "|    68 | ORGANIZATION_TYPE                        |\n",
       "|    74 | DAYS_ID_PUBLISH                          |\n",
       "|    91 | DAYS_EMPLOYED                            |\n",
       "|    92 | AMT_GOODS_PRICE                          |\n",
       "|    93 | prev_AMT_CREDIT_sum_Consumer_loans       |\n",
       "|   103 | AMT_ANNUITY                              |\n",
       "|   113 | prev_payment_left                        |\n",
       "|   139 | DAYS_BIRTH                               |\n",
       "|   147 | EXT_SOURCE_3                             |\n",
       "|   157 | AMT_CREDIT                               |\n",
       "|   158 | EXT_SOURCE_2                             |\n",
       "|   170 | EXT_SOURCE_1                             |"
      ],
      "text/plain": [
       "<IPython.core.display.Markdown object>"
      ]
     },
     "execution_count": 25,
     "metadata": {},
     "output_type": "execute_result"
    }
   ],
   "source": [
    "eda.table_display(feats.sort(\"imp\"))"
   ]
  },
  {
   "cell_type": "code",
   "execution_count": 27,
   "metadata": {},
   "outputs": [],
   "source": [
    "scores = []\n",
    "for train_index, test_index in StratifiedKFold(5).split(X_train, y_train):\n",
    "    models.models[\"lgbm\"].pipeline.fit(\n",
    "        X_train[train_index], y_train[train_index]\n",
    "    )\n",
    "    scores.append(\n",
    "        roc_auc_score(\n",
    "            y_train[test_index],\n",
    "            models.models[\"lgbm\"].pipeline.predict_proba(\n",
    "                X_train[test_index]\n",
    "            )[:,1],\n",
    "        )\n",
    "    )"
   ]
  }
 ],
 "metadata": {
  "kernelspec": {
   "display_name": "base",
   "language": "python",
   "name": "python3"
  },
  "language_info": {
   "codemirror_mode": {
    "name": "ipython",
    "version": 3
   },
   "file_extension": ".py",
   "mimetype": "text/x-python",
   "name": "python",
   "nbconvert_exporter": "python",
   "pygments_lexer": "ipython3",
   "version": "3.9.13"
  }
 },
 "nbformat": 4,
 "nbformat_minor": 2
}
