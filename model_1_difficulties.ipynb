{
 "cells": [
  {
   "cell_type": "markdown",
   "metadata": {},
   "source": [
    "# Model 1: Credit Default Risk"
   ]
  },
  {
   "cell_type": "markdown",
   "metadata": {},
   "source": [
    "## Setup"
   ]
  },
  {
   "cell_type": "markdown",
   "metadata": {},
   "source": [
    "**Imports:**"
   ]
  },
  {
   "cell_type": "code",
   "execution_count": 103,
   "metadata": {},
   "outputs": [],
   "source": [
    "%reload_ext autoreload\n",
    "%autoreload 1\n",
    "import shap\n",
    "import os\n",
    "import warnings\n",
    "warnings.filterwarnings(\"ignore\", category=UserWarning)\n",
    "import mlflow\n",
    "from pprint import pprint\n",
    "import random\n",
    "import polars as pl\n",
    "from sklearn.pipeline import Pipeline\n",
    "from sklearn.ensemble import ExtraTreesClassifier\n",
    "from rgf.sklearn import RGFClassifier\n",
    "import auxiliary.transformers as tr\n",
    "from auxiliary.transformers import PolarsColumnTransformer as PCT\n",
    "from lightgbm import LGBMClassifier\n",
    "from sklearn.model_selection import StratifiedKFold\n",
    "from sklearn.metrics import roc_auc_score\n",
    "from sklearn.model_selection import train_test_split\n",
    "import copy\n",
    "import auxiliary.tuning as tunes\n",
    "import auxiliary.eda_functions as eda\n",
    "from ray import tune\n",
    "import joblib\n",
    "import numpy as np\n",
    "import matplotlib.pyplot as plt\n",
    "import seaborn as sns\n",
    "from BorutaShap import BorutaShap\n",
    "import statistics\n",
    "from sklearn.utils.validation import check_random_state\n",
    "%aimport auxiliary.transformers\n",
    "%aimport auxiliary.tuning\n",
    "%aimport auxiliary.eda_functions"
   ]
  },
  {
   "cell_type": "markdown",
   "metadata": {},
   "source": [
    "**Settings:**"
   ]
  },
  {
   "cell_type": "code",
   "execution_count": 2,
   "metadata": {},
   "outputs": [],
   "source": [
    "random.seed(1)"
   ]
  },
  {
   "cell_type": "markdown",
   "metadata": {},
   "source": [
    "**Loading the data:**"
   ]
  },
  {
   "cell_type": "code",
   "execution_count": 3,
   "metadata": {},
   "outputs": [],
   "source": [
    "train_data = pl.read_parquet(\"temp/application_train_filtered.parquet\")\n",
    "id_and_target = [\"SK_ID_CURR\", \"TARGET\"]\n",
    "X_train = train_data.drop(columns=id_and_target)\n",
    "y_train = train_data[\"TARGET\"]"
   ]
  },
  {
   "cell_type": "markdown",
   "metadata": {},
   "source": [
    "**Specifying categoric numeric and boolean features:**"
   ]
  },
  {
   "cell_type": "code",
   "execution_count": 4,
   "metadata": {},
   "outputs": [],
   "source": [
    "bool_features = []\n",
    "for feature in X_train.select(pl.col(pl.Utf8)).columns:\n",
    "    if X_train[feature].n_unique() == 2:\n",
    "        bool_features.append(feature)\n",
    "\n",
    "cat_features = [\n",
    "    feature\n",
    "    for feature in X_train.select(pl.col(pl.Utf8)).columns\n",
    "    if feature not in bool_features\n",
    "]\n",
    "\n",
    "numeric_features_with_nulls = (\n",
    "    pl.Series(\n",
    "        X_train.select(pl.col(pl.FLOAT_DTYPES), pl.col(pl.INTEGER_DTYPES)).columns\n",
    "    )\n",
    "    .filter(\n",
    "        X_train.select(pl.col(pl.FLOAT_DTYPES), pl.col(pl.INTEGER_DTYPES))\n",
    "        .select(pl.all().is_null().any())\n",
    "        .transpose()\n",
    "        .to_series()\n",
    "    )\n",
    "    .to_list()\n",
    ")"
   ]
  },
  {
   "cell_type": "markdown",
   "metadata": {},
   "source": [
    "## Pipelines"
   ]
  },
  {
   "cell_type": "markdown",
   "metadata": {},
   "source": [
    "### Preprocessing pipeline"
   ]
  },
  {
   "cell_type": "code",
   "execution_count": 19,
   "metadata": {},
   "outputs": [],
   "source": [
    "preprocessing = Pipeline([])\n",
    "\n",
    "num_imputer = tr.PolarsColumnTransformer([])\n",
    "for feature in numeric_features_with_nulls:\n",
    "    num_imputer.steps[feature] = PCT.Step(feature, tr.NumDiffFromRestImputer(), feature)\n",
    "preprocessing.steps.insert(0, (\"num_imputer\", num_imputer))\n",
    "\n",
    "cat_imputers = tr.PolarsColumnTransformer([])\n",
    "for feature in cat_features:\n",
    "    cat_imputers.steps[feature] = PCT.Step(\n",
    "        feature, tr.NotInImputerPolars(min_values=100, fill_value=\"other\"), feature\n",
    "    )\n",
    "preprocessing.steps.append((\"cat_imputers\", cat_imputers))\n",
    "\n",
    "encoders = tr.PolarsColumnTransformer([])\n",
    "for feature in bool_features:\n",
    "    encoders.steps[feature] = PCT.Step(\n",
    "        feature, tr.PolarsOneHotEncoder(drop=True), feature\n",
    "    )\n",
    "for feature in cat_features:\n",
    "    encoders.steps[feature] = PCT.Step(\n",
    "        feature, tr.TargetMeanOrderedLabeler(how=\"label\"), feature\n",
    "    )\n",
    "preprocessing.steps.append((\"encoders\", encoders))\n",
    "preprocessing.steps.append((\"emergency_null_imputer\", tr.PolarsNullImputer(-9999)))\n",
    "feature_remover = tr.FeatureRemover([])\n",
    "preprocessing.steps.append((\"feature_removal\", feature_remover))"
   ]
  },
  {
   "cell_type": "markdown",
   "metadata": {},
   "source": [
    "The preprocessing pipeline involves several key steps:\n",
    "\n",
    "1. **Handling Missing Values in Numeric Features:** Null values in numeric features are encoded as a distinct number deviating from the rest. The sign of this deviation is determined by comparing the target mean of the nulls to the rest of the data, taking into account the sign of Pearson's correlation coefficient.\n",
    "\n",
    "2. **Pooling Classes in Categorical Features:** Classes in categorical features with fewer than 100 values are consolidated into an \"other\" class.\n",
    "\n",
    "3. **One-Hot Encoding for Boolean Features:** Boolean features are encoded using one-hot encoding, transforming them into binary representations.\n",
    "\n",
    "4. **Labeling Categorical Features:** Categorical features are assigned numerical labels, and the order is determined by the target mean in the training set.\n",
    "\n",
    "5. **Feature Removal Transformer:** A feature removal transformer is integrated into the pipeline to facilitate testing different sets of features during the parameter tuning phase. This allows for experimentation with various feature subsets to optimize model performance."
   ]
  },
  {
   "cell_type": "markdown",
   "metadata": {},
   "source": [
    "### Models and Sampling:"
   ]
  },
  {
   "cell_type": "markdown",
   "metadata": {},
   "source": [
    "**LightGBM**"
   ]
  },
  {
   "cell_type": "code",
   "execution_count": 6,
   "metadata": {},
   "outputs": [],
   "source": [
    "model_lgb = LGBMClassifier(n_jobs=1, verbosity=-1, force_col_wise=True)\n",
    "sampler_model = tr.SamplingModelWrapper(model_lgb)\n",
    "full_pipeline = Pipeline([(\"preprocess\", preprocessing), (\"model\", sampler_model)])"
   ]
  },
  {
   "cell_type": "markdown",
   "metadata": {},
   "source": [
    "**Extra Trees**"
   ]
  },
  {
   "cell_type": "code",
   "execution_count": 7,
   "metadata": {},
   "outputs": [],
   "source": [
    "preprocessing_etrees = copy.deepcopy(preprocessing)\n",
    "model_extra_trees = ExtraTreesClassifier(random_state=1, n_jobs=1)\n",
    "sampler_model_etrees = tr.SamplingModelWrapper(model_extra_trees)\n",
    "full_pipeline_etrees = Pipeline(\n",
    "    [(\"preprocess\", preprocessing_etrees), (\"model\", sampler_model_etrees)]\n",
    ")"
   ]
  },
  {
   "cell_type": "markdown",
   "metadata": {},
   "source": [
    "**Regularized Greedy Forest**"
   ]
  },
  {
   "cell_type": "code",
   "execution_count": 20,
   "metadata": {},
   "outputs": [],
   "source": [
    "preprocessing_rgf = copy.deepcopy(preprocessing)\n",
    "model_rgf = RGFClassifier()\n",
    "sampler_model_rgf = tr.SamplingModelWrapper(model_rgf)\n",
    "full_pipeline_rgf = Pipeline(\n",
    "    [(\"preprocess\", preprocessing_rgf), (\"model\", sampler_model_rgf)]\n",
    ")"
   ]
  },
  {
   "cell_type": "markdown",
   "metadata": {},
   "source": [
    "## Feature Selection:"
   ]
  },
  {
   "cell_type": "markdown",
   "metadata": {},
   "source": [
    "The feature selection process is executed using the Boruta algorithm implementation, leveraging SHAP values for feature importance. The underlying classifier for feature selection is a LightGBM (LGBM) classifier. LightGBM models inherently possess feature-wise regularization parameters, such as the l1 and l2 penalties. To explore the impact of these regularization parameters on the Boruta algorithm, three separate runs of feature selection were conducted with L1 penalties set at 0, 1, and 10. This experimental approach allows for an examination of how varying regularization parameters influence the identification of significant features."
   ]
  },
  {
   "cell_type": "markdown",
   "metadata": {},
   "source": [
    "**Fitting Boruta Shap algorithm on LGBM models with different alpha regularization values**"
   ]
  },
  {
   "cell_type": "raw",
   "metadata": {},
   "source": [
    "model_for_selection_high_reg=LGBMClassifier(verbose=-1,random_state=1,reg_alpha=10,num_leaves=100)\n",
    "selector_high_alpha=BorutaShap(importance_measure='shap',model=model_for_selection_high_reg)\n",
    "selector_high_alpha.fit(\n",
    "    full_pipeline[\"preprocess\"]\n",
    "    .fit_transform(X_train, y_train)\n",
    "    .to_pandas(),\n",
    "    y_train.to_pandas(),\n",
    ")\n",
    "joblib.dump(selector_high_alpha,'temp/model_1_selector_alpha10.joblib')\n",
    "\n",
    "model_for_selection_reg=LGBMClassifier(verbose=-1,random_state=1,reg_alpha=1,num_leaves=100)\n",
    "selector_with_alpha=BorutaShap(importance_measure='shap',model=model_for_selection_reg)\n",
    "selector_with_alpha.fit(\n",
    "    full_pipeline[\"preprocess\"]\n",
    "    .fit_transform(X_train, y_train)\n",
    "    .to_pandas(),\n",
    "    y_train.to_pandas(),\n",
    ")\n",
    "joblib.dump(selector_with_alpha,'temp/model_1_selector_alpha1.joblib')\n",
    "\n",
    "model_for_selection_noreg=LGBMClassifier(verbose=-1,random_state=1,reg_alpha=0,num_leaves=100)\n",
    "selector_no_alpha=BorutaShap(importance_measure='shap',model=model_for_selection_noreg)\n",
    "selector_no_alpha.fit(\n",
    "    full_pipeline[\"preprocess\"]\n",
    "    .fit_transform(X_train, y_train)\n",
    "    .to_pandas(),\n",
    "    y_train.to_pandas(),\n",
    ")\n",
    "joblib.dump(selector_no_alpha,'temp/model_1_selector_alpha0.joblib')"
   ]
  },
  {
   "cell_type": "markdown",
   "metadata": {},
   "source": [
    "**Creating lists of bad and tentative feature lists for each selection experiment:**"
   ]
  },
  {
   "cell_type": "code",
   "execution_count": 22,
   "metadata": {},
   "outputs": [],
   "source": [
    "selector_with_alpha = joblib.load(\"temp/model_1_selector_alpha1.joblib\")\n",
    "selector_high_alpha = joblib.load(\"temp/model_1_selector_alpha10.joblib\")\n",
    "selector_no_alpha = joblib.load(\"temp/model_1_selector_alpha0.joblib\")\n",
    "bad_features_with_alpha = selector_with_alpha.features_to_remove.tolist()\n",
    "bad_and_tentative_features_alpha = bad_features_with_alpha.copy()\n",
    "bad_and_tentative_features_alpha.extend(selector_with_alpha.tentative.copy())\n",
    "\n",
    "\n",
    "bad_features_high_alpha = selector_high_alpha.features_to_remove.tolist()\n",
    "bad_and_tentative_features_high_alpha = bad_features_high_alpha.copy()\n",
    "bad_and_tentative_features_high_alpha.extend(selector_high_alpha.tentative.copy())\n",
    "\n",
    "\n",
    "bad_feature_no_alpha = selector_no_alpha.features_to_remove.tolist()\n",
    "bad_and_tentative_features_no_alpha = bad_feature_no_alpha.copy()\n",
    "bad_and_tentative_features_no_alpha.extend(selector_no_alpha.tentative.copy())"
   ]
  },
  {
   "cell_type": "markdown",
   "metadata": {},
   "source": [
    "**Putting the feature quality data into a single data frame:**"
   ]
  },
  {
   "cell_type": "code",
   "execution_count": 23,
   "metadata": {},
   "outputs": [],
   "source": [
    "feature_quality = {\"feature\": preprocessing.fit_transform(X_train, y_train).columns}\n",
    "feature_quality[\"high_alpha\"] = []\n",
    "feature_quality[\"alpha\"] = []\n",
    "feature_quality[\"no_alpha\"] = []\n",
    "\n",
    "for feature in feature_quality[\"feature\"]:\n",
    "    if feature in bad_features_high_alpha:\n",
    "        feature_quality[\"high_alpha\"].append(\"bad\")\n",
    "    elif feature in selector_high_alpha.tentative:\n",
    "        feature_quality[\"high_alpha\"].append(\"tentative\")\n",
    "    else:\n",
    "        feature_quality[\"high_alpha\"].append(\"good\")\n",
    "\n",
    "for feature in feature_quality[\"feature\"]:\n",
    "    if feature in bad_features_with_alpha:\n",
    "        feature_quality[\"alpha\"].append(\"bad\")\n",
    "    elif feature in selector_with_alpha.tentative:\n",
    "        feature_quality[\"alpha\"].append(\"tentative\")\n",
    "    else:\n",
    "        feature_quality[\"alpha\"].append(\"good\")\n",
    "\n",
    "for feature in feature_quality[\"feature\"]:\n",
    "    if feature in bad_features_high_alpha:\n",
    "        feature_quality[\"no_alpha\"].append(\"bad\")\n",
    "    elif feature in selector_no_alpha.tentative:\n",
    "        feature_quality[\"no_alpha\"].append(\"tentative\")\n",
    "    else:\n",
    "        feature_quality[\"no_alpha\"].append(\"good\")\n",
    "\n",
    "feature_quality = pl.DataFrame(feature_quality)"
   ]
  },
  {
   "cell_type": "markdown",
   "metadata": {},
   "source": [
    "**Features with no consensus:**"
   ]
  },
  {
   "cell_type": "code",
   "execution_count": 24,
   "metadata": {},
   "outputs": [
    {
     "data": {
      "text/markdown": [
       "| feature                                   | high_alpha   | alpha     | no_alpha   |\n",
       "|:------------------------------------------|:-------------|:----------|:-----------|\n",
       "| AMT_INCOME_TOTAL                          | good         | good      | tentative  |\n",
       "| DAYS_REGISTRATION                         | tentative    | good      | good       |\n",
       "| FLAG_WORK_PHONE                           | tentative    | good      | good       |\n",
       "| LIVINGAREA_MEDI                           | bad          | tentative | bad        |\n",
       "| DEF_60_CNT_SOCIAL_CIRCLE                  | bad          | tentative | bad        |\n",
       "| bureau_DAYS_CREDIT_ENDDATE_max            | tentative    | tentative | good       |\n",
       "| bureau_AMT_CREDIT_MAX_OVERDUE_max         | tentative    | tentative | good       |\n",
       "| bureau_AMT_CREDIT_SUM_mean                | tentative    | good      | good       |\n",
       "| bureau_AMT_CREDIT_SUM_max                 | tentative    | tentative | good       |\n",
       "| bureau_AMT_CREDIT_SUM_LIMIT_mean          | bad          | tentative | bad        |\n",
       "| bureau_DAYS_CREDIT_mean                   | tentative    | good      | good       |\n",
       "| bureau_DAYS_CREDIT_sum                    | bad          | tentative | bad        |\n",
       "| bureau_DAYS_CREDIT_UPDATE_std             | bad          | tentative | bad        |\n",
       "| bureau_DAYS_CREDIT_ENDDATE_mean_Active    | tentative    | good      | good       |\n",
       "| bureau_DAYS_CREDIT_ENDDATE_mode_Active    | bad          | tentative | bad        |\n",
       "| bureau_AMT_CREDIT_MAX_OVERDUE_mean_Active | bad          | tentative | bad        |\n",
       "| bureau_AMT_CREDIT_SUM_mean_Active         | bad          | tentative | bad        |\n",
       "| bureau_AMT_CREDIT_SUM_DEBT_sum_Active     | bad          | tentative | bad        |\n",
       "| bureau_DAYS_CREDIT_mean_Active            | bad          | tentative | bad        |\n",
       "| prev_AMT_CREDIT_mean_Approved             | bad          | tentative | bad        |\n",
       "| prev_AMT_CREDIT_sum_Revolving_loans       | tentative    | tentative | good       |\n",
       "| NAME_INCOME_TYPE                          | tentative    | good      | good       |\n",
       "| NAME_HOUSING_TYPE                         | bad          | tentative | bad        |\n",
       "| WALLSMATERIAL_MODE                        | bad          | tentative | bad        |\n",
       "| NAME_CONTRACT_TYPE_Cash loans             | tentative    | good      | good       |"
      ],
      "text/plain": [
       "<IPython.core.display.Markdown object>"
      ]
     },
     "execution_count": 24,
     "metadata": {},
     "output_type": "execute_result"
    }
   ],
   "source": [
    "eda.table_display(\n",
    "    feature_quality.filter(\n",
    "        (pl.col(\"high_alpha\") != pl.col(\"alpha\"))\n",
    "        | (pl.col(\"high_alpha\") != pl.col(\"no_alpha\"))\n",
    "        | (pl.col(\"alpha\") != pl.col(\"no_alpha\"))\n",
    "    )\n",
    ")"
   ]
  },
  {
   "cell_type": "markdown",
   "metadata": {},
   "source": [
    "**Feature quality counts by from different experiments:**"
   ]
  },
  {
   "cell_type": "code",
   "execution_count": 119,
   "metadata": {},
   "outputs": [
    {
     "data": {
      "text/html": [
       "<div><style>\n",
       ".dataframe > thead > tr > th,\n",
       ".dataframe > tbody > tr > td {\n",
       "  text-align: right;\n",
       "  white-space: pre-wrap;\n",
       "}\n",
       "</style>\n",
       "<small>shape: (3, 4)</small><table border=\"1\" class=\"dataframe\"><thead><tr><th>quality</th><th>counts_high_alpha</th><th>counts_alpha</th><th>counts_no_alpha</th></tr><tr><td>str</td><td>u32</td><td>u32</td><td>u32</td></tr></thead><tbody><tr><td>&quot;tentative&quot;</td><td>16</td><td>22</td><td>6</td></tr><tr><td>&quot;good&quot;</td><td>47</td><td>54</td><td>57</td></tr><tr><td>&quot;bad&quot;</td><td>169</td><td>156</td><td>169</td></tr></tbody></table></div>"
      ],
      "text/plain": [
       "shape: (3, 4)\n",
       "┌───────────┬───────────────────┬──────────────┬─────────────────┐\n",
       "│ quality   ┆ counts_high_alpha ┆ counts_alpha ┆ counts_no_alpha │\n",
       "│ ---       ┆ ---               ┆ ---          ┆ ---             │\n",
       "│ str       ┆ u32               ┆ u32          ┆ u32             │\n",
       "╞═══════════╪═══════════════════╪══════════════╪═════════════════╡\n",
       "│ tentative ┆ 16                ┆ 22           ┆ 6               │\n",
       "│ good      ┆ 47                ┆ 54           ┆ 57              │\n",
       "│ bad       ┆ 169               ┆ 156          ┆ 169             │\n",
       "└───────────┴───────────────────┴──────────────┴─────────────────┘"
      ]
     },
     "execution_count": 119,
     "metadata": {},
     "output_type": "execute_result"
    }
   ],
   "source": [
    "quality_counts = (\n",
    "    feature_quality[\"high_alpha\"]\n",
    "    .value_counts()\n",
    "    .join(\n",
    "        feature_quality[\"alpha\"].value_counts(),\n",
    "        left_on=\"high_alpha\",\n",
    "        right_on=\"alpha\",\n",
    "        suffix=\"_alpha\",\n",
    "    )\n",
    "    .join(\n",
    "        feature_quality[\"no_alpha\"].value_counts(),\n",
    "        left_on=\"high_alpha\",\n",
    "        right_on=\"no_alpha\",\n",
    "        suffix=\"_no_alpha\",\n",
    "    )\n",
    ")\n",
    "quality_counts = quality_counts.rename(\n",
    "    {\"high_alpha\": \"quality\", \"counts\": \"counts_high_alpha\"}\n",
    ")\n",
    "quality_counts"
   ]
  },
  {
   "cell_type": "markdown",
   "metadata": {},
   "source": [
    "The variability in feature selection outcomes from different runs of the Boruta algorithm, based on LightGBM with various L1 penalties, led to the observation that the 0 penalty run tended to be less strict compared to the run with the highest penalty. As there were no completely contradictory disagreements between the iterations (i.e., good vs. bad), only tentative vs. good or bad, a voting mechanism was implemented to make decisions on these features. Two lists were generated: one containing features classified as bad, and another containing both bad and tentative features. These lists of features earmarked for removal will be subjected to tuning alongside hyperparameters, with the aim of selecting the best feature set for the model."
   ]
  },
  {
   "cell_type": "markdown",
   "metadata": {},
   "source": [
    "**Creating lists of bad and tentative features from consensus:**"
   ]
  },
  {
   "cell_type": "code",
   "execution_count": 25,
   "metadata": {},
   "outputs": [],
   "source": [
    "feature_quality = feature_quality.with_columns(\n",
    "    feature_quality.map_rows(lambda x: statistics.mode(x[1:]))\n",
    "    .to_series()\n",
    "    .alias(\"consensus\")\n",
    ")\n",
    "\n",
    "consensus_bad_tentative_features = feature_quality.filter(\n",
    "    pl.col(\"consensus\") != \"good\"\n",
    ")[\"feature\"].to_list()\n",
    "consensus_bad_features = feature_quality.filter(pl.col(\"consensus\") == \"bad\")[\n",
    "    \"feature\"\n",
    "].to_list()\n",
    "feature_removal_list = [consensus_bad_features, consensus_bad_tentative_features]"
   ]
  },
  {
   "cell_type": "markdown",
   "metadata": {},
   "source": [
    "## Hyperparameter Tuning"
   ]
  },
  {
   "cell_type": "markdown",
   "metadata": {},
   "source": [
    "### Parameter Search Spaces"
   ]
  },
  {
   "cell_type": "markdown",
   "metadata": {},
   "source": [
    "**LightGBM parameter space:**"
   ]
  },
  {
   "cell_type": "code",
   "execution_count": 13,
   "metadata": {},
   "outputs": [],
   "source": [
    "models = tunes.Models()\n",
    "model_params_lgb = {\n",
    "    \"max_depth\": tune.randint(5, 30),\n",
    "    \"num_leaves\": tune.randint(10, 1000),\n",
    "    \"n_estimators\": tune.randint(10, 251),\n",
    "    \"learning_rate\": tune.loguniform(0.001, 0.1),\n",
    "    \"bagging_freq\": tune.randint(0, 11),\n",
    "    \"colsample_bytree\": tune.uniform(0.2, 1.0),\n",
    "    \"subsample\": tune.uniform(0.2, 1.0),\n",
    "    \"reg_alpha\": tune.loguniform(0.001, 100),\n",
    "    \"reg_lambda\": tune.loguniform(0.001, 100),\n",
    "    \"boosting_type\": tune.choice([\"gbdt\", \"dart\", \"rf\"]),\n",
    "    \"class_weight\": tune.choice([\"balanced\", None]),\n",
    "    \"max_bin\": tune.randint(5, 201),\n",
    "}\n",
    "\n",
    "search_space_lgbm = {\n",
    "    \"preprocess__feature_removal__feats_to_drop\": tune.choice(feature_removal_list),\n",
    "    \"model__model_params\": model_params_lgb,\n",
    "    \"model__sampler\": tune.choice([\"random\", None]),\n",
    "}\n",
    "\n",
    "models.add_model(\"lgbm\", full_pipeline, search_space_lgbm, metric_threshold=0.77)"
   ]
  },
  {
   "cell_type": "markdown",
   "metadata": {},
   "source": [
    "**Extra Trees parameter space:**"
   ]
  },
  {
   "cell_type": "code",
   "execution_count": 14,
   "metadata": {},
   "outputs": [],
   "source": [
    "model_params_extra_trees = {\n",
    "    \"n_estimators\": tune.randint(10, 251),\n",
    "    \"max_depth\": tune.randint(5, 30),\n",
    "    \"max_leaf_nodes\": tune.randint(30, 1000),\n",
    "    \"min_samples_split\": tune.randint(2, 21),\n",
    "    \"min_samples_leaf\": tune.randint(1, 21),\n",
    "    \"max_features\": tune.uniform(0.1, 1.0),\n",
    "    \"class_weight\": tune.choice([\"balanced\", \"balanced_subsample\", None]),\n",
    "    \"max_samples\": tune.uniform(0.1, 1.0),\n",
    "}\n",
    "\n",
    "search_space_extra_trees = {\n",
    "    \"preprocess__feature_removal__feats_to_drop\": tune.choice(feature_removal_list),\n",
    "    \"model__model_params\": model_params_extra_trees,\n",
    "    \"model__sampler\": tune.choice([\"random\", None]),\n",
    "}\n",
    "\n",
    "models.add_model(\n",
    "    \"extra_trees\", full_pipeline_etrees, search_space_extra_trees, metric_threshold=0.73\n",
    ")"
   ]
  },
  {
   "cell_type": "markdown",
   "metadata": {},
   "source": [
    "**Regularized Greedy Forest parameter space:**"
   ]
  },
  {
   "cell_type": "code",
   "execution_count": 26,
   "metadata": {},
   "outputs": [],
   "source": [
    "model_params_rgf = {\n",
    "    \"algorithm\": tune.choice([\"RGF\", \"RGF Opt\", \"RGF Sib\"]),\n",
    "    \"loss\": tune.choice([\"LS\", \"Expo\", \"Log\", \"Abs\"]),\n",
    "    \"l2\": tune.loguniform(1e-6, 1.0),\n",
    "    \"max_leaf\": tune.randint(10, 1000),\n",
    "    \"test_interval\": tune.quniform(100, 1000, 100),\n",
    "    \"reg_depth\": tune.randint(1, 21),\n",
    "    \"learning_rate\": tune.loguniform(1e-6, 1.0),\n",
    "}\n",
    "\n",
    "search_space_rgf = {\n",
    "    \"preprocess__feature_removal__feats_to_drop\": tune.choice(feature_removal_list),\n",
    "    \"model__model_params\": model_params_rgf,\n",
    "    \"model__sampler\": tune.choice([\"random\", None]),\n",
    "}\n",
    "\n",
    "models.add_model(\"rgf\", full_pipeline_rgf, search_space_rgf, metric_threshold=0.76)"
   ]
  },
  {
   "cell_type": "markdown",
   "metadata": {},
   "source": [
    "### Hyperparameter tuning:"
   ]
  },
  {
   "cell_type": "markdown",
   "metadata": {},
   "source": [
    "The models were organized and managed within a class named \"Models,\" which includes methods for hyperparameter tuning using the Ray Tune suite. Optuna, an optimization algorithm, was employed to tune the models, and the number of trials varied from 50 to 200 based on the complexity of the model's parameter space. The effectiveness of a set of parameters was assessed through a 5-fold stratified cross-validation, utilizing the roc-auc score as the evaluation metric. To expedite the process, a preset threshold was implemented for early stopping unpromising trials, ensuring that only the best parameter sets underwent evaluation across all 5 cross-validation iterations. The entire process was parallelized for improved efficiency.\n",
    "\n",
    "For the Regularized Greedy Forest model, hyperparameter tuning was conducted using a subsample of 100,000 due to its slower performance."
   ]
  },
  {
   "cell_type": "markdown",
   "metadata": {},
   "source": [
    "**Tuning of each model and saving the results:**"
   ]
  },
  {
   "cell_type": "raw",
   "metadata": {},
   "source": [
    "models.models['lgbm'].tune_model(X_train,y_train, n=200,metric='roc_auc')\n",
    "joblib.dump(models,\"temp/model_1_tuned_models.joblib\")\n",
    "models.models['extra_trees'].tune_model(X_train,y_train, n=100,metric='roc_auc')\n",
    "joblib.dump(models,\"temp/model_1_tuned_models.joblib\")\n",
    "models.models['rgf'].tune_model(X_train,y_train, n=50,metric='roc_auc',sample_size=100000)\n",
    "joblib.dump(models,\"temp/model_1_tuned_models.joblib\")"
   ]
  },
  {
   "cell_type": "markdown",
   "metadata": {},
   "source": [
    "**Loading the tuned models:**"
   ]
  },
  {
   "cell_type": "code",
   "execution_count": 5,
   "metadata": {},
   "outputs": [],
   "source": [
    "models = joblib.load(\"temp/model_1_tuned_models.joblib\")"
   ]
  },
  {
   "cell_type": "markdown",
   "metadata": {},
   "source": [
    "### Hyperparameter Tuning Results"
   ]
  },
  {
   "cell_type": "markdown",
   "metadata": {},
   "source": [
    "**Best parameters:**"
   ]
  },
  {
   "cell_type": "code",
   "execution_count": 17,
   "metadata": {},
   "outputs": [
    {
     "name": "stdout",
     "output_type": "stream",
     "text": [
      "lgbm\n",
      "----------------\n",
      "'model__model_params:'\n",
      "{'bagging_freq': 7,\n",
      " 'boosting_type': 'dart',\n",
      " 'class_weight': None,\n",
      " 'colsample_bytree': 0.5675594313892778,\n",
      " 'learning_rate': 0.0020531520402746173,\n",
      " 'max_bin': 66,\n",
      " 'max_depth': 29,\n",
      " 'n_estimators': 203,\n",
      " 'num_leaves': 784,\n",
      " 'reg_alpha': 6.125264822058344,\n",
      " 'reg_lambda': 0.012163660310995155,\n",
      " 'subsample': 0.9332262165733625}\n",
      "\n",
      "'model__sampler:'\n",
      "None\n",
      "\n",
      "extra_trees\n",
      "----------------\n",
      "'model__model_params:'\n",
      "{'class_weight': 'balanced_subsample',\n",
      " 'max_depth': 27,\n",
      " 'max_features': 0.9302655328245393,\n",
      " 'max_leaf_nodes': 948,\n",
      " 'max_samples': 0.42946248358997485,\n",
      " 'min_samples_leaf': 13,\n",
      " 'min_samples_split': 9,\n",
      " 'n_estimators': 119}\n",
      "\n",
      "'model__sampler:'\n",
      "'random'\n",
      "\n",
      "rgf\n",
      "----------------\n",
      "'model__model_params:'\n",
      "{'algorithm': 'RGF Sib',\n",
      " 'l2': 0.0037248443997315024,\n",
      " 'learning_rate': 0.007618021362344675,\n",
      " 'loss': 'Expo',\n",
      " 'max_leaf': 955,\n",
      " 'reg_depth': 15,\n",
      " 'test_interval': 400.0}\n",
      "\n",
      "'model__sampler:'\n",
      "'random'\n",
      "\n"
     ]
    }
   ],
   "source": [
    "for model in models.models.values():\n",
    "    print(model.name)\n",
    "    print(\"----------------\")\n",
    "    for key, param in model.best_params.items():\n",
    "        if key[:3] == \"mod\":\n",
    "            pprint(key + \":\")\n",
    "            pprint(param)\n",
    "            print(\"\")"
   ]
  },
  {
   "cell_type": "markdown",
   "metadata": {},
   "source": [
    "**Which features have been removed for each model:**"
   ]
  },
  {
   "cell_type": "code",
   "execution_count": 18,
   "metadata": {},
   "outputs": [
    {
     "name": "stdout",
     "output_type": "stream",
     "text": [
      "lgbm\n",
      "Bad and Tentative features removed\n",
      "\n",
      "extra_trees\n",
      "Bad and Tentative features removed\n",
      "\n",
      "rgf\n",
      "Only bad features removed\n",
      "\n"
     ]
    }
   ],
   "source": [
    "for model in models.models.values():\n",
    "    print(model.name)\n",
    "    if (\n",
    "        model.best_params[\"preprocess__feature_removal__feats_to_drop\"]\n",
    "        == consensus_bad_features\n",
    "    ):\n",
    "        print(\"Only bad features removed\")\n",
    "        print(\"\")\n",
    "    else:\n",
    "        print(\"Bad and Tentative features removed\")\n",
    "        print(\"\")"
   ]
  },
  {
   "cell_type": "markdown",
   "metadata": {},
   "source": [
    "The tuning results highlighted distinct strategies for each model:\n",
    "\n",
    "- **LGBM Model:** No oversampling yielded the best performance. The model benefited from Dropouts meet Multiple Additive Regression Trees (DART) algorithm, featuring a high alpha regularization parameter, a slow learning rate, 203 estimators, and a limit of 784 leaves.\n",
    "\n",
    "- **Extra Trees Model:** Random oversampling proved beneficial. The optimal model configuration included 119 estimators and was restricted to 948 leaf nodes. Both bad and tentative features were removed.\n",
    "\n",
    "- **Regularized Greedy Forest (RGF) Model:** Random oversampling was advantageous. The best-performing RGF model had a learning rate of 0.047 and was constrained to 955 max leaf nodes. Only bad features were removed to enhance model performance.\n"
   ]
  },
  {
   "cell_type": "markdown",
   "metadata": {},
   "source": [
    "## Model Selection"
   ]
  },
  {
   "cell_type": "markdown",
   "metadata": {},
   "source": [
    "**Open a server for model performance tracking:**"
   ]
  },
  {
   "cell_type": "raw",
   "metadata": {},
   "source": [
    "!mlflow server --host 127.0.0.1 --port 8080"
   ]
  },
  {
   "cell_type": "markdown",
   "metadata": {},
   "source": [
    "**KFold Cross-validations of each model:**"
   ]
  },
  {
   "cell_type": "raw",
   "metadata": {},
   "source": [
    "scores={}\n",
    "mlflow.set_tracking_uri(\"http://127.0.0.1:8080\")\n",
    "mlflow.set_experiment(\"Credit Risk\")\n",
    "for model in models.models.values():\n",
    "    with mlflow.start_run(run_name=f\"{model.name}_cross_val\") as run:\n",
    "    scores[model.name]=np.array(model.cross_val_roc_auc(X_train,y_train))\n",
    "        mlflow.log_params(model.best_params)\n",
    "        mlflow.log_metric(\"mean_roc_auc\",scores[model.name].mean())\n",
    "    mlflow.end_run()\n",
    "scores=pl.DataFrame(scores)\n",
    "joblib.dump(scores,\"temp/model_1_base_scores.joblib\")"
   ]
  },
  {
   "cell_type": "markdown",
   "metadata": {},
   "source": [
    "**Visualizing the results of ROC-AUC cross-validations:**"
   ]
  },
  {
   "cell_type": "code",
   "execution_count": 30,
   "metadata": {},
   "outputs": [
    {
     "data": {
      "image/png": "[encoded data removed]",
      "text/plain": [
       "<Figure size 640x480 with 1 Axes>"
      ]
     },
     "metadata": {},
     "output_type": "display_data"
    }
   ],
   "source": [
    "scores = joblib.load(\"temp/model_1_base_scores.joblib\")\n",
    "fig_scores, ax_scores = plt.subplots()\n",
    "sns.boxplot(scores)\n",
    "ax_scores.set_xticklabels(scores.columns)\n",
    "plt.show()"
   ]
  },
  {
   "cell_type": "markdown",
   "metadata": {},
   "source": [
    "The Regularized Greedy Forest (RGF) model emerged as the most promising, exhibiting superior results across various evaluation metrics. Its average performance, deviation, and the range of values (min-max) in cross-validations surpassed those of the other models. "
   ]
  },
  {
   "cell_type": "markdown",
   "metadata": {},
   "source": [
    "### Model Stacking"
   ]
  },
  {
   "cell_type": "markdown",
   "metadata": {},
   "source": [
    "To enhance performance further, a stacked model was devised by incorporating the results of all three models. In this ensemble approach, LightGBM (LGBM) was chosen as the final estimator for the stacked model.\n",
    "\n",
    "To overcome compatibility issues with the sklearn implementation of the stacked model, a custom implementation was crafted. This custom implementation generates k-fold predictions from each model, along with its corresponding preprocessing pipeline. Subsequently, the final estimator is fitted on these predictions to generate the ultimate result."
   ]
  },
  {
   "cell_type": "markdown",
   "metadata": {},
   "source": [
    "**Defining the stacked model:**"
   ]
  },
  {
   "cell_type": "code",
   "execution_count": 30,
   "metadata": {},
   "outputs": [],
   "source": [
    "final_estimator = LGBMClassifier(random_state=1, n_jobs=1, verbose=-1)\n",
    "model_stack = tr.SimplerStacker(\n",
    "    [model.pipeline for model in models.models.values()],\n",
    "    final_estimator=final_estimator,\n",
    ")"
   ]
  },
  {
   "cell_type": "markdown",
   "metadata": {},
   "source": [
    "**Performing cross-validations on the stacked model:**"
   ]
  },
  {
   "cell_type": "raw",
   "metadata": {},
   "source": [
    "splitter = StratifiedKFold(n_splits=5, shuffle=True, random_state=1)\n",
    "stacked_model_scores=[]\n",
    "with mlflow.start_run(run_name=f\"stacked_model_cross_val\") as run:\n",
    "    for i, (train_index, test_index) in enumerate(splitter.split(X_train,y_train)):\n",
    "        model_stack.fit(X_train[train_index],y_train[train_index])\n",
    "        preds=model_stack.predict_proba(X_train[test_index])[:,1]\n",
    "        roc_auc=roc_auc_score(y_train[test_index],preds)\n",
    "        stacked_model_scores.append(roc_auc)\n",
    "        mlflow.log_metric(f\"roc_auc_{i+1}\",roc_auc)\n",
    "    mlflow.log_metric(\"mean_roc_auc\",np.array(stacked_model_scores).mean())\n",
    "mlflow.end_run()\n",
    "joblib.dump(stacked_model_scores,\"temp/stack_scores.joblib\")"
   ]
  },
  {
   "cell_type": "markdown",
   "metadata": {},
   "source": [
    "**Mean roc-auc of the stacked model:**"
   ]
  },
  {
   "cell_type": "code",
   "execution_count": 26,
   "metadata": {},
   "outputs": [
    {
     "data": {
      "text/plain": [
       "0.7757698132575065"
      ]
     },
     "execution_count": 26,
     "metadata": {},
     "output_type": "execute_result"
    }
   ],
   "source": [
    "stacked_model_scores = joblib.load(\"temp/stack_scores.joblib\")\n",
    "np.array(stacked_model_scores).mean()"
   ]
  },
  {
   "cell_type": "markdown",
   "metadata": {},
   "source": [
    "**Visualizing the cross-validation results:**"
   ]
  },
  {
   "cell_type": "code",
   "execution_count": 36,
   "metadata": {},
   "outputs": [
    {
     "data": {
      "image/png": "[encoded data removed]",
      "text/plain": [
       "<Figure size 640x480 with 1 Axes>"
      ]
     },
     "metadata": {},
     "output_type": "display_data"
    }
   ],
   "source": [
    "scores = scores.with_columns(pl.Series(stacked_model_scores).alias(\"Stacked Model\"))\n",
    "fig_scores_full, ax_scores_full = plt.subplots()\n",
    "sns.boxplot(scores, ax=ax_scores_full)\n",
    "ax_scores_full.set_xticklabels(scores.columns)\n",
    "plt.show()"
   ]
  },
  {
   "cell_type": "markdown",
   "metadata": {},
   "source": [
    "**Base model importances in the stacked model:**"
   ]
  },
  {
   "cell_type": "code",
   "execution_count": 43,
   "metadata": {},
   "outputs": [
    {
     "data": {
      "text/html": [
       "<div><style>\n",
       ".dataframe > thead > tr > th,\n",
       ".dataframe > tbody > tr > td {\n",
       "  text-align: right;\n",
       "  white-space: pre-wrap;\n",
       "}\n",
       "</style>\n",
       "<small>shape: (3, 2)</small><table border=\"1\" class=\"dataframe\"><thead><tr><th>Model</th><th>Importance</th></tr><tr><td>str</td><td>i32</td></tr></thead><tbody><tr><td>&quot;RGF&quot;</td><td>1160</td></tr><tr><td>&quot;LGBM&quot;</td><td>1109</td></tr><tr><td>&quot;Extra Trees&quot;</td><td>731</td></tr></tbody></table></div>"
      ],
      "text/plain": [
       "shape: (3, 2)\n",
       "┌─────────────┬────────────┐\n",
       "│ Model       ┆ Importance │\n",
       "│ ---         ┆ ---        │\n",
       "│ str         ┆ i32        │\n",
       "╞═════════════╪════════════╡\n",
       "│ RGF         ┆ 1160       │\n",
       "│ LGBM        ┆ 1109       │\n",
       "│ Extra Trees ┆ 731        │\n",
       "└─────────────┴────────────┘"
      ]
     },
     "execution_count": 43,
     "metadata": {},
     "output_type": "execute_result"
    }
   ],
   "source": [
    "pl.DataFrame(\n",
    "    {\n",
    "        \"Model\": [\"LGBM\", \"Extra Trees\", \"RGF\"],\n",
    "        \"Importance\": model_stack.final_estimator.feature_importances_,\n",
    "    }\n",
    ").sort(\"Importance\", descending=True)"
   ]
  },
  {
   "cell_type": "markdown",
   "metadata": {},
   "source": [
    "Despite the implementation of the stacked model, the results did not exhibit a significant improvement. While the maximum value from the cross-validation was higher than that of the RGF model, the mean was nearly identical. However, a notable increase in deviation between iterations was observed, indicating a susceptibility to overfitting."
   ]
  },
  {
   "cell_type": "markdown",
   "metadata": {},
   "source": [
    "## Model Testing"
   ]
  },
  {
   "cell_type": "markdown",
   "metadata": {},
   "source": [
    "**Loading the test data:**"
   ]
  },
  {
   "cell_type": "code",
   "execution_count": 7,
   "metadata": {},
   "outputs": [],
   "source": [
    "X_test = pl.read_parquet(\"temp/application_test_filtered.parquet\")"
   ]
  },
  {
   "cell_type": "markdown",
   "metadata": {},
   "source": [
    "### Testing the performance"
   ]
  },
  {
   "cell_type": "markdown",
   "metadata": {},
   "source": [
    "#### Testing using all available data"
   ]
  },
  {
   "cell_type": "markdown",
   "metadata": {},
   "source": [
    "**Fitting the chosen RGF model and to the test set and making predictions:**"
   ]
  },
  {
   "cell_type": "code",
   "execution_count": 32,
   "metadata": {},
   "outputs": [],
   "source": [
    "models.models[\"rgf\"].pipeline.fit(X_train, y_train)\n",
    "preds_rgf = models.models[\"rgf\"].pipeline.predict_proba(X_test.drop(id_and_target))[\n",
    "    :, 1\n",
    "]\n",
    "preds_rgf = pl.DataFrame([X_test[\"SK_ID_CURR\"], pl.Series(preds_rgf).alias(\"TARGET\")])\n",
    "preds_rgf.write_csv(\"submissions/rgf_sumbission.csv\")"
   ]
  },
  {
   "cell_type": "markdown",
   "metadata": {},
   "source": [
    "Submitting the predictions from the test set to Kaggle for a late submission and obtaining the ROC-AUC score provided an external validation of the model's performance on an independent dataset."
   ]
  },
  {
   "cell_type": "markdown",
   "metadata": {},
   "source": [
    "**ROC-AUC score from Kaggle on the test set:**\n",
    "\n",
    "![Kaggle ROC-AUC Score.](summary_data/kaggle_score.png)"
   ]
  },
  {
   "cell_type": "markdown",
   "metadata": {},
   "source": [
    "Achieving a ROC-AUC score of 0.767 for the model that incorporates all available data, including external source data, represents a notable improvement compared to the baseline score of 0.719. This outcome demonstrates that the intermediate success criteria have been met: the developed model surpasses the performance of a logistic regression model trained solely on external data."
   ]
  },
  {
   "cell_type": "markdown",
   "metadata": {},
   "source": [
    "#### Testing without the external source data"
   ]
  },
  {
   "cell_type": "markdown",
   "metadata": {},
   "source": [
    "**Preparing the model for fitting on data without external source information:**"
   ]
  },
  {
   "cell_type": "code",
   "execution_count": 55,
   "metadata": {},
   "outputs": [
    {
     "data": {
      "text/html": [
       "<style>#sk-container-id-7 {color: black;}#sk-container-id-7 pre{padding: 0;}#sk-container-id-7 div.sk-toggleable {background-color: white;}#sk-container-id-7 label.sk-toggleable__label {cursor: pointer;display: block;width: 100%;margin-bottom: 0;padding: 0.3em;box-sizing: border-box;text-align: center;}#sk-container-id-7 label.sk-toggleable__label-arrow:before {content: \"▸\";float: left;margin-right: 0.25em;color: #696969;}#sk-container-id-7 label.sk-toggleable__label-arrow:hover:before {color: black;}#sk-container-id-7 div.sk-estimator:hover label.sk-toggleable__label-arrow:before {color: black;}#sk-container-id-7 div.sk-toggleable__content {max-height: 0;max-width: 0;overflow: hidden;text-align: left;background-color: #f0f8ff;}#sk-container-id-7 div.sk-toggleable__content pre {margin: 0.2em;color: black;border-radius: 0.25em;background-color: #f0f8ff;}#sk-container-id-7 input.sk-toggleable__control:checked~div.sk-toggleable__content {max-height: 200px;max-width: 100%;overflow: auto;}#sk-container-id-7 input.sk-toggleable__control:checked~label.sk-toggleable__label-arrow:before {content: \"▾\";}#sk-container-id-7 div.sk-estimator input.sk-toggleable__control:checked~label.sk-toggleable__label {background-color: #d4ebff;}#sk-container-id-7 div.sk-label input.sk-toggleable__control:checked~label.sk-toggleable__label {background-color: #d4ebff;}#sk-container-id-7 input.sk-hidden--visually {border: 0;clip: rect(1px 1px 1px 1px);clip: rect(1px, 1px, 1px, 1px);height: 1px;margin: -1px;overflow: hidden;padding: 0;position: absolute;width: 1px;}#sk-container-id-7 div.sk-estimator {font-family: monospace;background-color: #f0f8ff;border: 1px dotted black;border-radius: 0.25em;box-sizing: border-box;margin-bottom: 0.5em;}#sk-container-id-7 div.sk-estimator:hover {background-color: #d4ebff;}#sk-container-id-7 div.sk-parallel-item::after {content: \"\";width: 100%;border-bottom: 1px solid gray;flex-grow: 1;}#sk-container-id-7 div.sk-label:hover label.sk-toggleable__label {background-color: #d4ebff;}#sk-container-id-7 div.sk-serial::before {content: \"\";position: absolute;border-left: 1px solid gray;box-sizing: border-box;top: 0;bottom: 0;left: 50%;z-index: 0;}#sk-container-id-7 div.sk-serial {display: flex;flex-direction: column;align-items: center;background-color: white;padding-right: 0.2em;padding-left: 0.2em;position: relative;}#sk-container-id-7 div.sk-item {position: relative;z-index: 1;}#sk-container-id-7 div.sk-parallel {display: flex;align-items: stretch;justify-content: center;background-color: white;position: relative;}#sk-container-id-7 div.sk-item::before, #sk-container-id-7 div.sk-parallel-item::before {content: \"\";position: absolute;border-left: 1px solid gray;box-sizing: border-box;top: 0;bottom: 0;left: 50%;z-index: -1;}#sk-container-id-7 div.sk-parallel-item {display: flex;flex-direction: column;z-index: 1;position: relative;background-color: white;}#sk-container-id-7 div.sk-parallel-item:first-child::after {align-self: flex-end;width: 50%;}#sk-container-id-7 div.sk-parallel-item:last-child::after {align-self: flex-start;width: 50%;}#sk-container-id-7 div.sk-parallel-item:only-child::after {width: 0;}#sk-container-id-7 div.sk-dashed-wrapped {border: 1px dashed gray;margin: 0 0.4em 0.5em 0.4em;box-sizing: border-box;padding-bottom: 0.4em;background-color: white;}#sk-container-id-7 div.sk-label label {font-family: monospace;font-weight: bold;display: inline-block;line-height: 1.2em;}#sk-container-id-7 div.sk-label-container {text-align: center;}#sk-container-id-7 div.sk-container {/* jupyter's `normalize.less` sets `[hidden] { display: none; }` but bootstrap.min.css set `[hidden] { display: none !important; }` so we also need the `!important` here to be able to override the default hidden behavior on the sphinx rendered scikit-learn.org. See: https://github.com/scikit-learn/scikit-learn/issues/21755 */display: inline-block !important;position: relative;}#sk-container-id-7 div.sk-text-repr-fallback {display: none;}</style><div id=\"sk-container-id-7\" class=\"sk-top-container\"><div class=\"sk-text-repr-fallback\"><pre>Pipeline(steps=[(&#x27;preprocess&#x27;,\n",
       "                 Pipeline(steps=[(&#x27;num_imputer&#x27;,\n",
       "                                  PolarsColumnTransformer(steps=OrderedDict([(&#x27;AMT_ANNUITY&#x27;,\n",
       "                                                                              &lt;auxiliary.transformers.PolarsColumnTransformer.Step object at 0x7f1b26f440d0&gt;),\n",
       "                                                                             (&#x27;AMT_GOODS_PRICE&#x27;,\n",
       "                                                                              &lt;auxiliary.transformers.PolarsColumnTransformer.Step object at 0x7f1b26f449a0&gt;),\n",
       "                                                                             (&#x27;OWN_CAR_AGE&#x27;,\n",
       "                                                                              &lt;auxiliary.transformers.PolarsColumnTransfo...\n",
       "                                                                &#x27;LANDAREA_MODE&#x27;,\n",
       "                                                                &#x27;LIVINGAPARTMENTS_MODE&#x27;,\n",
       "                                                                &#x27;LIVINGAREA_MODE&#x27;,\n",
       "                                                                &#x27;NONLIVINGAPARTMENTS_MODE&#x27;,\n",
       "                                                                &#x27;NONLIVINGAREA_MODE&#x27;, ...]))])),\n",
       "                (&#x27;model&#x27;,\n",
       "                 SamplingModelWrapper(model=RGFClassifier(),\n",
       "                                      model_params={&#x27;algorithm&#x27;: &#x27;RGF Sib&#x27;,\n",
       "                                                    &#x27;l2&#x27;: 0.0037248443997315024,\n",
       "                                                    &#x27;learning_rate&#x27;: 0.007618021362344675,\n",
       "                                                    &#x27;loss&#x27;: &#x27;Expo&#x27;,\n",
       "                                                    &#x27;max_leaf&#x27;: 955,\n",
       "                                                    &#x27;reg_depth&#x27;: 15,\n",
       "                                                    &#x27;test_interval&#x27;: 400.0},\n",
       "                                      sampler=&#x27;random&#x27;))])</pre><b>In a Jupyter environment, please rerun this cell to show the HTML representation or trust the notebook. <br />On GitHub, the HTML representation is unable to render, please try loading this page with nbviewer.org.</b></div><div class=\"sk-container\" hidden><div class=\"sk-item sk-dashed-wrapped\"><div class=\"sk-label-container\"><div class=\"sk-label sk-toggleable\"><input class=\"sk-toggleable__control sk-hidden--visually\" id=\"sk-estimator-id-43\" type=\"checkbox\" ><label for=\"sk-estimator-id-43\" class=\"sk-toggleable__label sk-toggleable__label-arrow\">Pipeline</label><div class=\"sk-toggleable__content\"><pre>Pipeline(steps=[(&#x27;preprocess&#x27;,\n",
       "                 Pipeline(steps=[(&#x27;num_imputer&#x27;,\n",
       "                                  PolarsColumnTransformer(steps=OrderedDict([(&#x27;AMT_ANNUITY&#x27;,\n",
       "                                                                              &lt;auxiliary.transformers.PolarsColumnTransformer.Step object at 0x7f1b26f440d0&gt;),\n",
       "                                                                             (&#x27;AMT_GOODS_PRICE&#x27;,\n",
       "                                                                              &lt;auxiliary.transformers.PolarsColumnTransformer.Step object at 0x7f1b26f449a0&gt;),\n",
       "                                                                             (&#x27;OWN_CAR_AGE&#x27;,\n",
       "                                                                              &lt;auxiliary.transformers.PolarsColumnTransfo...\n",
       "                                                                &#x27;LANDAREA_MODE&#x27;,\n",
       "                                                                &#x27;LIVINGAPARTMENTS_MODE&#x27;,\n",
       "                                                                &#x27;LIVINGAREA_MODE&#x27;,\n",
       "                                                                &#x27;NONLIVINGAPARTMENTS_MODE&#x27;,\n",
       "                                                                &#x27;NONLIVINGAREA_MODE&#x27;, ...]))])),\n",
       "                (&#x27;model&#x27;,\n",
       "                 SamplingModelWrapper(model=RGFClassifier(),\n",
       "                                      model_params={&#x27;algorithm&#x27;: &#x27;RGF Sib&#x27;,\n",
       "                                                    &#x27;l2&#x27;: 0.0037248443997315024,\n",
       "                                                    &#x27;learning_rate&#x27;: 0.007618021362344675,\n",
       "                                                    &#x27;loss&#x27;: &#x27;Expo&#x27;,\n",
       "                                                    &#x27;max_leaf&#x27;: 955,\n",
       "                                                    &#x27;reg_depth&#x27;: 15,\n",
       "                                                    &#x27;test_interval&#x27;: 400.0},\n",
       "                                      sampler=&#x27;random&#x27;))])</pre></div></div></div><div class=\"sk-serial\"><div class=\"sk-item\"><div class=\"sk-label-container\"><div class=\"sk-label sk-toggleable\"><input class=\"sk-toggleable__control sk-hidden--visually\" id=\"sk-estimator-id-44\" type=\"checkbox\" ><label for=\"sk-estimator-id-44\" class=\"sk-toggleable__label sk-toggleable__label-arrow\">preprocess: Pipeline</label><div class=\"sk-toggleable__content\"><pre>Pipeline(steps=[(&#x27;num_imputer&#x27;,\n",
       "                 PolarsColumnTransformer(steps=OrderedDict([(&#x27;AMT_ANNUITY&#x27;,\n",
       "                                                             &lt;auxiliary.transformers.PolarsColumnTransformer.Step object at 0x7f1b26f440d0&gt;),\n",
       "                                                            (&#x27;AMT_GOODS_PRICE&#x27;,\n",
       "                                                             &lt;auxiliary.transformers.PolarsColumnTransformer.Step object at 0x7f1b26f449a0&gt;),\n",
       "                                                            (&#x27;OWN_CAR_AGE&#x27;,\n",
       "                                                             &lt;auxiliary.transformers.PolarsColumnTransformer.Step object at 0x7f1b26f44c1...\n",
       "                                               &#x27;LIVE_CITY_NOT_WORK_CITY&#x27;,\n",
       "                                               &#x27;YEARS_BEGINEXPLUATATION_AVG&#x27;,\n",
       "                                               &#x27;ENTRANCES_AVG&#x27;,\n",
       "                                               &#x27;NONLIVINGAPARTMENTS_AVG&#x27;,\n",
       "                                               &#x27;NONLIVINGAREA_AVG&#x27;,\n",
       "                                               &#x27;APARTMENTS_MODE&#x27;,\n",
       "                                               &#x27;BASEMENTAREA_MODE&#x27;,\n",
       "                                               &#x27;YEARS_BEGINEXPLUATATION_MODE&#x27;,\n",
       "                                               &#x27;ELEVATORS_MODE&#x27;,\n",
       "                                               &#x27;ENTRANCES_MODE&#x27;,\n",
       "                                               &#x27;FLOORSMAX_MODE&#x27;,\n",
       "                                               &#x27;FLOORSMIN_MODE&#x27;,\n",
       "                                               &#x27;LANDAREA_MODE&#x27;,\n",
       "                                               &#x27;LIVINGAPARTMENTS_MODE&#x27;,\n",
       "                                               &#x27;LIVINGAREA_MODE&#x27;,\n",
       "                                               &#x27;NONLIVINGAPARTMENTS_MODE&#x27;,\n",
       "                                               &#x27;NONLIVINGAREA_MODE&#x27;, ...]))])</pre></div></div></div><div class=\"sk-serial\"><div class=\"sk-item\"><div class=\"sk-estimator sk-toggleable\"><input class=\"sk-toggleable__control sk-hidden--visually\" id=\"sk-estimator-id-45\" type=\"checkbox\" ><label for=\"sk-estimator-id-45\" class=\"sk-toggleable__label sk-toggleable__label-arrow\">PolarsColumnTransformer</label><div class=\"sk-toggleable__content\"><pre>PolarsColumnTransformer(steps=OrderedDict([(&#x27;AMT_ANNUITY&#x27;,\n",
       "                                            &lt;auxiliary.transformers.PolarsColumnTransformer.Step object at 0x7f1b26f440d0&gt;),\n",
       "                                           (&#x27;AMT_GOODS_PRICE&#x27;,\n",
       "                                            &lt;auxiliary.transformers.PolarsColumnTransformer.Step object at 0x7f1b26f449a0&gt;),\n",
       "                                           (&#x27;OWN_CAR_AGE&#x27;,\n",
       "                                            &lt;auxiliary.transformers.PolarsColumnTransformer.Step object at 0x7f1b26f44c10&gt;),\n",
       "                                           (&#x27;CNT_FAM_MEMBERS&#x27;,\n",
       "                                            &lt;auxilia...\n",
       "                                            &lt;auxiliary.transformers.PolarsColumnTransformer.Step object at 0x7f1b26f6e610&gt;),\n",
       "                                           (&#x27;LIVINGAREA_MEDI&#x27;,\n",
       "                                            &lt;auxiliary.transformers.PolarsColumnTransformer.Step object at 0x7f1b26f6e8e0&gt;),\n",
       "                                           (&#x27;NONLIVINGAREA_MEDI&#x27;,\n",
       "                                            &lt;auxiliary.transformers.PolarsColumnTransformer.Step object at 0x7f1b26f6e850&gt;),\n",
       "                                           (&#x27;TOTALAREA_MODE&#x27;,\n",
       "                                            &lt;auxiliary.transformers.PolarsColumnTransformer.Step object at 0x7f1b26f6ea60&gt;), ...]))</pre></div></div></div><div class=\"sk-item\"><div class=\"sk-estimator sk-toggleable\"><input class=\"sk-toggleable__control sk-hidden--visually\" id=\"sk-estimator-id-46\" type=\"checkbox\" ><label for=\"sk-estimator-id-46\" class=\"sk-toggleable__label sk-toggleable__label-arrow\">PolarsColumnTransformer</label><div class=\"sk-toggleable__content\"><pre>PolarsColumnTransformer(steps=OrderedDict([(&#x27;CODE_GENDER&#x27;,\n",
       "                                            &lt;auxiliary.transformers.PolarsColumnTransformer.Step object at 0x7f1b26f7a3a0&gt;),\n",
       "                                           (&#x27;NAME_TYPE_SUITE&#x27;,\n",
       "                                            &lt;auxiliary.transformers.PolarsColumnTransformer.Step object at 0x7f1b26f7a070&gt;),\n",
       "                                           (&#x27;NAME_INCOME_TYPE&#x27;,\n",
       "                                            &lt;auxiliary.transformers.PolarsColumnTransformer.Step object at 0x7f1b26f7a370&gt;),\n",
       "                                           (&#x27;NAME_EDUCATION_TYPE&#x27;...\n",
       "                                            &lt;auxiliary.transformers.PolarsColumnTransformer.Step object at 0x7f1b277536d0&gt;),\n",
       "                                           (&#x27;bureau_CREDIT_TYPE_mode_active&#x27;,\n",
       "                                            &lt;auxiliary.transformers.PolarsColumnTransformer.Step object at 0x7f1b27753670&gt;),\n",
       "                                           (&#x27;bureau_STATUS_mode&#x27;,\n",
       "                                            &lt;auxiliary.transformers.PolarsColumnTransformer.Step object at 0x7f1b27753790&gt;),\n",
       "                                           (&#x27;bureau_STATUS_mode_active&#x27;,\n",
       "                                            &lt;auxiliary.transformers.PolarsColumnTransformer.Step object at 0x7f1b277539a0&gt;)]))</pre></div></div></div><div class=\"sk-item\"><div class=\"sk-estimator sk-toggleable\"><input class=\"sk-toggleable__control sk-hidden--visually\" id=\"sk-estimator-id-47\" type=\"checkbox\" ><label for=\"sk-estimator-id-47\" class=\"sk-toggleable__label sk-toggleable__label-arrow\">PolarsColumnTransformer</label><div class=\"sk-toggleable__content\"><pre>PolarsColumnTransformer(steps=OrderedDict([(&#x27;NAME_CONTRACT_TYPE&#x27;,\n",
       "                                            &lt;auxiliary.transformers.PolarsColumnTransformer.Step object at 0x7f1b277536a0&gt;),\n",
       "                                           (&#x27;FLAG_OWN_REALTY&#x27;,\n",
       "                                            &lt;auxiliary.transformers.PolarsColumnTransformer.Step object at 0x7f1b27753e80&gt;),\n",
       "                                           (&#x27;CODE_GENDER&#x27;,\n",
       "                                            &lt;auxiliary.transformers.PolarsColumnTransformer.Step object at 0x7f1b27753940&gt;),\n",
       "                                           (&#x27;NAME_TYPE_SUITE&#x27;,\n",
       "                                            &lt;...\n",
       "                                            &lt;auxiliary.transformers.PolarsColumnTransformer.Step object at 0x7f1b267f3280&gt;),\n",
       "                                           (&#x27;bureau_CREDIT_TYPE_mode_active&#x27;,\n",
       "                                            &lt;auxiliary.transformers.PolarsColumnTransformer.Step object at 0x7f1b267f3400&gt;),\n",
       "                                           (&#x27;bureau_STATUS_mode&#x27;,\n",
       "                                            &lt;auxiliary.transformers.PolarsColumnTransformer.Step object at 0x7f1b267f3580&gt;),\n",
       "                                           (&#x27;bureau_STATUS_mode_active&#x27;,\n",
       "                                            &lt;auxiliary.transformers.PolarsColumnTransformer.Step object at 0x7f1b267f3700&gt;)]))</pre></div></div></div><div class=\"sk-item\"><div class=\"sk-estimator sk-toggleable\"><input class=\"sk-toggleable__control sk-hidden--visually\" id=\"sk-estimator-id-48\" type=\"checkbox\" ><label for=\"sk-estimator-id-48\" class=\"sk-toggleable__label sk-toggleable__label-arrow\">PolarsNullImputer</label><div class=\"sk-toggleable__content\"><pre>PolarsNullImputer(fill_value=-9999)</pre></div></div></div><div class=\"sk-item\"><div class=\"sk-estimator sk-toggleable\"><input class=\"sk-toggleable__control sk-hidden--visually\" id=\"sk-estimator-id-49\" type=\"checkbox\" ><label for=\"sk-estimator-id-49\" class=\"sk-toggleable__label sk-toggleable__label-arrow\">FeatureRemover</label><div class=\"sk-toggleable__content\"><pre>FeatureRemover(feats_to_drop=[&#x27;CNT_CHILDREN&#x27;, &#x27;FLAG_EMP_PHONE&#x27;,\n",
       "                              &#x27;FLAG_CONT_MOBILE&#x27;, &#x27;FLAG_PHONE&#x27;, &#x27;FLAG_EMAIL&#x27;,\n",
       "                              &#x27;CNT_FAM_MEMBERS&#x27;, &#x27;REGION_RATING_CLIENT&#x27;,\n",
       "                              &#x27;HOUR_APPR_PROCESS_START&#x27;,\n",
       "                              &#x27;REG_REGION_NOT_LIVE_REGION&#x27;,\n",
       "                              &#x27;REG_REGION_NOT_WORK_REGION&#x27;,\n",
       "                              &#x27;LIVE_REGION_NOT_WORK_REGION&#x27;,\n",
       "                              &#x27;REG_CITY_NOT_LIVE_CITY&#x27;,\n",
       "                              &#x27;REG_CITY_NOT_WORK_CITY&#x27;,\n",
       "                              &#x27;LIVE_CITY_NOT_WORK_CITY&#x27;,\n",
       "                              &#x27;YEARS_BEGINEXPLUATATION_AVG&#x27;, &#x27;ENTRANCES_AVG&#x27;,\n",
       "                              &#x27;NONLIVINGAPARTMENTS_AVG&#x27;, &#x27;NONLIVINGAREA_AVG&#x27;,\n",
       "                              &#x27;APARTMENTS_MODE&#x27;, &#x27;BASEMENTAREA_MODE&#x27;,\n",
       "                              &#x27;YEARS_BEGINEXPLUATATION_MODE&#x27;, &#x27;ELEVATORS_MODE&#x27;,\n",
       "                              &#x27;ENTRANCES_MODE&#x27;, &#x27;FLOORSMAX_MODE&#x27;,\n",
       "                              &#x27;FLOORSMIN_MODE&#x27;, &#x27;LANDAREA_MODE&#x27;,\n",
       "                              &#x27;LIVINGAPARTMENTS_MODE&#x27;, &#x27;LIVINGAREA_MODE&#x27;,\n",
       "                              &#x27;NONLIVINGAPARTMENTS_MODE&#x27;, &#x27;NONLIVINGAREA_MODE&#x27;, ...])</pre></div></div></div></div></div><div class=\"sk-item sk-dashed-wrapped\"><div class=\"sk-label-container\"><div class=\"sk-label sk-toggleable\"><input class=\"sk-toggleable__control sk-hidden--visually\" id=\"sk-estimator-id-50\" type=\"checkbox\" ><label for=\"sk-estimator-id-50\" class=\"sk-toggleable__label sk-toggleable__label-arrow\">model: SamplingModelWrapper</label><div class=\"sk-toggleable__content\"><pre>SamplingModelWrapper(model=RGFClassifier(),\n",
       "                     model_params={&#x27;algorithm&#x27;: &#x27;RGF Sib&#x27;,\n",
       "                                   &#x27;l2&#x27;: 0.0037248443997315024,\n",
       "                                   &#x27;learning_rate&#x27;: 0.007618021362344675,\n",
       "                                   &#x27;loss&#x27;: &#x27;Expo&#x27;, &#x27;max_leaf&#x27;: 955,\n",
       "                                   &#x27;reg_depth&#x27;: 15, &#x27;test_interval&#x27;: 400.0},\n",
       "                     sampler=&#x27;random&#x27;)</pre></div></div></div><div class=\"sk-parallel\"><div class=\"sk-parallel-item\"><div class=\"sk-item\"><div class=\"sk-label-container\"><div class=\"sk-label sk-toggleable\"><input class=\"sk-toggleable__control sk-hidden--visually\" id=\"sk-estimator-id-51\" type=\"checkbox\" ><label for=\"sk-estimator-id-51\" class=\"sk-toggleable__label sk-toggleable__label-arrow\">model: RGFClassifier</label><div class=\"sk-toggleable__content\"><pre>RGFClassifier()</pre></div></div></div><div class=\"sk-serial\"><div class=\"sk-item\"><div class=\"sk-estimator sk-toggleable\"><input class=\"sk-toggleable__control sk-hidden--visually\" id=\"sk-estimator-id-52\" type=\"checkbox\" ><label for=\"sk-estimator-id-52\" class=\"sk-toggleable__label sk-toggleable__label-arrow\">RGFClassifier</label><div class=\"sk-toggleable__content\"><pre>RGFClassifier()</pre></div></div></div></div></div></div></div></div></div></div></div></div>"
      ],
      "text/plain": [
       "Pipeline(steps=[('preprocess',\n",
       "                 Pipeline(steps=[('num_imputer',\n",
       "                                  PolarsColumnTransformer(steps=OrderedDict([('AMT_ANNUITY',\n",
       "                                                                              <auxiliary.transformers.PolarsColumnTransformer.Step object at 0x7f1b26f440d0>),\n",
       "                                                                             ('AMT_GOODS_PRICE',\n",
       "                                                                              <auxiliary.transformers.PolarsColumnTransformer.Step object at 0x7f1b26f449a0>),\n",
       "                                                                             ('OWN_CAR_AGE',\n",
       "                                                                              <auxiliary.transformers.PolarsColumnTransfo...\n",
       "                                                                'LANDAREA_MODE',\n",
       "                                                                'LIVINGAPARTMENTS_MODE',\n",
       "                                                                'LIVINGAREA_MODE',\n",
       "                                                                'NONLIVINGAPARTMENTS_MODE',\n",
       "                                                                'NONLIVINGAREA_MODE', ...]))])),\n",
       "                ('model',\n",
       "                 SamplingModelWrapper(model=RGFClassifier(),\n",
       "                                      model_params={'algorithm': 'RGF Sib',\n",
       "                                                    'l2': 0.0037248443997315024,\n",
       "                                                    'learning_rate': 0.007618021362344675,\n",
       "                                                    'loss': 'Expo',\n",
       "                                                    'max_leaf': 955,\n",
       "                                                    'reg_depth': 15,\n",
       "                                                    'test_interval': 400.0},\n",
       "                                      sampler='random'))])"
      ]
     },
     "execution_count": 55,
     "metadata": {},
     "output_type": "execute_result"
    }
   ],
   "source": [
    "preprocessing_rgf_no_ext = copy.deepcopy(preprocessing_rgf)\n",
    "del preprocessing_rgf_no_ext[\"num_imputer\"].steps[\"EXT_SOURCE_1\"]\n",
    "del preprocessing_rgf_no_ext[\"num_imputer\"].steps[\"EXT_SOURCE_2\"]\n",
    "del preprocessing_rgf_no_ext[\"num_imputer\"].steps[\"EXT_SOURCE_3\"]\n",
    "sampler_model_rgf_no_ext = copy.deepcopy(sampler_model_rgf)\n",
    "full_pipeline_rgf_no_ext = Pipeline(\n",
    "    [(\"preprocess\", preprocessing_rgf_no_ext), (\"model\", sampler_model_rgf_no_ext)]\n",
    ")\n",
    "full_pipeline_rgf_no_ext.set_params(**models.models[\"rgf\"].best_params)"
   ]
  },
  {
   "cell_type": "markdown",
   "metadata": {},
   "source": [
    "**Fitting the model on data with the external source omitted:**"
   ]
  },
  {
   "cell_type": "code",
   "execution_count": 59,
   "metadata": {},
   "outputs": [],
   "source": [
    "full_pipeline_rgf_no_ext.fit(\n",
    "    X_train.drop([\"EXT_SOURCE_1\", \"EXT_SOURCE_2\", \"EXT_SOURCE_3\"]), y_train\n",
    ")\n",
    "\n",
    "preds_rgf_no_ext = full_pipeline_rgf_no_ext.predict_proba(\n",
    "    X_test.drop(id_and_target).drop([\"EXT_SOURCE_1\", \"EXT_SOURCE_2\", \"EXT_SOURCE_3\"])\n",
    ")[:, 1]\n",
    "\n",
    "preds_rgf_no_ext = pl.DataFrame(\n",
    "    [X_test[\"SK_ID_CURR\"], pl.Series(preds_rgf_no_ext).alias(\"TARGET\")]\n",
    ")\n",
    "\n",
    "preds_rgf_no_ext.write_csv(\"submissions/no_ext_submission.csv\")"
   ]
  },
  {
   "cell_type": "markdown",
   "metadata": {},
   "source": [
    "**ROC-AUC score from Kaggle on the test set for a model without external source data:**\n",
    "\n",
    "![Kaggle ROC-AUC Score.](summary_data/kaggle_score_no_ext.png)"
   ]
  },
  {
   "cell_type": "markdown",
   "metadata": {},
   "source": [
    "Achieving a ROC-AUC score of 0.749 on the test set without using external source data surpasses the established baseline of 0.719. This result confirms that the model fully meets the success criteria, demonstrating its efficacy in predicting default risk even without relying on external data."
   ]
  },
  {
   "cell_type": "markdown",
   "metadata": {},
   "source": [
    "### Feature Importance"
   ]
  },
  {
   "cell_type": "markdown",
   "metadata": {},
   "source": [
    "The evaluation of feature importance employed two distinct methods: the model's internal feature importance values and SHAP values. Each method has its advantages and limitations.\n",
    "\n",
    "1. **Model's Internal Feature Importance:** These values gauge the importance of features based on the model's overall performance on the entire dataset. However, they may overlook rare classes that are crucial in specific cases, as they focus on the model's aggregate behavior.\n",
    "\n",
    "2. **SHAP Values:** SHAP values provide a more nuanced perspective, as they are calculated for each individual sample. This allows for capturing the importance of rare features that may be significant in specific cases. However, due to computational constraints, SHAP values were calculated for a subsample of 300, meaning they represent the most valuable features for that specific subset of samples.\n",
    "\n",
    "The combination of these two evaluation techniques offers a comprehensive view of feature importance, considering both the global impact on model performance and the specific importance for individual samples."
   ]
  },
  {
   "cell_type": "markdown",
   "metadata": {},
   "source": [
    "**Creating a data sample for SHAP value determination**"
   ]
  },
  {
   "cell_type": "code",
   "execution_count": 121,
   "metadata": {},
   "outputs": [],
   "source": [
    "sample_data, _ = train_test_split(\n",
    "    full_pipeline_rgf_no_ext[\"preprocess\"].transform(\n",
    "        X_test.drop(id_and_target).drop(\n",
    "            [\"EXT_SOURCE_1\", \"EXT_SOURCE_2\", \"EXT_SOURCE_3\"]\n",
    "        )\n",
    "    ),\n",
    "    train_size=300,\n",
    ")\n",
    "\n",
    "cols = sample_data.columns"
   ]
  },
  {
   "cell_type": "markdown",
   "metadata": {},
   "source": [
    "**The most important features based on models important values:**"
   ]
  },
  {
   "cell_type": "code",
   "execution_count": 99,
   "metadata": {},
   "outputs": [
    {
     "data": {
      "text/markdown": [
       "|       imp | feat                               |\n",
       "|----------:|:-----------------------------------|\n",
       "| 0.0912996 | bureau_DAYS_CREDIT_mean            |\n",
       "| 0.0677539 | OCCUPATION_TYPE                    |\n",
       "| 0.0554768 | DAYS_BIRTH                         |\n",
       "| 0.041701  | prev_AMT_CREDIT_mean_Refused       |\n",
       "| 0.0408003 | REGION_RATING_CLIENT_W_CITY        |\n",
       "| 0.0378781 | AMT_CREDIT                         |\n",
       "| 0.0368477 | NAME_EDUCATION_TYPE                |\n",
       "| 0.0324913 | AMT_GOODS_PRICE                    |\n",
       "| 0.0324214 | DAYS_LAST_PHONE_CHANGE             |\n",
       "| 0.0319417 | DAYS_EMPLOYED                      |\n",
       "| 0.0315022 | bureau_AMT_CREDIT_SUM_DEBT_mean    |\n",
       "| 0.0300643 | prev_AMT_CREDIT_sum_Consumer_loans |\n",
       "| 0.0290437 | CODE_GENDER                        |\n",
       "| 0.0288295 | bureau_DAYS_CREDIT_max             |\n",
       "| 0.0274622 | prev_payment_left                  |\n",
       "| 0.0229261 | OWN_CAR_AGE                        |\n",
       "| 0.0213648 | bureau_AMT_CREDIT_MAX_OVERDUE_sum  |\n",
       "| 0.0203935 | prev_AMT_BALANCE_CURR_sum          |\n",
       "| 0.0201541 | bureau_count_Active                |\n",
       "| 0.0200449 | ORGANIZATION_TYPE                  |"
      ],
      "text/plain": [
       "<IPython.core.display.Markdown object>"
      ]
     },
     "execution_count": 99,
     "metadata": {},
     "output_type": "execute_result"
    }
   ],
   "source": [
    "feats = pl.DataFrame(\n",
    "    {\n",
    "        \"imp\": full_pipeline_rgf_no_ext[\"model\"].model.feature_importances_,\n",
    "        \"feat\": cols,\n",
    "    }\n",
    ")\n",
    "eda.table_display(feats.sort(\"imp\", descending=True)[:20])"
   ]
  },
  {
   "cell_type": "markdown",
   "metadata": {},
   "source": [
    "**SHAP value visualization:**"
   ]
  },
  {
   "cell_type": "code",
   "execution_count": 122,
   "metadata": {},
   "outputs": [
    {
     "name": "stderr",
     "output_type": "stream",
     "text": [
      "Using 300 background data samples could cause slower run times. Consider using shap.sample(data, K) or shap.kmeans(data, K) to summarize the background as K samples.\n"
     ]
    },
    {
     "data": {
      "application/vnd.jupyter.widget-view+json": {
       "model_id": "49a43bb2af5643f1b6183d1fb6951917",
       "version_major": 2,
       "version_minor": 0
      },
      "text/plain": [
       "  0%|          | 0/300 [00:00<?, ?it/s]"
      ]
     },
     "metadata": {},
     "output_type": "display_data"
    },
    {
     "data": {
      "image/png": "[encoded data removed]",
      "text/plain": [
       "<Figure size 800x750 with 2 Axes>"
      ]
     },
     "metadata": {},
     "output_type": "display_data"
    }
   ],
   "source": [
    "explainer_tree = shap.KernelExplainer(\n",
    "    full_pipeline_rgf_no_ext[\"model\"].predict_proba,\n",
    "    data=sample_data.to_numpy(),\n",
    ")\n",
    "\n",
    "shap_values = explainer_tree(sample_data.to_numpy())\n",
    "\n",
    "joblib.dump(\n",
    "    {\"sample_data\": sample_data, \"shap_vales\": shap_values, \"names\": cols},\n",
    "    \"summary_data/shap_model1.joblib\",\n",
    ")\n",
    "\n",
    "shap.summary_plot(\n",
    "    shap_values[:, :, 1],\n",
    "    sample_data.to_numpy(),\n",
    "    feature_names=cols,\n",
    "    max_display=15,\n",
    ")"
   ]
  },
  {
   "cell_type": "markdown",
   "metadata": {},
   "source": [
    "The most important features based on the model's internal values encompass various aspects of the applicant's background and credit history:\n",
    "\n",
    "1. **Number of Days Since Last Credit Application:** This feature, derived from the credit bureau, holds significant importance, indicating the recency of the applicant's credit activity.\n",
    "\n",
    "2. **Applicant Occupation:** The nature of the applicant's occupation emerges as a crucial determinant in the model's evaluation.\n",
    "\n",
    "3. **Employment Length:** The duration of the applicant's employment is a key factor influencing the model's predictions.\n",
    "\n",
    "4. **Age:** The age of the applicant is deemed important, suggesting a correlation between age and credit risk.\n",
    "\n",
    "5. **Education:** The level of education attained by the applicant contributes to the model's assessment of default risk.\n",
    "\n",
    "6. **Location:** The applicant's geographical location is identified as a significant factor influencing the model's predictions.\n",
    "\n",
    "7. **Loan Size:** The size of the loan sought by the applicant is a critical variable in predicting default risk.\n",
    "\n",
    "8. **Amount of Credit in Previously Refused Applications:** This feature captures information about the credit amounts in applications that were previously rejected.\n",
    "\n",
    "9. **Sum of Current Debt:** The total amount of current debt carried by the applicant serves as an influential predictor in the model.\n",
    "\n",
    "In addition to these values SHAP value analysis for a subset of samples showed the importance of when the applicant last changed his ID, the type of the organization where the client works, and the number of active credits that the person has from the credit bureau information."
   ]
  },
  {
   "cell_type": "markdown",
   "metadata": {},
   "source": [
    "## Model Summary"
   ]
  },
  {
   "cell_type": "markdown",
   "metadata": {},
   "source": [
    "* The best pipeline included random oversampling of the minority class and a regularized greedy forest classifier.\n",
    "* The model achieved a ROC-AUC of 0.749 on the test set without using external data, beating the pre-set success criteria.\n",
    "* The most valuable features varied in nature from personal characteristics of the applicant, the amount of the loan to the applicants credit history."
   ]
  }
 ],
 "metadata": {
  "kernelspec": {
   "display_name": "base",
   "language": "python",
   "name": "python3"
  },
  "language_info": {
   "codemirror_mode": {
    "name": "ipython",
    "version": 3
   },
   "file_extension": ".py",
   "mimetype": "text/x-python",
   "name": "python",
   "nbconvert_exporter": "python",
   "pygments_lexer": "ipython3",
   "version": "3.9.13"
  }
 },
 "nbformat": 4,
 "nbformat_minor": 2
}
