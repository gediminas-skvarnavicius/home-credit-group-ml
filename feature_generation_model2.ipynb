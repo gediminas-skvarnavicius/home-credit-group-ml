{
 "cells": [
  {
   "cell_type": "code",
   "execution_count": 1,
   "metadata": {},
   "outputs": [],
   "source": [
    "%reload_ext autoreload\n",
    "%autoreload 1\n",
    "import joblib\n",
    "import numpy as np\n",
    "import polars as pl\n",
    "import matplotlib.pyplot as plt\n",
    "import seaborn as sns\n",
    "from sklearn.metrics import classification_report\n",
    "import auxiliary.lists as aux_lists\n",
    "import auxiliary.transformers as tr\n",
    "import auxiliary.eda_functions as eda\n",
    "import auxiliary.statistics as st\n",
    "from sklearn.model_selection import train_test_split\n",
    "from sklearn.preprocessing import MinMaxScaler\n",
    "from IPython.display import Markdown,display\n",
    "import matplotlib.ticker as ticker\n",
    "from tabulate import tabulate\n",
    "%aimport auxiliary.lists\n",
    "%aimport auxiliary.transformers\n",
    "%aimport auxiliary.eda_functions\n",
    "%aimport auxiliary.statistics"
   ]
  },
  {
   "cell_type": "code",
   "execution_count": 2,
   "metadata": {},
   "outputs": [],
   "source": [
    "application_train = pl.read_csv(\"data/application_train.csv\")\n",
    "applicattion_test = pl.read_csv(\"data/application_test.csv\")\n",
    "bureau_balance = pl.read_csv(\"data/bureau_balance.csv\")\n",
    "bureau = pl.read_csv(\"data/bureau.csv\")\n",
    "installments_payments = pl.read_csv(\"data/installments_payments.csv\")\n",
    "previous_application = pl.read_csv(\"data/previous_application.csv\")\n",
    "credit_card_balance = pl.read_csv(\"data/credit_card_balance.csv\")"
   ]
  },
  {
   "cell_type": "code",
   "execution_count": 3,
   "metadata": {},
   "outputs": [],
   "source": [
    "applicattion_test = applicattion_test.with_columns(\n",
    "    pl.lit(None).cast(pl.Int64).alias(\"TARGET\")\n",
    ")\n",
    "applicattion_test = applicattion_test[\n",
    "    [applicattion_test.columns[0]]\n",
    "    + [applicattion_test.columns[-1]]\n",
    "    + applicattion_test.columns[1:-1]\n",
    "]\n",
    "application_full = pl.concat([application_train, applicattion_test])"
   ]
  },
  {
   "cell_type": "code",
   "execution_count": 4,
   "metadata": {},
   "outputs": [],
   "source": [
    "active_credit_cards = credit_card_balance.filter(\n",
    "    (pl.col(\"MONTHS_BALANCE\") == -1) & (pl.col(\"NAME_CONTRACT_STATUS\") == \"Active\")\n",
    ")\n",
    "\n",
    "active_credit_cards = active_credit_cards.with_columns(\n",
    "    pl.when((pl.col(\"AMT_CREDIT_LIMIT_ACTUAL\") - pl.col(\"AMT_BALANCE\")) < 0)\n",
    "    .then(pl.lit(1, pl.Int16))\n",
    "    .otherwise(pl.lit(0, pl.Int16))\n",
    "    .alias(\"IS_OVER_LIMIT\")\n",
    ")\n",
    "\n",
    "active_credit_cards = active_credit_cards.drop(\n",
    "    columns=[\"MONTHS_BALANCE\", \"NAME_CONTRACT_STATUS\"]\n",
    ")"
   ]
  },
  {
   "cell_type": "markdown",
   "metadata": {},
   "source": [
    "### Historic Behavior"
   ]
  },
  {
   "cell_type": "code",
   "execution_count": 5,
   "metadata": {},
   "outputs": [],
   "source": [
    "historical_credit_card = credit_card_balance.filter(pl.col(\"MONTHS_BALANCE\") != -1)\n",
    "historical_credit_card = historical_credit_card.with_columns(\n",
    "    pl.when((pl.col(\"AMT_CREDIT_LIMIT_ACTUAL\") - pl.col(\"AMT_BALANCE\")) < 0)\n",
    "    .then(pl.lit(1, pl.Int16))\n",
    "    .otherwise(pl.lit(0, pl.Int16))\n",
    "    .alias(\"IS_OVER_LIMIT\")\n",
    ")\n",
    "\n",
    "historical_credit_card = historical_credit_card.with_columns(\n",
    "    (pl.col(\"AMT_BALANCE\") - pl.col(\"AMT_CREDIT_LIMIT_ACTUAL\")).alias(\"OVER_LIMIT\")\n",
    ")\n",
    "historical_credit_card = historical_credit_card.with_columns(\n",
    "    pl.when(pl.col(\"OVER_LIMIT\") > 0)\n",
    "    .then(pl.col(\"OVER_LIMIT\"))\n",
    "    .otherwise(pl.lit(0))\n",
    "    .alias(\"OVER_LIMIT\")\n",
    ")\n",
    "\n",
    "historical_credit_card_agg = pl.DataFrame(active_credit_cards[\"SK_ID_PREV\"])"
   ]
  },
  {
   "cell_type": "markdown",
   "metadata": {},
   "source": [
    "History length:"
   ]
  },
  {
   "cell_type": "code",
   "execution_count": 6,
   "metadata": {},
   "outputs": [],
   "source": [
    "historical_credit_card_agg = historical_credit_card_agg.join(\n",
    "    historical_credit_card.group_by(\"SK_ID_PREV\").agg(pl.count().alias(\"NUM_ENTRIES\")),\n",
    "    on=\"SK_ID_PREV\",\n",
    ")"
   ]
  },
  {
   "cell_type": "markdown",
   "metadata": {},
   "source": [
    "over-limit aggs:"
   ]
  },
  {
   "cell_type": "code",
   "execution_count": 7,
   "metadata": {},
   "outputs": [],
   "source": [
    "historical_credit_card_agg = eda.make_aggregations(\n",
    "    historical_credit_card_agg,\n",
    "    historical_credit_card,\n",
    "    [\"IS_OVER_LIMIT\", \"OVER_LIMIT\"],\n",
    "    \"SK_ID_PREV\",\n",
    ")\n",
    "historical_credit_card_agg = historical_credit_card_agg.drop(\n",
    "    columns=[\"IS_OVER_LIMIT_min\", \"IS_OVER_LIMIT_max\"]\n",
    ")"
   ]
  },
  {
   "cell_type": "code",
   "execution_count": 8,
   "metadata": {},
   "outputs": [],
   "source": [
    "active_credit_cards = active_credit_cards.join(\n",
    "    historical_credit_card_agg.select(\n",
    "        [pl.col(\"SK_ID_PREV\"), pl.all().exclude(\"SK_ID_PREV\").prefix(\"HISTORIC_\")]\n",
    "    ),\n",
    "    on=\"SK_ID_PREV\",\n",
    "    how=\"left\",\n",
    ")"
   ]
  },
  {
   "cell_type": "markdown",
   "metadata": {},
   "source": [
    "### Application Attributes"
   ]
  },
  {
   "cell_type": "code",
   "execution_count": 9,
   "metadata": {},
   "outputs": [],
   "source": [
    "credit_card_applications = previous_application.filter(\n",
    "    pl.col(\"SK_ID_PREV\").is_in(active_credit_cards[\"SK_ID_PREV\"])\n",
    ")"
   ]
  },
  {
   "cell_type": "markdown",
   "metadata": {},
   "source": [
    "**Dropping features irrelevant to credit cards:**"
   ]
  },
  {
   "cell_type": "code",
   "execution_count": 10,
   "metadata": {},
   "outputs": [],
   "source": [
    "cols_to_drop = [\n",
    "    \"SK_ID_CURR\",\n",
    "    \"NAME_CONTRACT_TYPE\",\n",
    "    \"AMT_DOWN_PAYMENT\",\n",
    "    \"AMT_GOODS_PRICE\",\n",
    "    \"RATE_DOWN_PAYMENT\",\n",
    "    \"RATE_DOWN_PAYMENT\",\n",
    "    \"RATE_INTEREST_PRIMARY\",\n",
    "    \"RATE_INTEREST_PRIVILEGED\",\n",
    "    \"NAME_CASH_LOAN_PURPOSE\",\n",
    "    \"NAME_CONTRACT_STATUS\",\n",
    "    \"DAYS_DECISION\",\n",
    "    \"NAME_PAYMENT_TYPE\",\n",
    "    \"FLAG_LAST_APPL_PER_CONTRACT\",\n",
    "    \"CODE_REJECT_REASON\",\n",
    "    \"NAME_GOODS_CATEGORY\",\n",
    "    \"NAME_PORTFOLIO\",\n",
    "    \"CNT_PAYMENT\",\n",
    "    \"NAME_YIELD_GROUP\",\n",
    "    \"DAYS_FIRST_DRAWING\",\n",
    "    \"DAYS_FIRST_DUE\",\n",
    "    \"DAYS_LAST_DUE_1ST_VERSION\",\n",
    "    \"DAYS_LAST_DUE\",\n",
    "    \"DAYS_TERMINATION\",\n",
    "]\n",
    "credit_card_applications = credit_card_applications.drop(columns=cols_to_drop)"
   ]
  },
  {
   "cell_type": "code",
   "execution_count": 11,
   "metadata": {},
   "outputs": [],
   "source": [
    "active_credit_cards=active_credit_cards.join(credit_card_applications.select(\n",
    "        [pl.col(\"SK_ID_PREV\"), pl.all().exclude(\"SK_ID_PREV\").prefix(\"APPLICATION_\")]\n",
    "    ),on='SK_ID_PREV',how=\"left\")"
   ]
  },
  {
   "cell_type": "markdown",
   "metadata": {},
   "source": [
    "### Payment Behavioral Data"
   ]
  },
  {
   "cell_type": "code",
   "execution_count": 12,
   "metadata": {},
   "outputs": [],
   "source": [
    "credit_card_installments = installments_payments.filter(\n",
    "    pl.col(\"SK_ID_PREV\").is_in(active_credit_cards[\"SK_ID_PREV\"])\n",
    ")\n",
    "# Filtering out new data to avoid leakage\n",
    "credit_card_installments = credit_card_installments.filter(\n",
    "    (pl.col(\"DAYS_INSTALMENT\") < -31) & (pl.col(\"DAYS_ENTRY_PAYMENT\") < -31)\n",
    ")"
   ]
  },
  {
   "cell_type": "code",
   "execution_count": 13,
   "metadata": {},
   "outputs": [],
   "source": [
    "installments_agg = pl.DataFrame(active_credit_cards[\"SK_ID_PREV\"])"
   ]
  },
  {
   "cell_type": "code",
   "execution_count": 14,
   "metadata": {},
   "outputs": [],
   "source": [
    "credit_card_installments = credit_card_installments.with_columns(\n",
    "    (pl.col(\"DAYS_INSTALMENT\") - pl.col(\"DAYS_ENTRY_PAYMENT\")).alias(\"DAYS_LATE\")\n",
    ")\n",
    "\n",
    "credit_card_installments = credit_card_installments.with_columns(\n",
    "    pl.when(pl.col(\"DAYS_LATE\") < 0)\n",
    "    .then(pl.lit(0))\n",
    "    .otherwise(pl.col(\"DAYS_LATE\"))\n",
    "    .alias(\"DAYS_LATE\")\n",
    ")\n",
    "\n",
    "\n",
    "credit_card_installments = credit_card_installments.with_columns(\n",
    "    (pl.col(\"AMT_INSTALMENT\") - pl.col(\"AMT_PAYMENT\")).alias(\"AMT_UNDERPAID\")\n",
    ")\n",
    "credit_card_installments = credit_card_installments.with_columns(\n",
    "    pl.when(pl.col(\"AMT_UNDERPAID\") < 0)\n",
    "    .then(pl.lit(0))\n",
    "    .otherwise(pl.col(\"AMT_UNDERPAID\"))\n",
    "    .alias(\"AMT_UNDERPAID\")\n",
    ")"
   ]
  },
  {
   "cell_type": "code",
   "execution_count": 15,
   "metadata": {},
   "outputs": [],
   "source": [
    "installments_agg = eda.make_aggregations(\n",
    "    installments_agg,\n",
    "    credit_card_installments,\n",
    "    [\"DAYS_LATE\"],\n",
    "    id=\"SK_ID_PREV\",\n",
    "    aggregations=[\"mean\", \"sum\", \"max\"],\n",
    "    join_suffix=\"inst\"\n",
    ")\n",
    "\n",
    "installments_agg = eda.make_aggregations(\n",
    "    installments_agg,\n",
    "    credit_card_installments,\n",
    "    [\"AMT_UNDERPAID\"],\n",
    "    id=\"SK_ID_PREV\",\n",
    "    aggregations=[\"mean\", \"sum\", \"max\"],\n",
    "    join_suffix=\"inst\"\n",
    ")"
   ]
  },
  {
   "cell_type": "code",
   "execution_count": 16,
   "metadata": {},
   "outputs": [],
   "source": [
    "active_credit_cards = active_credit_cards.join(\n",
    "    installments_agg.select(\n",
    "        [pl.col(\"SK_ID_PREV\"), pl.all().exclude(\"SK_ID_PREV\").prefix(\"instalment_\")]\n",
    "    ),\n",
    "    on=\"SK_ID_PREV\",\n",
    "    how=\"left\",\n",
    ")\n"
   ]
  },
  {
   "cell_type": "markdown",
   "metadata": {},
   "source": [
    "### Current status"
   ]
  },
  {
   "cell_type": "code",
   "execution_count": 17,
   "metadata": {},
   "outputs": [],
   "source": [
    "application_cols_to_merge = [\n",
    "    \"SK_ID_CURR\",\n",
    "    \"CODE_GENDER\",\n",
    "    \"FLAG_OWN_REALTY\",\n",
    "    \"CNT_CHILDREN\",\n",
    "    \"AMT_INCOME_TOTAL\",\n",
    "    \"NAME_TYPE_SUITE\",\n",
    "    \"NAME_INCOME_TYPE\",\n",
    "    \"NAME_EDUCATION_TYPE\",\n",
    "    \"NAME_FAMILY_STATUS\",\n",
    "    \"NAME_HOUSING_TYPE\",\n",
    "    \"REGION_POPULATION_RELATIVE\",\n",
    "    \"DAYS_BIRTH\",\n",
    "    \"DAYS_EMPLOYED\",\n",
    "    \"OWN_CAR_AGE\",\n",
    "    \"OCCUPATION_TYPE\",\n",
    "    \"CNT_FAM_MEMBERS\",\n",
    "    \"REGION_RATING_CLIENT\",\n",
    "    \"REGION_RATING_CLIENT_W_CITY\",\n",
    "    \"REG_REGION_NOT_LIVE_REGION\",\n",
    "    \"REG_REGION_NOT_WORK_REGION\",\n",
    "    \"LIVE_REGION_NOT_WORK_REGION\",\n",
    "    \"REG_CITY_NOT_LIVE_CITY\",\n",
    "    \"REG_CITY_NOT_WORK_CITY\",\n",
    "    \"LIVE_CITY_NOT_WORK_CITY\",\n",
    "    \"ORGANIZATION_TYPE\",\n",
    "]\n",
    "active_credit_cards=active_credit_cards.join(application_full[application_cols_to_merge],on=\"SK_ID_CURR\",how='left')"
   ]
  },
  {
   "cell_type": "code",
   "execution_count": 18,
   "metadata": {},
   "outputs": [],
   "source": [
    "active_credit_cards=active_credit_cards.drop(\"SK_ID_PREV\",\"SK_ID_CURR\")"
   ]
  },
  {
   "cell_type": "markdown",
   "metadata": {},
   "source": [
    "## Feature Selection"
   ]
  },
  {
   "cell_type": "markdown",
   "metadata": {},
   "source": [
    "### Variance"
   ]
  },
  {
   "cell_type": "code",
   "execution_count": 19,
   "metadata": {},
   "outputs": [],
   "source": [
    "str_cols=active_credit_cards.select(pl.col(pl.Utf8)).columns"
   ]
  },
  {
   "cell_type": "code",
   "execution_count": 20,
   "metadata": {},
   "outputs": [],
   "source": [
    "home_target_encoders = {}\n",
    "active_credit_cards_encoded = active_credit_cards.clone()\n",
    "for col in str_cols:\n",
    "    home_target_encoders[col] = tr.TargetMeanOrderedLabeler(how=\"label\")\n",
    "    active_credit_cards_encoded = active_credit_cards_encoded.with_columns(\n",
    "        home_target_encoders[col]\n",
    "        .fit_transform(\n",
    "            active_credit_cards_encoded[col], active_credit_cards_encoded[\"IS_OVER_LIMIT\"]\n",
    "        )\n",
    "        .alias(col)\n",
    "    )\n",
    "active_credit_cards_encoded_scaled = pl.DataFrame(\n",
    "    MinMaxScaler().fit_transform(active_credit_cards_encoded),\n",
    "    schema=active_credit_cards_encoded.columns,\n",
    ")"
   ]
  },
  {
   "cell_type": "code",
   "execution_count": 21,
   "metadata": {},
   "outputs": [
    {
     "data": {
      "text/html": [
       "<div><style>\n",
       ".dataframe > thead > tr > th,\n",
       ".dataframe > tbody > tr > td {\n",
       "  text-align: right;\n",
       "  white-space: pre-wrap;\n",
       "}\n",
       "</style>\n",
       "<small>shape: (20, 2)</small><table border=\"1\" class=\"dataframe\"><thead><tr><th>feature</th><th>variance</th></tr><tr><td>str</td><td>f64</td></tr></thead><tbody><tr><td>&quot;SK_DPD_DEF&quot;</td><td>0.000045</td></tr><tr><td>&quot;AMT_INCOME_TOT…</td><td>0.000067</td></tr><tr><td>&quot;AMT_PAYMENT_TO…</td><td>0.000445</td></tr><tr><td>&quot;AMT_DRAWINGS_C…</td><td>0.000465</td></tr><tr><td>&quot;SK_DPD&quot;</td><td>0.000796</td></tr><tr><td>&quot;CNT_CHILDREN&quot;</td><td>0.001457</td></tr><tr><td>&quot;CNT_DRAWINGS_C…</td><td>0.001846</td></tr><tr><td>&quot;CNT_FAM_MEMBER…</td><td>0.00221</td></tr><tr><td>&quot;REG_REGION_NOT…</td><td>0.012806</td></tr><tr><td>&quot;AMT_INST_MIN_R…</td><td>0.01394</td></tr><tr><td>&quot;NAME_TYPE_SUIT…</td><td>0.017311</td></tr><tr><td>&quot;AMT_RECEIVABLE…</td><td>0.017805</td></tr><tr><td>&quot;AMT_RECIVABLE&quot;</td><td>0.018136</td></tr><tr><td>&quot;AMT_TOTAL_RECE…</td><td>0.018137</td></tr><tr><td>&quot;AMT_BALANCE&quot;</td><td>0.018324</td></tr><tr><td>&quot;NAME_EDUCATION…</td><td>0.020724</td></tr><tr><td>&quot;AMT_CREDIT_LIM…</td><td>0.022387</td></tr><tr><td>&quot;CNT_INSTALMENT…</td><td>0.037406</td></tr><tr><td>&quot;LIVE_REGION_NO…</td><td>0.03799</td></tr><tr><td>&quot;REGION_POPULAT…</td><td>0.039466</td></tr></tbody></table></div>"
      ],
      "text/plain": [
       "shape: (20, 2)\n",
       "┌─────────────────────────────┬──────────┐\n",
       "│ feature                     ┆ variance │\n",
       "│ ---                         ┆ ---      │\n",
       "│ str                         ┆ f64      │\n",
       "╞═════════════════════════════╪══════════╡\n",
       "│ SK_DPD_DEF                  ┆ 0.000045 │\n",
       "│ AMT_INCOME_TOTAL            ┆ 0.000067 │\n",
       "│ AMT_PAYMENT_TOTAL_CURRENT   ┆ 0.000445 │\n",
       "│ AMT_DRAWINGS_CURRENT        ┆ 0.000465 │\n",
       "│ …                           ┆ …        │\n",
       "│ AMT_CREDIT_LIMIT_ACTUAL     ┆ 0.022387 │\n",
       "│ CNT_INSTALMENT_MATURE_CUM   ┆ 0.037406 │\n",
       "│ LIVE_REGION_NOT_WORK_REGION ┆ 0.03799  │\n",
       "│ REGION_POPULATION_RELATIVE  ┆ 0.039466 │\n",
       "└─────────────────────────────┴──────────┘"
      ]
     },
     "execution_count": 21,
     "metadata": {},
     "output_type": "execute_result"
    }
   ],
   "source": [
    "feature_variance = pl.DataFrame(\n",
    "    {\n",
    "        \"feature\": active_credit_cards_encoded_scaled.columns,\n",
    "        \"variance\": np.var(\n",
    "            active_credit_cards_encoded_scaled.to_numpy(), axis=0\n",
    "        ),\n",
    "    }\n",
    ")\n",
    "feature_variance.sort(\"variance\")[:20]"
   ]
  },
  {
   "cell_type": "code",
   "execution_count": 23,
   "metadata": {},
   "outputs": [
    {
     "data": {
      "text/html": [
       "<div><style>\n",
       ".dataframe > thead > tr > th,\n",
       ".dataframe > tbody > tr > td {\n",
       "  text-align: right;\n",
       "  white-space: pre-wrap;\n",
       "}\n",
       "</style>\n",
       "<small>shape: (5,)</small><table border=\"1\" class=\"dataframe\"><thead><tr><th>feature</th></tr><tr><td>str</td></tr></thead><tbody><tr><td>&quot;AMT_DRAWINGS_C…</td></tr><tr><td>&quot;AMT_PAYMENT_TO…</td></tr><tr><td>&quot;SK_DPD&quot;</td></tr><tr><td>&quot;SK_DPD_DEF&quot;</td></tr><tr><td>&quot;AMT_INCOME_TOT…</td></tr></tbody></table></div>"
      ],
      "text/plain": [
       "shape: (5,)\n",
       "Series: 'feature' [str]\n",
       "[\n",
       "\t\"AMT_DRAWINGS_C…\n",
       "\t\"AMT_PAYMENT_TO…\n",
       "\t\"SK_DPD\"\n",
       "\t\"SK_DPD_DEF\"\n",
       "\t\"AMT_INCOME_TOT…\n",
       "]"
      ]
     },
     "execution_count": 23,
     "metadata": {},
     "output_type": "execute_result"
    }
   ],
   "source": [
    "feature_variance.filter(pl.col(\"variance\") < 0.001)[\"feature\"]"
   ]
  },
  {
   "cell_type": "code",
   "execution_count": 24,
   "metadata": {},
   "outputs": [],
   "source": [
    "low_var_fatures = []\n",
    "for feature in feature_variance.filter(pl.col(\"variance\") < 0.001)[\"feature\"]:\n",
    "    if active_credit_cards_encoded_scaled[feature].n_unique() < 10:\n",
    "        low_var_fatures.append(feature)\n",
    "        minority_count = (\n",
    "            active_credit_cards_encoded_scaled[feature]\n",
    "            .value_counts()\n",
    "            .sort(\"counts\")[\"counts\"][0]\n",
    "        )\n",
    "        print(\n",
    "            f\"{feature}: minority class count = {minority_count} feature will be removed\"\n",
    "        )"
   ]
  },
  {
   "cell_type": "markdown",
   "metadata": {},
   "source": [
    "### Highly Correlated"
   ]
  },
  {
   "cell_type": "code",
   "execution_count": 25,
   "metadata": {},
   "outputs": [
    {
     "name": "stdout",
     "output_type": "stream",
     "text": [
      "--------------------  -------------\n",
      "AMT_TOTAL_RECEIVABLE  AMT_RECIVABLE\n",
      "--------------------  -------------\n"
     ]
    }
   ],
   "source": [
    "feature_correlation_test = st.get_correlation_pairs(\n",
    "    active_credit_cards_encoded.drop(columns=\"IS_OVER_LIMIT\"),\n",
    "    max_threshold=0.999,\n",
    "    min_threshold=-0.999,\n",
    ")\n",
    "print(tabulate(feature_correlation_test['clusters']))"
   ]
  },
  {
   "cell_type": "code",
   "execution_count": 26,
   "metadata": {},
   "outputs": [
    {
     "data": {
      "text/html": [
       "<div><style>\n",
       ".dataframe > thead > tr > th,\n",
       ".dataframe > tbody > tr > td {\n",
       "  text-align: right;\n",
       "  white-space: pre-wrap;\n",
       "}\n",
       "</style>\n",
       "<small>shape: (1, 2)</small><table border=\"1\" class=\"dataframe\"><thead><tr><th>features</th><th>correlation</th></tr><tr><td>list[str]</td><td>f64</td></tr></thead><tbody><tr><td>[&quot;AMT_RECIVABLE&quot;, &quot;AMT_TOTAL_RECEIVABLE&quot;]</td><td>1.0</td></tr></tbody></table></div>"
      ],
      "text/plain": [
       "shape: (1, 2)\n",
       "┌───────────────────────────────────┬─────────────┐\n",
       "│ features                          ┆ correlation │\n",
       "│ ---                               ┆ ---         │\n",
       "│ list[str]                         ┆ f64         │\n",
       "╞═══════════════════════════════════╪═════════════╡\n",
       "│ [\"AMT_RECIVABLE\", \"AMT_TOTAL_REC… ┆ 1.0         │\n",
       "└───────────────────────────────────┴─────────────┘"
      ]
     },
     "execution_count": 26,
     "metadata": {},
     "output_type": "execute_result"
    }
   ],
   "source": [
    "feature_correlation_test['pairs']"
   ]
  },
  {
   "cell_type": "code",
   "execution_count": 27,
   "metadata": {},
   "outputs": [],
   "source": [
    "active_credit_cards=active_credit_cards.drop(columns=\"AMT_TOTAL_RECEIVABLE\")"
   ]
  },
  {
   "cell_type": "code",
   "execution_count": 28,
   "metadata": {},
   "outputs": [],
   "source": [
    "active_credit_cards.write_parquet('temp/active_credit_cards.parquet')"
   ]
  }
 ],
 "metadata": {
  "kernelspec": {
   "display_name": "base",
   "language": "python",
   "name": "python3"
  },
  "language_info": {
   "codemirror_mode": {
    "name": "ipython",
    "version": 3
   },
   "file_extension": ".py",
   "mimetype": "text/x-python",
   "name": "python",
   "nbconvert_exporter": "python",
   "pygments_lexer": "ipython3",
   "version": "3.9.13"
  }
 },
 "nbformat": 4,
 "nbformat_minor": 2
}
