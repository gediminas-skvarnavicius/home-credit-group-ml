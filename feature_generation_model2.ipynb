{
 "cells": [
  {
   "cell_type": "code",
   "execution_count": 1,
   "metadata": {},
   "outputs": [],
   "source": [
    "%reload_ext autoreload\n",
    "%autoreload 1\n",
    "import joblib\n",
    "import numpy as np\n",
    "import polars as pl\n",
    "import matplotlib.pyplot as plt\n",
    "import seaborn as sns\n",
    "from sklearn.metrics import classification_report\n",
    "import auxiliary.lists as aux_lists\n",
    "import auxiliary.transformers as tr\n",
    "import auxiliary.eda_functions as eda\n",
    "import auxiliary.statistics as st\n",
    "from sklearn.model_selection import train_test_split\n",
    "from sklearn.preprocessing import MinMaxScaler\n",
    "from IPython.display import Markdown,display\n",
    "import matplotlib.ticker as ticker\n",
    "from tabulate import tabulate\n",
    "%aimport auxiliary.lists\n",
    "%aimport auxiliary.transformers\n",
    "%aimport auxiliary.eda_functions\n",
    "%aimport auxiliary.statistics"
   ]
  },
  {
   "cell_type": "code",
   "execution_count": 2,
   "metadata": {},
   "outputs": [],
   "source": [
    "application_train = pl.read_csv(\"data/application_train.csv\")\n",
    "bureau_balance = pl.read_csv(\"data/bureau_balance.csv\")\n",
    "bureau = pl.read_csv(\"data/bureau.csv\")\n",
    "installments_payments = pl.read_csv(\"data/installments_payments.csv\")\n",
    "POS_CASH_balance = pl.read_csv(\"data/POS_CASH_balance.csv\")\n",
    "previous_application = pl.read_csv(\"data/previous_application.csv\")\n",
    "credit_card_balance = pl.read_csv(\"data/credit_card_balance.csv\")"
   ]
  },
  {
   "cell_type": "code",
   "execution_count": 3,
   "metadata": {},
   "outputs": [],
   "source": [
    "active_credit_cards = credit_card_balance.filter(\n",
    "    (pl.col(\"MONTHS_BALANCE\") == -1) & (pl.col(\"NAME_CONTRACT_STATUS\") == \"Active\")\n",
    ")\n",
    "\n",
    "active_credit_cards = active_credit_cards.with_columns(\n",
    "    pl.when((pl.col(\"AMT_CREDIT_LIMIT_ACTUAL\") - pl.col(\"AMT_BALANCE\")) < 0)\n",
    "    .then(pl.lit(1, pl.Int16))\n",
    "    .otherwise(pl.lit(0, pl.Int16))\n",
    "    .alias(\"IS_OVER_LIMIT\")\n",
    ")\n",
    "\n",
    "active_credit_cards=active_credit_cards.drop(columns='MONTHS_BALANCE')"
   ]
  },
  {
   "cell_type": "markdown",
   "metadata": {},
   "source": [
    "### Historic Behavior"
   ]
  },
  {
   "cell_type": "code",
   "execution_count": 4,
   "metadata": {},
   "outputs": [],
   "source": [
    "historical_credit_card = credit_card_balance.filter(pl.col(\"MONTHS_BALANCE\") != -1)\n",
    "historical_credit_card = historical_credit_card.with_columns(\n",
    "    pl.when((pl.col(\"AMT_CREDIT_LIMIT_ACTUAL\") - pl.col(\"AMT_BALANCE\")) < 0)\n",
    "    .then(pl.lit(1, pl.Int16))\n",
    "    .otherwise(pl.lit(0, pl.Int16))\n",
    "    .alias(\"IS_OVER_LIMIT\")\n",
    ")\n",
    "\n",
    "historical_credit_card = historical_credit_card.with_columns(\n",
    "    (pl.col(\"AMT_BALANCE\") - pl.col(\"AMT_CREDIT_LIMIT_ACTUAL\")).alias(\"OVER_LIMIT\")\n",
    ")\n",
    "historical_credit_card = historical_credit_card.with_columns(\n",
    "    pl.when(pl.col(\"OVER_LIMIT\") > 0)\n",
    "    .then(pl.col(\"OVER_LIMIT\"))\n",
    "    .otherwise(pl.lit(0))\n",
    "    .alias(\"OVER_LIMIT\")\n",
    ")\n",
    "\n",
    "historical_credit_card_agg = pl.DataFrame(active_credit_cards[\"SK_ID_PREV\"])"
   ]
  },
  {
   "cell_type": "markdown",
   "metadata": {},
   "source": [
    "History length:"
   ]
  },
  {
   "cell_type": "code",
   "execution_count": 5,
   "metadata": {},
   "outputs": [],
   "source": [
    "historical_credit_card_agg = historical_credit_card_agg.join(\n",
    "    historical_credit_card.group_by(\"SK_ID_PREV\").agg(pl.count().alias(\"NUM_ENTRIES\")),\n",
    "    on=\"SK_ID_PREV\",\n",
    ")"
   ]
  },
  {
   "cell_type": "markdown",
   "metadata": {},
   "source": [
    "over-limit aggs:"
   ]
  },
  {
   "cell_type": "code",
   "execution_count": 6,
   "metadata": {},
   "outputs": [],
   "source": [
    "historical_credit_card_agg = eda.make_aggregations(\n",
    "    historical_credit_card_agg,\n",
    "    historical_credit_card,\n",
    "    [\"IS_OVER_LIMIT\", \"OVER_LIMIT\"],\n",
    "    \"SK_ID_PREV\",\n",
    ")\n",
    "historical_credit_card_agg = historical_credit_card_agg.drop(\n",
    "    columns=[\"IS_OVER_LIMIT_min\", \"IS_OVER_LIMIT_max\"]\n",
    ")"
   ]
  },
  {
   "cell_type": "code",
   "execution_count": 7,
   "metadata": {},
   "outputs": [],
   "source": [
    "active_credit_cards = active_credit_cards.join(\n",
    "    historical_credit_card_agg.select(\n",
    "        [pl.col(\"SK_ID_PREV\"), pl.all().exclude(\"SK_ID_PREV\").prefix(\"HISTORIC_\")]\n",
    "    ),\n",
    "    on=\"SK_ID_PREV\",\n",
    "    how=\"left\",\n",
    ")"
   ]
  },
  {
   "cell_type": "markdown",
   "metadata": {},
   "source": [
    "### Application Attributes"
   ]
  },
  {
   "cell_type": "code",
   "execution_count": 8,
   "metadata": {},
   "outputs": [],
   "source": [
    "credit_card_applications = previous_application.filter(\n",
    "    pl.col(\"SK_ID_PREV\").is_in(active_credit_cards[\"SK_ID_PREV\"])\n",
    ")"
   ]
  },
  {
   "cell_type": "markdown",
   "metadata": {},
   "source": [
    "**Dropping features irrelevant to credit cards:**"
   ]
  },
  {
   "cell_type": "code",
   "execution_count": 9,
   "metadata": {},
   "outputs": [],
   "source": [
    "cols_to_drop = [\n",
    "    \"SK_ID_CURR\",\n",
    "    \"NAME_CONTRACT_TYPE\",\n",
    "    \"AMT_DOWN_PAYMENT\",\n",
    "    \"AMT_GOODS_PRICE\",\n",
    "    \"RATE_DOWN_PAYMENT\",\n",
    "    \"RATE_DOWN_PAYMENT\",\n",
    "    \"RATE_INTEREST_PRIVILEGED\",\n",
    "    \"NAME_CASH_LOAN_PURPOSE\",\n",
    "    \"NAME_CONTRACT_STATUS\",\n",
    "    \"DAYS_DECISION\",\n",
    "    \"NAME_PAYMENT_TYPE\",\n",
    "    \"FLAG_LAST_APPL_PER_CONTRACT\",\n",
    "    \"CODE_REJECT_REASON\",\n",
    "    \"NAME_GOODS_CATEGORY\",\n",
    "    \"NAME_PORTFOLIO\",\n",
    "    \"CNT_PAYMENT\",\n",
    "    \"NAME_YIELD_GROUP\",\n",
    "    \"DAYS_FIRST_DRAWING\",\n",
    "    \"DAYS_FIRST_DUE\",\n",
    "    \"DAYS_LAST_DUE_1ST_VERSION\",\n",
    "    \"DAYS_LAST_DUE\",\n",
    "    \"DAYS_TERMINATION\",\n",
    "]\n",
    "credit_card_applications = credit_card_applications.drop(columns=cols_to_drop)"
   ]
  },
  {
   "cell_type": "code",
   "execution_count": 10,
   "metadata": {},
   "outputs": [],
   "source": [
    "active_credit_cards=active_credit_cards.join(credit_card_applications.select(\n",
    "        [pl.col(\"SK_ID_PREV\"), pl.all().exclude(\"SK_ID_PREV\").prefix(\"APPLICATION_\")]\n",
    "    ),on='SK_ID_PREV',how=\"left\")"
   ]
  },
  {
   "cell_type": "markdown",
   "metadata": {},
   "source": [
    "### Payment Behavioral Data"
   ]
  },
  {
   "cell_type": "code",
   "execution_count": 16,
   "metadata": {},
   "outputs": [],
   "source": [
    "credit_card_installments = installments_payments.filter(\n",
    "    pl.col(\"SK_ID_PREV\").is_in(active_credit_cards[\"SK_ID_PREV\"])\n",
    ")\n",
    "# Filtering out new data to avoid leakage\n",
    "credit_card_installments = credit_card_installments.filter(\n",
    "    (pl.col(\"DAYS_INSTALMENT\") < -31) & (pl.col(\"DAYS_ENTRY_PAYMENT\") < -31)\n",
    ")"
   ]
  },
  {
   "cell_type": "code",
   "execution_count": 18,
   "metadata": {},
   "outputs": [],
   "source": [
    "installments_agg = pl.DataFrame(active_credit_cards[\"SK_ID_PREV\"])"
   ]
  },
  {
   "cell_type": "code",
   "execution_count": 19,
   "metadata": {},
   "outputs": [],
   "source": [
    "credit_card_installments = credit_card_installments.with_columns(\n",
    "    (pl.col(\"DAYS_INSTALMENT\") - pl.col(\"DAYS_ENTRY_PAYMENT\")).alias(\"DAYS_LATE\")\n",
    ")\n",
    "\n",
    "credit_card_installments = credit_card_installments.with_columns(\n",
    "    pl.when(pl.col(\"DAYS_LATE\") < 0)\n",
    "    .then(pl.lit(0))\n",
    "    .otherwise(pl.col(\"DAYS_LATE\"))\n",
    "    .alias(\"DAYS_LATE\")\n",
    ")\n",
    "\n",
    "\n",
    "credit_card_installments = credit_card_installments.with_columns(\n",
    "    (pl.col(\"AMT_INSTALMENT\") - pl.col(\"AMT_PAYMENT\")).alias(\"AMT_UNDERPAID\")\n",
    ")\n",
    "credit_card_installments = credit_card_installments.with_columns(\n",
    "    pl.when(pl.col(\"AMT_UNDERPAID\") < 0)\n",
    "    .then(pl.lit(0))\n",
    "    .otherwise(pl.col(\"AMT_UNDERPAID\"))\n",
    "    .alias(\"AMT_UNDERPAID\")\n",
    ")"
   ]
  },
  {
   "cell_type": "code",
   "execution_count": 21,
   "metadata": {},
   "outputs": [],
   "source": [
    "installments_agg = eda.make_aggregations(\n",
    "    installments_agg,\n",
    "    credit_card_installments,\n",
    "    [\"DAYS_LATE\"],\n",
    "    id=\"SK_ID_PREV\",\n",
    "    aggregations=[\"mean\", \"sum\", \"max\"],\n",
    "    join_suffix=\"inst\"\n",
    ")\n",
    "\n",
    "installments_agg = eda.make_aggregations(\n",
    "    installments_agg,\n",
    "    credit_card_installments,\n",
    "    [\"AMT_UNDERPAID\"],\n",
    "    id=\"SK_ID_PREV\",\n",
    "    aggregations=[\"mean\", \"sum\", \"max\"],\n",
    "    join_suffix=\"inst\"\n",
    ")"
   ]
  },
  {
   "cell_type": "code",
   "execution_count": 23,
   "metadata": {},
   "outputs": [],
   "source": [
    "active_credit_cards = active_credit_cards.join(\n",
    "    installments_agg.select(\n",
    "        [pl.col(\"SK_ID_PREV\"), pl.all().exclude(\"SK_ID_PREV\").prefix(\"instalment_\")]\n",
    "    ),\n",
    "    on=\"SK_ID_PREV\",\n",
    "    how=\"left\",\n",
    ")\n"
   ]
  },
  {
   "cell_type": "markdown",
   "metadata": {},
   "source": []
  }
 ],
 "metadata": {
  "kernelspec": {
   "display_name": "base",
   "language": "python",
   "name": "python3"
  },
  "language_info": {
   "codemirror_mode": {
    "name": "ipython",
    "version": 3
   },
   "file_extension": ".py",
   "mimetype": "text/x-python",
   "name": "python",
   "nbconvert_exporter": "python",
   "pygments_lexer": "ipython3",
   "version": "3.9.13"
  }
 },
 "nbformat": 4,
 "nbformat_minor": 2
}
