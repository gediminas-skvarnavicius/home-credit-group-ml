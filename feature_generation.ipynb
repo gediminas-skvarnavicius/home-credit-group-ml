{
 "cells": [
  {
   "cell_type": "markdown",
   "metadata": {},
   "source": [
    "# EDA"
   ]
  },
  {
   "cell_type": "markdown",
   "metadata": {},
   "source": [
    "## Intro"
   ]
  },
  {
   "cell_type": "code",
   "execution_count": 1,
   "metadata": {},
   "outputs": [],
   "source": [
    "%reload_ext autoreload\n",
    "%autoreload 1\n",
    "import joblib\n",
    "import numpy as np\n",
    "import polars as pl\n",
    "import matplotlib.pyplot as plt\n",
    "import seaborn as sns\n",
    "from sklearn.metrics import classification_report\n",
    "import auxiliary.lists as aux_lists\n",
    "import auxiliary.transformers as tr\n",
    "import auxiliary.eda_functions as eda\n",
    "from sklearn.model_selection import train_test_split\n",
    "from sklearn.preprocessing import MinMaxScaler\n",
    "from IPython.display import Markdown,display\n",
    "import matplotlib.ticker as ticker\n",
    "%aimport auxiliary.lists\n",
    "%aimport auxiliary.transformers\n",
    "%aimport auxiliary.eda_functions\n"
   ]
  },
  {
   "cell_type": "code",
   "execution_count": 2,
   "metadata": {},
   "outputs": [],
   "source": [
    "sns.set()\n",
    "BASE_FIG_SIZE = (8.5, 4.5)"
   ]
  },
  {
   "cell_type": "code",
   "execution_count": 3,
   "metadata": {},
   "outputs": [],
   "source": [
    "applicattion_test = pl.read_csv(\"data/application_test.csv\")\n",
    "application_train = pl.read_csv(\"data/application_train.csv\")\n",
    "bureau_balance = pl.read_csv(\"data/bureau_balance.csv\")\n",
    "bureau = pl.read_csv(\"data/bureau.csv\")\n",
    "installments_payments = pl.read_csv(\"data/installments_payments.csv\")\n",
    "POS_CASH_balance = pl.read_csv(\"data/POS_CASH_balance.csv\")\n",
    "previous_application = pl.read_csv(\"data/previous_application.csv\")\n",
    "credit_card_balance = pl.read_csv(\"data/credit_card_balance.csv\")\n",
    "id_and_target = [\"SK_ID_CURR\", \"TARGET\"]"
   ]
  },
  {
   "cell_type": "code",
   "execution_count": 4,
   "metadata": {},
   "outputs": [],
   "source": [
    "applicattion_test = applicattion_test.with_columns(\n",
    "    pl.lit(None).cast(pl.Int64).alias(\"TARGET\")\n",
    ")\n",
    "applicattion_test = applicattion_test[\n",
    "    [applicattion_test.columns[0]]\n",
    "    + [applicattion_test.columns[-1]]\n",
    "    + applicattion_test.columns[1:-1]\n",
    "]\n",
    "application_full = pl.concat([application_train, applicattion_test])"
   ]
  },
  {
   "cell_type": "markdown",
   "metadata": {},
   "source": [
    "### Bureau"
   ]
  },
  {
   "cell_type": "markdown",
   "metadata": {},
   "source": [
    "**Numeric feature aggregations:**"
   ]
  },
  {
   "cell_type": "code",
   "execution_count": 5,
   "metadata": {},
   "outputs": [],
   "source": [
    "bureau_agg = pl.DataFrame(application_full[\"SK_ID_CURR\"])\n",
    "\n",
    "bureau_num_cols = (\n",
    "    bureau.select([pl.col(pl.FLOAT_DTYPES), pl.col(pl.INTEGER_DTYPES)])\n",
    "    .drop(columns=id_and_target)\n",
    "    .columns\n",
    ")\n",
    "bureau_num_cols.remove(\"SK_ID_BUREAU\")\n",
    "\n",
    "bureau_agg = eda.make_aggregations(\n",
    "    bureau_agg, bureau, bureau_num_cols, \"SK_ID_CURR\", join_suffix=\"TOT\"\n",
    ")\n"
   ]
  },
  {
   "cell_type": "markdown",
   "metadata": {},
   "source": [
    "**Aggregations from active credits only**"
   ]
  },
  {
   "cell_type": "code",
   "execution_count": 6,
   "metadata": {},
   "outputs": [],
   "source": [
    "bureau_agg = eda.make_aggregations(\n",
    "    bureau_agg,\n",
    "    bureau.filter(pl.col(\"CREDIT_ACTIVE\") == \"Active\"),\n",
    "    bureau_num_cols,\n",
    "    \"SK_ID_CURR\",\n",
    "    join_suffix=\"_Active\",\n",
    ")\n"
   ]
  },
  {
   "cell_type": "markdown",
   "metadata": {},
   "source": [
    "**Credit Counts:**"
   ]
  },
  {
   "cell_type": "code",
   "execution_count": 7,
   "metadata": {},
   "outputs": [],
   "source": [
    "bureau_agg = bureau_agg.join(\n",
    "    bureau.group_by(pl.col(\"SK_ID_CURR\")).count(),\n",
    "    on=\"SK_ID_CURR\",\n",
    "    how=\"left\",\n",
    "    suffix=\"_tot\",\n",
    ")\n",
    "\n",
    "for credit_activity in [\"Active\", \"Closed\", \"Sold\"]:\n",
    "    bureau_agg = bureau_agg.join(\n",
    "        bureau.filter(pl.col(\"CREDIT_ACTIVE\") == credit_activity)\n",
    "        .group_by(pl.col(\"SK_ID_CURR\"))\n",
    "        .count(),\n",
    "        on=\"SK_ID_CURR\",\n",
    "        how=\"left\",\n",
    "        suffix=f\"_{credit_activity}\",\n",
    "    )"
   ]
  },
  {
   "cell_type": "markdown",
   "metadata": {},
   "source": [
    "**Credit Type**"
   ]
  },
  {
   "cell_type": "code",
   "execution_count": 8,
   "metadata": {},
   "outputs": [],
   "source": [
    "bureau_agg = bureau_agg.join(\n",
    "    bureau.group_by(pl.col(\"SK_ID_CURR\")).agg(\n",
    "        pl.col(\"CREDIT_TYPE\").mode().first().suffix(\"_mode\")\n",
    "    ),\n",
    "    on=\"SK_ID_CURR\",\n",
    "    how=\"left\",\n",
    "    suffix=\"_tot\",\n",
    ")\n",
    "\n",
    "bureau_agg = bureau_agg.join(\n",
    "    bureau.filter(pl.col(\"CREDIT_ACTIVE\") == \"Active\")\n",
    "    .group_by(pl.col(\"SK_ID_CURR\"))\n",
    "    .agg(pl.col(\"CREDIT_TYPE\").mode().first().suffix(\"_mode\")),\n",
    "    on=\"SK_ID_CURR\",\n",
    "    how=\"left\",\n",
    "    suffix=\"_active\",\n",
    ")"
   ]
  },
  {
   "cell_type": "markdown",
   "metadata": {},
   "source": [
    "**Adding last balance status to bureau data:**"
   ]
  },
  {
   "cell_type": "code",
   "execution_count": 9,
   "metadata": {},
   "outputs": [],
   "source": [
    "bureau = bureau.join(\n",
    "    bureau_balance.group_by(\"SK_ID_BUREAU\").agg(\n",
    "        [pl.all().sort_by(\"MONTHS_BALANCE\").last()]\n",
    "    )[[\"SK_ID_BUREAU\", \"STATUS\"]],\n",
    "    on=\"SK_ID_BUREAU\",\n",
    "    how=\"left\",\n",
    "    suffix=\"_last\",\n",
    ")"
   ]
  },
  {
   "cell_type": "markdown",
   "metadata": {},
   "source": [
    "**Adding days-past-due for each credit entry (last status) to bureau:**"
   ]
  },
  {
   "cell_type": "code",
   "execution_count": 10,
   "metadata": {},
   "outputs": [],
   "source": [
    "bureau = bureau.with_columns(\n",
    "    pl.col(\"STATUS\").str.to_decimal().cast(pl.Int16).alias(\"DPD_approx\")\n",
    ")\n"
   ]
  },
  {
   "cell_type": "markdown",
   "metadata": {},
   "source": [
    "**Adding the data to the aggregated table**"
   ]
  },
  {
   "cell_type": "code",
   "execution_count": 11,
   "metadata": {},
   "outputs": [],
   "source": [
    "bureau_agg = bureau_agg.join(\n",
    "    bureau.group_by(pl.col(\"SK_ID_CURR\")).agg(\n",
    "        pl.col(\"STATUS\").mode().first().suffix(\"_mode\")\n",
    "    ),\n",
    "    on=\"SK_ID_CURR\",\n",
    "    how=\"left\",\n",
    "    suffix=\"_tot\",\n",
    ")\n",
    "\n",
    "bureau_agg = bureau_agg.join(\n",
    "    bureau.group_by(pl.col(\"SK_ID_CURR\")).agg(pl.col(\"DPD_approx\").sum()),\n",
    "    on=\"SK_ID_CURR\",\n",
    "    how=\"left\",\n",
    "    suffix=\"_tot\",\n",
    ")\n",
    "\n",
    "bureau_agg = bureau_agg.join(\n",
    "    bureau.filter(pl.col(\"CREDIT_ACTIVE\") == \"Active\")\n",
    "    .group_by(pl.col(\"SK_ID_CURR\"))\n",
    "    .agg(pl.col(\"DPD_approx\").sum()),\n",
    "    on=\"SK_ID_CURR\",\n",
    "    how=\"left\",\n",
    "    suffix=\"_active\",\n",
    ")\n",
    "\n",
    "bureau_agg = bureau_agg.join(\n",
    "    bureau.filter(pl.col(\"CREDIT_ACTIVE\") == \"Active\")\n",
    "    .group_by(pl.col(\"SK_ID_CURR\"))\n",
    "    .agg(pl.col(\"STATUS\").mode().first().suffix(\"_mode\")),\n",
    "    on=\"SK_ID_CURR\",\n",
    "    how=\"left\",\n",
    "    suffix=\"_active\",\n",
    ")\n"
   ]
  },
  {
   "cell_type": "markdown",
   "metadata": {},
   "source": [
    "**Adding the bureau features to the application table:**"
   ]
  },
  {
   "cell_type": "code",
   "execution_count": 12,
   "metadata": {},
   "outputs": [],
   "source": [
    "application_full = application_full.join(\n",
    "    bureau_agg.select(\n",
    "        [pl.col(\"SK_ID_CURR\"), pl.all().exclude(\"SK_ID_CURR\").prefix(\"bureau_\")]\n",
    "    ),\n",
    "    on=\"SK_ID_CURR\",\n",
    "    how=\"left\",\n",
    ")\n"
   ]
  },
  {
   "cell_type": "markdown",
   "metadata": {},
   "source": [
    "### Previous Applications"
   ]
  },
  {
   "cell_type": "markdown",
   "metadata": {},
   "source": [
    "**Filter only last applications per contract**"
   ]
  },
  {
   "cell_type": "code",
   "execution_count": 13,
   "metadata": {},
   "outputs": [],
   "source": [
    "previous_application_agg = pl.DataFrame(application_full[\"SK_ID_CURR\"])\n",
    "previous_application = previous_application.filter(\n",
    "    pl.col(\"FLAG_LAST_APPL_PER_CONTRACT\") == \"Y\"\n",
    ")"
   ]
  },
  {
   "cell_type": "markdown",
   "metadata": {},
   "source": [
    "#### Positive Cash Balance"
   ]
  },
  {
   "cell_type": "markdown",
   "metadata": {},
   "source": [
    "**Filter to only last entries for active previous loans and calculate installments left**"
   ]
  },
  {
   "cell_type": "code",
   "execution_count": 14,
   "metadata": {},
   "outputs": [],
   "source": [
    "POS_CASH_balance = POS_CASH_balance.group_by(\"SK_ID_PREV\").agg(\n",
    "    [pl.all().sort_by(\"MONTHS_BALANCE\").last()]\n",
    ")\n",
    "POS_CASH_balance = POS_CASH_balance.filter(pl.col(\"NAME_CONTRACT_STATUS\") == \"Active\")\n",
    "\n",
    "POS_CASH_balance = POS_CASH_balance.with_columns(\n",
    "    (pl.col(\"CNT_INSTALMENT_FUTURE\") + pl.col(\"MONTHS_BALANCE\")).alias(\n",
    "        \"installments_left\"\n",
    "    )\n",
    ")\n",
    "\n",
    "POS_CASH_balance = POS_CASH_balance.with_columns(\n",
    "    pl.when(pl.col(\"installments_left\") < 1)\n",
    "    .then(pl.lit(0))\n",
    "    .otherwise(pl.col(\"installments_left\"))\n",
    "    .alias(\"installments_left\")\n",
    ")"
   ]
  },
  {
   "cell_type": "markdown",
   "metadata": {},
   "source": [
    "**Adding installments left to previous application data:**"
   ]
  },
  {
   "cell_type": "code",
   "execution_count": 15,
   "metadata": {},
   "outputs": [],
   "source": [
    "previous_application = previous_application.join(\n",
    "    POS_CASH_balance[[\"SK_ID_PREV\", \"installments_left\"]],\n",
    "    on=\"SK_ID_PREV\",\n",
    "    how=\"left\",\n",
    ")"
   ]
  },
  {
   "cell_type": "markdown",
   "metadata": {},
   "source": [
    "#### Credit Card Balance"
   ]
  },
  {
   "cell_type": "markdown",
   "metadata": {},
   "source": [
    "**Calculating credit card balance and limit difference:**"
   ]
  },
  {
   "cell_type": "code",
   "execution_count": 16,
   "metadata": {},
   "outputs": [],
   "source": [
    "credit_card_balance = credit_card_balance.with_columns(\n",
    "    (pl.col(\"AMT_CREDIT_LIMIT_ACTUAL\") - pl.col(\"AMT_BALANCE\")).alias(\n",
    "        \"balance_limit_diff\"\n",
    "    )\n",
    ")\n"
   ]
  },
  {
   "cell_type": "markdown",
   "metadata": {},
   "source": [
    "**Amount of months where credit balance was over limit**"
   ]
  },
  {
   "cell_type": "code",
   "execution_count": 17,
   "metadata": {},
   "outputs": [],
   "source": [
    "previous_application = previous_application.join(\n",
    "    credit_card_balance.filter(pl.col(\"balance_limit_diff\") < 0)\n",
    "    .group_by(\"SK_ID_PREV\")\n",
    "    .agg(pl.count().suffix(\"_count_neg\")),\n",
    "    on=\"SK_ID_PREV\",\n",
    "    how=\"left\",\n",
    ")\n"
   ]
  },
  {
   "cell_type": "markdown",
   "metadata": {},
   "source": [
    "**Current Credit Card Balance and Balance under Limit**"
   ]
  },
  {
   "cell_type": "code",
   "execution_count": 18,
   "metadata": {},
   "outputs": [],
   "source": [
    "previous_application = previous_application.join(\n",
    "    credit_card_balance.filter(\n",
    "        (pl.col(\"MONTHS_BALANCE\") == -1) & (pl.col(\"NAME_CONTRACT_STATUS\") == \"Active\")\n",
    "    ).select(\n",
    "        [\n",
    "            pl.col(\"SK_ID_PREV\"),\n",
    "            pl.col(\"balance_limit_diff\").alias(\"curr_bal_lim_diff\"),\n",
    "            pl.col(\"AMT_BALANCE\").alias(\"AMT_BALANCE_CURR\"),\n",
    "        ]\n",
    "    ),\n",
    "    on=\"SK_ID_PREV\",\n",
    "    how=\"left\",\n",
    ")\n"
   ]
  },
  {
   "cell_type": "markdown",
   "metadata": {},
   "source": [
    "#### Making aggregations by current application:"
   ]
  },
  {
   "cell_type": "markdown",
   "metadata": {},
   "source": [
    "**Sum of previous credits for application with different status and type:**"
   ]
  },
  {
   "cell_type": "code",
   "execution_count": 19,
   "metadata": {},
   "outputs": [],
   "source": [
    "previous_application_agg = eda.make_aggregations(\n",
    "    previous_application_agg,\n",
    "    previous_application,\n",
    "    [\"AMT_CREDIT\"],\n",
    "    \"SK_ID_CURR\",\n",
    "    [\"sum\", \"mean\"],\n",
    "    \"_total\",\n",
    ")\n",
    "\n",
    "for status in [\"Approved\", \"Refused\", \"Canceled\"]:\n",
    "    previous_application_agg = eda.make_aggregations(\n",
    "        previous_application_agg,\n",
    "        previous_application.filter(pl.col(\"NAME_CONTRACT_STATUS\") == status),\n",
    "        [\"AMT_CREDIT\"],\n",
    "        \"SK_ID_CURR\",\n",
    "        [\"sum\", \"mean\"],\n",
    "        f\"_{status}\",\n",
    "    )\n",
    "\n",
    "for type in [\"Consumer loans\", \"Revolving loans\", \"Cash loans\"]:\n",
    "    previous_application_agg = eda.make_aggregations(\n",
    "        previous_application_agg,\n",
    "        previous_application.filter(pl.col(\"NAME_CONTRACT_TYPE\") == type),\n",
    "        [\"AMT_CREDIT\"],\n",
    "        \"SK_ID_CURR\",\n",
    "        [\"sum\", \"mean\"],\n",
    "        f\"_{type.replace(\" \",\"_\")}\",\n",
    "    )"
   ]
  },
  {
   "cell_type": "markdown",
   "metadata": {},
   "source": [
    "**Adding counts of accepted and rejected previous applications**"
   ]
  },
  {
   "cell_type": "code",
   "execution_count": 20,
   "metadata": {},
   "outputs": [],
   "source": [
    "for status in [\"Approved\", \"Refused\"]:\n",
    "    previous_application_agg = previous_application_agg.join(\n",
    "        previous_application.filter(pl.col(\"NAME_CONTRACT_STATUS\") == status)\n",
    "        .group_by(\"SK_ID_CURR\")\n",
    "        .agg(pl.count().suffix(f\"_{status}\")),\n",
    "        on=\"SK_ID_CURR\",\n",
    "        how=\"left\",\n",
    "    )"
   ]
  },
  {
   "cell_type": "markdown",
   "metadata": {},
   "source": [
    "**Amount of total payments left from previous applications:**"
   ]
  },
  {
   "cell_type": "code",
   "execution_count": 21,
   "metadata": {},
   "outputs": [],
   "source": [
    "previous_application = previous_application.with_columns(\n",
    "    (pl.col(\"AMT_ANNUITY\") * pl.col(\"installments_left\")).alias(\"payment_left\")\n",
    ")\n",
    "\n",
    "previous_application_agg = previous_application_agg.join(\n",
    "    previous_application.group_by(\"SK_ID_CURR\").agg(pl.col(\"payment_left\").sum()),\n",
    "    on=\"SK_ID_CURR\",\n",
    "    how=\"left\",\n",
    ")"
   ]
  },
  {
   "cell_type": "markdown",
   "metadata": {},
   "source": [
    "**Difference between credit limit and balance**"
   ]
  },
  {
   "cell_type": "code",
   "execution_count": 22,
   "metadata": {},
   "outputs": [],
   "source": [
    "previous_application_agg = eda.make_aggregations(\n",
    "    previous_application_agg,\n",
    "    previous_application,\n",
    "    [\"AMT_BALANCE_CURR\", \"curr_bal_lim_diff\"],\n",
    "    \"SK_ID_CURR\",\n",
    "    [\"sum\"],\n",
    "    \"_CURR\",\n",
    ")"
   ]
  },
  {
   "cell_type": "code",
   "execution_count": 23,
   "metadata": {},
   "outputs": [],
   "source": [
    "application_full = application_full.join(\n",
    "    previous_application_agg.select(\n",
    "        [pl.col(\"SK_ID_CURR\"), pl.all().exclude(\"SK_ID_CURR\").prefix(\"prev_\")]\n",
    "    ),\n",
    "    on=\"SK_ID_CURR\",\n",
    "    how=\"left\",\n",
    ")\n"
   ]
  },
  {
   "cell_type": "markdown",
   "metadata": {},
   "source": [
    "# else"
   ]
  },
  {
   "cell_type": "code",
   "execution_count": 24,
   "metadata": {},
   "outputs": [],
   "source": [
    "application_train = application_full.filter(pl.col(\"TARGET\").is_not_null())\n",
    "applicattion_test = application_full.filter(pl.col(\"TARGET\").is_null())"
   ]
  },
  {
   "cell_type": "code",
   "execution_count": 25,
   "metadata": {},
   "outputs": [],
   "source": [
    "# test_bureu_aggs = eda.test_with_catboost_crossval(\n",
    "#     application_train.drop(columns=id_and_target),\n",
    "#     application_train[\"TARGET\"],\n",
    "#     sample_size=10000,\n",
    "#     cat_features=application_train.select(pl.col(pl.Utf8)).columns,\n",
    "# )\n"
   ]
  },
  {
   "cell_type": "code",
   "execution_count": 26,
   "metadata": {},
   "outputs": [],
   "source": [
    "# test_bureu_aggs[\"scores\"]"
   ]
  },
  {
   "cell_type": "code",
   "execution_count": 27,
   "metadata": {},
   "outputs": [],
   "source": [
    "# test_bureu_aggs[\"features\"]"
   ]
  },
  {
   "cell_type": "markdown",
   "metadata": {},
   "source": [
    "### Feature importance"
   ]
  },
  {
   "cell_type": "markdown",
   "metadata": {},
   "source": [
    "### Common Sense Removal"
   ]
  },
  {
   "cell_type": "code",
   "execution_count": 28,
   "metadata": {},
   "outputs": [],
   "source": [
    "application_edited_train = application_train.clone()\n",
    "cols_to_remove = []"
   ]
  },
  {
   "cell_type": "markdown",
   "metadata": {},
   "source": [
    "#### Home Feature Elimination"
   ]
  },
  {
   "cell_type": "markdown",
   "metadata": {},
   "source": [
    "### Col cats"
   ]
  },
  {
   "cell_type": "code",
   "execution_count": 29,
   "metadata": {},
   "outputs": [
    {
     "data": {
      "text/plain": [
       "5"
      ]
     },
     "execution_count": 29,
     "metadata": {},
     "output_type": "execute_result"
    }
   ],
   "source": [
    "application_train.filter(pl.col(\"FLAG_OWN_CAR\") == \"Y\")[\"OWN_CAR_AGE\"].null_count()"
   ]
  },
  {
   "cell_type": "code",
   "execution_count": 30,
   "metadata": {},
   "outputs": [],
   "source": [
    "cols_to_remove.append(\"FLAG_OWN_CAR\")"
   ]
  },
  {
   "cell_type": "code",
   "execution_count": 31,
   "metadata": {},
   "outputs": [],
   "source": [
    "application_edited_train = application_edited_train.drop(cols_to_remove)\n",
    "\n",
    "string_cols_reduced = application_edited_train.select(pl.col(pl.Utf8)).columns"
   ]
  },
  {
   "cell_type": "markdown",
   "metadata": {},
   "source": [
    "### Variance"
   ]
  },
  {
   "cell_type": "code",
   "execution_count": 32,
   "metadata": {},
   "outputs": [],
   "source": [
    "home_target_encoders = {}\n",
    "application_edited_encoded = application_edited_train.clone()\n",
    "for col in string_cols_reduced:\n",
    "    home_target_encoders[col] = tr.TargetMeanOrderedLabeler(how=\"label\")\n",
    "    application_edited_encoded = application_edited_encoded.with_columns(\n",
    "        home_target_encoders[col]\n",
    "        .fit_transform(\n",
    "            application_edited_encoded[col], application_edited_encoded[\"TARGET\"]\n",
    "        )\n",
    "        .alias(col)\n",
    "    )\n",
    "application_edited_encoded = pl.DataFrame(\n",
    "    MinMaxScaler().fit_transform(application_edited_encoded),\n",
    "    schema=application_edited_encoded.columns,\n",
    ")"
   ]
  },
  {
   "cell_type": "code",
   "execution_count": 38,
   "metadata": {},
   "outputs": [
    {
     "ename": "AttributeError",
     "evalue": "'Series' object has no attribute 'nan_count'",
     "output_type": "error",
     "traceback": [
      "\u001b[0;31m---------------------------------------------------------------------------\u001b[0m",
      "\u001b[0;31mAttributeError\u001b[0m                            Traceback (most recent call last)",
      "\u001b[1;32m/home/gediminas/Documents/turing_projects/module3_s4/gskvar-ML.4/feature_generation.ipynb Cell 64\u001b[0m line \u001b[0;36m1\n\u001b[0;32m----> <a href='vscode-notebook-cell:/home/gediminas/Documents/turing_projects/module3_s4/gskvar-ML.4/feature_generation.ipynb#Y223sZmlsZQ%3D%3D?line=0'>1</a>\u001b[0m application_edited_encoded[\u001b[39m\"\u001b[39;49m\u001b[39mOWN_CAR_AGE\u001b[39;49m\u001b[39m\"\u001b[39;49m]\u001b[39m.\u001b[39;49mnan_count()\n",
      "\u001b[0;31mAttributeError\u001b[0m: 'Series' object has no attribute 'nan_count'"
     ]
    }
   ],
   "source": [
    "application_edited_encoded[\"OWN_CAR_AGE\"].nan_count()"
   ]
  },
  {
   "cell_type": "code",
   "execution_count": 36,
   "metadata": {},
   "outputs": [
    {
     "data": {
      "text/html": [
       "<div><style>\n",
       ".dataframe > thead > tr > th,\n",
       ".dataframe > tbody > tr > td {\n",
       "  text-align: right;\n",
       "  white-space: pre-wrap;\n",
       "}\n",
       "</style>\n",
       "<small>shape: (20, 2)</small><table border=\"1\" class=\"dataframe\"><thead><tr><th>feature</th><th>variance</th></tr><tr><td>str</td><td>f64</td></tr></thead><tbody><tr><td>&quot;FLAG_MOBIL&quot;</td><td>0.000003</td></tr><tr><td>&quot;AMT_INCOME_TOT…</td><td>0.000004</td></tr><tr><td>&quot;FLAG_DOCUMENT_…</td><td>0.000007</td></tr><tr><td>&quot;FLAG_DOCUMENT_…</td><td>0.000023</td></tr><tr><td>&quot;FLAG_DOCUMENT_…</td><td>0.000042</td></tr><tr><td>&quot;FLAG_DOCUMENT_…</td><td>0.000081</td></tr><tr><td>&quot;FLAG_DOCUMENT_…</td><td>0.000192</td></tr><tr><td>&quot;FLAG_DOCUMENT_…</td><td>0.000267</td></tr><tr><td>&quot;FLAG_DOCUMENT_…</td><td>0.000335</td></tr><tr><td>&quot;FLAG_DOCUMENT_…</td><td>0.000507</td></tr><tr><td>&quot;FLAG_DOCUMENT_…</td><td>0.000595</td></tr><tr><td>&quot;FLAG_DOCUMENT_…</td><td>0.001208</td></tr><tr><td>&quot;CNT_CHILDREN&quot;</td><td>0.001444</td></tr><tr><td>&quot;FLAG_CONT_MOBI…</td><td>0.001863</td></tr><tr><td>&quot;FLAG_DOCUMENT_…</td><td>0.002928</td></tr><tr><td>&quot;FLAG_DOCUMENT_…</td><td>0.003513</td></tr><tr><td>&quot;FLAG_DOCUMENT_…</td><td>0.003881</td></tr><tr><td>&quot;FLAG_DOCUMENT_…</td><td>0.003897</td></tr><tr><td>&quot;bureau_CREDIT_…</td><td>0.007956</td></tr><tr><td>&quot;FLAG_DOCUMENT_…</td><td>0.008064</td></tr></tbody></table></div>"
      ],
      "text/plain": [
       "shape: (20, 2)\n",
       "┌────────────────────────────────┬──────────┐\n",
       "│ feature                        ┆ variance │\n",
       "│ ---                            ┆ ---      │\n",
       "│ str                            ┆ f64      │\n",
       "╞════════════════════════════════╪══════════╡\n",
       "│ FLAG_MOBIL                     ┆ 0.000003 │\n",
       "│ AMT_INCOME_TOTAL               ┆ 0.000004 │\n",
       "│ FLAG_DOCUMENT_12               ┆ 0.000007 │\n",
       "│ FLAG_DOCUMENT_10               ┆ 0.000023 │\n",
       "│ …                              ┆ …        │\n",
       "│ FLAG_DOCUMENT_9                ┆ 0.003881 │\n",
       "│ FLAG_DOCUMENT_11               ┆ 0.003897 │\n",
       "│ bureau_CREDIT_TYPE_mode_active ┆ 0.007956 │\n",
       "│ FLAG_DOCUMENT_18               ┆ 0.008064 │\n",
       "└────────────────────────────────┴──────────┘"
      ]
     },
     "execution_count": 36,
     "metadata": {},
     "output_type": "execute_result"
    }
   ],
   "source": [
    "feature_variance = pl.DataFrame(\n",
    "    {\n",
    "        \"feature\": application_edited_encoded.columns,\n",
    "        \"variance\": np.var(\n",
    "            application_edited_encoded.to_numpy(), axis=0\n",
    "        ),\n",
    "    }\n",
    ")\n",
    "feature_variance.sort(\"variance\")[:20]"
   ]
  },
  {
   "cell_type": "code",
   "execution_count": 37,
   "metadata": {},
   "outputs": [
    {
     "name": "stdout",
     "output_type": "stream",
     "text": [
      "FLAG_MOBIL: minority class count = 1 feature will be removed\n",
      "FLAG_DOCUMENT_2: minority class count = 13 feature will be removed\n",
      "FLAG_DOCUMENT_4: minority class count = 25 feature will be removed\n",
      "FLAG_DOCUMENT_7: minority class count = 59 feature will be removed\n",
      "FLAG_DOCUMENT_10: minority class count = 7 feature will be removed\n",
      "FLAG_DOCUMENT_12: minority class count = 2 feature will be removed\n",
      "FLAG_DOCUMENT_17: minority class count = 82 feature will be removed\n",
      "FLAG_DOCUMENT_19: minority class count = 183 feature will be removed\n",
      "FLAG_DOCUMENT_20: minority class count = 156 feature will be removed\n",
      "FLAG_DOCUMENT_21: minority class count = 103 feature will be removed\n"
     ]
    }
   ],
   "source": [
    "low_var_fatures = []\n",
    "for feature in feature_variance.filter(pl.col(\"variance\") < 0.001)[\"feature\"]:\n",
    "    if application_edited_train[feature].n_unique() < 10:\n",
    "        low_var_fatures.append(feature)\n",
    "        minority_count = (\n",
    "            application_edited_train[feature].value_counts().sort(\"counts\")[\"counts\"][0]\n",
    "        )\n",
    "        print(\n",
    "            f\"{feature}: minority class count = {minority_count} feature will be removed\"\n",
    "        )"
   ]
  },
  {
   "cell_type": "code",
   "execution_count": 38,
   "metadata": {},
   "outputs": [],
   "source": [
    "application_edited_train = application_edited_train.drop(columns=low_var_fatures)\n",
    "cols_to_remove.extend([low_var_fatures])"
   ]
  },
  {
   "cell_type": "code",
   "execution_count": 73,
   "metadata": {},
   "outputs": [],
   "source": [
    "# test_var_removal = eda.test_with_catboost_crossval(\n",
    "#     application_edited_train.drop(columns=id_and_target),\n",
    "#     application_edited_train[\"TARGET\"],\n",
    "#     string_cols_reduced,\n",
    "#     sample_size=10000,\n",
    "# )\n",
    "\n",
    "# print(test_var_removal[\"scores\"])\n"
   ]
  },
  {
   "cell_type": "code",
   "execution_count": 52,
   "metadata": {},
   "outputs": [
    {
     "data": {
      "text/html": [
       "<div><style>\n",
       ".dataframe > thead > tr > th,\n",
       ".dataframe > tbody > tr > td {\n",
       "  text-align: right;\n",
       "  white-space: pre-wrap;\n",
       "}\n",
       "</style>\n",
       "<small>shape: (158, 2)</small><table border=\"1\" class=\"dataframe\"><thead><tr><th>features</th><th>correlations</th></tr><tr><td>str</td><td>f64</td></tr></thead><tbody><tr><td>&quot;APARTMENTS_AVG…</td><td>0.995801</td></tr><tr><td>&quot;APARTMENTS_AVG…</td><td>0.99943</td></tr><tr><td>&quot;BASEMENTAREA_A…</td><td>0.997144</td></tr><tr><td>&quot;BASEMENTAREA_A…</td><td>0.999639</td></tr><tr><td>&quot;YEARS_BEGINEXP…</td><td>0.998016</td></tr><tr><td>&quot;YEARS_BEGINEXP…</td><td>0.999655</td></tr><tr><td>&quot;YEARS_BUILD_AV…</td><td>0.999541</td></tr><tr><td>&quot;YEARS_BUILD_AV…</td><td>0.99994</td></tr><tr><td>&quot;COMMONAREA_AVG…</td><td>0.999058</td></tr><tr><td>&quot;COMMONAREA_AVG…</td><td>0.999883</td></tr><tr><td>&quot;ELEVATORS_AVG …</td><td>0.997477</td></tr><tr><td>&quot;ELEVATORS_AVG …</td><td>0.999268</td></tr><tr><td>&hellip;</td><td>&hellip;</td></tr><tr><td>&quot;bureau_CREDIT_…</td><td>0.993214</td></tr><tr><td>&quot;bureau_CREDIT_…</td><td>0.991577</td></tr><tr><td>&quot;bureau_CREDIT_…</td><td>0.991716</td></tr><tr><td>&quot;bureau_CREDIT_…</td><td>0.993819</td></tr><tr><td>&quot;bureau_CREDIT_…</td><td>0.99169</td></tr><tr><td>&quot;bureau_CNT_CRE…</td><td>0.999997</td></tr><tr><td>&quot;bureau_CNT_CRE…</td><td>0.999997</td></tr><tr><td>&quot;bureau_CNT_CRE…</td><td>1.0</td></tr><tr><td>&quot;bureau_CNT_CRE…</td><td>0.997803</td></tr><tr><td>&quot;prev_AMT_CREDI…</td><td>0.996934</td></tr><tr><td>&quot;prev_AMT_CREDI…</td><td>0.999995</td></tr><tr><td>&quot;prev_AMT_CREDI…</td><td>0.996618</td></tr></tbody></table></div>"
      ],
      "text/plain": [
       "shape: (158, 2)\n",
       "┌───────────────────────────────────┬──────────────┐\n",
       "│ features                          ┆ correlations │\n",
       "│ ---                               ┆ ---          │\n",
       "│ str                               ┆ f64          │\n",
       "╞═══════════════════════════════════╪══════════════╡\n",
       "│ APARTMENTS_AVG APARTMENTS_MODE    ┆ 0.995801     │\n",
       "│ APARTMENTS_AVG APARTMENTS_MEDI    ┆ 0.99943      │\n",
       "│ BASEMENTAREA_AVG BASEMENTAREA_MO… ┆ 0.997144     │\n",
       "│ BASEMENTAREA_AVG BASEMENTAREA_ME… ┆ 0.999639     │\n",
       "│ …                                 ┆ …            │\n",
       "│ bureau_CNT_CREDIT_PROLONG_min_Ac… ┆ 0.997803     │\n",
       "│ prev_AMT_CREDIT_mean_Refused pre… ┆ 0.996934     │\n",
       "│ prev_AMT_CREDIT_mean_Canceled pr… ┆ 0.999995     │\n",
       "│ prev_AMT_CREDIT_mean_Revolving l… ┆ 0.996618     │\n",
       "└───────────────────────────────────┴──────────────┘"
      ]
     },
     "execution_count": 52,
     "metadata": {},
     "output_type": "execute_result"
    }
   ],
   "source": [
    "highly_correlated = eda.get_correlation_pairs(\n",
    "    application_edited_encoded.drop(columns=id_and_target),\n",
    "    max_threshold=0.999,\n",
    "    min_threshold=-0.999,\n",
    ")\n",
    "highly_correlated"
   ]
  },
  {
   "cell_type": "code",
   "execution_count": 69,
   "metadata": {},
   "outputs": [
    {
     "data": {
      "text/plain": [
       "['bureau_AMT_CREDIT_SUM_OVERDUE_max',\n",
       " 'bureau_DAYS_ENDDATE_FACT_min_Active',\n",
       " 'prev_AMT_CREDIT_sum_Refused',\n",
       " 'BASEMENTAREA_MODE',\n",
       " 'ELEVATORS_MODE',\n",
       " 'bureau_DAYS_ENDDATE_FACT_max_Active',\n",
       " 'bureau_CNT_CREDIT_PROLONG_std_Active',\n",
       " 'NONLIVINGAPARTMENTS_MEDI',\n",
       " 'bureau_CREDIT_DAY_OVERDUE_max_Active',\n",
       " 'FLOORSMAX_MODE',\n",
       " 'LIVINGAREA_MEDI',\n",
       " 'BASEMENTAREA_MEDI',\n",
       " 'YEARS_BUILD_MODE',\n",
       " 'LIVINGAPARTMENTS_MODE',\n",
       " 'bureau_CREDIT_DAY_OVERDUE_min',\n",
       " 'bureau_AMT_CREDIT_MAX_OVERDUE_max_Active',\n",
       " 'bureau_CREDIT_DAY_OVERDUE_mode',\n",
       " 'COMMONAREA_MEDI',\n",
       " 'bureau_AMT_CREDIT_MAX_OVERDUE_min_Active',\n",
       " 'ENTRANCES_MEDI',\n",
       " 'bureau_CNT_CREDIT_PROLONG_sum',\n",
       " 'LANDAREA_MEDI',\n",
       " 'bureau_AMT_CREDIT_SUM_OVERDUE_mode_Active',\n",
       " 'OBS_60_CNT_SOCIAL_CIRCLE',\n",
       " 'bureau_CREDIT_DAY_OVERDUE_mean',\n",
       " 'bureau_CNT_CREDIT_PROLONG_max_Active',\n",
       " 'NONLIVINGAREA_MEDI',\n",
       " 'FLOORSMIN_MODE',\n",
       " 'APARTMENTS_MEDI',\n",
       " 'prev_AMT_CREDIT_sum_Canceled',\n",
       " 'bureau_CNT_CREDIT_PROLONG_mode_Active',\n",
       " 'bureau_CNT_CREDIT_PROLONG_max',\n",
       " 'bureau_AMT_CREDIT_SUM_OVERDUE_max_Active',\n",
       " 'ELEVATORS_MEDI',\n",
       " 'APARTMENTS_MODE',\n",
       " 'YEARS_BUILD_MEDI',\n",
       " 'bureau_AMT_CREDIT_SUM_OVERDUE_min_Active',\n",
       " 'FLOORSMAX_MEDI',\n",
       " 'FLOORSMIN_MEDI',\n",
       " 'LIVINGAPARTMENTS_MEDI',\n",
       " 'bureau_AMT_CREDIT_SUM_LIMIT_max_Active',\n",
       " 'bureau_AMT_CREDIT_SUM_LIMIT_max',\n",
       " 'bureau_CNT_CREDIT_PROLONG_mode',\n",
       " 'bureau_DAYS_ENDDATE_FACT_std_Active',\n",
       " 'bureau_AMT_CREDIT_MAX_OVERDUE_max',\n",
       " 'bureau_CREDIT_DAY_OVERDUE_max',\n",
       " 'bureau_CREDIT_DAY_OVERDUE_std',\n",
       " 'bureau_CREDIT_DAY_OVERDUE_sum_Active',\n",
       " 'bureau_CREDIT_DAY_OVERDUE_sum',\n",
       " 'LANDAREA_MODE',\n",
       " 'loans',\n",
       " 'COMMONAREA_MODE',\n",
       " 'YEARS_BEGINEXPLUATATION_MEDI',\n",
       " 'ENTRANCES_MODE',\n",
       " 'bureau_DAYS_ENDDATE_FACT_mode_Active',\n",
       " 'bureau_CREDIT_DAY_OVERDUE_mean_Active',\n",
       " 'YEARS_BEGINEXPLUATATION_MODE',\n",
       " 'bureau_CNT_CREDIT_PROLONG_min',\n",
       " 'bureau_CREDIT_DAY_OVERDUE_mode_Active',\n",
       " 'bureau_AMT_CREDIT_SUM_OVERDUE_sum_Active',\n",
       " 'bureau_CREDIT_DAY_OVERDUE_min_Active',\n",
       " 'NONLIVINGAPARTMENTS_MODE',\n",
       " 'bureau_AMT_CREDIT_SUM_OVERDUE_mode',\n",
       " 'bureau_CREDIT_DAY_OVERDUE_std_Active',\n",
       " 'bureau_CNT_CREDIT_PROLONG_sum_Active',\n",
       " 'bureau_AMT_CREDIT_SUM_OVERDUE_sum',\n",
       " 'LIVINGAREA_MODE',\n",
       " 'bureau_CNT_CREDIT_PROLONG_min_Active',\n",
       " 'NONLIVINGAREA_MODE']"
      ]
     },
     "execution_count": 69,
     "metadata": {},
     "output_type": "execute_result"
    }
   ],
   "source": [
    "highly_correlated[\"features\"].str.split(\" \").map_elements(lambda x:x[1]).unique().to_list()"
   ]
  }
 ],
 "metadata": {
  "kernelspec": {
   "display_name": "base",
   "language": "python",
   "name": "python3"
  },
  "language_info": {
   "codemirror_mode": {
    "name": "ipython",
    "version": 3
   },
   "file_extension": ".py",
   "mimetype": "text/x-python",
   "name": "python",
   "nbconvert_exporter": "python",
   "pygments_lexer": "ipython3",
   "version": "3.9.13"
  }
 },
 "nbformat": 4,
 "nbformat_minor": 2
}
